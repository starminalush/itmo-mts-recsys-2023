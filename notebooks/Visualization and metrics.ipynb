{
 "cells": [
  {
   "cell_type": "markdown",
   "id": "647d5d3a-7c4a-47f7-81b8-f74e54fc6416",
   "metadata": {},
   "source": [
    "## Импорты"
   ]
  },
  {
   "cell_type": "code",
   "execution_count": 1,
   "id": "a883b592-7e92-4a08-b29d-a9bb9d8143f5",
   "metadata": {},
   "outputs": [],
   "source": [
    "import warnings\n",
    "\n",
    "warnings.filterwarnings(\"ignore\")"
   ]
  },
  {
   "cell_type": "code",
   "execution_count": 2,
   "id": "4970b117-2902-47ff-b8bd-1f64a83e53c5",
   "metadata": {},
   "outputs": [],
   "source": [
    "import sys\n",
    "sys.path.append('../evaluation/')"
   ]
  },
  {
   "cell_type": "code",
   "execution_count": 3,
   "id": "17712a0e-5cd5-43aa-aa24-9abfcd25af63",
   "metadata": {},
   "outputs": [],
   "source": [
    "import os\n",
    "import random\n",
    "import warnings\n",
    "import zipfile as zf\n",
    "from copy import deepcopy\n",
    "from pprint import pprint\n",
    "\n",
    "import numpy as np\n",
    "import pandas as pd\n",
    "import requests\n",
    "from IPython.display import display\n",
    "from rectools import Columns\n",
    "from rectools.dataset import Dataset, Interactions\n",
    "from rectools.metrics import MAP, NDCG, MeanInvUserFreq, Precision, Recall, Serendipity\n",
    "from rectools.metrics.base import MetricAtK\n",
    "from rectools.model_selection import Splitter, TimeRangeSplitter\n",
    "from rectools.models import PopularModel, RandomModel\n",
    "from rectools.models.base import ModelBase\n",
    "from tqdm import tqdm\n",
    "\n",
    "from metrics import calculate_metrics\n",
    "from visualization import visualize_metrics, visualize_training_result"
   ]
  },
  {
   "cell_type": "code",
   "execution_count": 4,
   "id": "2000d73a-332c-419d-b425-e778daf36221",
   "metadata": {},
   "outputs": [],
   "source": [
    "RANDOM_STATE = 42\n",
    "random.seed(RANDOM_STATE)\n",
    "os.environ[\"PYTHONHASHSEED\"] = str(RANDOM_STATE)\n",
    "np.random.seed(RANDOM_STATE)"
   ]
  },
  {
   "cell_type": "code",
   "execution_count": 5,
   "id": "51f643e3-bf46-4329-b5f8-99ca5c06bae7",
   "metadata": {},
   "outputs": [],
   "source": [
    "K_RECOS = 10\n",
    "N_SPLITS = 3"
   ]
  },
  {
   "cell_type": "markdown",
   "id": "adecc4f5-a6af-415a-83fd-50cf7dd02ba1",
   "metadata": {},
   "source": [
    "## Инициализация датасета"
   ]
  },
  {
   "cell_type": "code",
   "execution_count": 6,
   "id": "bc6815a1-7f11-4456-88ba-e9d6c5c6337f",
   "metadata": {},
   "outputs": [],
   "source": [
    "url = \"https://github.com/irsafilo/KION_DATASET/raw/f69775be31fa5779907cf0a92ddedb70037fb5ae/data_original.zip\""
   ]
  },
  {
   "cell_type": "code",
   "execution_count": 7,
   "id": "1debc081-d3e3-4fb3-8e2b-7292ddc985c9",
   "metadata": {},
   "outputs": [
    {
     "name": "stderr",
     "output_type": "stream",
     "text": [
      "kion dataset download: 100%|█████████████████████████████████████████████████████████████████████████████████████████████████████████████████████████████████████████████████████████████▋| 78.6M/78.8M [00:20<00:00, 3.58MiB/s]"
     ]
    }
   ],
   "source": [
    "req = requests.get(url, stream=True)\n",
    "\n",
    "with open(\"kion.zip\", \"wb\") as fd:\n",
    "    total_size_in_bytes = int(req.headers.get(\"Content-Length\", 0))\n",
    "    progress_bar = tqdm(desc=\"kion dataset download\", total=total_size_in_bytes, unit=\"iB\", unit_scale=True)\n",
    "    for chunk in req.iter_content(chunk_size=2**20):\n",
    "        progress_bar.update(len(chunk))\n",
    "        fd.write(chunk)"
   ]
  },
  {
   "cell_type": "code",
   "execution_count": 8,
   "id": "bc1a6870-6670-46de-a78b-dc0b3950cda3",
   "metadata": {},
   "outputs": [],
   "source": [
    "files = zf.ZipFile(\"kion.zip\", \"r\")\n",
    "files.extractall()\n",
    "files.close()"
   ]
  },
  {
   "cell_type": "markdown",
   "id": "023db000-139c-47f7-a23d-30699633adcf",
   "metadata": {},
   "source": [
    "Немного предобработаем датасет"
   ]
  },
  {
   "cell_type": "code",
   "execution_count": 9,
   "id": "85d4ac6a-85a0-42a5-b843-9ccbd98f6c5c",
   "metadata": {},
   "outputs": [],
   "source": [
    "interactions = pd.read_csv(\"data_original/interactions.csv\", parse_dates=[\"last_watch_dt\"])\n",
    "\n",
    "interactions.rename(columns={\"last_watch_dt\": Columns.Datetime, \"total_dur\": Columns.Weight}, inplace=True)"
   ]
  },
  {
   "cell_type": "code",
   "execution_count": 10,
   "id": "82d085df-1ef5-4c31-ba55-f37457a04cc1",
   "metadata": {},
   "outputs": [],
   "source": [
    "interactions = Interactions(interactions)"
   ]
  },
  {
   "cell_type": "code",
   "execution_count": 11,
   "id": "3d3ef78b-62e2-4b99-bbd2-805ab30717e9",
   "metadata": {},
   "outputs": [
    {
     "data": {
      "text/html": [
       "<div>\n",
       "<style scoped>\n",
       "    .dataframe tbody tr th:only-of-type {\n",
       "        vertical-align: middle;\n",
       "    }\n",
       "\n",
       "    .dataframe tbody tr th {\n",
       "        vertical-align: top;\n",
       "    }\n",
       "\n",
       "    .dataframe thead th {\n",
       "        text-align: right;\n",
       "    }\n",
       "</style>\n",
       "<table border=\"1\" class=\"dataframe\">\n",
       "  <thead>\n",
       "    <tr style=\"text-align: right;\">\n",
       "      <th></th>\n",
       "      <th>user_id</th>\n",
       "      <th>item_id</th>\n",
       "      <th>datetime</th>\n",
       "      <th>weight</th>\n",
       "      <th>watched_pct</th>\n",
       "    </tr>\n",
       "  </thead>\n",
       "  <tbody>\n",
       "    <tr>\n",
       "      <th>0</th>\n",
       "      <td>176549</td>\n",
       "      <td>9506</td>\n",
       "      <td>2021-05-11</td>\n",
       "      <td>4250.0</td>\n",
       "      <td>72.0</td>\n",
       "    </tr>\n",
       "    <tr>\n",
       "      <th>1</th>\n",
       "      <td>699317</td>\n",
       "      <td>1659</td>\n",
       "      <td>2021-05-29</td>\n",
       "      <td>8317.0</td>\n",
       "      <td>100.0</td>\n",
       "    </tr>\n",
       "    <tr>\n",
       "      <th>2</th>\n",
       "      <td>656683</td>\n",
       "      <td>7107</td>\n",
       "      <td>2021-05-09</td>\n",
       "      <td>10.0</td>\n",
       "      <td>0.0</td>\n",
       "    </tr>\n",
       "    <tr>\n",
       "      <th>3</th>\n",
       "      <td>864613</td>\n",
       "      <td>7638</td>\n",
       "      <td>2021-07-05</td>\n",
       "      <td>14483.0</td>\n",
       "      <td>100.0</td>\n",
       "    </tr>\n",
       "    <tr>\n",
       "      <th>4</th>\n",
       "      <td>964868</td>\n",
       "      <td>9506</td>\n",
       "      <td>2021-04-30</td>\n",
       "      <td>6725.0</td>\n",
       "      <td>100.0</td>\n",
       "    </tr>\n",
       "  </tbody>\n",
       "</table>\n",
       "</div>"
      ],
      "text/plain": [
       "   user_id  item_id   datetime   weight  watched_pct\n",
       "0   176549     9506 2021-05-11   4250.0         72.0\n",
       "1   699317     1659 2021-05-29   8317.0        100.0\n",
       "2   656683     7107 2021-05-09     10.0          0.0\n",
       "3   864613     7638 2021-07-05  14483.0        100.0\n",
       "4   964868     9506 2021-04-30   6725.0        100.0"
      ]
     },
     "execution_count": 11,
     "metadata": {},
     "output_type": "execute_result"
    }
   ],
   "source": [
    "interactions.df.head()"
   ]
  },
  {
   "cell_type": "code",
   "execution_count": 12,
   "id": "7d626b7a-2873-4d5b-8477-d7b66eda7ac2",
   "metadata": {},
   "outputs": [],
   "source": [
    "users = pd.read_csv(\"data_original/users.csv\")\n",
    "items = pd.read_csv(\"data_original/items.csv\")"
   ]
  },
  {
   "cell_type": "markdown",
   "id": "f705601f-787a-4cb0-8992-c7d4f9fabc0d",
   "metadata": {},
   "source": [
    "## Подсчет метрик"
   ]
  },
  {
   "cell_type": "markdown",
   "id": "33204783-38b6-4878-9beb-6356ba2d9064",
   "metadata": {},
   "source": [
    "Инициализируем модели"
   ]
  },
  {
   "cell_type": "code",
   "execution_count": 13,
   "id": "ca1828c4-54be-4396-a05a-af1cc3d1cfb4",
   "metadata": {},
   "outputs": [],
   "source": [
    "models: list[ModelBase] = [RandomModel(random_state=RANDOM_STATE), PopularModel()]"
   ]
  },
  {
   "cell_type": "markdown",
   "id": "5032d3d2-00dd-453c-87e0-b3b8c5b890c8",
   "metadata": {},
   "source": [
    "Инициализиуем метрики"
   ]
  },
  {
   "cell_type": "code",
   "execution_count": 14,
   "id": "c30625c1-e53e-4481-9a1a-aa482aa3d5dd",
   "metadata": {},
   "outputs": [],
   "source": [
    "metrics: dict[str, MetricAtK] = {}\n",
    "for k in [1, 5, 10]:\n",
    "    metrics.update(\n",
    "        {\n",
    "            f\"top@{k}_precision\": Precision(k=k),\n",
    "            f\"top@{k}_recall\": Recall(k=k),\n",
    "            f\"top@{k}_ndcg\": NDCG(k=k),\n",
    "            f\"top@{k}_map\": MAP(k=k),\n",
    "            f\"top@{k}_serendipity\": Serendipity(k=k),\n",
    "            f\"top@{k}_mean_inv_user_freq\": MeanInvUserFreq(k=k),\n",
    "        }\n",
    "    )"
   ]
  },
  {
   "cell_type": "markdown",
   "id": "05d613b8-d4bd-4878-888f-6daa9854f220",
   "metadata": {},
   "source": [
    "Инициализиурем splitter"
   ]
  },
  {
   "cell_type": "code",
   "execution_count": 15,
   "id": "ff51eb72-1898-45ad-9405-ca1302967f1f",
   "metadata": {},
   "outputs": [],
   "source": [
    "splitter: Splitter = TimeRangeSplitter(\n",
    "    test_size=\"7D\",\n",
    "    n_splits=N_SPLITS,\n",
    "    filter_already_seen=True,\n",
    "    filter_cold_items=True,\n",
    "    filter_cold_users=True,\n",
    ")"
   ]
  },
  {
   "cell_type": "markdown",
   "id": "3c499c91-a6c4-4d59-9cf7-2185b336b905",
   "metadata": {},
   "source": [
    "Посчитаем метрики и визуализируем результаты обучения"
   ]
  },
  {
   "cell_type": "code",
   "execution_count": null,
   "id": "7705de70-b961-4699-90aa-e3f2a9b07087",
   "metadata": {},
   "outputs": [
    {
     "name": "stderr",
     "output_type": "stream",
     "text": [
      "\n",
      "  0%|                                                                                                                                                                                                     | 0/2 [00:00<?, ?it/s]\u001b[A\n",
      " 50%|██████████████████████████████████████████████████████████████████████████████████████████████▌                                                                                              | 1/2 [00:46<00:46, 46.19s/it]\u001b[A"
     ]
    }
   ],
   "source": [
    "model_metrics = []\n",
    "for model in tqdm(models, total=len(models)):\n",
    "    model_metrics.extend(calculate_metrics(interactions=interactions, metrics=metrics, model=model, splitter=splitter, k_recos=K_RECOS))"
   ]
  },
  {
   "cell_type": "code",
   "execution_count": null,
   "id": "4d96530c-4ab7-40fe-840c-cea93e3b62f4",
   "metadata": {},
   "outputs": [],
   "source": [
    "visualize_metrics(model_metrics)"
   ]
  },
  {
   "cell_type": "markdown",
   "id": "55d93475-88f2-48c7-ad68-479855cf12f0",
   "metadata": {},
   "source": [
    "## Визуализация результатов обучения"
   ]
  },
  {
   "cell_type": "markdown",
   "id": "054518f1-308d-4729-8b1f-61b11d8b67ef",
   "metadata": {},
   "source": [
    "Выберем из таблицы пользователей еще пользователей, кроме тех, кто указан в задании. Выбирать будем по следующим признакам:\n",
    " - любит фильмы жанра \"криминал\"\n",
    " - посмотрел самый непопулярный фильм"
   ]
  },
  {
   "cell_type": "code",
   "execution_count": null,
   "id": "0a755f10-ee51-4771-97d0-3e65b8216e4d",
   "metadata": {},
   "outputs": [],
   "source": [
    "def get_watch_unpopular_movie_user_id(interactions:pd.DataFrame) -> int:\n",
    "    films_rating = interactions['item_id'].value_counts()\n",
    "    least_common_film_idx = films_rating.idxmin()\n",
    "    return interactions[interactions['item_id']==least_common_film_idx].iloc[0]['user_id']"
   ]
  },
  {
   "cell_type": "code",
   "execution_count": null,
   "id": "5c59e0f3-102b-4b46-8d4f-1882b2c90f92",
   "metadata": {},
   "outputs": [],
   "source": [
    "def get_movie_lover_by_genre(items: pd. DataFrame, interactions: pd.DataFrame, genre: str) -> int:\n",
    "    interactions = pd.merge(interactions, items, on='item_id', how='left')\n",
    "    condition = interactions['genres'].str.contains(genre, case=False, na=False)\n",
    "    grouped_counts = condition.groupby(interactions['user_id']).sum()\n",
    "    return grouped_counts.astype(int).idxmax()"
   ]
  },
  {
   "cell_type": "code",
   "execution_count": null,
   "id": "918e8cf4-fb43-4f37-96e6-fb8ee155226c",
   "metadata": {},
   "outputs": [],
   "source": [
    "watch_unpopular_movie_user_id = get_watch_unpopular_movie_user_id(interactions=interactions.df)\n",
    "kriminal_movie_lover_id = get_movie_lover_by_genre(items=items, interactions=interactions.df, genre=\"криминал\")\n",
    "user_ids = [666262, 672861, 955527, watch_unpopular_movie_user_id, kriminal_movie_lover_id]"
   ]
  },
  {
   "cell_type": "code",
   "execution_count": null,
   "id": "40500c5b-139d-46d7-a3ef-798acc6e2623",
   "metadata": {},
   "outputs": [],
   "source": [
    "dataset = Dataset.construct(interactions.df)\n",
    "item_data = items[[\"item_id\", \"title\", \"genres\"]]"
   ]
  },
  {
   "cell_type": "markdown",
   "id": "7e816790-c410-473f-909b-f0c277273841",
   "metadata": {},
   "source": [
    "Посчитаем и отобразим результат"
   ]
  },
  {
   "cell_type": "code",
   "execution_count": null,
   "id": "ed8ef2eb-0312-44df-9635-6eee126c935d",
   "metadata": {},
   "outputs": [],
   "source": [
    "reports = {}\n",
    "for model in models:\n",
    "    init_model = deepcopy(model)\n",
    "    init_model.fit(dataset)\n",
    "    reports[model.__class__.__name__] = visualize_training_result(\n",
    "        model=init_model, dataset=dataset, user_ids=user_ids, item_data=item_data, k_recos=K_RECOS, interactions=interactions\n",
    "    )"
   ]
  },
  {
   "cell_type": "code",
   "execution_count": null,
   "id": "dff57578-76ca-448c-a7af-6982c858897c",
   "metadata": {},
   "outputs": [],
   "source": [
    "for model_name, report in reports.items():\n",
    "    pprint(f\"Model name: {model_name}\")\n",
    "    display(report)"
   ]
  }
 ],
 "metadata": {
  "kernelspec": {
   "display_name": "Python 3 (ipykernel)",
   "language": "python",
   "name": "python3"
  },
  "language_info": {
   "codemirror_mode": {
    "name": "ipython",
    "version": 3
   },
   "file_extension": ".py",
   "mimetype": "text/x-python",
   "name": "python",
   "nbconvert_exporter": "python",
   "pygments_lexer": "ipython3",
   "version": "3.10.12"
  }
 },
 "nbformat": 4,
 "nbformat_minor": 5
}
