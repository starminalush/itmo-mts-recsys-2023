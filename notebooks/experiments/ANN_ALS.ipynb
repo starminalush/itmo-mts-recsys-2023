{
 "cells": [
  {
   "cell_type": "code",
   "execution_count": 1,
   "id": "c3831ea5-5c8c-468c-97dd-cc0a115b9e55",
   "metadata": {},
   "outputs": [],
   "source": [
    "import random\n",
    "import numpy as np\n",
    "import os\n",
    "import zipfile as zf\n",
    "import requests\n",
    "import pandas as pd\n",
    "from tqdm import tqdm\n",
    "import pickle\n",
    "import implicit\n",
    "from rectools.models import ImplicitALSWrapperModel\n",
    "from implicit.als import AlternatingLeastSquares\n",
    "from rectools import Columns\n",
    "from rectools.tools import UserToItemAnnRecommender\n",
    "from rectools.dataset import Dataset, Interactions"
   ]
  },
  {
   "cell_type": "code",
   "execution_count": 2,
   "id": "487a1265-f383-4b8b-9eae-ed46a34a37b6",
   "metadata": {},
   "outputs": [],
   "source": [
    "RANDOM_STATE = 42\n",
    "random.seed(RANDOM_STATE)\n",
    "os.environ[\"PYTHONHASHSEED\"] = str(RANDOM_STATE)\n",
    "np.random.seed(RANDOM_STATE)"
   ]
  },
  {
   "cell_type": "code",
   "execution_count": 30,
   "id": "f75f1e6e-1dcb-437b-9a9b-95185da3c29f",
   "metadata": {},
   "outputs": [],
   "source": [
    "MODEL_PATH='als.pkl'"
   ]
  },
  {
   "cell_type": "markdown",
   "id": "beb78b58-4810-49c6-a7fe-71af1d5cde49",
   "metadata": {},
   "source": [
    "## Инициализация датасета"
   ]
  },
  {
   "cell_type": "code",
   "execution_count": 4,
   "id": "cf0b52f2-3dc1-4a28-90ae-39e56f331801",
   "metadata": {},
   "outputs": [],
   "source": [
    "url = \"https://github.com/irsafilo/KION_DATASET/raw/f69775be31fa5779907cf0a92ddedb70037fb5ae/data_original.zip\""
   ]
  },
  {
   "cell_type": "code",
   "execution_count": 5,
   "id": "d26dedd0-8047-4c30-b5be-096d29fbf4e7",
   "metadata": {},
   "outputs": [
    {
     "name": "stderr",
     "output_type": "stream",
     "text": [
      "kion dataset download: 100%|█████████████████████████████████████████████████████████████████████████████████████████████████████████████████████████████████████████████████████████████▋| 78.6M/78.8M [00:17<00:00, 4.07MiB/s]"
     ]
    }
   ],
   "source": [
    "req = requests.get(url, stream=True)\n",
    "\n",
    "with open(\"kion.zip\", \"wb\") as fd:\n",
    "    total_size_in_bytes = int(req.headers.get(\"Content-Length\", 0))\n",
    "    progress_bar = tqdm(desc=\"kion dataset download\", total=total_size_in_bytes, unit=\"iB\", unit_scale=True)\n",
    "    for chunk in req.iter_content(chunk_size=2**20):\n",
    "        progress_bar.update(len(chunk))\n",
    "        fd.write(chunk)"
   ]
  },
  {
   "cell_type": "code",
   "execution_count": 6,
   "id": "0c6667b0-eda0-444e-9beb-a2cebf8cb653",
   "metadata": {},
   "outputs": [],
   "source": [
    "files = zf.ZipFile(\"kion.zip\", \"r\")\n",
    "files.extractall()\n",
    "files.close()"
   ]
  },
  {
   "cell_type": "code",
   "execution_count": 37,
   "id": "b35c123d-dbea-4fb1-8e71-3e84a825532b",
   "metadata": {},
   "outputs": [],
   "source": [
    "interactions_df = pd.read_csv(\"data_original/interactions.csv\", parse_dates=[\"last_watch_dt\"])\n",
    "\n",
    "interactions_df.rename(columns={\"last_watch_dt\": Columns.Datetime, \"total_dur\": Columns.Weight}, inplace=True)"
   ]
  },
  {
   "cell_type": "code",
   "execution_count": 38,
   "id": "c6958851-c5b6-439e-8674-6d9744c8210e",
   "metadata": {},
   "outputs": [],
   "source": [
    "interactions = Interactions(interactions_df)"
   ]
  },
  {
   "cell_type": "code",
   "execution_count": 39,
   "id": "86c30a0b-d8a2-42e7-93a8-e0b8b97cd31a",
   "metadata": {},
   "outputs": [
    {
     "data": {
      "text/html": [
       "<div>\n",
       "<style scoped>\n",
       "    .dataframe tbody tr th:only-of-type {\n",
       "        vertical-align: middle;\n",
       "    }\n",
       "\n",
       "    .dataframe tbody tr th {\n",
       "        vertical-align: top;\n",
       "    }\n",
       "\n",
       "    .dataframe thead th {\n",
       "        text-align: right;\n",
       "    }\n",
       "</style>\n",
       "<table border=\"1\" class=\"dataframe\">\n",
       "  <thead>\n",
       "    <tr style=\"text-align: right;\">\n",
       "      <th></th>\n",
       "      <th>user_id</th>\n",
       "      <th>item_id</th>\n",
       "      <th>datetime</th>\n",
       "      <th>weight</th>\n",
       "      <th>watched_pct</th>\n",
       "    </tr>\n",
       "  </thead>\n",
       "  <tbody>\n",
       "    <tr>\n",
       "      <th>0</th>\n",
       "      <td>176549</td>\n",
       "      <td>9506</td>\n",
       "      <td>2021-05-11</td>\n",
       "      <td>4250.0</td>\n",
       "      <td>72.0</td>\n",
       "    </tr>\n",
       "    <tr>\n",
       "      <th>1</th>\n",
       "      <td>699317</td>\n",
       "      <td>1659</td>\n",
       "      <td>2021-05-29</td>\n",
       "      <td>8317.0</td>\n",
       "      <td>100.0</td>\n",
       "    </tr>\n",
       "    <tr>\n",
       "      <th>2</th>\n",
       "      <td>656683</td>\n",
       "      <td>7107</td>\n",
       "      <td>2021-05-09</td>\n",
       "      <td>10.0</td>\n",
       "      <td>0.0</td>\n",
       "    </tr>\n",
       "    <tr>\n",
       "      <th>3</th>\n",
       "      <td>864613</td>\n",
       "      <td>7638</td>\n",
       "      <td>2021-07-05</td>\n",
       "      <td>14483.0</td>\n",
       "      <td>100.0</td>\n",
       "    </tr>\n",
       "    <tr>\n",
       "      <th>4</th>\n",
       "      <td>964868</td>\n",
       "      <td>9506</td>\n",
       "      <td>2021-04-30</td>\n",
       "      <td>6725.0</td>\n",
       "      <td>100.0</td>\n",
       "    </tr>\n",
       "  </tbody>\n",
       "</table>\n",
       "</div>"
      ],
      "text/plain": [
       "   user_id  item_id   datetime   weight  watched_pct\n",
       "0   176549     9506 2021-05-11   4250.0         72.0\n",
       "1   699317     1659 2021-05-29   8317.0        100.0\n",
       "2   656683     7107 2021-05-09     10.0          0.0\n",
       "3   864613     7638 2021-07-05  14483.0        100.0\n",
       "4   964868     9506 2021-04-30   6725.0        100.0"
      ]
     },
     "execution_count": 39,
     "metadata": {},
     "output_type": "execute_result"
    }
   ],
   "source": [
    "interactions.df.head()"
   ]
  },
  {
   "cell_type": "code",
   "execution_count": 40,
   "id": "b0f8ab6d-6591-4864-a48d-06f2c02088b5",
   "metadata": {},
   "outputs": [],
   "source": [
    "users = pd.read_csv(\"data_original/users.csv\")\n",
    "items = pd.read_csv(\"data_original/items.csv\")"
   ]
  },
  {
   "cell_type": "markdown",
   "id": "ce84c56e-deca-4ff2-813b-ec9a576d8cc5",
   "metadata": {},
   "source": [
    "## Обучение модели"
   ]
  },
  {
   "cell_type": "markdown",
   "id": "4e29fc07-05c3-4d12-a478-1d9ce48048cd",
   "metadata": {},
   "source": [
    "Учить будем модель ImplicitALS, как в лекции было"
   ]
  },
  {
   "cell_type": "code",
   "execution_count": 41,
   "id": "f336719c-c459-45d5-ba71-7f72a6daf0ec",
   "metadata": {},
   "outputs": [],
   "source": [
    "model  = ImplicitALSWrapperModel(\n",
    "        model=AlternatingLeastSquares(\n",
    "            factors=32,\n",
    "            random_state=RANDOM_STATE,\n",
    "            num_threads=8\n",
    "        ))"
   ]
  },
  {
   "cell_type": "code",
   "execution_count": 42,
   "id": "fe029534-42ab-47d5-944d-c2a781c146fe",
   "metadata": {},
   "outputs": [
    {
     "data": {
      "text/plain": [
       "<rectools.models.implicit_als.ImplicitALSWrapperModel at 0x7fd43abbcc10>"
      ]
     },
     "execution_count": 42,
     "metadata": {},
     "output_type": "execute_result"
    }
   ],
   "source": [
    "model"
   ]
  },
  {
   "cell_type": "code",
   "execution_count": 43,
   "id": "38f21825-bd52-4bd7-b0cd-e7f8919d78d9",
   "metadata": {},
   "outputs": [],
   "source": [
    "dataset = Dataset.construct(interactions_df)"
   ]
  },
  {
   "cell_type": "code",
   "execution_count": null,
   "id": "0a907189-8a4b-4a33-94f2-d46ed9cd98d0",
   "metadata": {},
   "outputs": [],
   "source": [
    "model.fit(dataset)"
   ]
  },
  {
   "cell_type": "code",
   "execution_count": 29,
   "id": "4ca87581-a62a-4fc4-ad90-b6641ffe3e10",
   "metadata": {},
   "outputs": [
    {
     "data": {
      "text/plain": [
       "array([[ 1.3105050e-01,  9.5244055e+00,  9.2103491e+00, ...,\n",
       "         2.4374983e+00,  8.8954216e-01,  1.1701256e+01],\n",
       "       [ 5.1834965e+00,  2.9833522e+00,  1.1783665e+01, ...,\n",
       "         4.3121619e+00,  6.5011787e+00,  2.7034140e+00],\n",
       "       [-4.3731823e+00,  3.6713746e+00,  1.2461555e+00, ...,\n",
       "        -2.0232971e+00,  5.8753810e+00,  3.4910135e+00],\n",
       "       ...,\n",
       "       [-5.6007956e-03,  9.7842216e-02, -4.5963153e-03, ...,\n",
       "         5.0578274e-02, -3.6342427e-02,  9.0891722e-04],\n",
       "       [-6.5714540e+00, -4.9895878e+00,  5.4431945e-01, ...,\n",
       "        -5.2779121e+00, -3.0052602e+00,  4.0550637e+00],\n",
       "       [ 8.4534197e+00,  1.1404150e+01, -8.8084656e-01, ...,\n",
       "        -3.0177834e+00,  1.1427036e+01, -6.0125761e+00]], dtype=float32)"
      ]
     },
     "execution_count": 29,
     "metadata": {},
     "output_type": "execute_result"
    }
   ],
   "source": [
    "user_v"
   ]
  },
  {
   "cell_type": "code",
   "execution_count": 26,
   "id": "60d88988-14a0-4a99-ae71-cb5d5a81cc44",
   "metadata": {},
   "outputs": [
    {
     "data": {
      "text/plain": [
       "<rectools.tools.ann.UserToItemAnnRecommender at 0x7fd42af972b0>"
      ]
     },
     "execution_count": 26,
     "metadata": {},
     "output_type": "execute_result"
    }
   ],
   "source": [
    "ann = UserToItemAnnRecommender(user_v, item_v, dataset.user_id_map, dataset.item_id_map)\n",
    "ann.fit()"
   ]
  },
  {
   "cell_type": "code",
   "execution_count": 31,
   "id": "df1e1100-2333-4dbc-9d17-6458ef08134d",
   "metadata": {},
   "outputs": [],
   "source": [
    "pickle.dump(model, open(MODEL_PATH, \"wb\"))"
   ]
  },
  {
   "cell_type": "code",
   "execution_count": null,
   "id": "38bfb5a0-e5c6-4d4a-9d73-1a22b06de873",
   "metadata": {},
   "outputs": [],
   "source": []
  }
 ],
 "metadata": {
  "kernelspec": {
   "display_name": "Python 3 (ipykernel)",
   "language": "python",
   "name": "python3"
  },
  "language_info": {
   "codemirror_mode": {
    "name": "ipython",
    "version": 3
   },
   "file_extension": ".py",
   "mimetype": "text/x-python",
   "name": "python",
   "nbconvert_exporter": "python",
   "pygments_lexer": "ipython3",
   "version": "3.10.12"
  }
 },
 "nbformat": 4,
 "nbformat_minor": 5
}
