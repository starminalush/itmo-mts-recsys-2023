{
  "nbformat": 4,
  "nbformat_minor": 0,
  "metadata": {
    "colab": {
      "provenance": [],
      "gpuType": "T4"
    },
    "kernelspec": {
      "name": "python3",
      "display_name": "Python 3"
    },
    "language_info": {
      "name": "python"
    },
    "accelerator": "GPU"
  },
  "cells": [
    {
      "cell_type": "code",
      "execution_count": 67,
      "metadata": {
        "id": "HD7z6EgweaG7"
      },
      "outputs": [],
      "source": [
        "import pandas as pd\n",
        "from IPython.display import display, clear_output\n",
        "\n",
        "import numpy as np\n",
        "import pandas as pd\n",
        "from tqdm.notebook import tqdm\n",
        "from sklearn.model_selection import train_test_split\n",
        "from sklearn.preprocessing import StandardScaler\n",
        "import numpy as np\n",
        "from copy import deepcopy\n",
        "import json\n",
        "import torch\n",
        "from torch import nn\n",
        "from torch.nn import functional as F\n",
        "\n",
        "import torch\n",
        "import os\n",
        "from scipy.sparse import csr_matrix\n",
        "import numpy as np\n",
        "from torch import nn\n",
        "import random\n",
        "from torch.nn import functional as F\n",
        "from torch.utils.data import Dataset, DataLoader\n",
        "import math\n",
        "from sklearn.model_selection import train_test_split"
      ]
    },
    {
      "cell_type": "code",
      "source": [
        "RANDOM_STATE = 42\n",
        "random.seed(RANDOM_STATE)\n",
        "os.environ[\"PYTHONHASHSEED\"] = str(RANDOM_STATE)\n",
        "np.random.seed(RANDOM_STATE)"
      ],
      "metadata": {
        "id": "_KMn5bWMgcPk"
      },
      "execution_count": 68,
      "outputs": []
    },
    {
      "cell_type": "code",
      "source": [
        "DATASET_PATH = '/content/drive/My Drive/dataset'\n",
        "# Constants\n",
        "LR = 1e-3 # learning rate, controls the speed of the training\n",
        "WEIGHT_DECAY = 0.01 # lambda for L2 reg. ()\n",
        "NUM_EPOCHS = 200 # num training epochs (how many times each instance will be processed)\n",
        "GAMMA = 0.9995 # learning rate scheduler parameter\n",
        "BATCH_SIZE = 3000 # training batch size\n",
        "EVAL_BATCH_SIZE = 3000 # evaluation batch size.\n",
        "DEVICE = 'cuda' #'cuda' # device to make the calculations on"
      ],
      "metadata": {
        "id": "n6R4XNiverCG"
      },
      "execution_count": 69,
      "outputs": []
    },
    {
      "cell_type": "markdown",
      "source": [
        "## Загрузка данных"
      ],
      "metadata": {
        "id": "inEIY3ShfdzB"
      }
    },
    {
      "cell_type": "code",
      "source": [
        "interactions_df = pd.read_csv(f'{DATASET_PATH}/interactions_processed_kion.csv')\n",
        "users_df = pd.read_csv(f'{DATASET_PATH}/users_processed_kion.csv')\n",
        "items_df = pd.read_csv(f'{DATASET_PATH}/items_processed_kion.csv')"
      ],
      "metadata": {
        "id": "Gncr_KrHe5hW"
      },
      "execution_count": 70,
      "outputs": []
    },
    {
      "cell_type": "markdown",
      "source": [
        "Делаем предобработку"
      ],
      "metadata": {
        "id": "BGZ_Huxefgi7"
      }
    },
    {
      "cell_type": "code",
      "source": [
        "interactions_df = interactions_df[interactions_df['last_watch_dt'] < '2021-04-01']"
      ],
      "metadata": {
        "id": "0OtLDnpYfDfg"
      },
      "execution_count": 71,
      "outputs": []
    },
    {
      "cell_type": "markdown",
      "source": [
        "Оставим только тех пользователей, у которых есть хотя б 5 просмотров"
      ],
      "metadata": {
        "id": "-9FZF4NCfmBP"
      }
    },
    {
      "cell_type": "code",
      "source": [
        "users_interactions_count_df = interactions_df.groupby(['user_id', 'item_id']).size().groupby('user_id').size()\n",
        "print('# users: %d' % len(users_interactions_count_df))\n",
        "users_with_enough_interactions_df = users_interactions_count_df[users_interactions_count_df >= 5].reset_index()[['user_id']]\n",
        "print('# users with at least 5 interactions: %d' % len(users_with_enough_interactions_df))"
      ],
      "metadata": {
        "colab": {
          "base_uri": "https://localhost:8080/"
        },
        "id": "jXvku2VffkVb",
        "outputId": "082d66bf-4bcf-44e5-b079-88d972ce6ac3"
      },
      "execution_count": 72,
      "outputs": [
        {
          "output_type": "stream",
          "name": "stdout",
          "text": [
            "# users: 86614\n",
            "# users with at least 5 interactions: 14563\n"
          ]
        }
      ]
    },
    {
      "cell_type": "markdown",
      "source": [
        "Оставим только те просмотры, которые есть у пользователей с хотя бы 5 просмотрами"
      ],
      "metadata": {
        "id": "q68w4Yp4fv0c"
      }
    },
    {
      "cell_type": "code",
      "source": [
        "print('# of interactions: %d' % len(interactions_df))\n",
        "interactions_from_selected_users_df = interactions_df.merge(users_with_enough_interactions_df,\n",
        "               how = 'right',\n",
        "               left_on = 'user_id',\n",
        "               right_on = 'user_id')\n",
        "print('# of interactions from users with at least 5 interactions: %d' % len(interactions_from_selected_users_df))"
      ],
      "metadata": {
        "colab": {
          "base_uri": "https://localhost:8080/"
        },
        "id": "6Xhr3rHQfrJI",
        "outputId": "c0e09d85-d200-4eed-ca5b-56126838aa04"
      },
      "execution_count": 73,
      "outputs": [
        {
          "output_type": "stream",
          "name": "stdout",
          "text": [
            "# of interactions: 263874\n",
            "# of interactions from users with at least 5 interactions: 142670\n"
          ]
        }
      ]
    },
    {
      "cell_type": "markdown",
      "source": [
        "Сглаживаем веса"
      ],
      "metadata": {
        "id": "98nD50bjf7Qb"
      }
    },
    {
      "cell_type": "code",
      "source": [
        "def smooth_user_preference(x):\n",
        "    return math.log(1+x, 2)\n",
        "\n",
        "interactions_full_df = interactions_from_selected_users_df \\\n",
        "                    .groupby(['user_id', 'item_id'])['watched_pct'].sum() \\\n",
        "                    .apply(smooth_user_preference).reset_index()\n",
        "print('# of unique user/item interactions: %d' % len(interactions_full_df))\n",
        "interactions_full_df.head(10)"
      ],
      "metadata": {
        "colab": {
          "base_uri": "https://localhost:8080/",
          "height": 380
        },
        "id": "ucypAfSwf3LU",
        "outputId": "7e984e97-21a2-4cef-dbcd-f8b3d6b95c09"
      },
      "execution_count": 74,
      "outputs": [
        {
          "output_type": "stream",
          "name": "stdout",
          "text": [
            "# of unique user/item interactions: 142670\n"
          ]
        },
        {
          "output_type": "execute_result",
          "data": {
            "text/plain": [
              "   user_id  item_id  watched_pct\n",
              "0       21      849     6.375039\n",
              "1       21     4345     6.658211\n",
              "2       21    10283     6.658211\n",
              "3       21    12261     6.658211\n",
              "4       21    15997     6.658211\n",
              "5       32      952     6.044394\n",
              "6       32     4382     4.954196\n",
              "7       32     4807     6.658211\n",
              "8       32    10436     6.658211\n",
              "9       32    12132     6.658211"
            ],
            "text/html": [
              "\n",
              "  <div id=\"df-0c518261-2adc-4dab-acb9-c0c1fa343694\" class=\"colab-df-container\">\n",
              "    <div>\n",
              "<style scoped>\n",
              "    .dataframe tbody tr th:only-of-type {\n",
              "        vertical-align: middle;\n",
              "    }\n",
              "\n",
              "    .dataframe tbody tr th {\n",
              "        vertical-align: top;\n",
              "    }\n",
              "\n",
              "    .dataframe thead th {\n",
              "        text-align: right;\n",
              "    }\n",
              "</style>\n",
              "<table border=\"1\" class=\"dataframe\">\n",
              "  <thead>\n",
              "    <tr style=\"text-align: right;\">\n",
              "      <th></th>\n",
              "      <th>user_id</th>\n",
              "      <th>item_id</th>\n",
              "      <th>watched_pct</th>\n",
              "    </tr>\n",
              "  </thead>\n",
              "  <tbody>\n",
              "    <tr>\n",
              "      <th>0</th>\n",
              "      <td>21</td>\n",
              "      <td>849</td>\n",
              "      <td>6.375039</td>\n",
              "    </tr>\n",
              "    <tr>\n",
              "      <th>1</th>\n",
              "      <td>21</td>\n",
              "      <td>4345</td>\n",
              "      <td>6.658211</td>\n",
              "    </tr>\n",
              "    <tr>\n",
              "      <th>2</th>\n",
              "      <td>21</td>\n",
              "      <td>10283</td>\n",
              "      <td>6.658211</td>\n",
              "    </tr>\n",
              "    <tr>\n",
              "      <th>3</th>\n",
              "      <td>21</td>\n",
              "      <td>12261</td>\n",
              "      <td>6.658211</td>\n",
              "    </tr>\n",
              "    <tr>\n",
              "      <th>4</th>\n",
              "      <td>21</td>\n",
              "      <td>15997</td>\n",
              "      <td>6.658211</td>\n",
              "    </tr>\n",
              "    <tr>\n",
              "      <th>5</th>\n",
              "      <td>32</td>\n",
              "      <td>952</td>\n",
              "      <td>6.044394</td>\n",
              "    </tr>\n",
              "    <tr>\n",
              "      <th>6</th>\n",
              "      <td>32</td>\n",
              "      <td>4382</td>\n",
              "      <td>4.954196</td>\n",
              "    </tr>\n",
              "    <tr>\n",
              "      <th>7</th>\n",
              "      <td>32</td>\n",
              "      <td>4807</td>\n",
              "      <td>6.658211</td>\n",
              "    </tr>\n",
              "    <tr>\n",
              "      <th>8</th>\n",
              "      <td>32</td>\n",
              "      <td>10436</td>\n",
              "      <td>6.658211</td>\n",
              "    </tr>\n",
              "    <tr>\n",
              "      <th>9</th>\n",
              "      <td>32</td>\n",
              "      <td>12132</td>\n",
              "      <td>6.658211</td>\n",
              "    </tr>\n",
              "  </tbody>\n",
              "</table>\n",
              "</div>\n",
              "    <div class=\"colab-df-buttons\">\n",
              "\n",
              "  <div class=\"colab-df-container\">\n",
              "    <button class=\"colab-df-convert\" onclick=\"convertToInteractive('df-0c518261-2adc-4dab-acb9-c0c1fa343694')\"\n",
              "            title=\"Convert this dataframe to an interactive table.\"\n",
              "            style=\"display:none;\">\n",
              "\n",
              "  <svg xmlns=\"http://www.w3.org/2000/svg\" height=\"24px\" viewBox=\"0 -960 960 960\">\n",
              "    <path d=\"M120-120v-720h720v720H120Zm60-500h600v-160H180v160Zm220 220h160v-160H400v160Zm0 220h160v-160H400v160ZM180-400h160v-160H180v160Zm440 0h160v-160H620v160ZM180-180h160v-160H180v160Zm440 0h160v-160H620v160Z\"/>\n",
              "  </svg>\n",
              "    </button>\n",
              "\n",
              "  <style>\n",
              "    .colab-df-container {\n",
              "      display:flex;\n",
              "      gap: 12px;\n",
              "    }\n",
              "\n",
              "    .colab-df-convert {\n",
              "      background-color: #E8F0FE;\n",
              "      border: none;\n",
              "      border-radius: 50%;\n",
              "      cursor: pointer;\n",
              "      display: none;\n",
              "      fill: #1967D2;\n",
              "      height: 32px;\n",
              "      padding: 0 0 0 0;\n",
              "      width: 32px;\n",
              "    }\n",
              "\n",
              "    .colab-df-convert:hover {\n",
              "      background-color: #E2EBFA;\n",
              "      box-shadow: 0px 1px 2px rgba(60, 64, 67, 0.3), 0px 1px 3px 1px rgba(60, 64, 67, 0.15);\n",
              "      fill: #174EA6;\n",
              "    }\n",
              "\n",
              "    .colab-df-buttons div {\n",
              "      margin-bottom: 4px;\n",
              "    }\n",
              "\n",
              "    [theme=dark] .colab-df-convert {\n",
              "      background-color: #3B4455;\n",
              "      fill: #D2E3FC;\n",
              "    }\n",
              "\n",
              "    [theme=dark] .colab-df-convert:hover {\n",
              "      background-color: #434B5C;\n",
              "      box-shadow: 0px 1px 3px 1px rgba(0, 0, 0, 0.15);\n",
              "      filter: drop-shadow(0px 1px 2px rgba(0, 0, 0, 0.3));\n",
              "      fill: #FFFFFF;\n",
              "    }\n",
              "  </style>\n",
              "\n",
              "    <script>\n",
              "      const buttonEl =\n",
              "        document.querySelector('#df-0c518261-2adc-4dab-acb9-c0c1fa343694 button.colab-df-convert');\n",
              "      buttonEl.style.display =\n",
              "        google.colab.kernel.accessAllowed ? 'block' : 'none';\n",
              "\n",
              "      async function convertToInteractive(key) {\n",
              "        const element = document.querySelector('#df-0c518261-2adc-4dab-acb9-c0c1fa343694');\n",
              "        const dataTable =\n",
              "          await google.colab.kernel.invokeFunction('convertToInteractive',\n",
              "                                                    [key], {});\n",
              "        if (!dataTable) return;\n",
              "\n",
              "        const docLinkHtml = 'Like what you see? Visit the ' +\n",
              "          '<a target=\"_blank\" href=https://colab.research.google.com/notebooks/data_table.ipynb>data table notebook</a>'\n",
              "          + ' to learn more about interactive tables.';\n",
              "        element.innerHTML = '';\n",
              "        dataTable['output_type'] = 'display_data';\n",
              "        await google.colab.output.renderOutput(dataTable, element);\n",
              "        const docLink = document.createElement('div');\n",
              "        docLink.innerHTML = docLinkHtml;\n",
              "        element.appendChild(docLink);\n",
              "      }\n",
              "    </script>\n",
              "  </div>\n",
              "\n",
              "\n",
              "<div id=\"df-4c73780c-bae9-40a1-bb1b-4404c1b6ab58\">\n",
              "  <button class=\"colab-df-quickchart\" onclick=\"quickchart('df-4c73780c-bae9-40a1-bb1b-4404c1b6ab58')\"\n",
              "            title=\"Suggest charts\"\n",
              "            style=\"display:none;\">\n",
              "\n",
              "<svg xmlns=\"http://www.w3.org/2000/svg\" height=\"24px\"viewBox=\"0 0 24 24\"\n",
              "     width=\"24px\">\n",
              "    <g>\n",
              "        <path d=\"M19 3H5c-1.1 0-2 .9-2 2v14c0 1.1.9 2 2 2h14c1.1 0 2-.9 2-2V5c0-1.1-.9-2-2-2zM9 17H7v-7h2v7zm4 0h-2V7h2v10zm4 0h-2v-4h2v4z\"/>\n",
              "    </g>\n",
              "</svg>\n",
              "  </button>\n",
              "\n",
              "<style>\n",
              "  .colab-df-quickchart {\n",
              "      --bg-color: #E8F0FE;\n",
              "      --fill-color: #1967D2;\n",
              "      --hover-bg-color: #E2EBFA;\n",
              "      --hover-fill-color: #174EA6;\n",
              "      --disabled-fill-color: #AAA;\n",
              "      --disabled-bg-color: #DDD;\n",
              "  }\n",
              "\n",
              "  [theme=dark] .colab-df-quickchart {\n",
              "      --bg-color: #3B4455;\n",
              "      --fill-color: #D2E3FC;\n",
              "      --hover-bg-color: #434B5C;\n",
              "      --hover-fill-color: #FFFFFF;\n",
              "      --disabled-bg-color: #3B4455;\n",
              "      --disabled-fill-color: #666;\n",
              "  }\n",
              "\n",
              "  .colab-df-quickchart {\n",
              "    background-color: var(--bg-color);\n",
              "    border: none;\n",
              "    border-radius: 50%;\n",
              "    cursor: pointer;\n",
              "    display: none;\n",
              "    fill: var(--fill-color);\n",
              "    height: 32px;\n",
              "    padding: 0;\n",
              "    width: 32px;\n",
              "  }\n",
              "\n",
              "  .colab-df-quickchart:hover {\n",
              "    background-color: var(--hover-bg-color);\n",
              "    box-shadow: 0 1px 2px rgba(60, 64, 67, 0.3), 0 1px 3px 1px rgba(60, 64, 67, 0.15);\n",
              "    fill: var(--button-hover-fill-color);\n",
              "  }\n",
              "\n",
              "  .colab-df-quickchart-complete:disabled,\n",
              "  .colab-df-quickchart-complete:disabled:hover {\n",
              "    background-color: var(--disabled-bg-color);\n",
              "    fill: var(--disabled-fill-color);\n",
              "    box-shadow: none;\n",
              "  }\n",
              "\n",
              "  .colab-df-spinner {\n",
              "    border: 2px solid var(--fill-color);\n",
              "    border-color: transparent;\n",
              "    border-bottom-color: var(--fill-color);\n",
              "    animation:\n",
              "      spin 1s steps(1) infinite;\n",
              "  }\n",
              "\n",
              "  @keyframes spin {\n",
              "    0% {\n",
              "      border-color: transparent;\n",
              "      border-bottom-color: var(--fill-color);\n",
              "      border-left-color: var(--fill-color);\n",
              "    }\n",
              "    20% {\n",
              "      border-color: transparent;\n",
              "      border-left-color: var(--fill-color);\n",
              "      border-top-color: var(--fill-color);\n",
              "    }\n",
              "    30% {\n",
              "      border-color: transparent;\n",
              "      border-left-color: var(--fill-color);\n",
              "      border-top-color: var(--fill-color);\n",
              "      border-right-color: var(--fill-color);\n",
              "    }\n",
              "    40% {\n",
              "      border-color: transparent;\n",
              "      border-right-color: var(--fill-color);\n",
              "      border-top-color: var(--fill-color);\n",
              "    }\n",
              "    60% {\n",
              "      border-color: transparent;\n",
              "      border-right-color: var(--fill-color);\n",
              "    }\n",
              "    80% {\n",
              "      border-color: transparent;\n",
              "      border-right-color: var(--fill-color);\n",
              "      border-bottom-color: var(--fill-color);\n",
              "    }\n",
              "    90% {\n",
              "      border-color: transparent;\n",
              "      border-bottom-color: var(--fill-color);\n",
              "    }\n",
              "  }\n",
              "</style>\n",
              "\n",
              "  <script>\n",
              "    async function quickchart(key) {\n",
              "      const quickchartButtonEl =\n",
              "        document.querySelector('#' + key + ' button');\n",
              "      quickchartButtonEl.disabled = true;  // To prevent multiple clicks.\n",
              "      quickchartButtonEl.classList.add('colab-df-spinner');\n",
              "      try {\n",
              "        const charts = await google.colab.kernel.invokeFunction(\n",
              "            'suggestCharts', [key], {});\n",
              "      } catch (error) {\n",
              "        console.error('Error during call to suggestCharts:', error);\n",
              "      }\n",
              "      quickchartButtonEl.classList.remove('colab-df-spinner');\n",
              "      quickchartButtonEl.classList.add('colab-df-quickchart-complete');\n",
              "    }\n",
              "    (() => {\n",
              "      let quickchartButtonEl =\n",
              "        document.querySelector('#df-4c73780c-bae9-40a1-bb1b-4404c1b6ab58 button');\n",
              "      quickchartButtonEl.style.display =\n",
              "        google.colab.kernel.accessAllowed ? 'block' : 'none';\n",
              "    })();\n",
              "  </script>\n",
              "</div>\n",
              "    </div>\n",
              "  </div>\n"
            ]
          },
          "metadata": {},
          "execution_count": 74
        }
      ]
    },
    {
      "cell_type": "markdown",
      "source": [
        "Делим на train и test подвыборки"
      ],
      "metadata": {
        "id": "gBiH0qGsgB_w"
      }
    },
    {
      "cell_type": "code",
      "source": [
        "interactions_train_df, interactions_test_df = train_test_split(interactions_full_df,\n",
        "                                   stratify=interactions_full_df['user_id'],\n",
        "                                   test_size=0.20,\n",
        "                                   random_state=42)\n",
        "\n",
        "print('# interactions on Train set: %d' % len(interactions_train_df))\n",
        "print('# interactions on Test set: %d' % len(interactions_test_df))"
      ],
      "metadata": {
        "colab": {
          "base_uri": "https://localhost:8080/"
        },
        "id": "L6oSmhE0f85_",
        "outputId": "bf582b6f-0837-4059-b0cb-67372b212b21"
      },
      "execution_count": 75,
      "outputs": [
        {
          "output_type": "stream",
          "name": "stdout",
          "text": [
            "# interactions on Train set: 114136\n",
            "# interactions on Test set: 28534\n"
          ]
        }
      ]
    },
    {
      "cell_type": "code",
      "source": [
        "#Indexing by personId to speed up the searches during evaluation\n",
        "interactions_full_indexed_df = interactions_full_df.set_index('user_id')\n",
        "interactions_train_indexed_df = interactions_train_df.set_index('user_id')\n",
        "interactions_test_indexed_df = interactions_test_df.set_index('user_id')"
      ],
      "metadata": {
        "id": "zB-vzaXwgKN0"
      },
      "execution_count": 76,
      "outputs": []
    },
    {
      "cell_type": "code",
      "source": [
        "def get_items_interacted(person_id, interactions_df):\n",
        "    # Get the user's data and merge in the movie information.\n",
        "    interacted_items = interactions_df.loc[person_id]['item_id']\n",
        "    return set(interacted_items if type(interacted_items) == pd.Series else [interacted_items])"
      ],
      "metadata": {
        "id": "Z18C-VZKgM-5"
      },
      "execution_count": 77,
      "outputs": []
    },
    {
      "cell_type": "markdown",
      "source": [
        "## Обучение"
      ],
      "metadata": {
        "id": "fgpQNccZDlxp"
      }
    },
    {
      "cell_type": "markdown",
      "source": [
        "Для обучения необходимо преобразовать данные в матрицу"
      ],
      "metadata": {
        "id": "riQ737SdD08R"
      }
    },
    {
      "cell_type": "code",
      "source": [
        "total_df = interactions_train_df.append(interactions_test_indexed_df.reset_index())\n",
        "total_df['user_id'], users_keys = total_df.user_id.factorize()\n",
        "total_df['item_id'], items_keys = total_df.item_id.factorize()\n",
        "\n",
        "train_encoded = total_df.iloc[:len(interactions_train_df)].values\n",
        "test_encoded = total_df.iloc[len(interactions_train_df):].values"
      ],
      "metadata": {
        "colab": {
          "base_uri": "https://localhost:8080/"
        },
        "id": "duOoC4aZgSFA",
        "outputId": "93ca88e6-90a2-40a9-bdf6-55fb3a2da6f9"
      },
      "execution_count": 79,
      "outputs": [
        {
          "output_type": "stream",
          "name": "stderr",
          "text": [
            "<ipython-input-79-50c21e885cbc>:1: FutureWarning: The frame.append method is deprecated and will be removed from pandas in a future version. Use pandas.concat instead.\n",
            "  total_df = interactions_train_df.append(interactions_test_indexed_df.reset_index())\n"
          ]
        }
      ]
    },
    {
      "cell_type": "code",
      "source": [
        "shape = [int(total_df['user_id'].max()+1), int(total_df['item_id'].max()+1)]\n",
        "X_train = csr_matrix((train_encoded[:, 2], (train_encoded[:, 0], train_encoded[:, 1])), shape=shape).toarray()\n",
        "X_test = csr_matrix((test_encoded[:, 2], (test_encoded[:, 0], test_encoded[:, 1])), shape=shape).toarray()"
      ],
      "metadata": {
        "id": "PhaM24zcgqlQ"
      },
      "execution_count": 80,
      "outputs": []
    },
    {
      "cell_type": "markdown",
      "source": [
        "Инициализация объекта датасета и dataloaders"
      ],
      "metadata": {
        "id": "5CVHoNhqD57r"
      }
    },
    {
      "cell_type": "code",
      "source": [
        "class UserOrientedDataset(Dataset):\n",
        "    def __init__(self, X):\n",
        "        super().__init__() # to initialize the parent class\n",
        "        self.X = X.astype(np.float32)\n",
        "        self.len = len(X)\n",
        "\n",
        "    def __len__(self): # We use __func__ for implementing in-built python functions\n",
        "        return self.len\n",
        "\n",
        "    def __getitem__(self, index):\n",
        "        return self.X[index]"
      ],
      "metadata": {
        "id": "-Kg6_y5vgtTE"
      },
      "execution_count": 82,
      "outputs": []
    },
    {
      "cell_type": "code",
      "source": [
        "train_dl = DataLoader(\n",
        "    UserOrientedDataset(X_train),\n",
        "    batch_size = BATCH_SIZE,\n",
        "    shuffle = True\n",
        ")\n",
        "\n",
        "test_dl = DataLoader(\n",
        "    UserOrientedDataset(X_test),\n",
        "    batch_size = EVAL_BATCH_SIZE,\n",
        "    shuffle = False\n",
        ")\n",
        "\n",
        "dls = {'train': train_dl, 'test': test_dl}"
      ],
      "metadata": {
        "id": "IwBpTMJZgwpq"
      },
      "execution_count": 83,
      "outputs": []
    },
    {
      "cell_type": "markdown",
      "source": [
        "## Модель"
      ],
      "metadata": {
        "id": "8WYmDgoCEAeE"
      }
    },
    {
      "cell_type": "markdown",
      "source": [
        "В задании сказано изменить AE - я попыталась сделать VAE"
      ],
      "metadata": {
        "id": "MMFtdvKb8_E7"
      }
    },
    {
      "cell_type": "code",
      "source": [
        "class VAE(nn.Module):\n",
        "    def __init__(self, x, h1, h2, z):\n",
        "        super(VAE, self).__init__()\n",
        "        self.fc1 = nn.Linear(x, h1)\n",
        "        self.fc2 = nn.Linear(h1, h2)\n",
        "        self.fc_mean = nn.Linear(h2, z)\n",
        "        self.fc_sd = nn.Linear(h2, z)\n",
        "        # decoder\n",
        "        self.fc4 = nn.Linear(z, h2)\n",
        "        self.fc5 = nn.Linear(h2, h1)\n",
        "        self.fc6 = nn.Linear(h1, x)\n",
        "\n",
        "    def decoder(self, z):\n",
        "        h1 = F.relu(self.fc4(z))\n",
        "        h2 = F.relu(self.fc5(h1))\n",
        "        return F.sigmoid(self.fc6(h2))\n",
        "\n",
        "    def encoder(self, x):\n",
        "        h1 = F.relu(self.fc1(x))\n",
        "        h2 = F.relu(self.fc2(h1))\n",
        "        return self.fc_mean(h2), self.fc_sd(h2) # mu, log_var\n",
        "\n",
        "    def sampling(self, mu, log_var):\n",
        "        std = torch.exp(0.5*log_var)\n",
        "        eps = torch.randn_like(std)\n",
        "        return eps.mul(std).add_(mu)\n",
        "\n",
        "    def forward(self, x):\n",
        "        mu, log_var = self.encoder(x.view(-1, 8287))\n",
        "        z = self.sampling(mu, log_var)\n",
        "        return self.decoder(z), mu, log_var"
      ],
      "metadata": {
        "id": "skRDgI0FkgAx"
      },
      "execution_count": 84,
      "outputs": []
    },
    {
      "cell_type": "markdown",
      "source": [
        "Инициализурем новый лосс"
      ],
      "metadata": {
        "id": "MqeNP4vvECmb"
      }
    },
    {
      "cell_type": "code",
      "source": [
        "def loss_function(reconstructed_x, x, mu, log_var):\n",
        "    loss = -torch.mean(torch.sum(F.log_softmax(reconstructed_x, 1) * x, -1))\n",
        "    regularized_term = -0.5 * torch.sum(1 + log_var - mu.pow(2) -\n",
        "                      log_var.exp())\n",
        "\n",
        "    return loss + regularized_term"
      ],
      "metadata": {
        "id": "i3dYdX9X1FUm"
      },
      "execution_count": 85,
      "outputs": []
    },
    {
      "cell_type": "code",
      "source": [
        "model = VAE(x=8287, h1= 1024, h2=512, z=2)\n",
        "model.to(DEVICE)\n",
        "optimizer = torch.optim.AdamW(model.parameters(), lr=LR, weight_decay=WEIGHT_DECAY)\n",
        "scheduler = torch.optim.lr_scheduler.ExponentialLR(optimizer, gamma=GAMMA)\n"
      ],
      "metadata": {
        "id": "zFsBq9mjizhC"
      },
      "execution_count": 86,
      "outputs": []
    },
    {
      "cell_type": "markdown",
      "source": [
        "Начинаем обучение"
      ],
      "metadata": {
        "id": "tOhHUDYQEH5r"
      }
    },
    {
      "cell_type": "code",
      "source": [
        "# Train loop\n",
        "for epoch in range(NUM_EPOCHS):\n",
        "    for stage in ['train', 'test']:\n",
        "        with torch.set_grad_enabled(stage == 'train'):\n",
        "            if stage == 'train':\n",
        "                model.train()\n",
        "            else:\n",
        "                model.eval()\n",
        "\n",
        "            loss_at_stage = 0\n",
        "            for batch in dls[stage]:\n",
        "                batch = batch.to(DEVICE)\n",
        "                latent, mu, log_var = model(batch)\n",
        "                loss = loss_function(latent, batch, mu, log_var)\n",
        "                if stage == \"train\":\n",
        "                    loss.backward()\n",
        "                    optimizer.step()\n",
        "                    scheduler.step()\n",
        "                    optimizer.zero_grad()\n",
        "                loss_at_stage += loss.item()\n",
        "            loss_at_stage = (loss_at_stage / len(dls[stage].dataset))\n",
        "\n",
        "    if (epoch == NUM_EPOCHS - 1) or epoch % 10 == 9:\n",
        "        print(f\"Current epoch: {epoch}, loss {loss_at_stage}\")"
      ],
      "metadata": {
        "colab": {
          "base_uri": "https://localhost:8080/"
        },
        "id": "rQnpx096kTxC",
        "outputId": "ad83b2dd-c573-456b-c115-ca2be59bdaea"
      },
      "execution_count": 87,
      "outputs": [
        {
          "output_type": "stream",
          "name": "stdout",
          "text": [
            "Current epoch: 9, loss 0.02563776436525248\n",
            "Current epoch: 19, loss 0.025617372512424467\n",
            "Current epoch: 29, loss 0.025612449266176618\n",
            "Current epoch: 39, loss 0.025611540318877867\n",
            "Current epoch: 49, loss 0.025609590142324782\n",
            "Current epoch: 59, loss 0.025609759096505674\n",
            "Current epoch: 69, loss 0.02560828094388122\n",
            "Current epoch: 79, loss 0.025606887923208376\n",
            "Current epoch: 89, loss 0.02560782594634291\n",
            "Current epoch: 99, loss 0.025606118068421335\n",
            "Current epoch: 109, loss 0.025606432401781135\n",
            "Current epoch: 119, loss 0.025606263447600242\n",
            "Current epoch: 129, loss 0.02560655630151379\n",
            "Current epoch: 139, loss 0.025606239872598257\n",
            "Current epoch: 149, loss 0.025605677477828687\n",
            "Current epoch: 159, loss 0.025605846693954045\n",
            "Current epoch: 169, loss 0.025605020521106706\n",
            "Current epoch: 179, loss 0.025604554259956336\n",
            "Current epoch: 189, loss 0.0256053411411337\n",
            "Current epoch: 199, loss 0.025604930674154695\n"
          ]
        }
      ]
    },
    {
      "cell_type": "code",
      "source": [
        "with torch.no_grad():\n",
        "    X_pred = model(torch.Tensor(X_test).to(DEVICE))[0].detach().cpu().numpy()\n",
        "X_pred"
      ],
      "metadata": {
        "colab": {
          "base_uri": "https://localhost:8080/"
        },
        "id": "wi3rQ6DBlm7J",
        "outputId": "8ba555d0-60b6-436a-9f0e-067e938503ee"
      },
      "execution_count": 96,
      "outputs": [
        {
          "output_type": "execute_result",
          "data": {
            "text/plain": [
              "array([[9.9999571e-01, 9.9998987e-01, 9.9999678e-01, ..., 3.9976035e-06,\n",
              "        7.9386673e-06, 6.6845137e-06],\n",
              "       [9.9999714e-01, 9.9999273e-01, 9.9999774e-01, ..., 2.6306498e-06,\n",
              "        5.4030065e-06, 4.7245139e-06],\n",
              "       [9.9999952e-01, 9.9999869e-01, 9.9999964e-01, ..., 3.7480351e-07,\n",
              "        7.8271728e-07, 1.1289392e-06],\n",
              "       ...,\n",
              "       [9.9999392e-01, 9.9998605e-01, 9.9999571e-01, ..., 6.0406178e-06,\n",
              "        1.0979017e-05, 8.9953182e-06],\n",
              "       [9.9998331e-01, 9.9996436e-01, 9.9998677e-01, ..., 1.6018505e-05,\n",
              "        2.7572454e-05, 2.4391717e-05],\n",
              "       [9.9999154e-01, 9.9997818e-01, 9.9999297e-01, ..., 8.3833320e-06,\n",
              "        1.4163673e-05, 1.3450983e-05]], dtype=float32)"
            ]
          },
          "metadata": {},
          "execution_count": 96
        }
      ]
    },
    {
      "cell_type": "markdown",
      "source": [
        "Класс для оценки качества модели"
      ],
      "metadata": {
        "id": "gcJWtUhIEVOv"
      }
    },
    {
      "cell_type": "code",
      "source": [
        "class AERecommender:\n",
        "\n",
        "    MODEL_NAME = 'Autoencoder'\n",
        "\n",
        "    def __init__(self, X_preds, X_train_and_val, X_test):\n",
        "\n",
        "        self.X_preds = X_preds\n",
        "        self.X_train_and_val = X_train_and_val\n",
        "        self.X_test = X_test\n",
        "\n",
        "    def get_model_name(self):\n",
        "        return self.MODEL_NAME\n",
        "\n",
        "    def recommend_items(self, user_id, items_to_select_idx, topn=10, verbose=False):\n",
        "        user_preds = self.X_preds[user_id][items_to_select_idx]\n",
        "        items_idx = items_to_select_idx[np.argsort(-user_preds)[:topn]]\n",
        "        return items_idx\n",
        "\n",
        "    def evaluate(self, size=100):\n",
        "\n",
        "        X_total = self.X_train_and_val + self.X_test\n",
        "\n",
        "        true_5 = []\n",
        "        true_10 = []\n",
        "\n",
        "        for user_id in range(len(X_test)):\n",
        "            non_zero = np.argwhere(self.X_test[user_id] > 0).ravel()\n",
        "            all_nonzero = np.argwhere(X_total[user_id] > 0).ravel()\n",
        "            select_from = np.setdiff1d(np.arange(X_total.shape[1]), all_nonzero)\n",
        "\n",
        "            for non_zero_idx in non_zero:\n",
        "                random_non_interacted_100_items = np.random.choice(select_from, size=20, replace=False)\n",
        "                preds = self.recommend_items(user_id, np.append(random_non_interacted_100_items, non_zero_idx), topn=10)\n",
        "                true_5.append(non_zero_idx in preds[:5])\n",
        "                true_10.append(non_zero_idx in preds)\n",
        "\n",
        "        return {\"recall@5\": np.mean(true_5), \"recall@10\": np.mean(true_10)}\n",
        "\n",
        "ae_recommender_model = AERecommender(X_pred, X_train, X_train)\n",
        "ae_global_metrics = ae_recommender_model.evaluate()\n",
        "ae_global_metrics"
      ],
      "metadata": {
        "colab": {
          "base_uri": "https://localhost:8080/"
        },
        "id": "53qv-ChYkXAs",
        "outputId": "1f08c6c1-04c7-4a9f-ea4a-567b7202b8b8"
      },
      "execution_count": 98,
      "outputs": [
        {
          "output_type": "execute_result",
          "data": {
            "text/plain": [
              "{'recall@5': 0.8620925039250295, 'recall@10': 0.9465415858094337}"
            ]
          },
          "metadata": {},
          "execution_count": 98
        }
      ]
    },
    {
      "cell_type": "markdown",
      "source": [
        "Судя по метрикам, модель стала немного лучше, чем AE, который был в лекции"
      ],
      "metadata": {
        "id": "MXqP2R2zEkQ_"
      }
    },
    {
      "cell_type": "markdown",
      "source": [
        "Делаем предсказания для оффлайн рекомендаций"
      ],
      "metadata": {
        "id": "iOLFC-7D84Er"
      }
    },
    {
      "cell_type": "code",
      "source": [
        "test_data = total_df.values\n",
        "shape = [int(total_df[\"user_id\"].max() + 1), int(total_df[\"item_id\"].max() + 1)]\n",
        "X = csr_matrix(\n",
        "    (test_data[:, 2], (test_data[:, 0], test_data[:, 1])), shape=shape\n",
        ").toarray()"
      ],
      "metadata": {
        "id": "o7PV9gnt83MG"
      },
      "execution_count": 99,
      "outputs": []
    },
    {
      "cell_type": "code",
      "source": [
        "with torch.no_grad():\n",
        "    X_pred = model(torch.Tensor(torch.Tensor(X).to(DEVICE)))[0].detach().cpu().numpy()\n",
        "X_pred"
      ],
      "metadata": {
        "colab": {
          "base_uri": "https://localhost:8080/"
        },
        "id": "vwtEs3p09YD5",
        "outputId": "a42c8dbb-9fc9-4e87-df09-724e105854b5"
      },
      "execution_count": 100,
      "outputs": [
        {
          "output_type": "execute_result",
          "data": {
            "text/plain": [
              "array([[9.9995649e-01, 9.9991584e-01, 9.9996269e-01, ..., 3.8887032e-05,\n",
              "        5.8243590e-05, 6.8062865e-05],\n",
              "       [1.0000000e+00, 9.9999988e-01, 1.0000000e+00, ..., 1.8714410e-08,\n",
              "        5.6659996e-08, 5.6516768e-08],\n",
              "       [9.9999547e-01, 9.9998915e-01, 9.9999654e-01, ..., 4.2899264e-06,\n",
              "        8.4529274e-06, 7.1942154e-06],\n",
              "       ...,\n",
              "       [9.9994528e-01, 9.9988997e-01, 9.9995482e-01, ..., 5.6402379e-05,\n",
              "        7.9073696e-05, 7.4777956e-05],\n",
              "       [9.9997616e-01, 9.9994648e-01, 9.9998045e-01, ..., 2.4371164e-05,\n",
              "        3.6535075e-05, 3.4328150e-05],\n",
              "       [9.9999917e-01, 9.9999690e-01, 9.9999928e-01, ..., 8.0697600e-07,\n",
              "        1.7524738e-06, 1.8097214e-06]], dtype=float32)"
            ]
          },
          "metadata": {},
          "execution_count": 100
        }
      ]
    },
    {
      "cell_type": "code",
      "source": [
        "def get_reco(user_id: int, num_reco: int=10):\n",
        "    all_nonzero = np.argwhere(X[user_id] > 0).ravel()\n",
        "    select_from = np.setdiff1d(np.arange(X.shape[1]), all_nonzero)\n",
        "    random_non_interactive = np.random.choice(select_from, size=20, replace=False)\n",
        "    return random_non_interactive[np.argsort(-X_pred[user_id][random_non_interactive])[:num_reco]]"
      ],
      "metadata": {
        "id": "CNSeFIpj9bYd"
      },
      "execution_count": 101,
      "outputs": []
    },
    {
      "cell_type": "code",
      "source": [
        "user_recos = {}\n",
        "users = interactions_full_indexed_df.index.unique().tolist()\n",
        "for i, user_id in enumerate(users):\n",
        "    recos_for_user = get_reco(i)\n",
        "    user_recos.update({user_id: recos_for_user.tolist()})"
      ],
      "metadata": {
        "id": "tw3Wllt69sJy"
      },
      "execution_count": 102,
      "outputs": []
    },
    {
      "cell_type": "code",
      "source": [
        "with open(\"vae_recos.json\", \"w\") as r:\n",
        "    json.dump(user_recos, r)"
      ],
      "metadata": {
        "id": "NbEySQqd9uzF"
      },
      "execution_count": 103,
      "outputs": []
    }
  ]
}