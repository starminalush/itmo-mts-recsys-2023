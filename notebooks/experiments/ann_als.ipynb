{
 "cells": [
  {
   "cell_type": "code",
   "execution_count": 10,
   "id": "cfcaed86-7054-45fa-9df8-0fc0ac818267",
   "metadata": {},
   "outputs": [],
   "source": [
    "import sys\n",
    "sys.path.append('../../service/models/')\n",
    "sys.path.append('../../service/utils/')"
   ]
  },
  {
   "cell_type": "code",
   "execution_count": 11,
   "id": "0f993b86",
   "metadata": {},
   "outputs": [],
   "source": [
    "import warnings\n",
    "warnings.filterwarnings('ignore')"
   ]
  },
  {
   "cell_type": "code",
   "execution_count": 12,
   "id": "c3831ea5-5c8c-468c-97dd-cc0a115b9e55",
   "metadata": {},
   "outputs": [],
   "source": [
    "import os\n",
    "import pickle\n",
    "import random\n",
    "import zipfile as zf\n",
    "\n",
    "import implicit\n",
    "import numpy as np\n",
    "import time\n",
    "import pandas as pd\n",
    "import requests\n",
    "from implicit.gpu.als import AlternatingLeastSquares\n",
    "from lightfm import LightFM\n",
    "from rectools import Columns\n",
    "from rectools.dataset import Dataset\n",
    "from copy import deepcopy\n",
    "from rectools.models import ImplicitALSWrapperModel, LightFMWrapperModel\n",
    "from rectools.metrics import  MAP, calc_metrics\n",
    "from rectools.metrics.base import MetricAtK\n",
    "from functools import partial\n",
    "from rectools.tools import UserToItemAnnRecommender\n",
    "import optuna\n",
    "from utils.unpickler import load\n",
    "from ngt_recommender import UserToItemNGTRecommender\n",
    "from typing import Sequence, Any, Dict\n",
    "import ngtpy\n",
    "from optuna.samplers import TPESampler\n",
    "from tqdm import tqdm"
   ]
  },
  {
   "cell_type": "code",
   "execution_count": 13,
   "id": "32934aa9-6d33-41df-94de-2c0031a190d3",
   "metadata": {},
   "outputs": [],
   "source": [
    "os.environ[\"OPENBLAS_NUM_THREADS\"] = \"1\"  # For implicit ALS"
   ]
  },
  {
   "cell_type": "code",
   "execution_count": 14,
   "id": "487a1265-f383-4b8b-9eae-ed46a34a37b6",
   "metadata": {},
   "outputs": [],
   "source": [
    "RANDOM_STATE = 42\n",
    "random.seed(RANDOM_STATE)\n",
    "os.environ[\"PYTHONHASHSEED\"] = str(RANDOM_STATE)\n",
    "np.random.seed(RANDOM_STATE)"
   ]
  },
  {
   "cell_type": "code",
   "execution_count": 15,
   "id": "f75f1e6e-1dcb-437b-9a9b-95185da3c29f",
   "metadata": {},
   "outputs": [],
   "source": [
    "MODEL_PATH = \"lightfm.pkl\"\n",
    "ANN_MODEL_PATH = 'ann_lightfm.pkl'\n",
    "K_RECOS=10"
   ]
  },
  {
   "cell_type": "markdown",
   "id": "beb78b58-4810-49c6-a7fe-71af1d5cde49",
   "metadata": {},
   "source": [
    "## Инициализация датасета"
   ]
  },
  {
   "cell_type": "code",
   "execution_count": 7,
   "id": "cf0b52f2-3dc1-4a28-90ae-39e56f331801",
   "metadata": {},
   "outputs": [],
   "source": [
    "url = \"https://github.com/irsafilo/KION_DATASET/raw/f69775be31fa5779907cf0a92ddedb70037fb5ae/data_original.zip\""
   ]
  },
  {
   "cell_type": "code",
   "execution_count": 8,
   "id": "d26dedd0-8047-4c30-b5be-096d29fbf4e7",
   "metadata": {},
   "outputs": [
    {
     "name": "stderr",
     "output_type": "stream",
     "text": [
      "kion dataset download: 100%|█████████████████████████████████████████████████████████████████████████████████████████████████████████████████████████████████████████████████████████████▋| 78.6M/78.8M [00:16<00:00, 3.23MiB/s]"
     ]
    }
   ],
   "source": [
    "req = requests.get(url, stream=True)\n",
    "\n",
    "with open(\"kion.zip\", \"wb\") as fd:\n",
    "    total_size_in_bytes = int(req.headers.get(\"Content-Length\", 0))\n",
    "    progress_bar = tqdm(desc=\"kion dataset download\", total=total_size_in_bytes, unit=\"iB\", unit_scale=True)\n",
    "    for chunk in req.iter_content(chunk_size=2**20):\n",
    "        progress_bar.update(len(chunk))\n",
    "        fd.write(chunk)"
   ]
  },
  {
   "cell_type": "code",
   "execution_count": 9,
   "id": "0c6667b0-eda0-444e-9beb-a2cebf8cb653",
   "metadata": {},
   "outputs": [],
   "source": [
    "files = zf.ZipFile(\"kion.zip\", \"r\")\n",
    "files.extractall()\n",
    "files.close()"
   ]
  },
  {
   "cell_type": "code",
   "execution_count": 16,
   "id": "b35c123d-dbea-4fb1-8e71-3e84a825532b",
   "metadata": {},
   "outputs": [],
   "source": [
    "interactions_df = pd.read_csv(\"data_original/interactions.csv\")"
   ]
  },
  {
   "cell_type": "code",
   "execution_count": 17,
   "id": "b0f8ab6d-6591-4864-a48d-06f2c02088b5",
   "metadata": {},
   "outputs": [],
   "source": [
    "users = pd.read_csv(\"data_original/users.csv\")\n",
    "items = pd.read_csv(\"data_original/items.csv\")"
   ]
  },
  {
   "cell_type": "markdown",
   "id": "9f5a5548-a5e1-426a-abf7-6df5712b99e8",
   "metadata": {},
   "source": [
    "В семинаре по теме было EDA и были графики с выбросами. Берем препроцессинг данных из лекции"
   ]
  },
  {
   "cell_type": "code",
   "execution_count": 18,
   "id": "6d393164-b0d3-4b8c-aeeb-a2ea7f54d6ac",
   "metadata": {},
   "outputs": [],
   "source": [
    "Columns.Datetime = 'last_watch_dt'\n",
    "interactions_df.drop(interactions_df[interactions_df[Columns.Datetime].str.len() != 10].index, inplace=True)\n",
    "interactions_df[Columns.Datetime] = pd.to_datetime(interactions_df[Columns.Datetime], format=\"%Y-%m-%d\")\n",
    "max_date = interactions_df[Columns.Datetime].max()\n",
    "interactions_df[Columns.Weight] = np.where(interactions_df[\"watched_pct\"] > 10, 3, 1)"
   ]
  },
  {
   "cell_type": "code",
   "execution_count": 19,
   "id": "0bf42c8c-dbbf-42e6-89e4-771675084b53",
   "metadata": {},
   "outputs": [
    {
     "name": "stdout",
     "output_type": "stream",
     "text": [
      "train: (4985269, 6)\n",
      "test: (490982, 6)\n"
     ]
    }
   ],
   "source": [
    "max_date = interactions_df[Columns.Datetime].max()\n",
    "train = interactions_df[interactions_df[Columns.Datetime] < max_date - pd.Timedelta(days=7)].copy()\n",
    "test = interactions_df[interactions_df[Columns.Datetime] >= max_date - pd.Timedelta(days=7)].copy()\n",
    "\n",
    "print(f\"train: {train.shape}\")\n",
    "print(f\"test: {test.shape}\")"
   ]
  },
  {
   "cell_type": "code",
   "execution_count": 20,
   "id": "7b380326-9a7a-4005-af51-7cbd7b1ac7ed",
   "metadata": {},
   "outputs": [],
   "source": [
    "train.drop(train.query(\"total_dur < 300\").index, inplace=True)"
   ]
  },
  {
   "cell_type": "code",
   "execution_count": 21,
   "id": "07aea4ee-4d3f-4bfe-8f4d-adf3c10df7d2",
   "metadata": {},
   "outputs": [],
   "source": [
    "cold_users = set(test[Columns.User]) - set(train[Columns.User])\n",
    "test.drop(test[test[Columns.User].isin(cold_users)].index, inplace=True)"
   ]
  },
  {
   "cell_type": "markdown",
   "id": "e964646e-db1e-45d4-ad1c-8201bdb8d30a",
   "metadata": {},
   "source": [
    "В том же семинаре был раздел про юзера и айтема фичи. Напишем функции, которые будут доставать фичи из датасета для пользователя и айтема"
   ]
  },
  {
   "cell_type": "code",
   "execution_count": 22,
   "id": "7995c89f-dab8-4e7b-bea8-7693071658d1",
   "metadata": {},
   "outputs": [],
   "source": [
    "def get_users_features(users: pd.DataFrame, interactions: pd.DataFrame, features: Sequence[str]) -> pd.DataFrame:\n",
    "    users.fillna('Unknown', inplace=True)\n",
    "    users = users.loc[users[Columns.User].isin(interactions[Columns.User])].copy()\n",
    "    user_features_frames = []\n",
    "    for feature in features:\n",
    "        feature_frame = users.reindex(columns=[Columns.User, feature])\n",
    "        feature_frame.columns = [\"id\", \"value\"]\n",
    "        feature_frame[\"feature\"] = feature\n",
    "        user_features_frames.append(feature_frame)\n",
    "    user_features = pd.concat(user_features_frames)\n",
    "    return user_features"
   ]
  },
  {
   "cell_type": "code",
   "execution_count": 23,
   "id": "7b4ec778-23ba-4198-9113-bb5292604c74",
   "metadata": {},
   "outputs": [],
   "source": [
    "features = [\"sex\", \"age\", \"income\"]\n",
    "user_features = get_users_features(users=users, interactions = train, features=features)"
   ]
  },
  {
   "cell_type": "code",
   "execution_count": 24,
   "id": "ece251dd-28bc-48dc-a8ab-f8bdd5a70119",
   "metadata": {},
   "outputs": [],
   "source": [
    "def get_items_features(items: pd.DataFrame, interactions: pd.DataFrame, features: Sequence[str]) -> pd.DataFrame:\n",
    "    items = items.loc[items[Columns.Item].isin(interactions[Columns.Item])].copy()\n",
    "    items[\"genre\"] = items[\"genres\"].str.lower().str.replace(\", \", \",\", regex=False).str.split(\",\")\n",
    "    item_features_frames = []\n",
    "    for feature in features:\n",
    "        feature_frame = items[[\"item_id\", feature]].explode(feature)\n",
    "        feature_frame.columns = [\"id\", \"value\"]\n",
    "        feature_frame[\"feature\"] = feature\n",
    "        content_feature = items.reindex(columns=[Columns.Item, \"content_type\"])\n",
    "        content_feature.columns = [\"id\", \"value\"]\n",
    "        content_feature[\"feature\"] = \"content_type\"\n",
    "        item_features_frames.append(pd.concat((feature_frame, content_feature)))\n",
    "    item_features = pd.concat(item_features_frames)\n",
    "    return item_features"
   ]
  },
  {
   "cell_type": "code",
   "execution_count": 25,
   "id": "98f397f0-85b5-46c5-ae7b-a9fdf40d6751",
   "metadata": {},
   "outputs": [],
   "source": [
    "features = [\"genre\"]\n",
    "item_features = get_items_features(items=items, interactions = train, features=features)"
   ]
  },
  {
   "cell_type": "markdown",
   "id": "ce84c56e-deca-4ff2-813b-ec9a576d8cc5",
   "metadata": {},
   "source": [
    "## Эксперименты"
   ]
  },
  {
   "cell_type": "markdown",
   "id": "2cd514ed-e1db-4eec-a2d2-5991141c5585",
   "metadata": {},
   "source": [
    "* Реализовать тюнинг гиперпараметров для моделей из implicit, lightfm или rectools"
   ]
  },
  {
   "cell_type": "markdown",
   "id": "47f3560f-4b20-498f-a3b3-8db29b98b9f4",
   "metadata": {},
   "source": [
    "Подготовим датасет, инициализируем метрики"
   ]
  },
  {
   "cell_type": "code",
   "execution_count": 26,
   "id": "300c6b7d-571e-4dd0-8389-6c176a5cff50",
   "metadata": {},
   "outputs": [],
   "source": [
    "dataset = Dataset.construct(\n",
    "    interactions_df=train,\n",
    "    user_features_df=user_features,\n",
    "    cat_user_features=[\"sex\", \"age\", \"income\"],\n",
    "    item_features_df=item_features,\n",
    "    cat_item_features=[\"genre\", \"content_type\"],\n",
    ")"
   ]
  },
  {
   "cell_type": "code",
   "execution_count": 27,
   "id": "9fba5c7a-9aaa-4325-bc9e-a708095f403b",
   "metadata": {},
   "outputs": [],
   "source": [
    "TEST_USERS = test[Columns.User].unique()"
   ]
  },
  {
   "cell_type": "code",
   "execution_count": 28,
   "id": "99402d9a-27b2-4895-ab3e-6150b3423ed2",
   "metadata": {},
   "outputs": [],
   "source": [
    "metrics: Dict[str, MetricAtK] = {'top@10_map': MAP(k=10)}"
   ]
  },
  {
   "cell_type": "markdown",
   "id": "a6d2b86b-48f0-4e38-a39f-4a59ec75e056",
   "metadata": {},
   "source": [
    "Для подбора гиперпараметров будем использовать optuna"
   ]
  },
  {
   "cell_type": "code",
   "execution_count": 29,
   "id": "a5a89789-e816-4213-a4f7-fcbc0d72b360",
   "metadata": {},
   "outputs": [],
   "source": [
    "def train_model(metrics:Dict[str, MetricAtK], model: Any, dataset:Dataset, train:pd.DataFrame, test:pd.DataFrame) -> float:\n",
    "    model.fit(dataset)\n",
    "    recos = model.recommend(\n",
    "        users=TEST_USERS,\n",
    "        dataset=dataset,\n",
    "        k=K_RECOS,\n",
    "        filter_viewed=True\n",
    "    )\n",
    "    metrics_result = calc_metrics(metrics, recos, test, train)\n",
    "    return metrics_result['top@10_map']"
   ]
  },
  {
   "cell_type": "code",
   "execution_count": 49,
   "id": "c674e83f-507d-4955-a343-7d5f57a18a5d",
   "metadata": {},
   "outputs": [],
   "source": [
    "def objective_als(trial, dataset:Dataset, train:pd.DataFrame, test:pd.DataFrame, metrics:dict[str, MetricAtK]):\n",
    "    n_factors = trial.suggest_categorical(\"n_factors\", [8, 16, 24])\n",
    "    is_fit_features_together = trial.suggest_categorical(\"is_fit_features_together\", [True, False])\n",
    "    regularization = trial.suggest_float('regularization', 0.01, 0.05)\n",
    "    iterations = trial.suggest_int('iterations', 10, 20)\n",
    "\n",
    "    model = ImplicitALSWrapperModel(AlternatingLeastSquares(factors = n_factors, regularization = regularization, iterations = iterations, random_state=RANDOM_STATE), fit_features_together=is_fit_features_together)\n",
    "\n",
    "    metric =  train_model(\n",
    "        metrics=deepcopy(metrics),\n",
    "        model=deepcopy(model),\n",
    "        dataset=dataset,\n",
    "        train=train,\n",
    "        test=test\n",
    "    )\n",
    "    return metric"
   ]
  },
  {
   "cell_type": "code",
   "execution_count": 50,
   "id": "2212cf17-8181-4b12-8b35-5d0b38eaf648",
   "metadata": {},
   "outputs": [
    {
     "name": "stderr",
     "output_type": "stream",
     "text": [
      "[I 2023-12-08 21:26:53,924] A new study created in memory with name: als\n",
      "[I 2023-12-08 21:27:31,623] Trial 0 finished with value: 0.06741110056557463 and parameters: {'n_factors': 16, 'is_fit_features_together': True, 'regularization': 0.016239780813448106, 'iterations': 10}. Best is trial 0 with value: 0.06741110056557463.\n"
     ]
    },
    {
     "data": {
      "application/vnd.jupyter.widget-view+json": {
       "model_id": "6b9c73d47cc24098b831f3d771e342cd",
       "version_major": 2,
       "version_minor": 0
      },
      "text/plain": [
       "  0%|          | 0/1 [00:00<?, ?it/s]"
      ]
     },
     "metadata": {},
     "output_type": "display_data"
    },
    {
     "data": {
      "application/vnd.jupyter.widget-view+json": {
       "model_id": "cdf1705657f34771844c6f47b64be672",
       "version_major": 2,
       "version_minor": 0
      },
      "text/plain": [
       "  0%|          | 0/1 [00:00<?, ?it/s]"
      ]
     },
     "metadata": {},
     "output_type": "display_data"
    },
    {
     "name": "stderr",
     "output_type": "stream",
     "text": [
      "[I 2023-12-08 21:28:00,779] Trial 1 finished with value: 0.06897491937615315 and parameters: {'n_factors': 8, 'is_fit_features_together': False, 'regularization': 0.043297705632016875, 'iterations': 12}. Best is trial 1 with value: 0.06897491937615315.\n",
      "[I 2023-12-08 21:28:50,166] Trial 2 finished with value: 0.07404851168029583 and parameters: {'n_factors': 24, 'is_fit_features_together': True, 'regularization': 0.021649165607921676, 'iterations': 16}. Best is trial 2 with value: 0.07404851168029583.\n"
     ]
    },
    {
     "data": {
      "application/vnd.jupyter.widget-view+json": {
       "model_id": "04d434c1cb144761a47335210a0165c3",
       "version_major": 2,
       "version_minor": 0
      },
      "text/plain": [
       "  0%|          | 0/1 [00:00<?, ?it/s]"
      ]
     },
     "metadata": {},
     "output_type": "display_data"
    },
    {
     "data": {
      "application/vnd.jupyter.widget-view+json": {
       "model_id": "0c87b2bb944a4acb8778027d1852ae84",
       "version_major": 2,
       "version_minor": 0
      },
      "text/plain": [
       "  0%|          | 0/1 [00:00<?, ?it/s]"
      ]
     },
     "metadata": {},
     "output_type": "display_data"
    },
    {
     "name": "stderr",
     "output_type": "stream",
     "text": [
      "[I 2023-12-08 21:29:19,748] Trial 3 finished with value: 0.0633863831473171 and parameters: {'n_factors': 24, 'is_fit_features_together': False, 'regularization': 0.017986951286334388, 'iterations': 15}. Best is trial 2 with value: 0.07404851168029583.\n",
      "[I 2023-12-08 21:30:14,906] Trial 4 finished with value: 0.06401524405433189 and parameters: {'n_factors': 24, 'is_fit_features_together': True, 'regularization': 0.047955421490133335, 'iterations': 20}. Best is trial 2 with value: 0.07404851168029583.\n",
      "[I 2023-12-08 21:31:00,360] Trial 5 finished with value: 0.0736660319170565 and parameters: {'n_factors': 8, 'is_fit_features_together': True, 'regularization': 0.014881529393791153, 'iterations': 15}. Best is trial 2 with value: 0.07404851168029583.\n",
      "[I 2023-12-08 21:31:48,324] Trial 6 finished with value: 0.07447957628328786 and parameters: {'n_factors': 16, 'is_fit_features_together': True, 'regularization': 0.030802720847112434, 'iterations': 16}. Best is trial 6 with value: 0.07447957628328786.\n",
      "[I 2023-12-08 21:32:43,080] Trial 7 finished with value: 0.06718048742452107 and parameters: {'n_factors': 16, 'is_fit_features_together': True, 'regularization': 0.03391599915244341, 'iterations': 20}. Best is trial 6 with value: 0.07447957628328786.\n"
     ]
    },
    {
     "data": {
      "application/vnd.jupyter.widget-view+json": {
       "model_id": "cb25fbe44ea048cc84e33e53d562cec6",
       "version_major": 2,
       "version_minor": 0
      },
      "text/plain": [
       "  0%|          | 0/1 [00:00<?, ?it/s]"
      ]
     },
     "metadata": {},
     "output_type": "display_data"
    },
    {
     "data": {
      "application/vnd.jupyter.widget-view+json": {
       "model_id": "a67551fa600b47359bbde0ec88dad1a4",
       "version_major": 2,
       "version_minor": 0
      },
      "text/plain": [
       "  0%|          | 0/1 [00:00<?, ?it/s]"
      ]
     },
     "metadata": {},
     "output_type": "display_data"
    },
    {
     "name": "stderr",
     "output_type": "stream",
     "text": [
      "[I 2023-12-08 21:33:17,249] Trial 8 finished with value: 0.06269825522990526 and parameters: {'n_factors': 16, 'is_fit_features_together': False, 'regularization': 0.02085396127095584, 'iterations': 19}. Best is trial 6 with value: 0.07447957628328786.\n"
     ]
    },
    {
     "data": {
      "application/vnd.jupyter.widget-view+json": {
       "model_id": "ecc2fba1a6634488a9346a66ccb6d238",
       "version_major": 2,
       "version_minor": 0
      },
      "text/plain": [
       "  0%|          | 0/1 [00:00<?, ?it/s]"
      ]
     },
     "metadata": {},
     "output_type": "display_data"
    },
    {
     "data": {
      "application/vnd.jupyter.widget-view+json": {
       "model_id": "349c8e4821704053b2d3ecca2996a2b7",
       "version_major": 2,
       "version_minor": 0
      },
      "text/plain": [
       "  0%|          | 0/1 [00:00<?, ?it/s]"
      ]
     },
     "metadata": {},
     "output_type": "display_data"
    },
    {
     "name": "stderr",
     "output_type": "stream",
     "text": [
      "[I 2023-12-08 21:33:51,220] Trial 9 finished with value: 0.06341866508800317 and parameters: {'n_factors': 24, 'is_fit_features_together': False, 'regularization': 0.012982025747190833, 'iterations': 20}. Best is trial 6 with value: 0.07447957628328786.\n",
      "[I 2023-12-08 21:34:40,569] Trial 10 finished with value: 0.0724670797701254 and parameters: {'n_factors': 16, 'is_fit_features_together': True, 'regularization': 0.02989435896422701, 'iterations': 17}. Best is trial 6 with value: 0.07447957628328786.\n",
      "[I 2023-12-08 21:35:31,714] Trial 11 finished with value: 0.07390739453224501 and parameters: {'n_factors': 24, 'is_fit_features_together': True, 'regularization': 0.026499876258765737, 'iterations': 17}. Best is trial 6 with value: 0.07447957628328786.\n",
      "[I 2023-12-08 21:36:16,025] Trial 12 finished with value: 0.07582936315366962 and parameters: {'n_factors': 24, 'is_fit_features_together': True, 'regularization': 0.025751526095104938, 'iterations': 13}. Best is trial 12 with value: 0.07582936315366962.\n",
      "[I 2023-12-08 21:36:59,569] Trial 13 finished with value: 0.07430460816575607 and parameters: {'n_factors': 16, 'is_fit_features_together': True, 'regularization': 0.035453146375314624, 'iterations': 13}. Best is trial 12 with value: 0.07582936315366962.\n",
      "[I 2023-12-08 21:37:43,781] Trial 14 finished with value: 0.07407065612712142 and parameters: {'n_factors': 8, 'is_fit_features_together': True, 'regularization': 0.026046032921182342, 'iterations': 13}. Best is trial 12 with value: 0.07582936315366962.\n"
     ]
    },
    {
     "name": "stdout",
     "output_type": "stream",
     "text": [
      "CPU times: user 17min 16s, sys: 20min 44s, total: 38min\n",
      "Wall time: 10min 49s\n"
     ]
    }
   ],
   "source": [
    "%%time\n",
    "sampler = TPESampler(seed=RANDOM_STATE)\n",
    "study = optuna.create_study(study_name=\"als\", direction=\"maximize\", sampler=sampler)\n",
    "study.optimize(\n",
    "    partial(objective_als, dataset=dataset, train=train, test=test, metrics=deepcopy(metrics)),\n",
    "    n_trials=15, ##больше вроде как и излишне, \n",
    ")\n",
    "\n",
    "best_trial = study.best_trial\n",
    "best_params  = study.best_params"
   ]
  },
  {
   "cell_type": "markdown",
   "id": "bdd625b8",
   "metadata": {},
   "source": [
    "За счет перебора параметров удалось получить модель с MAP@10 = 0.758."
   ]
  },
  {
   "cell_type": "markdown",
   "id": "7675d86e",
   "metadata": {},
   "source": [
    "Подберем гиперпараметры еще для моделй LightFM"
   ]
  },
  {
   "cell_type": "code",
   "execution_count": 30,
   "id": "5ec59024",
   "metadata": {},
   "outputs": [],
   "source": [
    "def objective_lightfm(trial, dataset:Dataset, train:pd.DataFrame, test:pd.DataFrame, metrics:dict[str, MetricAtK]) -> float:\n",
    "    no_components = trial.suggest_categorical('no_components', [10, 20, 30])\n",
    "    k = trial.suggest_categorical('k', [5, 10, 15])\n",
    "    n = trial.suggest_categorical('n',[10, 15, 20])\n",
    "    loss = trial.suggest_categorical('loss', ['logistic', 'bpr', 'warp'])\n",
    "    \n",
    "    model = LightFMWrapperModel(LightFM(\n",
    "        no_components=no_components,\n",
    "        k=k,\n",
    "        n=n,\n",
    "        loss=loss,\n",
    "        random_state = RANDOM_STATE\n",
    "    ))\n",
    "    metric =  train_model(\n",
    "        metrics=deepcopy(metrics),\n",
    "        model=deepcopy(model),\n",
    "        dataset=dataset,\n",
    "        train=train,\n",
    "        test=test\n",
    "    )\n",
    "    return metric"
   ]
  },
  {
   "cell_type": "code",
   "execution_count": 31,
   "id": "574133b0",
   "metadata": {},
   "outputs": [
    {
     "name": "stderr",
     "output_type": "stream",
     "text": [
      "[I 2023-12-09 22:52:36,589] A new study created in memory with name: lightfm\n",
      "[I 2023-12-09 22:53:16,493] Trial 0 finished with value: 0.07614792956291809 and parameters: {'no_components': 20, 'k': 5, 'n': 15, 'loss': 'warp'}. Best is trial 0 with value: 0.07614792956291809.\n",
      "[I 2023-12-09 22:53:57,266] Trial 1 finished with value: 0.07696009627117308 and parameters: {'no_components': 10, 'k': 15, 'n': 20, 'loss': 'warp'}. Best is trial 1 with value: 0.07696009627117308.\n",
      "[I 2023-12-09 22:54:38,046] Trial 2 finished with value: 0.026250662707474736 and parameters: {'no_components': 20, 'k': 10, 'n': 10, 'loss': 'bpr'}. Best is trial 1 with value: 0.07696009627117308.\n",
      "[I 2023-12-09 22:55:17,009] Trial 3 finished with value: 0.00025809604071657267 and parameters: {'no_components': 30, 'k': 15, 'n': 15, 'loss': 'logistic'}. Best is trial 1 with value: 0.07696009627117308.\n",
      "[I 2023-12-09 22:55:59,622] Trial 4 finished with value: 0.07577691687989935 and parameters: {'no_components': 30, 'k': 10, 'n': 15, 'loss': 'warp'}. Best is trial 1 with value: 0.07696009627117308.\n",
      "[I 2023-12-09 22:56:39,756] Trial 5 finished with value: 0.00025809604071657267 and parameters: {'no_components': 30, 'k': 15, 'n': 15, 'loss': 'logistic'}. Best is trial 1 with value: 0.07696009627117308.\n",
      "[I 2023-12-09 22:57:16,374] Trial 6 finished with value: 0.00025792626896545875 and parameters: {'no_components': 20, 'k': 10, 'n': 20, 'loss': 'logistic'}. Best is trial 1 with value: 0.07696009627117308.\n",
      "[I 2023-12-09 22:57:59,427] Trial 7 finished with value: 0.028083569937095636 and parameters: {'no_components': 30, 'k': 10, 'n': 20, 'loss': 'bpr'}. Best is trial 1 with value: 0.07696009627117308.\n",
      "[I 2023-12-09 22:58:35,390] Trial 8 finished with value: 0.07696009627117308 and parameters: {'no_components': 10, 'k': 15, 'n': 20, 'loss': 'warp'}. Best is trial 1 with value: 0.07696009627117308.\n",
      "[I 2023-12-09 22:59:18,401] Trial 9 finished with value: 0.028083569937095636 and parameters: {'no_components': 30, 'k': 10, 'n': 15, 'loss': 'bpr'}. Best is trial 1 with value: 0.07696009627117308.\n",
      "[I 2023-12-09 22:59:54,531] Trial 10 finished with value: 0.07696009627117308 and parameters: {'no_components': 10, 'k': 5, 'n': 10, 'loss': 'warp'}. Best is trial 1 with value: 0.07696009627117308.\n",
      "[I 2023-12-09 23:00:30,610] Trial 11 finished with value: 0.07696009627117308 and parameters: {'no_components': 10, 'k': 15, 'n': 20, 'loss': 'warp'}. Best is trial 1 with value: 0.07696009627117308.\n",
      "[I 2023-12-09 23:01:06,700] Trial 12 finished with value: 0.07696009627117308 and parameters: {'no_components': 10, 'k': 15, 'n': 20, 'loss': 'warp'}. Best is trial 1 with value: 0.07696009627117308.\n",
      "[I 2023-12-09 23:01:43,423] Trial 13 finished with value: 0.07696009627117308 and parameters: {'no_components': 10, 'k': 15, 'n': 20, 'loss': 'warp'}. Best is trial 1 with value: 0.07696009627117308.\n",
      "[I 2023-12-09 23:02:19,525] Trial 14 finished with value: 0.07696009627117308 and parameters: {'no_components': 10, 'k': 15, 'n': 20, 'loss': 'warp'}. Best is trial 1 with value: 0.07696009627117308.\n"
     ]
    },
    {
     "name": "stdout",
     "output_type": "stream",
     "text": [
      "CPU times: user 29min 55s, sys: 26min 27s, total: 56min 23s\n",
      "Wall time: 9min 42s\n"
     ]
    }
   ],
   "source": [
    "%%time\n",
    "sampler = TPESampler(seed=RANDOM_STATE)\n",
    "study = optuna.create_study(study_name=\"lightfm\", direction=\"maximize\", sampler=sampler)\n",
    "study.optimize(\n",
    "    partial(objective_lightfm, dataset=dataset, train=train, test=test, metrics=deepcopy(metrics)),\n",
    "    n_trials=15, ##больше вроде как и излишне, \n",
    ")\n",
    "\n",
    "best_trial = study.best_trial\n",
    "best_params  = study.best_params"
   ]
  },
  {
   "cell_type": "markdown",
   "id": "2d873de6",
   "metadata": {},
   "source": [
    "Получили метрику MAP@10=0.769. Будем lightfm использовать ее в качестве backbone модели. Обучим модель с лучшими параметрами на всем датасете"
   ]
  },
  {
   "cell_type": "code",
   "execution_count": 32,
   "id": "c1d925a7-9a5c-4769-9d31-46380c5d67f9",
   "metadata": {},
   "outputs": [],
   "source": [
    "user_features = get_users_features(users, interactions_df, [\"sex\", \"age\", \"income\"])\n",
    "item_features = get_items_features(items, interactions_df, ['genre'])"
   ]
  },
  {
   "cell_type": "code",
   "execution_count": 33,
   "id": "56af9e90-80a7-40b9-9f04-8283e69b0720",
   "metadata": {},
   "outputs": [],
   "source": [
    "dataset = Dataset.construct(\n",
    "    interactions_df=interactions_df,\n",
    "    user_features_df=user_features,\n",
    "    cat_user_features=[\"sex\", \"age\", \"income\"],\n",
    "    item_features_df=item_features,\n",
    "    cat_item_features=[\"genre\", \"content_type\"],\n",
    ")"
   ]
  },
  {
   "cell_type": "code",
   "execution_count": 34,
   "id": "295e8953-6198-4e8f-b02f-00bcdd60272f",
   "metadata": {},
   "outputs": [
    {
     "data": {
      "text/plain": [
       "<rectools.models.lightfm.LightFMWrapperModel at 0x7effe7039fc0>"
      ]
     },
     "execution_count": 34,
     "metadata": {},
     "output_type": "execute_result"
    }
   ],
   "source": [
    "model = LightFMWrapperModel(\n",
    "    LightFM(\n",
    "       **best_params,\n",
    "        random_state=RANDOM_STATE\n",
    "    )\n",
    ")\n",
    "model.fit(dataset)"
   ]
  },
  {
   "cell_type": "code",
   "execution_count": 35,
   "id": "dccfcfb4-735c-42f9-af93-a52c24df4305",
   "metadata": {},
   "outputs": [],
   "source": [
    "with open(MODEL_PATH, \"wb\") as f:\n",
    "    pickle.dump(model, f)"
   ]
  },
  {
   "cell_type": "markdown",
   "id": "a8f926ca",
   "metadata": {},
   "source": [
    "## Приближенный поиск"
   ]
  },
  {
   "cell_type": "code",
   "execution_count": 134,
   "id": "989a34f9-3885-417d-b9d5-a51f3ad152e3",
   "metadata": {},
   "outputs": [],
   "source": [
    "model = load(MODEL_PATH)"
   ]
  },
  {
   "cell_type": "markdown",
   "id": "c3065150-e66d-4390-b4a8-5c569631aef0",
   "metadata": {},
   "source": [
    "Достаем данные из модели"
   ]
  },
  {
   "cell_type": "code",
   "execution_count": 135,
   "id": "ee38a87f-da1b-43be-9157-081302a38d66",
   "metadata": {},
   "outputs": [],
   "source": [
    "user_vectors, item_vectors = model.get_vectors(dataset)"
   ]
  },
  {
   "cell_type": "markdown",
   "id": "880d9705-50e3-45c9-9734-e72dd06ee621",
   "metadata": {},
   "source": [
    "Сначала попробуем UserToItemANNRecommender"
   ]
  },
  {
   "cell_type": "code",
   "execution_count": 136,
   "id": "0b11e7c4-7ff3-461b-8181-47d762760b89",
   "metadata": {},
   "outputs": [],
   "source": [
    "ann_lightfm = UserToItemAnnRecommender(\n",
    "    user_vectors=user_vectors,\n",
    "    item_vectors=item_vectors,\n",
    "    user_id_map=dataset.user_id_map,\n",
    "    item_id_map=dataset.item_id_map,\n",
    ")"
   ]
  },
  {
   "cell_type": "code",
   "execution_count": 137,
   "id": "2d65bc47-d2c3-4024-83e9-81d5e7522a1c",
   "metadata": {},
   "outputs": [
    {
     "data": {
      "text/plain": [
       "<rectools.tools.ann.UserToItemAnnRecommender at 0x7effe6ebe8c0>"
      ]
     },
     "execution_count": 137,
     "metadata": {},
     "output_type": "execute_result"
    }
   ],
   "source": [
    "ann_lightfm.fit()"
   ]
  },
  {
   "cell_type": "code",
   "execution_count": 40,
   "id": "ef483a7e-a6bb-407f-85c5-00f6cea69002",
   "metadata": {},
   "outputs": [],
   "source": [
    "def compute_avg_time_of_inference(model):\n",
    "    times = []\n",
    "    for _ in range(1000):\n",
    "        start = time.time()\n",
    "        model.get_item_list_for_user(973171, top_n=K_RECOS).tolist()\n",
    "        times.append(time.time() - start)\n",
    "    return sum(times) / len(times)"
   ]
  },
  {
   "cell_type": "code",
   "execution_count": 41,
   "id": "b459ae46-d251-4262-a9d2-afc8cf9ac2e6",
   "metadata": {},
   "outputs": [
    {
     "name": "stdout",
     "output_type": "stream",
     "text": [
      "Среднее время получения результата от одного юзера: 0.023664658069610597\n"
     ]
    }
   ],
   "source": [
    "print(f\"Среднее время получения результата от одного юзера: {compute_avg_time_of_inference(ann_lightfm)}\")"
   ]
  },
  {
   "cell_type": "markdown",
   "id": "2c5b3056-cdac-4884-a761-0821e76934a6",
   "metadata": {},
   "source": [
    "Посмотрим результаты для юзера 973171"
   ]
  },
  {
   "cell_type": "code",
   "execution_count": 42,
   "id": "7b52f768-f951-40cb-bbf0-5644bc7a9d16",
   "metadata": {},
   "outputs": [
    {
     "data": {
      "text/plain": [
       "array([  400, 10124,   570, 11514,  4865,  8173, 13282,   118, 12443,\n",
       "        5133])"
      ]
     },
     "execution_count": 42,
     "metadata": {},
     "output_type": "execute_result"
    }
   ],
   "source": [
    "ann_lightfm.get_item_list_for_user(973171, top_n=K_RECOS)"
   ]
  },
  {
   "cell_type": "markdown",
   "id": "33816818-3345-4d1c-b313-95119573006d",
   "metadata": {},
   "source": [
    "Среднее время ANN = 0.02 секунд на юзера, что в принципе достаточно быстро"
   ]
  },
  {
   "cell_type": "markdown",
   "id": "a785ed7a-78c4-417a-bf2e-0bf7cb80e671",
   "metadata": {},
   "source": [
    "Я еще сделала свой кастомный поиск на NGT, потому что:\n",
    " - по этому [бейзлайну](https://ann-benchmarks.com/glove-100-angular_10_angular.html) он всех бьет\n",
    " - (почти все остальное я уже видела)"
   ]
  },
  {
   "cell_type": "code",
   "execution_count": 48,
   "id": "9c6f40d3",
   "metadata": {},
   "outputs": [],
   "source": [
    "ngt_user_to_item = UserToItemNGTRecommender(user_vectors=user_vectors, item_vectors=item_vectors, user_id_map=dataset.user_id_map, item_id_map=dataset.item_id_map)"
   ]
  },
  {
   "cell_type": "code",
   "execution_count": 49,
   "id": "8241bac3-0fed-45d6-aa54-86ae6fbcdd65",
   "metadata": {},
   "outputs": [],
   "source": [
    "ngt_user_to_item.fit()"
   ]
  },
  {
   "cell_type": "code",
   "execution_count": 50,
   "id": "550f6916-e453-4954-9926-c1e11fec1bf4",
   "metadata": {},
   "outputs": [
    {
     "name": "stdout",
     "output_type": "stream",
     "text": [
      "Среднее время получения результата от одного юзера: 0.0228857319355011\n"
     ]
    }
   ],
   "source": [
    "print(f\"Среднее время получения результата от одного юзера: {compute_avg_time_of_inference(ngt_user_to_item)}\")"
   ]
  },
  {
   "cell_type": "markdown",
   "id": "fadbf49d-c129-4326-a74a-b1ebf72c5d51",
   "metadata": {},
   "source": [
    "Посмотрим на результаты от юзера 973171"
   ]
  },
  {
   "cell_type": "code",
   "execution_count": 52,
   "id": "7fc4aa6a-bd9b-4e27-92e0-5ae19d79101a",
   "metadata": {},
   "outputs": [
    {
     "data": {
      "text/plain": [
       "array([16512,   400, 10124,   570, 11514,  4865,  8173, 13282,   118,\n",
       "       12443])"
      ]
     },
     "execution_count": 52,
     "metadata": {},
     "output_type": "execute_result"
    }
   ],
   "source": [
    "ngt_user_to_item.get_item_list_for_user(973171, 10)"
   ]
  },
  {
   "cell_type": "markdown",
   "id": "fb8eaea8-a31e-42c2-911c-190288317083",
   "metadata": {},
   "source": [
    "Вывод: оба алгоритма работают примерно одной и то же скоростью. При этом ранги айтемов у них разные в выдаче.\n",
    "В проде я ее, конечно, использовать не буду, потому что либа из pypi на моем компьютере тоже работает медленнее, и [тут](https://github.com/yahoojapan/NGT/tree/main/python) об этом тоже писали.\n",
    "\n",
    "[Установка](https://github.com/erikbern/ann-benchmarks/blob/main/ann_benchmarks/algorithms/onng_ngt/Dockerfile)\n"
   ]
  },
  {
   "cell_type": "markdown",
   "id": "935a859d-3e4b-4034-bc04-83f8854b78fb",
   "metadata": {},
   "source": [
    "Сохраняем ANN в pickle для использования в продуктиве"
   ]
  },
  {
   "cell_type": "code",
   "execution_count": 138,
   "id": "cb4a5f9f-0c64-428b-a340-aa5cb363b195",
   "metadata": {},
   "outputs": [],
   "source": [
    "with open(ANN_MODEL_PATH, \"wb\") as f:\n",
    "    pickle.dump(ann_lightfm, f)"
   ]
  },
  {
   "cell_type": "markdown",
   "id": "ce9e9d69-3d08-42bb-bdba-64f60638463a",
   "metadata": {},
   "source": [
    "## Эксперименты с pickle"
   ]
  },
  {
   "cell_type": "markdown",
   "id": "bf88956f-f386-4a2c-b811-981db8e59229",
   "metadata": {},
   "source": [
    "Заметила ситуацию, что если мы загружаем модель ANN и делаем deepcopy, то у нас модель выдает только пустоту. Ниже вывод того, почему так происходит"
   ]
  },
  {
   "cell_type": "code",
   "execution_count": 54,
   "id": "6e5ec9fd-b122-4e9c-ab1a-22344fe61ab1",
   "metadata": {},
   "outputs": [],
   "source": [
    "model = load(MODEL_PATH)"
   ]
  },
  {
   "cell_type": "code",
   "execution_count": 56,
   "id": "660a605c-bef6-4d92-a0ec-fd86dd6406a5",
   "metadata": {},
   "outputs": [],
   "source": [
    "user_v, item_v = model.get_vectors(dataset)"
   ]
  },
  {
   "cell_type": "markdown",
   "id": "b613d018-f5f1-4cd3-b97e-7fcdb334e1c1",
   "metadata": {},
   "source": [
    "Создаем и сохраняем модель"
   ]
  },
  {
   "cell_type": "code",
   "execution_count": 101,
   "id": "c484a0f5-4583-4369-b440-f5e1a85b2bdb",
   "metadata": {},
   "outputs": [
    {
     "data": {
      "text/plain": [
       "[13535, 7803, 7285, 11854, 12052, 253, 1149, 9202, 14858, 2886]"
      ]
     },
     "execution_count": 101,
     "metadata": {},
     "output_type": "execute_result"
    }
   ],
   "source": [
    "ann = UserToItemAnnRecommender(\n",
    "    user_vectors=user_v, item_vectors=item_v, user_id_map=dataset.user_id_map, item_id_map=dataset.item_id_map\n",
    ")\n",
    "ann.fit()\n",
    "#смотрим результат\n",
    "ann.get_item_list_for_user(973171, 10).tolist()"
   ]
  },
  {
   "cell_type": "markdown",
   "id": "a0431378-f937-4777-939a-840ea5c65851",
   "metadata": {},
   "source": [
    "Сохраняем модель"
   ]
  },
  {
   "cell_type": "code",
   "execution_count": 102,
   "id": "f4db81e8-6c76-4ba6-bdd7-b014d686acd8",
   "metadata": {},
   "outputs": [],
   "source": [
    "with open(ANN_MODEL_PATH, \"wb\") as f:\n",
    "    pickle.dump(ann, f)"
   ]
  },
  {
   "cell_type": "markdown",
   "id": "69bcf0de-69e0-41b8-955f-4e81db19fb16",
   "metadata": {},
   "source": [
    "Некоторый код из класса UserToItemAnnRecommender"
   ]
  },
  {
   "cell_type": "code",
   "execution_count": 105,
   "id": "9930b342-01cc-4e7c-b2be-f31175ab75f4",
   "metadata": {},
   "outputs": [],
   "source": [
    "user_id = 973171"
   ]
  },
  {
   "cell_type": "code",
   "execution_count": 106,
   "id": "53e7354a-6cb8-4191-a9a0-aa2faf75e74c",
   "metadata": {},
   "outputs": [],
   "source": [
    "user_id_ = dataset.user_id_map.convert_to_internal([user_id])\n",
    "user_vectors_ = user_v[user_id_, :]"
   ]
  },
  {
   "cell_type": "markdown",
   "id": "4634e719-83d0-41a8-af1f-2e315650c9c9",
   "metadata": {},
   "source": [
    "Загружаем модель"
   ]
  },
  {
   "cell_type": "code",
   "execution_count": 108,
   "id": "ed4cbb06-0996-453f-9638-bbf65b57158e",
   "metadata": {},
   "outputs": [
    {
     "data": {
      "text/plain": [
       "[13535, 7803, 7285, 11854, 12052, 253, 1149, 9202, 14858, 2886]"
      ]
     },
     "execution_count": 108,
     "metadata": {},
     "output_type": "execute_result"
    }
   ],
   "source": [
    "loaded_model = load(ANN_MODEL_PATH)\n",
    "loaded_model.get_item_list_for_user(973171, 10).tolist()"
   ]
  },
  {
   "cell_type": "code",
   "execution_count": 109,
   "id": "7a1fb80c-6fe9-40d8-a3c4-a002ba88940b",
   "metadata": {},
   "outputs": [
    {
     "data": {
      "text/plain": [
       "[(array([13561, 10999, 15213, 12758, 10462, 14493, 10135, 15325,  9272,\n",
       "         15301], dtype=int32),\n",
       "  array([1.1884196, 1.2066582, 1.2102394, 1.210423 , 1.2112674, 1.2114953,\n",
       "         1.2123799, 1.2130713, 1.2153078, 1.2163595], dtype=float32))]"
      ]
     },
     "execution_count": 109,
     "metadata": {},
     "output_type": "execute_result"
    }
   ],
   "source": [
    "loaded_model.index.knnQueryBatch(user_vectors_, 10)"
   ]
  },
  {
   "cell_type": "code",
   "execution_count": 122,
   "id": "01bfa500-5c7f-4b41-8f02-df19a8ce04ec",
   "metadata": {},
   "outputs": [
    {
     "data": {
      "text/plain": [
       "{'efSearch': 100}"
      ]
     },
     "execution_count": 122,
     "metadata": {},
     "output_type": "execute_result"
    }
   ],
   "source": [
    "loaded_model.index_query_time_params"
   ]
  },
  {
   "cell_type": "code",
   "execution_count": 126,
   "id": "4c72d1cb-d8f1-42dd-ae38-116a74893ff3",
   "metadata": {},
   "outputs": [
    {
     "data": {
      "text/plain": [
       "{'item_vectors': array([[ 1.00000000e+00,  1.81841409e+00,  5.02787411e-01, ...,\n",
       "          5.58219552e-01,  4.37355697e-01,  1.35657072e-01],\n",
       "        [ 1.00000000e+00,  1.27003825e+00,  1.01189710e-01, ...,\n",
       "          6.13796592e-01,  5.99408388e-01,  6.10280037e-01],\n",
       "        [ 1.00000000e+00,  2.43296099e+00,  1.33600235e-01, ...,\n",
       "         -1.60736591e-01, -4.25765634e-01, -7.41632938e-01],\n",
       "        ...,\n",
       "        [ 1.00000000e+00, -1.55643296e+00,  1.62893534e-03, ...,\n",
       "         -1.16912150e+00,  1.30278003e+00, -5.87929547e-01],\n",
       "        [ 1.00000000e+00, -1.64174604e+00, -3.65545213e-01, ...,\n",
       "         -7.93600321e-01,  6.51289225e-01,  6.02822185e-01],\n",
       "        [ 1.00000000e+00, -5.31409979e-01, -1.35122269e-01, ...,\n",
       "         -2.80352145e-01,  1.99857190e-01,  5.62249780e-01]]),\n",
       " 'item_id_map': IdMap(external_ids=array([ 9506,  1659,  7107, ..., 10064, 13019, 10542])),\n",
       " 'index_top_k': 0,\n",
       " 'index_init_params': {'method': 'hnsw', 'space': 'cosinesimil'},\n",
       " 'index_query_time_params': {'efSearch': 100},\n",
       " 'create_index_params': {'M': 100, 'efConstruction': 100, 'post': 0},\n",
       " 'index': b'\\x01\\x00\\x00\\x00\\x00\\x00\\x00\\x00d\\x03\\x00\\x00\\x00\\x00\\x00\\x00@\\x00\\x00\\x00\\x00\\x00\\x00\\x00\\x00\\x00\\x00\\x00\\x00\\x00\\x00\\x00\\x02\\x00\\x00\\x00\\xb8\\x0c\\x00\\x00d\\x00\\x00\\x00\\x00\\x00\\x00\\x00\\xc8\\x00\\x00\\x00\\x00\\x00\\x00\\x00\\x03\\x00\\x00\\x00\\x03\\x00\\x00\\x00\\x00\\x00\\x00\\x00',\n",
       " 'user_vectors': array([[-2.46533051e+02,  1.00000000e+00, -1.73795730e-01, ...,\n",
       "          3.89340699e-01, -1.35511830e-01, -5.25505841e-01],\n",
       "        [-2.46541016e+02,  1.00000000e+00,  1.81570873e-01, ...,\n",
       "          5.55859029e-01, -2.96765447e-01, -2.31717914e-01],\n",
       "        [-2.10905945e+02,  1.00000000e+00, -4.27917957e-01, ...,\n",
       "          4.81058896e-01, -2.52686739e-01, -6.04513824e-01],\n",
       "        ...,\n",
       "        [-2.56431152e+02,  1.00000000e+00, -3.11886817e-01, ...,\n",
       "          4.16758776e-01, -2.78614432e-01, -3.40915442e-01],\n",
       "        [-3.93489212e-01,  1.00000000e+00,  5.23491949e-02, ...,\n",
       "         -9.77018550e-02,  4.75403279e-01, -3.13702196e-01],\n",
       "        [-1.76140686e+02,  1.00000000e+00, -1.66209280e-01, ...,\n",
       "          2.19795316e-01, -2.61041164e-01, -6.17811680e-01]]),\n",
       " 'user_id_map': IdMap(external_ids=array([176549, 699317, 656683, ..., 805174, 648596, 697262]))}"
      ]
     },
     "execution_count": 126,
     "metadata": {},
     "output_type": "execute_result"
    }
   ],
   "source": [
    "loaded_model.__getstate__()"
   ]
  },
  {
   "cell_type": "markdown",
   "id": "b1a3188d-d722-4337-a8ba-0eb5ed67a435",
   "metadata": {},
   "source": [
    "Делаем deepcopy"
   ]
  },
  {
   "cell_type": "code",
   "execution_count": 124,
   "id": "f4d5c123-6323-4d20-bdbd-61673e9166cd",
   "metadata": {},
   "outputs": [
    {
     "data": {
      "text/plain": [
       "[]"
      ]
     },
     "execution_count": 124,
     "metadata": {},
     "output_type": "execute_result"
    }
   ],
   "source": [
    "deepcopy_loaded_model = deepcopy(loaded_model)\n",
    "deepcopy_loaded_model.get_item_list_for_user(973171, 10).tolist()"
   ]
  },
  {
   "cell_type": "code",
   "execution_count": 133,
   "id": "a42de8ab-bb6b-493e-87f7-3d7128eaef21",
   "metadata": {},
   "outputs": [
    {
     "data": {
      "text/plain": [
       "{'item_vectors': array([[ 1.00000000e+00,  1.81841409e+00,  5.02787411e-01, ...,\n",
       "          5.58219552e-01,  4.37355697e-01,  1.35657072e-01],\n",
       "        [ 1.00000000e+00,  1.27003825e+00,  1.01189710e-01, ...,\n",
       "          6.13796592e-01,  5.99408388e-01,  6.10280037e-01],\n",
       "        [ 1.00000000e+00,  2.43296099e+00,  1.33600235e-01, ...,\n",
       "         -1.60736591e-01, -4.25765634e-01, -7.41632938e-01],\n",
       "        ...,\n",
       "        [ 1.00000000e+00, -1.55643296e+00,  1.62893534e-03, ...,\n",
       "         -1.16912150e+00,  1.30278003e+00, -5.87929547e-01],\n",
       "        [ 1.00000000e+00, -1.64174604e+00, -3.65545213e-01, ...,\n",
       "         -7.93600321e-01,  6.51289225e-01,  6.02822185e-01],\n",
       "        [ 1.00000000e+00, -5.31409979e-01, -1.35122269e-01, ...,\n",
       "         -2.80352145e-01,  1.99857190e-01,  5.62249780e-01]]),\n",
       " 'item_id_map': IdMap(external_ids=array([ 9506,  1659,  7107, ..., 10064, 13019, 10542])),\n",
       " 'index_top_k': 0,\n",
       " 'index_init_params': {'method': 'hnsw', 'space': 'cosinesimil'},\n",
       " 'index_query_time_params': {'efSearch': 100},\n",
       " 'create_index_params': {'M': 100, 'efConstruction': 100, 'post': 0},\n",
       " 'index': b'\\x01\\x00\\x00\\x00\\x00\\x00\\x00\\x00d\\x03\\x00\\x00\\x00\\x00\\x00\\x00@\\x00\\x00\\x00\\x00\\x00\\x00\\x00\\x00\\x00\\x00\\x00\\x00\\x00\\x00\\x00\\x02\\x00\\x00\\x00\\xb8\\x0c\\x00\\x00d\\x00\\x00\\x00\\x00\\x00\\x00\\x00\\xc8\\x00\\x00\\x00\\x00\\x00\\x00\\x00\\x03\\x00\\x00\\x00\\x03\\x00\\x00\\x00\\x00\\x00\\x00\\x00',\n",
       " 'user_vectors': array([[-2.46533051e+02,  1.00000000e+00, -1.73795730e-01, ...,\n",
       "          3.89340699e-01, -1.35511830e-01, -5.25505841e-01],\n",
       "        [-2.46541016e+02,  1.00000000e+00,  1.81570873e-01, ...,\n",
       "          5.55859029e-01, -2.96765447e-01, -2.31717914e-01],\n",
       "        [-2.10905945e+02,  1.00000000e+00, -4.27917957e-01, ...,\n",
       "          4.81058896e-01, -2.52686739e-01, -6.04513824e-01],\n",
       "        ...,\n",
       "        [-2.56431152e+02,  1.00000000e+00, -3.11886817e-01, ...,\n",
       "          4.16758776e-01, -2.78614432e-01, -3.40915442e-01],\n",
       "        [-3.93489212e-01,  1.00000000e+00,  5.23491949e-02, ...,\n",
       "         -9.77018550e-02,  4.75403279e-01, -3.13702196e-01],\n",
       "        [-1.76140686e+02,  1.00000000e+00, -1.66209280e-01, ...,\n",
       "          2.19795316e-01, -2.61041164e-01, -6.17811680e-01]]),\n",
       " 'user_id_map': IdMap(external_ids=array([176549, 699317, 656683, ..., 805174, 648596, 697262]))}"
      ]
     },
     "execution_count": 133,
     "metadata": {},
     "output_type": "execute_result"
    }
   ],
   "source": [
    "deepcopy_loaded_model.__getstate__()"
   ]
  },
  {
   "cell_type": "markdown",
   "id": "c213c090-7d66-431e-81ba-febd0d5df270",
   "metadata": {},
   "source": [
    "По какой-то причине не сохранился граф вычислений. Если все обучить заново, будет все ок."
   ]
  },
  {
   "cell_type": "code",
   "execution_count": 118,
   "id": "684e9dee-6c58-4313-b8d4-b103c7914d85",
   "metadata": {},
   "outputs": [
    {
     "data": {
      "text/plain": [
       "<rectools.tools.ann.UserToItemAnnRecommender at 0x7effd48782e0>"
      ]
     },
     "execution_count": 118,
     "metadata": {},
     "output_type": "execute_result"
    }
   ],
   "source": [
    "#fit не сохраняет состояние обучения\n",
    "deepcopy_loaded_model.fit()"
   ]
  },
  {
   "cell_type": "code",
   "execution_count": 120,
   "id": "8a0271af-43e5-4874-ad85-282ab08223f3",
   "metadata": {},
   "outputs": [
    {
     "data": {
      "text/plain": [
       "[(array([ 7113,  3936,  3176, 10099,  7059,  7324,  8651,  8370,  5926,\n",
       "         10031], dtype=int32),\n",
       "  array([1.2055503, 1.2059932, 1.2075199, 1.2093303, 1.2097838, 1.2102057,\n",
       "         1.2106539, 1.210767 , 1.2109034, 1.2111441], dtype=float32))]"
      ]
     },
     "execution_count": 120,
     "metadata": {},
     "output_type": "execute_result"
    }
   ],
   "source": [
    "#результат разный, потому что пробелмы с random seed\n",
    "deepcopy_loaded_model.index.knnQueryBatch(user_vectors_, 10)"
   ]
  },
  {
   "cell_type": "code",
   "execution_count": 123,
   "id": "bbf96024-b70e-455d-b447-17ad48fece1f",
   "metadata": {},
   "outputs": [
    {
     "data": {
      "text/plain": [
       "{'efSearch': 100}"
      ]
     },
     "execution_count": 123,
     "metadata": {},
     "output_type": "execute_result"
    }
   ],
   "source": [
    "deepcopy_loaded_model.index_query_time_params"
   ]
  },
  {
   "cell_type": "markdown",
   "id": "ffbbc027-784d-4a84-a030-fd72e915712a",
   "metadata": {},
   "source": [
    "По итогу получилось только локализовать проблему - не сохраняется внутренее состояние графа"
   ]
  },
  {
   "cell_type": "code",
   "execution_count": null,
   "id": "d0aed085-d581-49ee-aba6-3c5d605c8b73",
   "metadata": {},
   "outputs": [],
   "source": []
  }
 ],
 "metadata": {
  "kernelspec": {
   "display_name": "Python 3 (ipykernel)",
   "language": "python",
   "name": "python3"
  },
  "language_info": {
   "codemirror_mode": {
    "name": "ipython",
    "version": 3
   },
   "file_extension": ".py",
   "mimetype": "text/x-python",
   "name": "python",
   "nbconvert_exporter": "python",
   "pygments_lexer": "ipython3",
   "version": "3.10.12"
  }
 },
 "nbformat": 4,
 "nbformat_minor": 5
}
