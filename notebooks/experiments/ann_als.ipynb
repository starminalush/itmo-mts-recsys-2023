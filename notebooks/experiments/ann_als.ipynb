{
 "cells": [
  {
   "cell_type": "code",
   "execution_count": 1,
   "id": "cfcaed86-7054-45fa-9df8-0fc0ac818267",
   "metadata": {
    "id": "cfcaed86-7054-45fa-9df8-0fc0ac818267"
   },
   "outputs": [],
   "source": [
    "import sys\n",
    "\n",
    "sys.path.append(\"../../service/models/\")\n",
    "sys.path.append(\"../../service/utils/\")"
   ]
  },
  {
   "cell_type": "code",
   "execution_count": 54,
   "id": "f6e54650-33e0-4b26-a115-7c1c2e687385",
   "metadata": {},
   "outputs": [],
   "source": [
    "import warnings\n",
    "\n",
    "warnings.filterwarnings(\"ignore\")"
   ]
  },
  {
   "cell_type": "code",
   "execution_count": 55,
   "id": "78eded29-d4c7-401a-93b5-38bce85cf6e7",
   "metadata": {},
   "outputs": [
    {
     "data": {
      "text/plain": [
       "True"
      ]
     },
     "execution_count": 55,
     "metadata": {},
     "output_type": "execute_result"
    }
   ],
   "source": [
    "import cupy\n",
    "\n",
    "cupy.is_available()"
   ]
  },
  {
   "cell_type": "code",
   "execution_count": 56,
   "id": "c3831ea5-5c8c-468c-97dd-cc0a115b9e55",
   "metadata": {
    "id": "c3831ea5-5c8c-468c-97dd-cc0a115b9e55"
   },
   "outputs": [],
   "source": [
    "import os\n",
    "import pickle\n",
    "import random\n",
    "import time\n",
    "import zipfile as zf\n",
    "from copy import deepcopy\n",
    "from functools import partial\n",
    "from typing import Any, Dict, Sequence\n",
    "\n",
    "import implicit\n",
    "import ngtpy\n",
    "import numpy as np\n",
    "import optuna\n",
    "import pandas as pd\n",
    "import requests\n",
    "from implicit.gpu.als import AlternatingLeastSquares\n",
    "from lightfm import LightFM\n",
    "from ngt_recommender import UserToItemNGTRecommender\n",
    "from optuna.samplers import TPESampler\n",
    "from rectools import Columns\n",
    "from rectools.dataset import Dataset\n",
    "from rectools.metrics import MAP, calc_metrics\n",
    "from rectools.metrics.base import MetricAtK\n",
    "from rectools.models import ImplicitALSWrapperModel, LightFMWrapperModel\n",
    "from rectools.tools import UserToItemAnnRecommender\n",
    "from tqdm import tqdm\n",
    "from unpickler import load"
   ]
  },
  {
   "cell_type": "code",
   "execution_count": 57,
   "id": "32934aa9-6d33-41df-94de-2c0031a190d3",
   "metadata": {
    "id": "32934aa9-6d33-41df-94de-2c0031a190d3"
   },
   "outputs": [],
   "source": [
    "os.environ[\"OPENBLAS_NUM_THREADS\"] = \"1\"  # For implicit ALS"
   ]
  },
  {
   "cell_type": "code",
   "execution_count": 58,
   "id": "487a1265-f383-4b8b-9eae-ed46a34a37b6",
   "metadata": {
    "id": "487a1265-f383-4b8b-9eae-ed46a34a37b6"
   },
   "outputs": [],
   "source": [
    "RANDOM_STATE = 42\n",
    "random.seed(RANDOM_STATE)\n",
    "os.environ[\"PYTHONHASHSEED\"] = str(RANDOM_STATE)\n",
    "np.random.seed(RANDOM_STATE)"
   ]
  },
  {
   "cell_type": "code",
   "execution_count": 59,
   "id": "f75f1e6e-1dcb-437b-9a9b-95185da3c29f",
   "metadata": {
    "id": "f75f1e6e-1dcb-437b-9a9b-95185da3c29f"
   },
   "outputs": [],
   "source": [
    "LIGHTFM_MODEL_PATH = \"lightfm.pkl\"\n",
    "ALS_MODEL_PATH = \"als.pkl\"\n",
    "ANN_MODEL_PATH = \"ann.pkl\"\n",
    "K_RECOS = 10\n",
    "N_EPOCHS = 1  # Lightfm"
   ]
  },
  {
   "cell_type": "markdown",
   "id": "beb78b58-4810-49c6-a7fe-71af1d5cde49",
   "metadata": {
    "id": "beb78b58-4810-49c6-a7fe-71af1d5cde49"
   },
   "source": [
    "## Инициализация датасета"
   ]
  },
  {
   "cell_type": "code",
   "execution_count": 60,
   "id": "cf0b52f2-3dc1-4a28-90ae-39e56f331801",
   "metadata": {
    "id": "cf0b52f2-3dc1-4a28-90ae-39e56f331801"
   },
   "outputs": [],
   "source": [
    "url = \"https://github.com/irsafilo/KION_DATASET/raw/f69775be31fa5779907cf0a92ddedb70037fb5ae/data_original.zip\""
   ]
  },
  {
   "cell_type": "code",
   "execution_count": 8,
   "id": "d26dedd0-8047-4c30-b5be-096d29fbf4e7",
   "metadata": {
    "colab": {
     "base_uri": "https://localhost:8080/"
    },
    "id": "d26dedd0-8047-4c30-b5be-096d29fbf4e7",
    "outputId": "04f325b6-8401-4a45-d40f-0f28c82061e2"
   },
   "outputs": [
    {
     "name": "stderr",
     "output_type": "stream",
     "text": [
      "kion dataset download:  61%|██████    | 48.2M/78.8M [00:00<00:00, 120MiB/s] "
     ]
    }
   ],
   "source": [
    "req = requests.get(url, stream=True)\n",
    "\n",
    "with open(\"kion.zip\", \"wb\") as fd:\n",
    "    total_size_in_bytes = int(req.headers.get(\"Content-Length\", 0))\n",
    "    progress_bar = tqdm(desc=\"kion dataset download\", total=total_size_in_bytes, unit=\"iB\", unit_scale=True)\n",
    "    for chunk in req.iter_content(chunk_size=2**20):\n",
    "        progress_bar.update(len(chunk))\n",
    "        fd.write(chunk)"
   ]
  },
  {
   "cell_type": "code",
   "execution_count": 9,
   "id": "0c6667b0-eda0-444e-9beb-a2cebf8cb653",
   "metadata": {
    "id": "0c6667b0-eda0-444e-9beb-a2cebf8cb653"
   },
   "outputs": [],
   "source": [
    "files = zf.ZipFile(\"kion.zip\", \"r\")\n",
    "files.extractall()\n",
    "files.close()"
   ]
  },
  {
   "cell_type": "code",
   "execution_count": 61,
   "id": "b35c123d-dbea-4fb1-8e71-3e84a825532b",
   "metadata": {
    "id": "b35c123d-dbea-4fb1-8e71-3e84a825532b"
   },
   "outputs": [],
   "source": [
    "interactions_df = pd.read_csv(\"data_original/interactions.csv\")"
   ]
  },
  {
   "cell_type": "code",
   "execution_count": 62,
   "id": "b0f8ab6d-6591-4864-a48d-06f2c02088b5",
   "metadata": {
    "id": "b0f8ab6d-6591-4864-a48d-06f2c02088b5"
   },
   "outputs": [],
   "source": [
    "users = pd.read_csv(\"data_original/users.csv\")\n",
    "items = pd.read_csv(\"data_original/items.csv\")"
   ]
  },
  {
   "cell_type": "markdown",
   "id": "9f5a5548-a5e1-426a-abf7-6df5712b99e8",
   "metadata": {
    "id": "9f5a5548-a5e1-426a-abf7-6df5712b99e8"
   },
   "source": [
    "В семинаре по теме было EDA и были графики с выбросами. Берем препроцессинг данных из лекции"
   ]
  },
  {
   "cell_type": "code",
   "execution_count": 63,
   "id": "6d393164-b0d3-4b8c-aeeb-a2ea7f54d6ac",
   "metadata": {
    "id": "6d393164-b0d3-4b8c-aeeb-a2ea7f54d6ac"
   },
   "outputs": [],
   "source": [
    "Columns.Datetime = \"last_watch_dt\"\n",
    "interactions_df.drop(interactions_df[interactions_df[Columns.Datetime].str.len() != 10].index, inplace=True)\n",
    "interactions_df[Columns.Datetime] = pd.to_datetime(interactions_df[Columns.Datetime], format=\"%Y-%m-%d\")\n",
    "max_date = interactions_df[Columns.Datetime].max()\n",
    "interactions_df[Columns.Weight] = np.where(interactions_df[\"watched_pct\"] > 10, 3, 1)"
   ]
  },
  {
   "cell_type": "code",
   "execution_count": 64,
   "id": "0bf42c8c-dbbf-42e6-89e4-771675084b53",
   "metadata": {
    "colab": {
     "base_uri": "https://localhost:8080/"
    },
    "id": "0bf42c8c-dbbf-42e6-89e4-771675084b53",
    "outputId": "48aca420-9d9e-41e4-9198-98cdc80ffff1"
   },
   "outputs": [
    {
     "name": "stdout",
     "output_type": "stream",
     "text": [
      "train: (4985269, 6)\n",
      "test: (490982, 6)\n"
     ]
    }
   ],
   "source": [
    "max_date = interactions_df[Columns.Datetime].max()\n",
    "train = interactions_df[interactions_df[Columns.Datetime] < max_date - pd.Timedelta(days=7)].copy()\n",
    "test = interactions_df[interactions_df[Columns.Datetime] >= max_date - pd.Timedelta(days=7)].copy()\n",
    "\n",
    "print(f\"train: {train.shape}\")\n",
    "print(f\"test: {test.shape}\")"
   ]
  },
  {
   "cell_type": "code",
   "execution_count": 65,
   "id": "7b380326-9a7a-4005-af51-7cbd7b1ac7ed",
   "metadata": {
    "id": "7b380326-9a7a-4005-af51-7cbd7b1ac7ed"
   },
   "outputs": [],
   "source": [
    "train.drop(train.query(\"total_dur < 300\").index, inplace=True)"
   ]
  },
  {
   "cell_type": "code",
   "execution_count": 66,
   "id": "07aea4ee-4d3f-4bfe-8f4d-adf3c10df7d2",
   "metadata": {
    "id": "07aea4ee-4d3f-4bfe-8f4d-adf3c10df7d2"
   },
   "outputs": [],
   "source": [
    "cold_users = set(test[Columns.User]) - set(train[Columns.User])\n",
    "test.drop(test[test[Columns.User].isin(cold_users)].index, inplace=True)"
   ]
  },
  {
   "cell_type": "markdown",
   "id": "e964646e-db1e-45d4-ad1c-8201bdb8d30a",
   "metadata": {
    "id": "e964646e-db1e-45d4-ad1c-8201bdb8d30a"
   },
   "source": [
    "В том же семинаре был раздел про юзера и айтема фичи. Напишем функции, которые будут доставать фичи из датасета для пользователя и айтема"
   ]
  },
  {
   "cell_type": "code",
   "execution_count": 67,
   "id": "7995c89f-dab8-4e7b-bea8-7693071658d1",
   "metadata": {
    "id": "7995c89f-dab8-4e7b-bea8-7693071658d1"
   },
   "outputs": [],
   "source": [
    "def get_users_features(users: pd.DataFrame, interactions: pd.DataFrame, features: Sequence[str]) -> pd.DataFrame:\n",
    "    users.fillna(\"Unknown\", inplace=True)\n",
    "    users = users.loc[users[Columns.User].isin(interactions[Columns.User])].copy()\n",
    "    user_features_frames = []\n",
    "    for feature in features:\n",
    "        feature_frame = users.reindex(columns=[Columns.User, feature])\n",
    "        feature_frame.columns = [\"id\", \"value\"]\n",
    "        feature_frame[\"feature\"] = feature\n",
    "        user_features_frames.append(feature_frame)\n",
    "    user_features = pd.concat(user_features_frames)\n",
    "    return user_features"
   ]
  },
  {
   "cell_type": "code",
   "execution_count": 68,
   "id": "7b4ec778-23ba-4198-9113-bb5292604c74",
   "metadata": {
    "id": "7b4ec778-23ba-4198-9113-bb5292604c74"
   },
   "outputs": [],
   "source": [
    "features = [\"sex\", \"age\", \"income\"]\n",
    "user_features = get_users_features(users=users, interactions=train, features=features)"
   ]
  },
  {
   "cell_type": "code",
   "execution_count": 69,
   "id": "ece251dd-28bc-48dc-a8ab-f8bdd5a70119",
   "metadata": {
    "id": "ece251dd-28bc-48dc-a8ab-f8bdd5a70119"
   },
   "outputs": [],
   "source": [
    "def get_items_features(items: pd.DataFrame, interactions: pd.DataFrame, features: Sequence[str]) -> pd.DataFrame:\n",
    "    items = items.loc[items[Columns.Item].isin(interactions[Columns.Item])].copy()\n",
    "    items[\"genre\"] = items[\"genres\"].str.lower().str.replace(\", \", \",\", regex=False).str.split(\",\")\n",
    "    item_features_frames = []\n",
    "    for feature in features:\n",
    "        feature_frame = items[[\"item_id\", feature]].explode(feature)\n",
    "        feature_frame.columns = [\"id\", \"value\"]\n",
    "        feature_frame[\"feature\"] = feature\n",
    "        content_feature = items.reindex(columns=[Columns.Item, \"content_type\"])\n",
    "        content_feature.columns = [\"id\", \"value\"]\n",
    "        content_feature[\"feature\"] = \"content_type\"\n",
    "        item_features_frames.append(pd.concat((feature_frame, content_feature)))\n",
    "    item_features = pd.concat(item_features_frames)\n",
    "    return item_features"
   ]
  },
  {
   "cell_type": "code",
   "execution_count": 70,
   "id": "98f397f0-85b5-46c5-ae7b-a9fdf40d6751",
   "metadata": {
    "id": "98f397f0-85b5-46c5-ae7b-a9fdf40d6751"
   },
   "outputs": [],
   "source": [
    "features = [\"genre\"]\n",
    "item_features = get_items_features(items=items, interactions=train, features=features)"
   ]
  },
  {
   "cell_type": "markdown",
   "id": "ce84c56e-deca-4ff2-813b-ec9a576d8cc5",
   "metadata": {
    "id": "ce84c56e-deca-4ff2-813b-ec9a576d8cc5"
   },
   "source": [
    "## Эксперименты"
   ]
  },
  {
   "cell_type": "markdown",
   "id": "2cd514ed-e1db-4eec-a2d2-5991141c5585",
   "metadata": {
    "id": "2cd514ed-e1db-4eec-a2d2-5991141c5585"
   },
   "source": [
    "* Реализовать тюнинг гиперпараметров для моделей из implicit, lightfm или rectools"
   ]
  },
  {
   "cell_type": "markdown",
   "id": "47f3560f-4b20-498f-a3b3-8db29b98b9f4",
   "metadata": {
    "id": "47f3560f-4b20-498f-a3b3-8db29b98b9f4"
   },
   "source": [
    "Подготовим датасет, инициализируем метрики"
   ]
  },
  {
   "cell_type": "code",
   "execution_count": 82,
   "id": "300c6b7d-571e-4dd0-8389-6c176a5cff50",
   "metadata": {
    "id": "300c6b7d-571e-4dd0-8389-6c176a5cff50"
   },
   "outputs": [],
   "source": [
    "dataset = Dataset.construct(\n",
    "    interactions_df=train,\n",
    "    user_features_df=user_features,\n",
    "    cat_user_features=[\"sex\", \"age\", \"income\"],\n",
    "    item_features_df=item_features,\n",
    "    cat_item_features=[\"genre\", \"content_type\"],\n",
    ")"
   ]
  },
  {
   "cell_type": "code",
   "execution_count": 83,
   "id": "9fba5c7a-9aaa-4325-bc9e-a708095f403b",
   "metadata": {
    "id": "9fba5c7a-9aaa-4325-bc9e-a708095f403b"
   },
   "outputs": [],
   "source": [
    "TEST_USERS = test[Columns.User].unique()"
   ]
  },
  {
   "cell_type": "code",
   "execution_count": 84,
   "id": "99402d9a-27b2-4895-ab3e-6150b3423ed2",
   "metadata": {
    "id": "99402d9a-27b2-4895-ab3e-6150b3423ed2"
   },
   "outputs": [],
   "source": [
    "metrics: Dict[str, MetricAtK] = {\"top@10_map\": MAP(k=10)}"
   ]
  },
  {
   "cell_type": "markdown",
   "id": "a6d2b86b-48f0-4e38-a39f-4a59ec75e056",
   "metadata": {
    "id": "a6d2b86b-48f0-4e38-a39f-4a59ec75e056"
   },
   "source": [
    "Для подбора гиперпараметров будем использовать optuna"
   ]
  },
  {
   "cell_type": "code",
   "execution_count": 74,
   "id": "a5a89789-e816-4213-a4f7-fcbc0d72b360",
   "metadata": {
    "id": "a5a89789-e816-4213-a4f7-fcbc0d72b360"
   },
   "outputs": [],
   "source": [
    "def train_model(\n",
    "    metrics: Dict[str, MetricAtK], model: Any, dataset: Dataset, train: pd.DataFrame, test: pd.DataFrame\n",
    ") -> float:\n",
    "    model.fit(dataset)\n",
    "    recos = model.recommend(users=TEST_USERS, dataset=dataset, k=K_RECOS, filter_viewed=True)\n",
    "    metrics_result = calc_metrics(metrics, recos, test, train)\n",
    "    return metrics_result[\"top@10_map\"]"
   ]
  },
  {
   "cell_type": "code",
   "execution_count": 75,
   "id": "c674e83f-507d-4955-a343-7d5f57a18a5d",
   "metadata": {
    "id": "c674e83f-507d-4955-a343-7d5f57a18a5d"
   },
   "outputs": [],
   "source": [
    "def objective_als(trial, dataset: Dataset, train: pd.DataFrame, test: pd.DataFrame, metrics: dict[str, MetricAtK]):\n",
    "    n_factors = trial.suggest_categorical(\"n_factors\", [8, 16, 24])\n",
    "    is_fit_features_together = trial.suggest_categorical(\"is_fit_features_together\", [True, False])\n",
    "    regularization = trial.suggest_float(\"regularization\", 0.01, 0.05)\n",
    "    iterations = trial.suggest_int(\"iterations\", 10, 20)\n",
    "\n",
    "    model = ImplicitALSWrapperModel(\n",
    "        AlternatingLeastSquares(\n",
    "            factors=n_factors, regularization=regularization, iterations=iterations, random_state=RANDOM_STATE\n",
    "        ),\n",
    "        fit_features_together=is_fit_features_together,\n",
    "    )\n",
    "\n",
    "    metric = train_model(metrics=deepcopy(metrics), model=deepcopy(model), dataset=dataset, train=train, test=test)\n",
    "    return metric"
   ]
  },
  {
   "cell_type": "code",
   "execution_count": 76,
   "id": "2212cf17-8181-4b12-8b35-5d0b38eaf648",
   "metadata": {
    "colab": {
     "base_uri": "https://localhost:8080/",
     "height": 605,
     "referenced_widgets": [
      "ffa878e59e04416395ddad842a4dff38",
      "210e7b43dae34838a0e449099003661e",
      "3d9fdb43984645a5ac95acc93d2e5019",
      "a6d344766e724cc2adde44ed156a99e3",
      "adbc32fb72524b8891a5e759f64eeffa",
      "e5162a30d2d54246be838b2b73ea528d",
      "489bbe3607b740e2b5c663a5983a07fb",
      "e0803b66b67e477292174af01ab22398",
      "f3fe42a3ee254e36aab3c502f3b72bbc",
      "9ebe6bbe889b4f9e9fd58a7553b08d45",
      "df1b5353c28f478fb7bfee20bdd2983e",
      "059464415b5c4e80b385c78b85b78e0e",
      "4ae1451550524c24b1d2f574735f54c5",
      "65766ae30dfe43158861d614bdde793a",
      "980917a641d04b3bb19280d166413b61",
      "8a2d02bc1706449c895de0ae4e85da1c",
      "3d5421e579e6451a864b92031b35518b",
      "10abc933db9645a4af81f7578985ffd6",
      "a1981e8c12e34151a7ae1d3f2d1ff6ee",
      "09a8bf9fcf6546f5b5a18f32e3e0e32c",
      "912eb391efa64faa9f82939ca9dfe713",
      "172dba28011045ffad6d332af5fa5fa7",
      "b702d0027ef74b1ab149e090e5fcb14d",
      "5470802862ee4b17b3a7f67171191241",
      "815e58cbd97f4c88b41cc12521b933d1",
      "839cfead3c694ac3877284f97e9f8f26",
      "de786e5ca95b44ff812ac51383a87842",
      "7b5dd42ad85149d49c564407b6c559ba",
      "22008bca75ea4f4fa2215cf35ca3e937",
      "547bb23041604217b7bd4e8e1558cab9",
      "3ee0f34d2ed942cd84361fe9489622ec",
      "766aa67bd4d64a1d819e7aeed0fc78bc",
      "29e07d7449c54003886c1a76a7a825b7",
      "01bc06acb295402e90a3aadd234d961a",
      "357fa023d92e4c12981706208237c1d3",
      "39ddc42c81e24884a84650d4c1ca8e0b",
      "6e2be42af44a4ee29a4b9e338cff8bce",
      "614e4f051eb345c5a6a6c7814a92bf27",
      "a330531b139143ca80e0e574d79667a4",
      "37a83827c5ed4acca55010d49a0945e5",
      "f6f421833284422eb341bde7a23aa084",
      "2079462d1f5843d693f8d802e885a941",
      "ec436c6536d94e868980223f75b55ee7",
      "5cb79d4e8860464799a5e76d977c9220",
      "88d417193eab4c4c873d98171c16a4c2",
      "c42095908ff341c8af69500273a3c223",
      "98fefecf8aaf417cad46639dbf446fa8",
      "22c35d47e7ca4e769766cd243f7f1954",
      "99ebf7e51f4249aebf90710c25591a43",
      "3cad34d74f2c469e8ba9ccf085bd7651",
      "27bce7ed790245e194450f29a2734ce6",
      "bf721946745f421a9f85c0c6c5ccffef",
      "3489efddb44f40f09e12fc7530466990",
      "da2e434757e6440b8f5ac0739ea88a29",
      "058f609463a84e9aab75efd2df77f167",
      "d448124782b54432b9b7274e3bf78c01",
      "b7d8843fe8c04435848f0bf958e2b411",
      "adce4de9637948ad8710274719f35bd4",
      "1639be6dfaff4b799594484d9f4a440a",
      "bacf2cbcc23046abbe974e0f8c5c0979",
      "e18ce856d88442f8a8a1de7b34ef9ea8",
      "21ab079875fd483cabbd4d2501e019ce",
      "d89269d16f474717b595e3551803946b",
      "146e118caa974a26a260e0f8baba3b6a",
      "33242851222940dfa290a1f9494027ae",
      "714097c87a7141f1be256ec879f065e8",
      "7807adb515a14de99895c3dff3a28146",
      "31f73ed446324cac8e9e19325cb101c5",
      "3af734b8d5a543fb9a0eebef8cb0f5f5",
      "7341e1ccbaa842f69e0f34c68eb24654",
      "5827a5ca9dbf41808995d4b25eb4a111",
      "6dba086cb4ae431c907ffebfe7efa588",
      "fc537438348a48ba95888953f3cbde8f",
      "180ea131d0394a1d9cbdd0f360ff7609",
      "ce04a1959f5c4ca99ed94b2107b9eb86",
      "feb2c63c6013485fa746460b91afc9cd",
      "ade5f54fa00e400a8864ba05f4b63ce6",
      "c5cc621184044acba3317a926b979502",
      "3759593097ff4ecdb6a86c56b8027281",
      "38abb82854fe4748a6fb2c6fc50bd7ef",
      "a0b4ce5c988041d0a035308366fc50cf",
      "1d2af328d1144a889a787004571e1e63",
      "c360dcd97637430ca3c73ff95757ddf9",
      "9f3cafa11cc149a6988ce74ad3bd743c",
      "a1373d274b7b41abbf433d78624bf7cd",
      "4064f69403f24549afd1958a83b30765",
      "4b81faa47eb04ccb9dbc33ec2fb98d23",
      "d3585db99d234f70a70dbe2c2c596ceb"
     ]
    },
    "id": "2212cf17-8181-4b12-8b35-5d0b38eaf648",
    "outputId": "b8e55c2c-236a-4ed7-a96b-6cc0c9e9467a"
   },
   "outputs": [
    {
     "name": "stderr",
     "output_type": "stream",
     "text": [
      "[I 2023-12-10 13:24:55,020] A new study created in memory with name: als\n",
      "[I 2023-12-10 13:25:48,068] Trial 0 finished with value: 0.06754806792357114 and parameters: {'n_factors': 16, 'is_fit_features_together': True, 'regularization': 0.016239780813448106, 'iterations': 10}. Best is trial 0 with value: 0.06754806792357114.\n"
     ]
    },
    {
     "data": {
      "application/vnd.jupyter.widget-view+json": {
       "model_id": "e0a2e359590a42918cd62d592eb520f6",
       "version_major": 2,
       "version_minor": 0
      },
      "text/plain": [
       "  0%|          | 0/1 [00:00<?, ?it/s]"
      ]
     },
     "metadata": {},
     "output_type": "display_data"
    },
    {
     "data": {
      "application/vnd.jupyter.widget-view+json": {
       "model_id": "13cdaa52626d467baacb4d68641f58c3",
       "version_major": 2,
       "version_minor": 0
      },
      "text/plain": [
       "  0%|          | 0/1 [00:00<?, ?it/s]"
      ]
     },
     "metadata": {},
     "output_type": "display_data"
    },
    {
     "name": "stderr",
     "output_type": "stream",
     "text": [
      "[I 2023-12-10 13:26:28,982] Trial 1 finished with value: 0.06897613643803299 and parameters: {'n_factors': 8, 'is_fit_features_together': False, 'regularization': 0.043297705632016875, 'iterations': 12}. Best is trial 1 with value: 0.06897613643803299.\n",
      "[I 2023-12-10 13:27:36,689] Trial 2 finished with value: 0.07426023870452046 and parameters: {'n_factors': 24, 'is_fit_features_together': True, 'regularization': 0.021649165607921676, 'iterations': 16}. Best is trial 2 with value: 0.07426023870452046.\n"
     ]
    },
    {
     "data": {
      "application/vnd.jupyter.widget-view+json": {
       "model_id": "f8abcb977c9246cebac9ba743702dedc",
       "version_major": 2,
       "version_minor": 0
      },
      "text/plain": [
       "  0%|          | 0/1 [00:00<?, ?it/s]"
      ]
     },
     "metadata": {},
     "output_type": "display_data"
    },
    {
     "data": {
      "application/vnd.jupyter.widget-view+json": {
       "model_id": "84483d7667ac45789c5a9f7df099671f",
       "version_major": 2,
       "version_minor": 0
      },
      "text/plain": [
       "  0%|          | 0/1 [00:00<?, ?it/s]"
      ]
     },
     "metadata": {},
     "output_type": "display_data"
    },
    {
     "name": "stderr",
     "output_type": "stream",
     "text": [
      "[I 2023-12-10 13:28:20,408] Trial 3 finished with value: 0.06338409478998744 and parameters: {'n_factors': 24, 'is_fit_features_together': False, 'regularization': 0.017986951286334388, 'iterations': 15}. Best is trial 2 with value: 0.07426023870452046.\n",
      "[I 2023-12-10 13:29:37,457] Trial 4 finished with value: 0.06729626498848423 and parameters: {'n_factors': 24, 'is_fit_features_together': True, 'regularization': 0.047955421490133335, 'iterations': 20}. Best is trial 2 with value: 0.07426023870452046.\n",
      "[I 2023-12-10 13:30:37,111] Trial 5 finished with value: 0.07396872454521762 and parameters: {'n_factors': 8, 'is_fit_features_together': True, 'regularization': 0.014881529393791153, 'iterations': 15}. Best is trial 2 with value: 0.07426023870452046.\n",
      "[I 2023-12-10 13:31:42,851] Trial 6 finished with value: 0.07172145298385821 and parameters: {'n_factors': 16, 'is_fit_features_together': True, 'regularization': 0.030802720847112434, 'iterations': 16}. Best is trial 2 with value: 0.07426023870452046.\n",
      "[I 2023-12-10 13:32:57,440] Trial 7 finished with value: 0.06658725106546008 and parameters: {'n_factors': 16, 'is_fit_features_together': True, 'regularization': 0.03391599915244341, 'iterations': 20}. Best is trial 2 with value: 0.07426023870452046.\n"
     ]
    },
    {
     "data": {
      "application/vnd.jupyter.widget-view+json": {
       "model_id": "ca709054917a4632bcd007187672b733",
       "version_major": 2,
       "version_minor": 0
      },
      "text/plain": [
       "  0%|          | 0/1 [00:00<?, ?it/s]"
      ]
     },
     "metadata": {},
     "output_type": "display_data"
    },
    {
     "data": {
      "application/vnd.jupyter.widget-view+json": {
       "model_id": "4fbb35588a674a0186133f1ff197bdee",
       "version_major": 2,
       "version_minor": 0
      },
      "text/plain": [
       "  0%|          | 0/1 [00:00<?, ?it/s]"
      ]
     },
     "metadata": {},
     "output_type": "display_data"
    },
    {
     "name": "stderr",
     "output_type": "stream",
     "text": [
      "[I 2023-12-10 13:33:42,774] Trial 8 finished with value: 0.06269827513375514 and parameters: {'n_factors': 16, 'is_fit_features_together': False, 'regularization': 0.02085396127095584, 'iterations': 19}. Best is trial 2 with value: 0.07426023870452046.\n"
     ]
    },
    {
     "data": {
      "application/vnd.jupyter.widget-view+json": {
       "model_id": "ac7602425053452dbf4343cf8a9de9a9",
       "version_major": 2,
       "version_minor": 0
      },
      "text/plain": [
       "  0%|          | 0/1 [00:00<?, ?it/s]"
      ]
     },
     "metadata": {},
     "output_type": "display_data"
    },
    {
     "data": {
      "application/vnd.jupyter.widget-view+json": {
       "model_id": "3205f7d30bd34447be61b5b88ccb078f",
       "version_major": 2,
       "version_minor": 0
      },
      "text/plain": [
       "  0%|          | 0/1 [00:00<?, ?it/s]"
      ]
     },
     "metadata": {},
     "output_type": "display_data"
    },
    {
     "name": "stderr",
     "output_type": "stream",
     "text": [
      "[I 2023-12-10 13:34:29,142] Trial 9 finished with value: 0.06341894245400542 and parameters: {'n_factors': 24, 'is_fit_features_together': False, 'regularization': 0.012982025747190833, 'iterations': 20}. Best is trial 2 with value: 0.07426023870452046.\n",
      "[I 2023-12-10 13:35:39,200] Trial 10 finished with value: 0.07389551172724378 and parameters: {'n_factors': 24, 'is_fit_features_together': True, 'regularization': 0.024749150908843894, 'iterations': 17}. Best is trial 2 with value: 0.07426023870452046.\n",
      "[I 2023-12-10 13:36:36,890] Trial 11 finished with value: 0.07197575445837431 and parameters: {'n_factors': 8, 'is_fit_features_together': True, 'regularization': 0.01062379198633824, 'iterations': 14}. Best is trial 2 with value: 0.07426023870452046.\n",
      "[I 2023-12-10 13:37:33,041] Trial 12 finished with value: 0.07376788785496687 and parameters: {'n_factors': 8, 'is_fit_features_together': True, 'regularization': 0.022710966805040204, 'iterations': 13}. Best is trial 2 with value: 0.07426023870452046.\n",
      "[I 2023-12-10 13:38:36,416] Trial 13 finished with value: 0.07222832173448958 and parameters: {'n_factors': 8, 'is_fit_features_together': True, 'regularization': 0.010983103330359933, 'iterations': 17}. Best is trial 2 with value: 0.07426023870452046.\n",
      "[I 2023-12-10 13:39:51,725] Trial 14 finished with value: 0.07349850132109542 and parameters: {'n_factors': 24, 'is_fit_features_together': True, 'regularization': 0.026046032921182342, 'iterations': 17}. Best is trial 2 with value: 0.07426023870452046.\n"
     ]
    },
    {
     "name": "stdout",
     "output_type": "stream",
     "text": [
      "CPU times: user 38min 7s, sys: 25min 25s, total: 1h 3min 32s\n",
      "Wall time: 14min 56s\n"
     ]
    }
   ],
   "source": [
    "%%time\n",
    "sampler = TPESampler(seed=RANDOM_STATE)\n",
    "study = optuna.create_study(study_name=\"als\", direction=\"maximize\", sampler=sampler)\n",
    "study.optimize(\n",
    "    partial(objective_als, dataset=dataset, train=train, test=test, metrics=deepcopy(metrics)),\n",
    "    n_trials=15,  ##больше вроде как и излишне,\n",
    ")\n",
    "\n",
    "best_trial_als = study.best_trial\n",
    "best_params_als = study.best_params"
   ]
  },
  {
   "cell_type": "markdown",
   "id": "bdd625b8",
   "metadata": {
    "id": "bdd625b8"
   },
   "source": [
    "За счет перебора параметров удалось получить модель с MAP@10 = 0.742"
   ]
  },
  {
   "cell_type": "markdown",
   "id": "7675d86e",
   "metadata": {
    "id": "7675d86e"
   },
   "source": [
    "Подберем гиперпараметры еще для моделй LightFM"
   ]
  },
  {
   "cell_type": "code",
   "execution_count": 85,
   "id": "5ec59024",
   "metadata": {
    "id": "5ec59024"
   },
   "outputs": [],
   "source": [
    "def objective_lightfm(\n",
    "    trial, dataset: Dataset, train: pd.DataFrame, test: pd.DataFrame, metrics: dict[str, MetricAtK]\n",
    ") -> float:\n",
    "    no_components = trial.suggest_categorical(\"no_components\", [10, 20, 30])\n",
    "    k = trial.suggest_categorical(\"k\", [10, 15, 20])\n",
    "    n = trial.suggest_categorical(\"n\", [10, 15, 20])\n",
    "    loss = trial.suggest_categorical(\"loss\", [\"logistic\", \"bpr\", \"warp\"])\n",
    "\n",
    "    model = LightFMWrapperModel(\n",
    "        LightFM(no_components=no_components, k=k, n=n, loss=loss, random_state=RANDOM_STATE), epochs=N_EPOCHS\n",
    "    )\n",
    "    metric = train_model(metrics=deepcopy(metrics), model=deepcopy(model), dataset=dataset, train=train, test=test)\n",
    "    return metric"
   ]
  },
  {
   "cell_type": "code",
   "execution_count": 86,
   "id": "574133b0",
   "metadata": {
    "colab": {
     "base_uri": "https://localhost:8080/"
    },
    "id": "574133b0",
    "outputId": "b6432a37-3454-48b6-9f50-4c27e492b0fd"
   },
   "outputs": [
    {
     "name": "stderr",
     "output_type": "stream",
     "text": [
      "[I 2023-12-10 13:44:20,132] A new study created in memory with name: lightfm\n",
      "[I 2023-12-10 13:45:13,621] Trial 0 finished with value: 0.07614792956291809 and parameters: {'no_components': 20, 'k': 10, 'n': 15, 'loss': 'warp'}. Best is trial 0 with value: 0.07614792956291809.\n",
      "[I 2023-12-10 13:46:01,295] Trial 1 finished with value: 0.07696009627117308 and parameters: {'no_components': 10, 'k': 20, 'n': 20, 'loss': 'warp'}. Best is trial 1 with value: 0.07696009627117308.\n",
      "[I 2023-12-10 13:47:07,946] Trial 2 finished with value: 0.026250662707474736 and parameters: {'no_components': 20, 'k': 15, 'n': 10, 'loss': 'bpr'}. Best is trial 1 with value: 0.07696009627117308.\n",
      "[I 2023-12-10 13:47:53,932] Trial 3 finished with value: 0.00025809604071657267 and parameters: {'no_components': 30, 'k': 20, 'n': 15, 'loss': 'logistic'}. Best is trial 1 with value: 0.07696009627117308.\n",
      "[I 2023-12-10 13:48:44,145] Trial 4 finished with value: 0.07577691687989935 and parameters: {'no_components': 30, 'k': 15, 'n': 15, 'loss': 'warp'}. Best is trial 1 with value: 0.07696009627117308.\n",
      "[I 2023-12-10 13:49:30,516] Trial 5 finished with value: 0.00025809604071657267 and parameters: {'no_components': 30, 'k': 20, 'n': 15, 'loss': 'logistic'}. Best is trial 1 with value: 0.07696009627117308.\n",
      "[I 2023-12-10 13:50:13,893] Trial 6 finished with value: 0.00025792626896545875 and parameters: {'no_components': 20, 'k': 15, 'n': 20, 'loss': 'logistic'}. Best is trial 1 with value: 0.07696009627117308.\n",
      "[I 2023-12-10 13:51:03,727] Trial 7 finished with value: 0.028083569937095636 and parameters: {'no_components': 30, 'k': 15, 'n': 20, 'loss': 'bpr'}. Best is trial 1 with value: 0.07696009627117308.\n",
      "[I 2023-12-10 13:51:45,957] Trial 8 finished with value: 0.07696009627117308 and parameters: {'no_components': 10, 'k': 20, 'n': 20, 'loss': 'warp'}. Best is trial 1 with value: 0.07696009627117308.\n",
      "[I 2023-12-10 13:52:36,114] Trial 9 finished with value: 0.028083569937095636 and parameters: {'no_components': 30, 'k': 15, 'n': 15, 'loss': 'bpr'}. Best is trial 1 with value: 0.07696009627117308.\n",
      "[I 2023-12-10 13:53:18,183] Trial 10 finished with value: 0.07696009627117308 and parameters: {'no_components': 10, 'k': 10, 'n': 10, 'loss': 'warp'}. Best is trial 1 with value: 0.07696009627117308.\n",
      "[I 2023-12-10 13:54:00,044] Trial 11 finished with value: 0.07696009627117308 and parameters: {'no_components': 10, 'k': 20, 'n': 20, 'loss': 'warp'}. Best is trial 1 with value: 0.07696009627117308.\n",
      "[I 2023-12-10 13:54:42,468] Trial 12 finished with value: 0.07696009627117308 and parameters: {'no_components': 10, 'k': 20, 'n': 20, 'loss': 'warp'}. Best is trial 1 with value: 0.07696009627117308.\n",
      "[I 2023-12-10 13:55:24,883] Trial 13 finished with value: 0.07696009627117308 and parameters: {'no_components': 10, 'k': 20, 'n': 20, 'loss': 'warp'}. Best is trial 1 with value: 0.07696009627117308.\n",
      "[I 2023-12-10 13:56:07,054] Trial 14 finished with value: 0.07696009627117308 and parameters: {'no_components': 10, 'k': 20, 'n': 20, 'loss': 'warp'}. Best is trial 1 with value: 0.07696009627117308.\n"
     ]
    },
    {
     "name": "stdout",
     "output_type": "stream",
     "text": [
      "CPU times: user 35min, sys: 28min 38s, total: 1h 3min 38s\n",
      "Wall time: 11min 46s\n"
     ]
    }
   ],
   "source": [
    "%%time\n",
    "sampler = TPESampler(seed=RANDOM_STATE)\n",
    "study = optuna.create_study(study_name=\"lightfm\", direction=\"maximize\", sampler=sampler)\n",
    "study.optimize(\n",
    "    partial(objective_lightfm, dataset=dataset, train=train, test=test, metrics=deepcopy(metrics)),\n",
    "    n_trials=15,  ##больше вроде как и излишне,\n",
    ")\n",
    "\n",
    "best_trial_lightfm = study.best_trial\n",
    "best_params_lightfm = study.best_params"
   ]
  },
  {
   "cell_type": "markdown",
   "id": "2d873de6",
   "metadata": {
    "id": "2d873de6"
   },
   "source": [
    "Получили метрику MAP@10=0.769."
   ]
  },
  {
   "cell_type": "markdown",
   "id": "79885b1e-5466-4c34-90b0-7ca881863064",
   "metadata": {},
   "source": [
    "Обучим модели с лучшими параметрами на всем датасете"
   ]
  },
  {
   "cell_type": "code",
   "execution_count": 88,
   "id": "c1d925a7-9a5c-4769-9d31-46380c5d67f9",
   "metadata": {
    "id": "c1d925a7-9a5c-4769-9d31-46380c5d67f9"
   },
   "outputs": [],
   "source": [
    "user_features = get_users_features(users, interactions_df, [\"sex\", \"age\", \"income\"])\n",
    "item_features = get_items_features(items, interactions_df, [\"genre\"])"
   ]
  },
  {
   "cell_type": "code",
   "execution_count": 89,
   "id": "56af9e90-80a7-40b9-9f04-8283e69b0720",
   "metadata": {
    "id": "56af9e90-80a7-40b9-9f04-8283e69b0720"
   },
   "outputs": [],
   "source": [
    "dataset = Dataset.construct(\n",
    "    interactions_df=interactions_df,\n",
    "    user_features_df=user_features,\n",
    "    cat_user_features=[\"sex\", \"age\", \"income\"],\n",
    "    item_features_df=item_features,\n",
    "    cat_item_features=[\"genre\", \"content_type\"],\n",
    ")"
   ]
  },
  {
   "cell_type": "code",
   "execution_count": 90,
   "id": "295e8953-6198-4e8f-b02f-00bcdd60272f",
   "metadata": {
    "colab": {
     "base_uri": "https://localhost:8080/"
    },
    "id": "295e8953-6198-4e8f-b02f-00bcdd60272f",
    "outputId": "020fdc05-3bc7-4e56-c968-dd026b070e41"
   },
   "outputs": [
    {
     "data": {
      "text/plain": [
       "<rectools.models.implicit_als.ImplicitALSWrapperModel at 0x7f22e6560400>"
      ]
     },
     "execution_count": 90,
     "metadata": {},
     "output_type": "execute_result"
    }
   ],
   "source": [
    "model_als = ImplicitALSWrapperModel(\n",
    "    AlternatingLeastSquares(\n",
    "        factors=best_params_als[\"n_factors\"],\n",
    "        regularization=best_params_als[\"regularization\"],\n",
    "        iterations=best_params_als[\"iterations\"],\n",
    "        random_state=RANDOM_STATE,\n",
    "    ),\n",
    "    fit_features_together=best_params_als[\"is_fit_features_together\"],\n",
    ")\n",
    "model_als.fit(dataset)"
   ]
  },
  {
   "cell_type": "code",
   "execution_count": 91,
   "id": "zyohyLyfhZ-y",
   "metadata": {
    "colab": {
     "base_uri": "https://localhost:8080/"
    },
    "id": "zyohyLyfhZ-y",
    "outputId": "d88ae840-56d8-428b-b4f6-c01e41f42043"
   },
   "outputs": [
    {
     "data": {
      "text/plain": [
       "<rectools.models.lightfm.LightFMWrapperModel at 0x7f22e6560be0>"
      ]
     },
     "execution_count": 91,
     "metadata": {},
     "output_type": "execute_result"
    }
   ],
   "source": [
    "model_lightfm = LightFMWrapperModel(\n",
    "    LightFM(**best_params_lightfm, random_state=RANDOM_STATE),\n",
    "    epochs=N_EPOCHS,\n",
    "    num_threads=2,\n",
    ")\n",
    "model_lightfm.fit(dataset)"
   ]
  },
  {
   "cell_type": "code",
   "execution_count": 92,
   "id": "5NV3wGNTZtiJ",
   "metadata": {
    "id": "5NV3wGNTZtiJ"
   },
   "outputs": [],
   "source": [
    "with open(LIGHTFM_MODEL_PATH, \"wb\") as f:\n",
    "    pickle.dump(model_lightfm, f)"
   ]
  },
  {
   "cell_type": "code",
   "execution_count": 93,
   "id": "GPokbeUJWelu",
   "metadata": {
    "id": "GPokbeUJWelu"
   },
   "outputs": [],
   "source": [
    "with open(ALS_MODEL_PATH, \"wb\") as f:\n",
    "    pickle.dump(model_als, f)"
   ]
  },
  {
   "cell_type": "markdown",
   "id": "a8f926ca",
   "metadata": {
    "id": "a8f926ca"
   },
   "source": [
    "## Приближенный поиск"
   ]
  },
  {
   "cell_type": "markdown",
   "id": "74822dab-7cfb-4308-b9fe-2d59480cae2e",
   "metadata": {},
   "source": [
    "Для приближенного поиска возьмем модель ALS, потому что по какой-то непонятной причине (возможно, потому, что lightfm у меня нормально не ставится) при использовании lightfm UserToItemAnnRecommender возвращает одинаковые айтемы для всех user_id"
   ]
  },
  {
   "cell_type": "markdown",
   "id": "c3065150-e66d-4390-b4a8-5c569631aef0",
   "metadata": {
    "id": "c3065150-e66d-4390-b4a8-5c569631aef0"
   },
   "source": [
    "Достаем данные из модели"
   ]
  },
  {
   "cell_type": "code",
   "execution_count": 94,
   "id": "ee38a87f-da1b-43be-9157-081302a38d66",
   "metadata": {
    "id": "ee38a87f-da1b-43be-9157-081302a38d66"
   },
   "outputs": [],
   "source": [
    "user_vectors, item_vectors = model_als.get_vectors()"
   ]
  },
  {
   "cell_type": "markdown",
   "id": "880d9705-50e3-45c9-9734-e72dd06ee621",
   "metadata": {
    "id": "880d9705-50e3-45c9-9734-e72dd06ee621"
   },
   "source": [
    "Сначала попробуем UserToItemANNRecommender"
   ]
  },
  {
   "cell_type": "code",
   "execution_count": 95,
   "id": "0b11e7c4-7ff3-461b-8181-47d762760b89",
   "metadata": {
    "id": "0b11e7c4-7ff3-461b-8181-47d762760b89"
   },
   "outputs": [],
   "source": [
    "ann_als = UserToItemAnnRecommender(\n",
    "    user_vectors=user_vectors,\n",
    "    item_vectors=item_vectors,\n",
    "    user_id_map=dataset.user_id_map,\n",
    "    item_id_map=dataset.item_id_map,\n",
    ")"
   ]
  },
  {
   "cell_type": "code",
   "execution_count": 96,
   "id": "2d65bc47-d2c3-4024-83e9-81d5e7522a1c",
   "metadata": {
    "colab": {
     "base_uri": "https://localhost:8080/"
    },
    "id": "2d65bc47-d2c3-4024-83e9-81d5e7522a1c",
    "outputId": "f2839269-3dd9-49b7-b742-a5a9ca7ba06b"
   },
   "outputs": [
    {
     "data": {
      "text/plain": [
       "<rectools.tools.ann.UserToItemAnnRecommender at 0x7f22dd4cb160>"
      ]
     },
     "execution_count": 96,
     "metadata": {},
     "output_type": "execute_result"
    }
   ],
   "source": [
    "ann_als.fit()"
   ]
  },
  {
   "cell_type": "code",
   "execution_count": 97,
   "id": "52738f88-4231-4855-ac99-2f8db4f5396c",
   "metadata": {
    "colab": {
     "base_uri": "https://localhost:8080/"
    },
    "id": "52738f88-4231-4855-ac99-2f8db4f5396c",
    "outputId": "60501b00-9be0-4022-c34b-88e87d3af26c"
   },
   "outputs": [
    {
     "data": {
      "text/plain": [
       "array([ 9728, 13865,  6809, 10440, 11237,  4740,  9996,  2657,  3734,\n",
       "         142])"
      ]
     },
     "execution_count": 97,
     "metadata": {},
     "output_type": "execute_result"
    }
   ],
   "source": [
    "ann_als.get_item_list_for_user(973171, top_n=K_RECOS)"
   ]
  },
  {
   "cell_type": "code",
   "execution_count": 98,
   "id": "aTdNkgW3grfK",
   "metadata": {
    "id": "aTdNkgW3grfK"
   },
   "outputs": [],
   "source": [
    "with open(ANN_MODEL_PATH, \"wb\") as f:\n",
    "    pickle.dump(ann_als, f)"
   ]
  },
  {
   "cell_type": "code",
   "execution_count": 99,
   "id": "ef483a7e-a6bb-407f-85c5-00f6cea69002",
   "metadata": {
    "id": "ef483a7e-a6bb-407f-85c5-00f6cea69002"
   },
   "outputs": [],
   "source": [
    "def compute_avg_time_of_inference(model):\n",
    "    times = []\n",
    "    for _ in range(1000):\n",
    "        start = time.time()\n",
    "        model.get_item_list_for_user(973171, top_n=K_RECOS).tolist()\n",
    "        times.append(time.time() - start)\n",
    "    return sum(times) / len(times)"
   ]
  },
  {
   "cell_type": "code",
   "execution_count": 101,
   "id": "b459ae46-d251-4262-a9d2-afc8cf9ac2e6",
   "metadata": {
    "id": "b459ae46-d251-4262-a9d2-afc8cf9ac2e6",
    "outputId": "326c4029-75af-4eb0-c862-139b0ed39c2a"
   },
   "outputs": [
    {
     "name": "stdout",
     "output_type": "stream",
     "text": [
      "Среднее время получения результата от одного юзера: 0.028218224763870238\n"
     ]
    }
   ],
   "source": [
    "print(f\"Среднее время получения результата от одного юзера: {compute_avg_time_of_inference(ann_als)}\")"
   ]
  },
  {
   "cell_type": "markdown",
   "id": "2c5b3056-cdac-4884-a761-0821e76934a6",
   "metadata": {
    "id": "2c5b3056-cdac-4884-a761-0821e76934a6"
   },
   "source": [
    "Посмотрим результаты для юзера 973171"
   ]
  },
  {
   "cell_type": "code",
   "execution_count": 102,
   "id": "7b52f768-f951-40cb-bbf0-5644bc7a9d16",
   "metadata": {
    "id": "7b52f768-f951-40cb-bbf0-5644bc7a9d16",
    "outputId": "700adce3-c077-4342-890d-3bf6a5a1200a"
   },
   "outputs": [
    {
     "data": {
      "text/plain": [
       "array([ 9728, 13865,  6809, 10440, 11237,  4740,  9996,  2657,  3734,\n",
       "         142])"
      ]
     },
     "execution_count": 102,
     "metadata": {},
     "output_type": "execute_result"
    }
   ],
   "source": [
    "ann_als.get_item_list_for_user(973171, top_n=K_RECOS)"
   ]
  },
  {
   "cell_type": "markdown",
   "id": "33816818-3345-4d1c-b313-95119573006d",
   "metadata": {
    "id": "33816818-3345-4d1c-b313-95119573006d"
   },
   "source": [
    "Среднее время ANN = 0.02 секунд на юзера, что в принципе достаточно быстро"
   ]
  },
  {
   "cell_type": "markdown",
   "id": "a785ed7a-78c4-417a-bf2e-0bf7cb80e671",
   "metadata": {
    "id": "a785ed7a-78c4-417a-bf2e-0bf7cb80e671"
   },
   "source": [
    "Я еще сделала свой кастомный поиск на NGT, потому что:\n",
    " - по этому [бейзлайну](https://ann-benchmarks.com/glove-100-angular_10_angular.html) он всех бьет\n",
    " - (почти все остальное я уже видела)"
   ]
  },
  {
   "cell_type": "code",
   "execution_count": 103,
   "id": "9c6f40d3",
   "metadata": {
    "id": "9c6f40d3"
   },
   "outputs": [],
   "source": [
    "ngt_user_to_item = UserToItemNGTRecommender(\n",
    "    user_vectors=user_vectors,\n",
    "    item_vectors=item_vectors,\n",
    "    user_id_map=dataset.user_id_map,\n",
    "    item_id_map=dataset.item_id_map,\n",
    ")"
   ]
  },
  {
   "cell_type": "code",
   "execution_count": 104,
   "id": "8241bac3-0fed-45d6-aa54-86ae6fbcdd65",
   "metadata": {
    "id": "8241bac3-0fed-45d6-aa54-86ae6fbcdd65"
   },
   "outputs": [],
   "source": [
    "ngt_user_to_item.fit()"
   ]
  },
  {
   "cell_type": "code",
   "execution_count": 105,
   "id": "550f6916-e453-4954-9926-c1e11fec1bf4",
   "metadata": {
    "id": "550f6916-e453-4954-9926-c1e11fec1bf4",
    "outputId": "66e976ad-974a-4233-c209-8e349a945a86"
   },
   "outputs": [
    {
     "name": "stdout",
     "output_type": "stream",
     "text": [
      "Среднее время получения результата от одного юзера: 0.03617359113693237\n"
     ]
    }
   ],
   "source": [
    "print(f\"Среднее время получения результата от одного юзера: {compute_avg_time_of_inference(ngt_user_to_item)}\")"
   ]
  },
  {
   "cell_type": "markdown",
   "id": "fadbf49d-c129-4326-a74a-b1ebf72c5d51",
   "metadata": {
    "id": "fadbf49d-c129-4326-a74a-b1ebf72c5d51"
   },
   "source": [
    "Посмотрим на результаты от юзера 973171"
   ]
  },
  {
   "cell_type": "code",
   "execution_count": 106,
   "id": "7fc4aa6a-bd9b-4e27-92e0-5ae19d79101a",
   "metadata": {
    "id": "7fc4aa6a-bd9b-4e27-92e0-5ae19d79101a",
    "outputId": "aa9143a8-feaf-4a95-e6f9-de36593d7a7a"
   },
   "outputs": [
    {
     "data": {
      "text/plain": [
       "array([ 9728, 13865,  6809, 10440, 11237,  4740,  9996,  2657,  3734,\n",
       "         142])"
      ]
     },
     "execution_count": 106,
     "metadata": {},
     "output_type": "execute_result"
    }
   ],
   "source": [
    "ngt_user_to_item.get_item_list_for_user(973171, 10)"
   ]
  },
  {
   "cell_type": "markdown",
   "id": "fb8eaea8-a31e-42c2-911c-190288317083",
   "metadata": {
    "id": "fb8eaea8-a31e-42c2-911c-190288317083"
   },
   "source": [
    "Вывод: NGT работает чуть медленее, чем UserToItemRecommender. Результаты при этом обоих моделей одинаковые.\n",
    "В проде я ее, конечно, использовать не буду, потому что либа из pypi на моем компьютере тоже работает медленнее, и [тут](https://github.com/yahoojapan/NGT/tree/main/python) об этом тоже писали\n",
    "\n",
    "[Установка](https://github.com/erikbern/ann-benchmarks/blob/main/ann_benchmarks/algorithms/onng_ngt/Dockerfile)\n"
   ]
  },
  {
   "cell_type": "markdown",
   "id": "ce9e9d69-3d08-42bb-bdba-64f60638463a",
   "metadata": {
    "id": "ce9e9d69-3d08-42bb-bdba-64f60638463a"
   },
   "source": [
    "## Эксперименты с pickle"
   ]
  },
  {
   "cell_type": "markdown",
   "id": "bf88956f-f386-4a2c-b811-981db8e59229",
   "metadata": {
    "id": "bf88956f-f386-4a2c-b811-981db8e59229"
   },
   "source": [
    "Заметила ситуацию, что если мы загружаем модель ANN и делаем deepcopy, то у нас модель выдает только пустоту. Ниже вывод того, почему так происходит"
   ]
  },
  {
   "cell_type": "code",
   "execution_count": 110,
   "id": "6e5ec9fd-b122-4e9c-ab1a-22344fe61ab1",
   "metadata": {
    "id": "6e5ec9fd-b122-4e9c-ab1a-22344fe61ab1"
   },
   "outputs": [],
   "source": [
    "model = load(ALS_MODEL_PATH)"
   ]
  },
  {
   "cell_type": "code",
   "execution_count": 112,
   "id": "660a605c-bef6-4d92-a0ec-fd86dd6406a5",
   "metadata": {
    "id": "660a605c-bef6-4d92-a0ec-fd86dd6406a5"
   },
   "outputs": [],
   "source": [
    "user_v, item_v = model.get_vectors()"
   ]
  },
  {
   "cell_type": "markdown",
   "id": "b613d018-f5f1-4cd3-b97e-7fcdb334e1c1",
   "metadata": {
    "id": "b613d018-f5f1-4cd3-b97e-7fcdb334e1c1"
   },
   "source": [
    "Создаем и сохраняем модель"
   ]
  },
  {
   "cell_type": "code",
   "execution_count": 113,
   "id": "c484a0f5-4583-4369-b440-f5e1a85b2bdb",
   "metadata": {
    "id": "c484a0f5-4583-4369-b440-f5e1a85b2bdb",
    "outputId": "bf49693a-6960-4ce4-b0fc-fda314ced6bd"
   },
   "outputs": [
    {
     "data": {
      "text/plain": [
       "[9728, 13865, 6809, 10440, 11237, 4740, 9996, 2657, 3734, 142]"
      ]
     },
     "execution_count": 113,
     "metadata": {},
     "output_type": "execute_result"
    }
   ],
   "source": [
    "ann = UserToItemAnnRecommender(\n",
    "    user_vectors=user_v, item_vectors=item_v, user_id_map=dataset.user_id_map, item_id_map=dataset.item_id_map\n",
    ")\n",
    "ann.fit()\n",
    "# смотрим результат\n",
    "ann.get_item_list_for_user(973171, 10).tolist()"
   ]
  },
  {
   "cell_type": "markdown",
   "id": "a0431378-f937-4777-939a-840ea5c65851",
   "metadata": {
    "id": "a0431378-f937-4777-939a-840ea5c65851"
   },
   "source": [
    "Сохраняем модель"
   ]
  },
  {
   "cell_type": "code",
   "execution_count": 114,
   "id": "f4db81e8-6c76-4ba6-bdd7-b014d686acd8",
   "metadata": {
    "id": "f4db81e8-6c76-4ba6-bdd7-b014d686acd8"
   },
   "outputs": [],
   "source": [
    "with open(ANN_MODEL_PATH, \"wb\") as f:\n",
    "    pickle.dump(ann, f)"
   ]
  },
  {
   "cell_type": "markdown",
   "id": "69bcf0de-69e0-41b8-955f-4e81db19fb16",
   "metadata": {
    "id": "69bcf0de-69e0-41b8-955f-4e81db19fb16"
   },
   "source": [
    "Некоторый код из класса UserToItemAnnRecommender"
   ]
  },
  {
   "cell_type": "code",
   "execution_count": 115,
   "id": "9930b342-01cc-4e7c-b2be-f31175ab75f4",
   "metadata": {
    "id": "9930b342-01cc-4e7c-b2be-f31175ab75f4"
   },
   "outputs": [],
   "source": [
    "user_id = 973171"
   ]
  },
  {
   "cell_type": "code",
   "execution_count": 116,
   "id": "53e7354a-6cb8-4191-a9a0-aa2faf75e74c",
   "metadata": {
    "id": "53e7354a-6cb8-4191-a9a0-aa2faf75e74c"
   },
   "outputs": [],
   "source": [
    "user_id_ = dataset.user_id_map.convert_to_internal([user_id])\n",
    "user_vectors_ = user_v[user_id_, :]"
   ]
  },
  {
   "cell_type": "markdown",
   "id": "4634e719-83d0-41a8-af1f-2e315650c9c9",
   "metadata": {
    "id": "4634e719-83d0-41a8-af1f-2e315650c9c9"
   },
   "source": [
    "Загружаем модель"
   ]
  },
  {
   "cell_type": "code",
   "execution_count": 117,
   "id": "ed4cbb06-0996-453f-9638-bbf65b57158e",
   "metadata": {
    "id": "ed4cbb06-0996-453f-9638-bbf65b57158e",
    "outputId": "141f9d9e-5369-4505-fdf2-9ca04ddff814"
   },
   "outputs": [
    {
     "data": {
      "text/plain": [
       "[9728, 13865, 6809, 10440, 11237, 4740, 9996, 2657, 3734, 142]"
      ]
     },
     "execution_count": 117,
     "metadata": {},
     "output_type": "execute_result"
    }
   ],
   "source": [
    "loaded_model = load(ANN_MODEL_PATH)\n",
    "loaded_model.get_item_list_for_user(973171, 10).tolist()"
   ]
  },
  {
   "cell_type": "code",
   "execution_count": 118,
   "id": "7a1fb80c-6fe9-40d8-a3c4-a002ba88940b",
   "metadata": {
    "id": "7a1fb80c-6fe9-40d8-a3c4-a002ba88940b",
    "outputId": "2faf24a4-b0e0-4931-c5aa-ce5c8aa493fd"
   },
   "outputs": [
    {
     "data": {
      "text/plain": [
       "[(array([ 32,  16, 122,  25,  68, 112,  42,  93,  84, 370], dtype=int32),\n",
       "  array([0.93543667, 0.94249934, 0.94361097, 0.9589372 , 0.96892065,\n",
       "         0.9721973 , 0.9752374 , 0.9752375 , 0.9757492 , 0.97618383],\n",
       "        dtype=float32))]"
      ]
     },
     "execution_count": 118,
     "metadata": {},
     "output_type": "execute_result"
    }
   ],
   "source": [
    "loaded_model.index.knnQueryBatch(user_vectors_, 10)"
   ]
  },
  {
   "cell_type": "code",
   "execution_count": 119,
   "id": "01bfa500-5c7f-4b41-8f02-df19a8ce04ec",
   "metadata": {
    "id": "01bfa500-5c7f-4b41-8f02-df19a8ce04ec",
    "outputId": "94fa081f-f01e-4f48-f6c7-b8ed00d30913"
   },
   "outputs": [
    {
     "data": {
      "text/plain": [
       "{'efSearch': 100}"
      ]
     },
     "execution_count": 119,
     "metadata": {},
     "output_type": "execute_result"
    }
   ],
   "source": [
    "loaded_model.index_query_time_params"
   ]
  },
  {
   "cell_type": "code",
   "execution_count": 120,
   "id": "4c72d1cb-d8f1-42dd-ae38-116a74893ff3",
   "metadata": {
    "id": "4c72d1cb-d8f1-42dd-ae38-116a74893ff3",
    "outputId": "9a581359-3d9d-4fc8-94f2-c8fb7dd419a4"
   },
   "outputs": [
    {
     "data": {
      "text/plain": [
       "{'item_vectors': array([[ 5.0902204e-03,  4.9755834e-03,  3.6894567e-03, ...,\n",
       "          0.0000000e+00,  1.0000000e+00,  0.0000000e+00],\n",
       "        [ 1.2697601e-03,  3.4679758e-04,  9.1035658e-04, ...,\n",
       "          0.0000000e+00,  1.0000000e+00,  0.0000000e+00],\n",
       "        [ 2.9750766e-02,  1.2863990e-02,  2.3153631e-02, ...,\n",
       "          0.0000000e+00,  0.0000000e+00,  1.0000000e+00],\n",
       "        ...,\n",
       "        [ 8.4862811e-05, -2.7174139e-04,  3.4651509e-04, ...,\n",
       "          0.0000000e+00,  0.0000000e+00,  1.0000000e+00],\n",
       "        [ 5.3647887e-05,  3.3514379e-04,  1.1376514e-04, ...,\n",
       "          0.0000000e+00,  1.0000000e+00,  0.0000000e+00],\n",
       "        [-4.9132295e-04, -2.4625447e-04, -5.5438816e-04, ...,\n",
       "          0.0000000e+00,  1.0000000e+00,  0.0000000e+00]], dtype=float32),\n",
       " 'item_id_map': IdMap(external_ids=array([ 9506,  1659,  7107, ..., 10064, 13019, 10542])),\n",
       " 'index_top_k': 0,\n",
       " 'index_init_params': {'method': 'hnsw', 'space': 'cosinesimil'},\n",
       " 'index_query_time_params': {'efSearch': 100},\n",
       " 'create_index_params': {'M': 100, 'efConstruction': 100, 'post': 0},\n",
       " 'index': b'\\x01\\x00\\x00\\x00\\x00\\x00\\x00\\x00\\\\\\x05\\x00\\x00\\x00\\x00\\x00\\x008\\x02\\x00\\x00\\x00\\x00\\x00\\x00\\x00\\x00\\x00\\x00\\x00\\x00\\x00\\x00\\x02\\x00\\x00\\x00o\\x0b\\x00\\x00d\\x00\\x00\\x00\\x00\\x00\\x00\\x00\\xc8\\x00\\x00\\x00\\x00\\x00\\x00\\x00\\x03\\x00\\x00\\x00\\x03\\x00\\x00\\x00\\x00\\x00\\x00\\x00',\n",
       " 'user_vectors': array([[ 1.0000000e+00,  0.0000000e+00,  0.0000000e+00, ...,\n",
       "         -5.3023547e-04,  1.1846052e-02,  2.3971968e-03],\n",
       "        [ 1.0000000e+00,  0.0000000e+00,  0.0000000e+00, ...,\n",
       "         -2.8471573e-04,  1.6120555e-02,  6.1956747e-03],\n",
       "        [ 1.0000000e+00,  0.0000000e+00,  0.0000000e+00, ...,\n",
       "          2.2817552e-05, -1.1721243e-03, -1.5354631e-03],\n",
       "        ...,\n",
       "        [ 0.0000000e+00,  1.0000000e+00,  0.0000000e+00, ...,\n",
       "          1.7677934e-05,  4.5823309e-04, -7.2248525e-04],\n",
       "        [ 0.0000000e+00,  0.0000000e+00,  0.0000000e+00, ...,\n",
       "          2.4444267e-05, -1.4994775e-04, -1.9351368e-04],\n",
       "        [ 1.0000000e+00,  0.0000000e+00,  0.0000000e+00, ...,\n",
       "          3.7249687e-05, -5.5120041e-04, -6.4828317e-04]], dtype=float32),\n",
       " 'user_id_map': IdMap(external_ids=array([176549, 699317, 656683, ..., 805174, 648596, 697262]))}"
      ]
     },
     "execution_count": 120,
     "metadata": {},
     "output_type": "execute_result"
    }
   ],
   "source": [
    "loaded_model.__getstate__()"
   ]
  },
  {
   "cell_type": "markdown",
   "id": "b1a3188d-d722-4337-a8ba-0eb5ed67a435",
   "metadata": {
    "id": "b1a3188d-d722-4337-a8ba-0eb5ed67a435"
   },
   "source": [
    "Делаем deepcopy"
   ]
  },
  {
   "cell_type": "code",
   "execution_count": 121,
   "id": "f4d5c123-6323-4d20-bdbd-61673e9166cd",
   "metadata": {
    "id": "f4d5c123-6323-4d20-bdbd-61673e9166cd",
    "outputId": "53f513d8-340a-4828-d291-c1c6a4e92719"
   },
   "outputs": [
    {
     "data": {
      "text/plain": [
       "[]"
      ]
     },
     "execution_count": 121,
     "metadata": {},
     "output_type": "execute_result"
    }
   ],
   "source": [
    "deepcopy_loaded_model = deepcopy(loaded_model)\n",
    "deepcopy_loaded_model.get_item_list_for_user(973171, 10).tolist()"
   ]
  },
  {
   "cell_type": "code",
   "execution_count": 122,
   "id": "a42de8ab-bb6b-493e-87f7-3d7128eaef21",
   "metadata": {
    "id": "a42de8ab-bb6b-493e-87f7-3d7128eaef21",
    "outputId": "299ac58c-b518-41db-b149-95c535a8623d"
   },
   "outputs": [
    {
     "data": {
      "text/plain": [
       "{'item_vectors': array([[ 5.0902204e-03,  4.9755834e-03,  3.6894567e-03, ...,\n",
       "          0.0000000e+00,  1.0000000e+00,  0.0000000e+00],\n",
       "        [ 1.2697601e-03,  3.4679758e-04,  9.1035658e-04, ...,\n",
       "          0.0000000e+00,  1.0000000e+00,  0.0000000e+00],\n",
       "        [ 2.9750766e-02,  1.2863990e-02,  2.3153631e-02, ...,\n",
       "          0.0000000e+00,  0.0000000e+00,  1.0000000e+00],\n",
       "        ...,\n",
       "        [ 8.4862811e-05, -2.7174139e-04,  3.4651509e-04, ...,\n",
       "          0.0000000e+00,  0.0000000e+00,  1.0000000e+00],\n",
       "        [ 5.3647887e-05,  3.3514379e-04,  1.1376514e-04, ...,\n",
       "          0.0000000e+00,  1.0000000e+00,  0.0000000e+00],\n",
       "        [-4.9132295e-04, -2.4625447e-04, -5.5438816e-04, ...,\n",
       "          0.0000000e+00,  1.0000000e+00,  0.0000000e+00]], dtype=float32),\n",
       " 'item_id_map': IdMap(external_ids=array([ 9506,  1659,  7107, ..., 10064, 13019, 10542])),\n",
       " 'index_top_k': 0,\n",
       " 'index_init_params': {'method': 'hnsw', 'space': 'cosinesimil'},\n",
       " 'index_query_time_params': {'efSearch': 100},\n",
       " 'create_index_params': {'M': 100, 'efConstruction': 100, 'post': 0},\n",
       " 'index': b'\\x01\\x00\\x00\\x00\\x00\\x00\\x00\\x00\\\\\\x05\\x00\\x00\\x00\\x00\\x00\\x008\\x02\\x00\\x00\\x00\\x00\\x00\\x00\\x00\\x00\\x00\\x00\\x00\\x00\\x00\\x00\\x02\\x00\\x00\\x00o\\x0b\\x00\\x00d\\x00\\x00\\x00\\x00\\x00\\x00\\x00\\xc8\\x00\\x00\\x00\\x00\\x00\\x00\\x00\\x03\\x00\\x00\\x00\\x03\\x00\\x00\\x00\\x00\\x00\\x00\\x00',\n",
       " 'user_vectors': array([[ 1.0000000e+00,  0.0000000e+00,  0.0000000e+00, ...,\n",
       "         -5.3023547e-04,  1.1846052e-02,  2.3971968e-03],\n",
       "        [ 1.0000000e+00,  0.0000000e+00,  0.0000000e+00, ...,\n",
       "         -2.8471573e-04,  1.6120555e-02,  6.1956747e-03],\n",
       "        [ 1.0000000e+00,  0.0000000e+00,  0.0000000e+00, ...,\n",
       "          2.2817552e-05, -1.1721243e-03, -1.5354631e-03],\n",
       "        ...,\n",
       "        [ 0.0000000e+00,  1.0000000e+00,  0.0000000e+00, ...,\n",
       "          1.7677934e-05,  4.5823309e-04, -7.2248525e-04],\n",
       "        [ 0.0000000e+00,  0.0000000e+00,  0.0000000e+00, ...,\n",
       "          2.4444267e-05, -1.4994775e-04, -1.9351368e-04],\n",
       "        [ 1.0000000e+00,  0.0000000e+00,  0.0000000e+00, ...,\n",
       "          3.7249687e-05, -5.5120041e-04, -6.4828317e-04]], dtype=float32),\n",
       " 'user_id_map': IdMap(external_ids=array([176549, 699317, 656683, ..., 805174, 648596, 697262]))}"
      ]
     },
     "execution_count": 122,
     "metadata": {},
     "output_type": "execute_result"
    }
   ],
   "source": [
    "deepcopy_loaded_model.__getstate__()"
   ]
  },
  {
   "cell_type": "markdown",
   "id": "c213c090-7d66-431e-81ba-febd0d5df270",
   "metadata": {
    "id": "c213c090-7d66-431e-81ba-febd0d5df270"
   },
   "source": [
    "По какой-то причине не сохранился граф вычислений. Если все обучить заново, будет все ок."
   ]
  },
  {
   "cell_type": "code",
   "execution_count": 123,
   "id": "684e9dee-6c58-4313-b8d4-b103c7914d85",
   "metadata": {
    "id": "684e9dee-6c58-4313-b8d4-b103c7914d85",
    "outputId": "eaf4afb2-b912-4bb7-d97c-b15a56fb3b8a"
   },
   "outputs": [
    {
     "data": {
      "text/plain": [
       "<rectools.tools.ann.UserToItemAnnRecommender at 0x7f234e724a00>"
      ]
     },
     "execution_count": 123,
     "metadata": {},
     "output_type": "execute_result"
    }
   ],
   "source": [
    "# fit не сохраняет состояние обучения\n",
    "deepcopy_loaded_model.fit()"
   ]
  },
  {
   "cell_type": "code",
   "execution_count": 124,
   "id": "8a0271af-43e5-4874-ad85-282ab08223f3",
   "metadata": {
    "id": "8a0271af-43e5-4874-ad85-282ab08223f3",
    "outputId": "7cfe4418-1b23-4e9b-d20c-6006684a450a"
   },
   "outputs": [
    {
     "data": {
      "text/plain": [
       "[(array([ 32,  16, 122,  25,  68, 112,  42,  93,  84, 370], dtype=int32),\n",
       "  array([0.93543667, 0.94249934, 0.94361097, 0.9589372 , 0.96892065,\n",
       "         0.9721973 , 0.9752374 , 0.9752375 , 0.9757492 , 0.97618383],\n",
       "        dtype=float32))]"
      ]
     },
     "execution_count": 124,
     "metadata": {},
     "output_type": "execute_result"
    }
   ],
   "source": [
    "deepcopy_loaded_model.index.knnQueryBatch(user_vectors_, 10)"
   ]
  },
  {
   "cell_type": "code",
   "execution_count": 125,
   "id": "bbf96024-b70e-455d-b447-17ad48fece1f",
   "metadata": {
    "id": "bbf96024-b70e-455d-b447-17ad48fece1f",
    "outputId": "b31e13cb-9873-418b-946a-2c88ef832e0d"
   },
   "outputs": [
    {
     "data": {
      "text/plain": [
       "{'efSearch': 100}"
      ]
     },
     "execution_count": 125,
     "metadata": {},
     "output_type": "execute_result"
    }
   ],
   "source": [
    "deepcopy_loaded_model.index_query_time_params"
   ]
  },
  {
   "cell_type": "markdown",
   "id": "ffbbc027-784d-4a84-a030-fd72e915712a",
   "metadata": {
    "id": "ffbbc027-784d-4a84-a030-fd72e915712a"
   },
   "source": [
    "По итогу получилось только локализовать проблему - что-то не так с состоянием графа"
   ]
  }
 ],
 "metadata": {
  "accelerator": "GPU",
  "colab": {
   "provenance": []
  },
  "kernelspec": {
   "display_name": "Python 3 (ipykernel)",
   "language": "python",
   "name": "python3"
  },
  "language_info": {
   "codemirror_mode": {
    "name": "ipython",
    "version": 3
   },
   "file_extension": ".py",
   "mimetype": "text/x-python",
   "name": "python",
   "nbconvert_exporter": "python",
   "pygments_lexer": "ipython3",
   "version": "3.10.12"
  },
  "widgets": {
   "application/vnd.jupyter.widget-state+json": {
    "01bc06acb295402e90a3aadd234d961a": {
     "model_module": "@jupyter-widgets/controls",
     "model_module_version": "1.5.0",
     "model_name": "HBoxModel",
     "state": {
      "_dom_classes": [],
      "_model_module": "@jupyter-widgets/controls",
      "_model_module_version": "1.5.0",
      "_model_name": "HBoxModel",
      "_view_count": null,
      "_view_module": "@jupyter-widgets/controls",
      "_view_module_version": "1.5.0",
      "_view_name": "HBoxView",
      "box_style": "",
      "children": [
       "IPY_MODEL_357fa023d92e4c12981706208237c1d3",
       "IPY_MODEL_39ddc42c81e24884a84650d4c1ca8e0b",
       "IPY_MODEL_6e2be42af44a4ee29a4b9e338cff8bce"
      ],
      "layout": "IPY_MODEL_614e4f051eb345c5a6a6c7814a92bf27"
     }
    },
    "058f609463a84e9aab75efd2df77f167": {
     "model_module": "@jupyter-widgets/controls",
     "model_module_version": "1.5.0",
     "model_name": "DescriptionStyleModel",
     "state": {
      "_model_module": "@jupyter-widgets/controls",
      "_model_module_version": "1.5.0",
      "_model_name": "DescriptionStyleModel",
      "_view_count": null,
      "_view_module": "@jupyter-widgets/base",
      "_view_module_version": "1.2.0",
      "_view_name": "StyleView",
      "description_width": ""
     }
    },
    "059464415b5c4e80b385c78b85b78e0e": {
     "model_module": "@jupyter-widgets/controls",
     "model_module_version": "1.5.0",
     "model_name": "HBoxModel",
     "state": {
      "_dom_classes": [],
      "_model_module": "@jupyter-widgets/controls",
      "_model_module_version": "1.5.0",
      "_model_name": "HBoxModel",
      "_view_count": null,
      "_view_module": "@jupyter-widgets/controls",
      "_view_module_version": "1.5.0",
      "_view_name": "HBoxView",
      "box_style": "",
      "children": [
       "IPY_MODEL_4ae1451550524c24b1d2f574735f54c5",
       "IPY_MODEL_65766ae30dfe43158861d614bdde793a",
       "IPY_MODEL_980917a641d04b3bb19280d166413b61"
      ],
      "layout": "IPY_MODEL_8a2d02bc1706449c895de0ae4e85da1c"
     }
    },
    "09a8bf9fcf6546f5b5a18f32e3e0e32c": {
     "model_module": "@jupyter-widgets/controls",
     "model_module_version": "1.5.0",
     "model_name": "ProgressStyleModel",
     "state": {
      "_model_module": "@jupyter-widgets/controls",
      "_model_module_version": "1.5.0",
      "_model_name": "ProgressStyleModel",
      "_view_count": null,
      "_view_module": "@jupyter-widgets/base",
      "_view_module_version": "1.2.0",
      "_view_name": "StyleView",
      "bar_color": null,
      "description_width": ""
     }
    },
    "10abc933db9645a4af81f7578985ffd6": {
     "model_module": "@jupyter-widgets/controls",
     "model_module_version": "1.5.0",
     "model_name": "DescriptionStyleModel",
     "state": {
      "_model_module": "@jupyter-widgets/controls",
      "_model_module_version": "1.5.0",
      "_model_name": "DescriptionStyleModel",
      "_view_count": null,
      "_view_module": "@jupyter-widgets/base",
      "_view_module_version": "1.2.0",
      "_view_name": "StyleView",
      "description_width": ""
     }
    },
    "146e118caa974a26a260e0f8baba3b6a": {
     "model_module": "@jupyter-widgets/controls",
     "model_module_version": "1.5.0",
     "model_name": "ProgressStyleModel",
     "state": {
      "_model_module": "@jupyter-widgets/controls",
      "_model_module_version": "1.5.0",
      "_model_name": "ProgressStyleModel",
      "_view_count": null,
      "_view_module": "@jupyter-widgets/base",
      "_view_module_version": "1.2.0",
      "_view_name": "StyleView",
      "bar_color": null,
      "description_width": ""
     }
    },
    "1639be6dfaff4b799594484d9f4a440a": {
     "model_module": "@jupyter-widgets/controls",
     "model_module_version": "1.5.0",
     "model_name": "HTMLModel",
     "state": {
      "_dom_classes": [],
      "_model_module": "@jupyter-widgets/controls",
      "_model_module_version": "1.5.0",
      "_model_name": "HTMLModel",
      "_view_count": null,
      "_view_module": "@jupyter-widgets/controls",
      "_view_module_version": "1.5.0",
      "_view_name": "HTMLView",
      "description": "",
      "description_tooltip": null,
      "layout": "IPY_MODEL_33242851222940dfa290a1f9494027ae",
      "placeholder": "​",
      "style": "IPY_MODEL_714097c87a7141f1be256ec879f065e8",
      "value": " 1/1 [00:00&lt;00:00,  1.67it/s]"
     }
    },
    "172dba28011045ffad6d332af5fa5fa7": {
     "model_module": "@jupyter-widgets/controls",
     "model_module_version": "1.5.0",
     "model_name": "DescriptionStyleModel",
     "state": {
      "_model_module": "@jupyter-widgets/controls",
      "_model_module_version": "1.5.0",
      "_model_name": "DescriptionStyleModel",
      "_view_count": null,
      "_view_module": "@jupyter-widgets/base",
      "_view_module_version": "1.2.0",
      "_view_name": "StyleView",
      "description_width": ""
     }
    },
    "180ea131d0394a1d9cbdd0f360ff7609": {
     "model_module": "@jupyter-widgets/base",
     "model_module_version": "1.2.0",
     "model_name": "LayoutModel",
     "state": {
      "_model_module": "@jupyter-widgets/base",
      "_model_module_version": "1.2.0",
      "_model_name": "LayoutModel",
      "_view_count": null,
      "_view_module": "@jupyter-widgets/base",
      "_view_module_version": "1.2.0",
      "_view_name": "LayoutView",
      "align_content": null,
      "align_items": null,
      "align_self": null,
      "border": null,
      "bottom": null,
      "display": null,
      "flex": null,
      "flex_flow": null,
      "grid_area": null,
      "grid_auto_columns": null,
      "grid_auto_flow": null,
      "grid_auto_rows": null,
      "grid_column": null,
      "grid_gap": null,
      "grid_row": null,
      "grid_template_areas": null,
      "grid_template_columns": null,
      "grid_template_rows": null,
      "height": null,
      "justify_content": null,
      "justify_items": null,
      "left": null,
      "margin": null,
      "max_height": null,
      "max_width": null,
      "min_height": null,
      "min_width": null,
      "object_fit": null,
      "object_position": null,
      "order": null,
      "overflow": null,
      "overflow_x": null,
      "overflow_y": null,
      "padding": null,
      "right": null,
      "top": null,
      "visibility": null,
      "width": null
     }
    },
    "1d2af328d1144a889a787004571e1e63": {
     "model_module": "@jupyter-widgets/base",
     "model_module_version": "1.2.0",
     "model_name": "LayoutModel",
     "state": {
      "_model_module": "@jupyter-widgets/base",
      "_model_module_version": "1.2.0",
      "_model_name": "LayoutModel",
      "_view_count": null,
      "_view_module": "@jupyter-widgets/base",
      "_view_module_version": "1.2.0",
      "_view_name": "LayoutView",
      "align_content": null,
      "align_items": null,
      "align_self": null,
      "border": null,
      "bottom": null,
      "display": null,
      "flex": null,
      "flex_flow": null,
      "grid_area": null,
      "grid_auto_columns": null,
      "grid_auto_flow": null,
      "grid_auto_rows": null,
      "grid_column": null,
      "grid_gap": null,
      "grid_row": null,
      "grid_template_areas": null,
      "grid_template_columns": null,
      "grid_template_rows": null,
      "height": null,
      "justify_content": null,
      "justify_items": null,
      "left": null,
      "margin": null,
      "max_height": null,
      "max_width": null,
      "min_height": null,
      "min_width": null,
      "object_fit": null,
      "object_position": null,
      "order": null,
      "overflow": null,
      "overflow_x": null,
      "overflow_y": null,
      "padding": null,
      "right": null,
      "top": null,
      "visibility": null,
      "width": null
     }
    },
    "2079462d1f5843d693f8d802e885a941": {
     "model_module": "@jupyter-widgets/controls",
     "model_module_version": "1.5.0",
     "model_name": "ProgressStyleModel",
     "state": {
      "_model_module": "@jupyter-widgets/controls",
      "_model_module_version": "1.5.0",
      "_model_name": "ProgressStyleModel",
      "_view_count": null,
      "_view_module": "@jupyter-widgets/base",
      "_view_module_version": "1.2.0",
      "_view_name": "StyleView",
      "bar_color": null,
      "description_width": ""
     }
    },
    "210e7b43dae34838a0e449099003661e": {
     "model_module": "@jupyter-widgets/controls",
     "model_module_version": "1.5.0",
     "model_name": "HTMLModel",
     "state": {
      "_dom_classes": [],
      "_model_module": "@jupyter-widgets/controls",
      "_model_module_version": "1.5.0",
      "_model_name": "HTMLModel",
      "_view_count": null,
      "_view_module": "@jupyter-widgets/controls",
      "_view_module_version": "1.5.0",
      "_view_name": "HTMLView",
      "description": "",
      "description_tooltip": null,
      "layout": "IPY_MODEL_e5162a30d2d54246be838b2b73ea528d",
      "placeholder": "​",
      "style": "IPY_MODEL_489bbe3607b740e2b5c663a5983a07fb",
      "value": "100%"
     }
    },
    "21ab079875fd483cabbd4d2501e019ce": {
     "model_module": "@jupyter-widgets/controls",
     "model_module_version": "1.5.0",
     "model_name": "DescriptionStyleModel",
     "state": {
      "_model_module": "@jupyter-widgets/controls",
      "_model_module_version": "1.5.0",
      "_model_name": "DescriptionStyleModel",
      "_view_count": null,
      "_view_module": "@jupyter-widgets/base",
      "_view_module_version": "1.2.0",
      "_view_name": "StyleView",
      "description_width": ""
     }
    },
    "22008bca75ea4f4fa2215cf35ca3e937": {
     "model_module": "@jupyter-widgets/controls",
     "model_module_version": "1.5.0",
     "model_name": "DescriptionStyleModel",
     "state": {
      "_model_module": "@jupyter-widgets/controls",
      "_model_module_version": "1.5.0",
      "_model_name": "DescriptionStyleModel",
      "_view_count": null,
      "_view_module": "@jupyter-widgets/base",
      "_view_module_version": "1.2.0",
      "_view_name": "StyleView",
      "description_width": ""
     }
    },
    "22c35d47e7ca4e769766cd243f7f1954": {
     "model_module": "@jupyter-widgets/controls",
     "model_module_version": "1.5.0",
     "model_name": "HTMLModel",
     "state": {
      "_dom_classes": [],
      "_model_module": "@jupyter-widgets/controls",
      "_model_module_version": "1.5.0",
      "_model_name": "HTMLModel",
      "_view_count": null,
      "_view_module": "@jupyter-widgets/controls",
      "_view_module_version": "1.5.0",
      "_view_name": "HTMLView",
      "description": "",
      "description_tooltip": null,
      "layout": "IPY_MODEL_da2e434757e6440b8f5ac0739ea88a29",
      "placeholder": "​",
      "style": "IPY_MODEL_058f609463a84e9aab75efd2df77f167",
      "value": " 1/1 [00:00&lt;00:00,  2.84it/s]"
     }
    },
    "27bce7ed790245e194450f29a2734ce6": {
     "model_module": "@jupyter-widgets/controls",
     "model_module_version": "1.5.0",
     "model_name": "DescriptionStyleModel",
     "state": {
      "_model_module": "@jupyter-widgets/controls",
      "_model_module_version": "1.5.0",
      "_model_name": "DescriptionStyleModel",
      "_view_count": null,
      "_view_module": "@jupyter-widgets/base",
      "_view_module_version": "1.2.0",
      "_view_name": "StyleView",
      "description_width": ""
     }
    },
    "29e07d7449c54003886c1a76a7a825b7": {
     "model_module": "@jupyter-widgets/controls",
     "model_module_version": "1.5.0",
     "model_name": "DescriptionStyleModel",
     "state": {
      "_model_module": "@jupyter-widgets/controls",
      "_model_module_version": "1.5.0",
      "_model_name": "DescriptionStyleModel",
      "_view_count": null,
      "_view_module": "@jupyter-widgets/base",
      "_view_module_version": "1.2.0",
      "_view_name": "StyleView",
      "description_width": ""
     }
    },
    "31f73ed446324cac8e9e19325cb101c5": {
     "model_module": "@jupyter-widgets/controls",
     "model_module_version": "1.5.0",
     "model_name": "HTMLModel",
     "state": {
      "_dom_classes": [],
      "_model_module": "@jupyter-widgets/controls",
      "_model_module_version": "1.5.0",
      "_model_name": "HTMLModel",
      "_view_count": null,
      "_view_module": "@jupyter-widgets/controls",
      "_view_module_version": "1.5.0",
      "_view_name": "HTMLView",
      "description": "",
      "description_tooltip": null,
      "layout": "IPY_MODEL_6dba086cb4ae431c907ffebfe7efa588",
      "placeholder": "​",
      "style": "IPY_MODEL_fc537438348a48ba95888953f3cbde8f",
      "value": "100%"
     }
    },
    "33242851222940dfa290a1f9494027ae": {
     "model_module": "@jupyter-widgets/base",
     "model_module_version": "1.2.0",
     "model_name": "LayoutModel",
     "state": {
      "_model_module": "@jupyter-widgets/base",
      "_model_module_version": "1.2.0",
      "_model_name": "LayoutModel",
      "_view_count": null,
      "_view_module": "@jupyter-widgets/base",
      "_view_module_version": "1.2.0",
      "_view_name": "LayoutView",
      "align_content": null,
      "align_items": null,
      "align_self": null,
      "border": null,
      "bottom": null,
      "display": null,
      "flex": null,
      "flex_flow": null,
      "grid_area": null,
      "grid_auto_columns": null,
      "grid_auto_flow": null,
      "grid_auto_rows": null,
      "grid_column": null,
      "grid_gap": null,
      "grid_row": null,
      "grid_template_areas": null,
      "grid_template_columns": null,
      "grid_template_rows": null,
      "height": null,
      "justify_content": null,
      "justify_items": null,
      "left": null,
      "margin": null,
      "max_height": null,
      "max_width": null,
      "min_height": null,
      "min_width": null,
      "object_fit": null,
      "object_position": null,
      "order": null,
      "overflow": null,
      "overflow_x": null,
      "overflow_y": null,
      "padding": null,
      "right": null,
      "top": null,
      "visibility": null,
      "width": null
     }
    },
    "3489efddb44f40f09e12fc7530466990": {
     "model_module": "@jupyter-widgets/controls",
     "model_module_version": "1.5.0",
     "model_name": "ProgressStyleModel",
     "state": {
      "_model_module": "@jupyter-widgets/controls",
      "_model_module_version": "1.5.0",
      "_model_name": "ProgressStyleModel",
      "_view_count": null,
      "_view_module": "@jupyter-widgets/base",
      "_view_module_version": "1.2.0",
      "_view_name": "StyleView",
      "bar_color": null,
      "description_width": ""
     }
    },
    "357fa023d92e4c12981706208237c1d3": {
     "model_module": "@jupyter-widgets/controls",
     "model_module_version": "1.5.0",
     "model_name": "HTMLModel",
     "state": {
      "_dom_classes": [],
      "_model_module": "@jupyter-widgets/controls",
      "_model_module_version": "1.5.0",
      "_model_name": "HTMLModel",
      "_view_count": null,
      "_view_module": "@jupyter-widgets/controls",
      "_view_module_version": "1.5.0",
      "_view_name": "HTMLView",
      "description": "",
      "description_tooltip": null,
      "layout": "IPY_MODEL_a330531b139143ca80e0e574d79667a4",
      "placeholder": "​",
      "style": "IPY_MODEL_37a83827c5ed4acca55010d49a0945e5",
      "value": "100%"
     }
    },
    "3759593097ff4ecdb6a86c56b8027281": {
     "model_module": "@jupyter-widgets/controls",
     "model_module_version": "1.5.0",
     "model_name": "HTMLModel",
     "state": {
      "_dom_classes": [],
      "_model_module": "@jupyter-widgets/controls",
      "_model_module_version": "1.5.0",
      "_model_name": "HTMLModel",
      "_view_count": null,
      "_view_module": "@jupyter-widgets/controls",
      "_view_module_version": "1.5.0",
      "_view_name": "HTMLView",
      "description": "",
      "description_tooltip": null,
      "layout": "IPY_MODEL_c360dcd97637430ca3c73ff95757ddf9",
      "placeholder": "​",
      "style": "IPY_MODEL_9f3cafa11cc149a6988ce74ad3bd743c",
      "value": "100%"
     }
    },
    "37a83827c5ed4acca55010d49a0945e5": {
     "model_module": "@jupyter-widgets/controls",
     "model_module_version": "1.5.0",
     "model_name": "DescriptionStyleModel",
     "state": {
      "_model_module": "@jupyter-widgets/controls",
      "_model_module_version": "1.5.0",
      "_model_name": "DescriptionStyleModel",
      "_view_count": null,
      "_view_module": "@jupyter-widgets/base",
      "_view_module_version": "1.2.0",
      "_view_name": "StyleView",
      "description_width": ""
     }
    },
    "38abb82854fe4748a6fb2c6fc50bd7ef": {
     "model_module": "@jupyter-widgets/controls",
     "model_module_version": "1.5.0",
     "model_name": "FloatProgressModel",
     "state": {
      "_dom_classes": [],
      "_model_module": "@jupyter-widgets/controls",
      "_model_module_version": "1.5.0",
      "_model_name": "FloatProgressModel",
      "_view_count": null,
      "_view_module": "@jupyter-widgets/controls",
      "_view_module_version": "1.5.0",
      "_view_name": "ProgressView",
      "bar_style": "success",
      "description": "",
      "description_tooltip": null,
      "layout": "IPY_MODEL_a1373d274b7b41abbf433d78624bf7cd",
      "max": 1,
      "min": 0,
      "orientation": "horizontal",
      "style": "IPY_MODEL_4064f69403f24549afd1958a83b30765",
      "value": 1
     }
    },
    "39ddc42c81e24884a84650d4c1ca8e0b": {
     "model_module": "@jupyter-widgets/controls",
     "model_module_version": "1.5.0",
     "model_name": "FloatProgressModel",
     "state": {
      "_dom_classes": [],
      "_model_module": "@jupyter-widgets/controls",
      "_model_module_version": "1.5.0",
      "_model_name": "FloatProgressModel",
      "_view_count": null,
      "_view_module": "@jupyter-widgets/controls",
      "_view_module_version": "1.5.0",
      "_view_name": "ProgressView",
      "bar_style": "success",
      "description": "",
      "description_tooltip": null,
      "layout": "IPY_MODEL_f6f421833284422eb341bde7a23aa084",
      "max": 1,
      "min": 0,
      "orientation": "horizontal",
      "style": "IPY_MODEL_2079462d1f5843d693f8d802e885a941",
      "value": 1
     }
    },
    "3af734b8d5a543fb9a0eebef8cb0f5f5": {
     "model_module": "@jupyter-widgets/controls",
     "model_module_version": "1.5.0",
     "model_name": "FloatProgressModel",
     "state": {
      "_dom_classes": [],
      "_model_module": "@jupyter-widgets/controls",
      "_model_module_version": "1.5.0",
      "_model_name": "FloatProgressModel",
      "_view_count": null,
      "_view_module": "@jupyter-widgets/controls",
      "_view_module_version": "1.5.0",
      "_view_name": "ProgressView",
      "bar_style": "success",
      "description": "",
      "description_tooltip": null,
      "layout": "IPY_MODEL_180ea131d0394a1d9cbdd0f360ff7609",
      "max": 1,
      "min": 0,
      "orientation": "horizontal",
      "style": "IPY_MODEL_ce04a1959f5c4ca99ed94b2107b9eb86",
      "value": 1
     }
    },
    "3cad34d74f2c469e8ba9ccf085bd7651": {
     "model_module": "@jupyter-widgets/base",
     "model_module_version": "1.2.0",
     "model_name": "LayoutModel",
     "state": {
      "_model_module": "@jupyter-widgets/base",
      "_model_module_version": "1.2.0",
      "_model_name": "LayoutModel",
      "_view_count": null,
      "_view_module": "@jupyter-widgets/base",
      "_view_module_version": "1.2.0",
      "_view_name": "LayoutView",
      "align_content": null,
      "align_items": null,
      "align_self": null,
      "border": null,
      "bottom": null,
      "display": null,
      "flex": null,
      "flex_flow": null,
      "grid_area": null,
      "grid_auto_columns": null,
      "grid_auto_flow": null,
      "grid_auto_rows": null,
      "grid_column": null,
      "grid_gap": null,
      "grid_row": null,
      "grid_template_areas": null,
      "grid_template_columns": null,
      "grid_template_rows": null,
      "height": null,
      "justify_content": null,
      "justify_items": null,
      "left": null,
      "margin": null,
      "max_height": null,
      "max_width": null,
      "min_height": null,
      "min_width": null,
      "object_fit": null,
      "object_position": null,
      "order": null,
      "overflow": null,
      "overflow_x": null,
      "overflow_y": null,
      "padding": null,
      "right": null,
      "top": null,
      "visibility": null,
      "width": null
     }
    },
    "3d5421e579e6451a864b92031b35518b": {
     "model_module": "@jupyter-widgets/base",
     "model_module_version": "1.2.0",
     "model_name": "LayoutModel",
     "state": {
      "_model_module": "@jupyter-widgets/base",
      "_model_module_version": "1.2.0",
      "_model_name": "LayoutModel",
      "_view_count": null,
      "_view_module": "@jupyter-widgets/base",
      "_view_module_version": "1.2.0",
      "_view_name": "LayoutView",
      "align_content": null,
      "align_items": null,
      "align_self": null,
      "border": null,
      "bottom": null,
      "display": null,
      "flex": null,
      "flex_flow": null,
      "grid_area": null,
      "grid_auto_columns": null,
      "grid_auto_flow": null,
      "grid_auto_rows": null,
      "grid_column": null,
      "grid_gap": null,
      "grid_row": null,
      "grid_template_areas": null,
      "grid_template_columns": null,
      "grid_template_rows": null,
      "height": null,
      "justify_content": null,
      "justify_items": null,
      "left": null,
      "margin": null,
      "max_height": null,
      "max_width": null,
      "min_height": null,
      "min_width": null,
      "object_fit": null,
      "object_position": null,
      "order": null,
      "overflow": null,
      "overflow_x": null,
      "overflow_y": null,
      "padding": null,
      "right": null,
      "top": null,
      "visibility": null,
      "width": null
     }
    },
    "3d9fdb43984645a5ac95acc93d2e5019": {
     "model_module": "@jupyter-widgets/controls",
     "model_module_version": "1.5.0",
     "model_name": "FloatProgressModel",
     "state": {
      "_dom_classes": [],
      "_model_module": "@jupyter-widgets/controls",
      "_model_module_version": "1.5.0",
      "_model_name": "FloatProgressModel",
      "_view_count": null,
      "_view_module": "@jupyter-widgets/controls",
      "_view_module_version": "1.5.0",
      "_view_name": "ProgressView",
      "bar_style": "success",
      "description": "",
      "description_tooltip": null,
      "layout": "IPY_MODEL_e0803b66b67e477292174af01ab22398",
      "max": 1,
      "min": 0,
      "orientation": "horizontal",
      "style": "IPY_MODEL_f3fe42a3ee254e36aab3c502f3b72bbc",
      "value": 1
     }
    },
    "3ee0f34d2ed942cd84361fe9489622ec": {
     "model_module": "@jupyter-widgets/controls",
     "model_module_version": "1.5.0",
     "model_name": "ProgressStyleModel",
     "state": {
      "_model_module": "@jupyter-widgets/controls",
      "_model_module_version": "1.5.0",
      "_model_name": "ProgressStyleModel",
      "_view_count": null,
      "_view_module": "@jupyter-widgets/base",
      "_view_module_version": "1.2.0",
      "_view_name": "StyleView",
      "bar_color": null,
      "description_width": ""
     }
    },
    "4064f69403f24549afd1958a83b30765": {
     "model_module": "@jupyter-widgets/controls",
     "model_module_version": "1.5.0",
     "model_name": "ProgressStyleModel",
     "state": {
      "_model_module": "@jupyter-widgets/controls",
      "_model_module_version": "1.5.0",
      "_model_name": "ProgressStyleModel",
      "_view_count": null,
      "_view_module": "@jupyter-widgets/base",
      "_view_module_version": "1.2.0",
      "_view_name": "StyleView",
      "bar_color": null,
      "description_width": ""
     }
    },
    "489bbe3607b740e2b5c663a5983a07fb": {
     "model_module": "@jupyter-widgets/controls",
     "model_module_version": "1.5.0",
     "model_name": "DescriptionStyleModel",
     "state": {
      "_model_module": "@jupyter-widgets/controls",
      "_model_module_version": "1.5.0",
      "_model_name": "DescriptionStyleModel",
      "_view_count": null,
      "_view_module": "@jupyter-widgets/base",
      "_view_module_version": "1.2.0",
      "_view_name": "StyleView",
      "description_width": ""
     }
    },
    "4ae1451550524c24b1d2f574735f54c5": {
     "model_module": "@jupyter-widgets/controls",
     "model_module_version": "1.5.0",
     "model_name": "HTMLModel",
     "state": {
      "_dom_classes": [],
      "_model_module": "@jupyter-widgets/controls",
      "_model_module_version": "1.5.0",
      "_model_name": "HTMLModel",
      "_view_count": null,
      "_view_module": "@jupyter-widgets/controls",
      "_view_module_version": "1.5.0",
      "_view_name": "HTMLView",
      "description": "",
      "description_tooltip": null,
      "layout": "IPY_MODEL_3d5421e579e6451a864b92031b35518b",
      "placeholder": "​",
      "style": "IPY_MODEL_10abc933db9645a4af81f7578985ffd6",
      "value": "100%"
     }
    },
    "4b81faa47eb04ccb9dbc33ec2fb98d23": {
     "model_module": "@jupyter-widgets/base",
     "model_module_version": "1.2.0",
     "model_name": "LayoutModel",
     "state": {
      "_model_module": "@jupyter-widgets/base",
      "_model_module_version": "1.2.0",
      "_model_name": "LayoutModel",
      "_view_count": null,
      "_view_module": "@jupyter-widgets/base",
      "_view_module_version": "1.2.0",
      "_view_name": "LayoutView",
      "align_content": null,
      "align_items": null,
      "align_self": null,
      "border": null,
      "bottom": null,
      "display": null,
      "flex": null,
      "flex_flow": null,
      "grid_area": null,
      "grid_auto_columns": null,
      "grid_auto_flow": null,
      "grid_auto_rows": null,
      "grid_column": null,
      "grid_gap": null,
      "grid_row": null,
      "grid_template_areas": null,
      "grid_template_columns": null,
      "grid_template_rows": null,
      "height": null,
      "justify_content": null,
      "justify_items": null,
      "left": null,
      "margin": null,
      "max_height": null,
      "max_width": null,
      "min_height": null,
      "min_width": null,
      "object_fit": null,
      "object_position": null,
      "order": null,
      "overflow": null,
      "overflow_x": null,
      "overflow_y": null,
      "padding": null,
      "right": null,
      "top": null,
      "visibility": null,
      "width": null
     }
    },
    "5470802862ee4b17b3a7f67171191241": {
     "model_module": "@jupyter-widgets/controls",
     "model_module_version": "1.5.0",
     "model_name": "HTMLModel",
     "state": {
      "_dom_classes": [],
      "_model_module": "@jupyter-widgets/controls",
      "_model_module_version": "1.5.0",
      "_model_name": "HTMLModel",
      "_view_count": null,
      "_view_module": "@jupyter-widgets/controls",
      "_view_module_version": "1.5.0",
      "_view_name": "HTMLView",
      "description": "",
      "description_tooltip": null,
      "layout": "IPY_MODEL_7b5dd42ad85149d49c564407b6c559ba",
      "placeholder": "​",
      "style": "IPY_MODEL_22008bca75ea4f4fa2215cf35ca3e937",
      "value": "100%"
     }
    },
    "547bb23041604217b7bd4e8e1558cab9": {
     "model_module": "@jupyter-widgets/base",
     "model_module_version": "1.2.0",
     "model_name": "LayoutModel",
     "state": {
      "_model_module": "@jupyter-widgets/base",
      "_model_module_version": "1.2.0",
      "_model_name": "LayoutModel",
      "_view_count": null,
      "_view_module": "@jupyter-widgets/base",
      "_view_module_version": "1.2.0",
      "_view_name": "LayoutView",
      "align_content": null,
      "align_items": null,
      "align_self": null,
      "border": null,
      "bottom": null,
      "display": null,
      "flex": null,
      "flex_flow": null,
      "grid_area": null,
      "grid_auto_columns": null,
      "grid_auto_flow": null,
      "grid_auto_rows": null,
      "grid_column": null,
      "grid_gap": null,
      "grid_row": null,
      "grid_template_areas": null,
      "grid_template_columns": null,
      "grid_template_rows": null,
      "height": null,
      "justify_content": null,
      "justify_items": null,
      "left": null,
      "margin": null,
      "max_height": null,
      "max_width": null,
      "min_height": null,
      "min_width": null,
      "object_fit": null,
      "object_position": null,
      "order": null,
      "overflow": null,
      "overflow_x": null,
      "overflow_y": null,
      "padding": null,
      "right": null,
      "top": null,
      "visibility": null,
      "width": null
     }
    },
    "5827a5ca9dbf41808995d4b25eb4a111": {
     "model_module": "@jupyter-widgets/base",
     "model_module_version": "1.2.0",
     "model_name": "LayoutModel",
     "state": {
      "_model_module": "@jupyter-widgets/base",
      "_model_module_version": "1.2.0",
      "_model_name": "LayoutModel",
      "_view_count": null,
      "_view_module": "@jupyter-widgets/base",
      "_view_module_version": "1.2.0",
      "_view_name": "LayoutView",
      "align_content": null,
      "align_items": null,
      "align_self": null,
      "border": null,
      "bottom": null,
      "display": null,
      "flex": null,
      "flex_flow": null,
      "grid_area": null,
      "grid_auto_columns": null,
      "grid_auto_flow": null,
      "grid_auto_rows": null,
      "grid_column": null,
      "grid_gap": null,
      "grid_row": null,
      "grid_template_areas": null,
      "grid_template_columns": null,
      "grid_template_rows": null,
      "height": null,
      "justify_content": null,
      "justify_items": null,
      "left": null,
      "margin": null,
      "max_height": null,
      "max_width": null,
      "min_height": null,
      "min_width": null,
      "object_fit": null,
      "object_position": null,
      "order": null,
      "overflow": null,
      "overflow_x": null,
      "overflow_y": null,
      "padding": null,
      "right": null,
      "top": null,
      "visibility": null,
      "width": null
     }
    },
    "5cb79d4e8860464799a5e76d977c9220": {
     "model_module": "@jupyter-widgets/controls",
     "model_module_version": "1.5.0",
     "model_name": "DescriptionStyleModel",
     "state": {
      "_model_module": "@jupyter-widgets/controls",
      "_model_module_version": "1.5.0",
      "_model_name": "DescriptionStyleModel",
      "_view_count": null,
      "_view_module": "@jupyter-widgets/base",
      "_view_module_version": "1.2.0",
      "_view_name": "StyleView",
      "description_width": ""
     }
    },
    "614e4f051eb345c5a6a6c7814a92bf27": {
     "model_module": "@jupyter-widgets/base",
     "model_module_version": "1.2.0",
     "model_name": "LayoutModel",
     "state": {
      "_model_module": "@jupyter-widgets/base",
      "_model_module_version": "1.2.0",
      "_model_name": "LayoutModel",
      "_view_count": null,
      "_view_module": "@jupyter-widgets/base",
      "_view_module_version": "1.2.0",
      "_view_name": "LayoutView",
      "align_content": null,
      "align_items": null,
      "align_self": null,
      "border": null,
      "bottom": null,
      "display": null,
      "flex": null,
      "flex_flow": null,
      "grid_area": null,
      "grid_auto_columns": null,
      "grid_auto_flow": null,
      "grid_auto_rows": null,
      "grid_column": null,
      "grid_gap": null,
      "grid_row": null,
      "grid_template_areas": null,
      "grid_template_columns": null,
      "grid_template_rows": null,
      "height": null,
      "justify_content": null,
      "justify_items": null,
      "left": null,
      "margin": null,
      "max_height": null,
      "max_width": null,
      "min_height": null,
      "min_width": null,
      "object_fit": null,
      "object_position": null,
      "order": null,
      "overflow": null,
      "overflow_x": null,
      "overflow_y": null,
      "padding": null,
      "right": null,
      "top": null,
      "visibility": null,
      "width": null
     }
    },
    "65766ae30dfe43158861d614bdde793a": {
     "model_module": "@jupyter-widgets/controls",
     "model_module_version": "1.5.0",
     "model_name": "FloatProgressModel",
     "state": {
      "_dom_classes": [],
      "_model_module": "@jupyter-widgets/controls",
      "_model_module_version": "1.5.0",
      "_model_name": "FloatProgressModel",
      "_view_count": null,
      "_view_module": "@jupyter-widgets/controls",
      "_view_module_version": "1.5.0",
      "_view_name": "ProgressView",
      "bar_style": "success",
      "description": "",
      "description_tooltip": null,
      "layout": "IPY_MODEL_a1981e8c12e34151a7ae1d3f2d1ff6ee",
      "max": 1,
      "min": 0,
      "orientation": "horizontal",
      "style": "IPY_MODEL_09a8bf9fcf6546f5b5a18f32e3e0e32c",
      "value": 1
     }
    },
    "6dba086cb4ae431c907ffebfe7efa588": {
     "model_module": "@jupyter-widgets/base",
     "model_module_version": "1.2.0",
     "model_name": "LayoutModel",
     "state": {
      "_model_module": "@jupyter-widgets/base",
      "_model_module_version": "1.2.0",
      "_model_name": "LayoutModel",
      "_view_count": null,
      "_view_module": "@jupyter-widgets/base",
      "_view_module_version": "1.2.0",
      "_view_name": "LayoutView",
      "align_content": null,
      "align_items": null,
      "align_self": null,
      "border": null,
      "bottom": null,
      "display": null,
      "flex": null,
      "flex_flow": null,
      "grid_area": null,
      "grid_auto_columns": null,
      "grid_auto_flow": null,
      "grid_auto_rows": null,
      "grid_column": null,
      "grid_gap": null,
      "grid_row": null,
      "grid_template_areas": null,
      "grid_template_columns": null,
      "grid_template_rows": null,
      "height": null,
      "justify_content": null,
      "justify_items": null,
      "left": null,
      "margin": null,
      "max_height": null,
      "max_width": null,
      "min_height": null,
      "min_width": null,
      "object_fit": null,
      "object_position": null,
      "order": null,
      "overflow": null,
      "overflow_x": null,
      "overflow_y": null,
      "padding": null,
      "right": null,
      "top": null,
      "visibility": null,
      "width": null
     }
    },
    "6e2be42af44a4ee29a4b9e338cff8bce": {
     "model_module": "@jupyter-widgets/controls",
     "model_module_version": "1.5.0",
     "model_name": "HTMLModel",
     "state": {
      "_dom_classes": [],
      "_model_module": "@jupyter-widgets/controls",
      "_model_module_version": "1.5.0",
      "_model_name": "HTMLModel",
      "_view_count": null,
      "_view_module": "@jupyter-widgets/controls",
      "_view_module_version": "1.5.0",
      "_view_name": "HTMLView",
      "description": "",
      "description_tooltip": null,
      "layout": "IPY_MODEL_ec436c6536d94e868980223f75b55ee7",
      "placeholder": "​",
      "style": "IPY_MODEL_5cb79d4e8860464799a5e76d977c9220",
      "value": " 1/1 [00:00&lt;00:00,  1.66it/s]"
     }
    },
    "714097c87a7141f1be256ec879f065e8": {
     "model_module": "@jupyter-widgets/controls",
     "model_module_version": "1.5.0",
     "model_name": "DescriptionStyleModel",
     "state": {
      "_model_module": "@jupyter-widgets/controls",
      "_model_module_version": "1.5.0",
      "_model_name": "DescriptionStyleModel",
      "_view_count": null,
      "_view_module": "@jupyter-widgets/base",
      "_view_module_version": "1.2.0",
      "_view_name": "StyleView",
      "description_width": ""
     }
    },
    "7341e1ccbaa842f69e0f34c68eb24654": {
     "model_module": "@jupyter-widgets/controls",
     "model_module_version": "1.5.0",
     "model_name": "HTMLModel",
     "state": {
      "_dom_classes": [],
      "_model_module": "@jupyter-widgets/controls",
      "_model_module_version": "1.5.0",
      "_model_name": "HTMLModel",
      "_view_count": null,
      "_view_module": "@jupyter-widgets/controls",
      "_view_module_version": "1.5.0",
      "_view_name": "HTMLView",
      "description": "",
      "description_tooltip": null,
      "layout": "IPY_MODEL_feb2c63c6013485fa746460b91afc9cd",
      "placeholder": "​",
      "style": "IPY_MODEL_ade5f54fa00e400a8864ba05f4b63ce6",
      "value": " 1/1 [00:00&lt;00:00,  2.85it/s]"
     }
    },
    "766aa67bd4d64a1d819e7aeed0fc78bc": {
     "model_module": "@jupyter-widgets/base",
     "model_module_version": "1.2.0",
     "model_name": "LayoutModel",
     "state": {
      "_model_module": "@jupyter-widgets/base",
      "_model_module_version": "1.2.0",
      "_model_name": "LayoutModel",
      "_view_count": null,
      "_view_module": "@jupyter-widgets/base",
      "_view_module_version": "1.2.0",
      "_view_name": "LayoutView",
      "align_content": null,
      "align_items": null,
      "align_self": null,
      "border": null,
      "bottom": null,
      "display": null,
      "flex": null,
      "flex_flow": null,
      "grid_area": null,
      "grid_auto_columns": null,
      "grid_auto_flow": null,
      "grid_auto_rows": null,
      "grid_column": null,
      "grid_gap": null,
      "grid_row": null,
      "grid_template_areas": null,
      "grid_template_columns": null,
      "grid_template_rows": null,
      "height": null,
      "justify_content": null,
      "justify_items": null,
      "left": null,
      "margin": null,
      "max_height": null,
      "max_width": null,
      "min_height": null,
      "min_width": null,
      "object_fit": null,
      "object_position": null,
      "order": null,
      "overflow": null,
      "overflow_x": null,
      "overflow_y": null,
      "padding": null,
      "right": null,
      "top": null,
      "visibility": null,
      "width": null
     }
    },
    "7807adb515a14de99895c3dff3a28146": {
     "model_module": "@jupyter-widgets/controls",
     "model_module_version": "1.5.0",
     "model_name": "HBoxModel",
     "state": {
      "_dom_classes": [],
      "_model_module": "@jupyter-widgets/controls",
      "_model_module_version": "1.5.0",
      "_model_name": "HBoxModel",
      "_view_count": null,
      "_view_module": "@jupyter-widgets/controls",
      "_view_module_version": "1.5.0",
      "_view_name": "HBoxView",
      "box_style": "",
      "children": [
       "IPY_MODEL_31f73ed446324cac8e9e19325cb101c5",
       "IPY_MODEL_3af734b8d5a543fb9a0eebef8cb0f5f5",
       "IPY_MODEL_7341e1ccbaa842f69e0f34c68eb24654"
      ],
      "layout": "IPY_MODEL_5827a5ca9dbf41808995d4b25eb4a111"
     }
    },
    "7b5dd42ad85149d49c564407b6c559ba": {
     "model_module": "@jupyter-widgets/base",
     "model_module_version": "1.2.0",
     "model_name": "LayoutModel",
     "state": {
      "_model_module": "@jupyter-widgets/base",
      "_model_module_version": "1.2.0",
      "_model_name": "LayoutModel",
      "_view_count": null,
      "_view_module": "@jupyter-widgets/base",
      "_view_module_version": "1.2.0",
      "_view_name": "LayoutView",
      "align_content": null,
      "align_items": null,
      "align_self": null,
      "border": null,
      "bottom": null,
      "display": null,
      "flex": null,
      "flex_flow": null,
      "grid_area": null,
      "grid_auto_columns": null,
      "grid_auto_flow": null,
      "grid_auto_rows": null,
      "grid_column": null,
      "grid_gap": null,
      "grid_row": null,
      "grid_template_areas": null,
      "grid_template_columns": null,
      "grid_template_rows": null,
      "height": null,
      "justify_content": null,
      "justify_items": null,
      "left": null,
      "margin": null,
      "max_height": null,
      "max_width": null,
      "min_height": null,
      "min_width": null,
      "object_fit": null,
      "object_position": null,
      "order": null,
      "overflow": null,
      "overflow_x": null,
      "overflow_y": null,
      "padding": null,
      "right": null,
      "top": null,
      "visibility": null,
      "width": null
     }
    },
    "815e58cbd97f4c88b41cc12521b933d1": {
     "model_module": "@jupyter-widgets/controls",
     "model_module_version": "1.5.0",
     "model_name": "FloatProgressModel",
     "state": {
      "_dom_classes": [],
      "_model_module": "@jupyter-widgets/controls",
      "_model_module_version": "1.5.0",
      "_model_name": "FloatProgressModel",
      "_view_count": null,
      "_view_module": "@jupyter-widgets/controls",
      "_view_module_version": "1.5.0",
      "_view_name": "ProgressView",
      "bar_style": "success",
      "description": "",
      "description_tooltip": null,
      "layout": "IPY_MODEL_547bb23041604217b7bd4e8e1558cab9",
      "max": 1,
      "min": 0,
      "orientation": "horizontal",
      "style": "IPY_MODEL_3ee0f34d2ed942cd84361fe9489622ec",
      "value": 1
     }
    },
    "839cfead3c694ac3877284f97e9f8f26": {
     "model_module": "@jupyter-widgets/controls",
     "model_module_version": "1.5.0",
     "model_name": "HTMLModel",
     "state": {
      "_dom_classes": [],
      "_model_module": "@jupyter-widgets/controls",
      "_model_module_version": "1.5.0",
      "_model_name": "HTMLModel",
      "_view_count": null,
      "_view_module": "@jupyter-widgets/controls",
      "_view_module_version": "1.5.0",
      "_view_name": "HTMLView",
      "description": "",
      "description_tooltip": null,
      "layout": "IPY_MODEL_766aa67bd4d64a1d819e7aeed0fc78bc",
      "placeholder": "​",
      "style": "IPY_MODEL_29e07d7449c54003886c1a76a7a825b7",
      "value": " 1/1 [00:00&lt;00:00,  2.84it/s]"
     }
    },
    "88d417193eab4c4c873d98171c16a4c2": {
     "model_module": "@jupyter-widgets/controls",
     "model_module_version": "1.5.0",
     "model_name": "HBoxModel",
     "state": {
      "_dom_classes": [],
      "_model_module": "@jupyter-widgets/controls",
      "_model_module_version": "1.5.0",
      "_model_name": "HBoxModel",
      "_view_count": null,
      "_view_module": "@jupyter-widgets/controls",
      "_view_module_version": "1.5.0",
      "_view_name": "HBoxView",
      "box_style": "",
      "children": [
       "IPY_MODEL_c42095908ff341c8af69500273a3c223",
       "IPY_MODEL_98fefecf8aaf417cad46639dbf446fa8",
       "IPY_MODEL_22c35d47e7ca4e769766cd243f7f1954"
      ],
      "layout": "IPY_MODEL_99ebf7e51f4249aebf90710c25591a43"
     }
    },
    "8a2d02bc1706449c895de0ae4e85da1c": {
     "model_module": "@jupyter-widgets/base",
     "model_module_version": "1.2.0",
     "model_name": "LayoutModel",
     "state": {
      "_model_module": "@jupyter-widgets/base",
      "_model_module_version": "1.2.0",
      "_model_name": "LayoutModel",
      "_view_count": null,
      "_view_module": "@jupyter-widgets/base",
      "_view_module_version": "1.2.0",
      "_view_name": "LayoutView",
      "align_content": null,
      "align_items": null,
      "align_self": null,
      "border": null,
      "bottom": null,
      "display": null,
      "flex": null,
      "flex_flow": null,
      "grid_area": null,
      "grid_auto_columns": null,
      "grid_auto_flow": null,
      "grid_auto_rows": null,
      "grid_column": null,
      "grid_gap": null,
      "grid_row": null,
      "grid_template_areas": null,
      "grid_template_columns": null,
      "grid_template_rows": null,
      "height": null,
      "justify_content": null,
      "justify_items": null,
      "left": null,
      "margin": null,
      "max_height": null,
      "max_width": null,
      "min_height": null,
      "min_width": null,
      "object_fit": null,
      "object_position": null,
      "order": null,
      "overflow": null,
      "overflow_x": null,
      "overflow_y": null,
      "padding": null,
      "right": null,
      "top": null,
      "visibility": null,
      "width": null
     }
    },
    "912eb391efa64faa9f82939ca9dfe713": {
     "model_module": "@jupyter-widgets/base",
     "model_module_version": "1.2.0",
     "model_name": "LayoutModel",
     "state": {
      "_model_module": "@jupyter-widgets/base",
      "_model_module_version": "1.2.0",
      "_model_name": "LayoutModel",
      "_view_count": null,
      "_view_module": "@jupyter-widgets/base",
      "_view_module_version": "1.2.0",
      "_view_name": "LayoutView",
      "align_content": null,
      "align_items": null,
      "align_self": null,
      "border": null,
      "bottom": null,
      "display": null,
      "flex": null,
      "flex_flow": null,
      "grid_area": null,
      "grid_auto_columns": null,
      "grid_auto_flow": null,
      "grid_auto_rows": null,
      "grid_column": null,
      "grid_gap": null,
      "grid_row": null,
      "grid_template_areas": null,
      "grid_template_columns": null,
      "grid_template_rows": null,
      "height": null,
      "justify_content": null,
      "justify_items": null,
      "left": null,
      "margin": null,
      "max_height": null,
      "max_width": null,
      "min_height": null,
      "min_width": null,
      "object_fit": null,
      "object_position": null,
      "order": null,
      "overflow": null,
      "overflow_x": null,
      "overflow_y": null,
      "padding": null,
      "right": null,
      "top": null,
      "visibility": null,
      "width": null
     }
    },
    "980917a641d04b3bb19280d166413b61": {
     "model_module": "@jupyter-widgets/controls",
     "model_module_version": "1.5.0",
     "model_name": "HTMLModel",
     "state": {
      "_dom_classes": [],
      "_model_module": "@jupyter-widgets/controls",
      "_model_module_version": "1.5.0",
      "_model_name": "HTMLModel",
      "_view_count": null,
      "_view_module": "@jupyter-widgets/controls",
      "_view_module_version": "1.5.0",
      "_view_name": "HTMLView",
      "description": "",
      "description_tooltip": null,
      "layout": "IPY_MODEL_912eb391efa64faa9f82939ca9dfe713",
      "placeholder": "​",
      "style": "IPY_MODEL_172dba28011045ffad6d332af5fa5fa7",
      "value": " 1/1 [00:00&lt;00:00,  1.59it/s]"
     }
    },
    "98fefecf8aaf417cad46639dbf446fa8": {
     "model_module": "@jupyter-widgets/controls",
     "model_module_version": "1.5.0",
     "model_name": "FloatProgressModel",
     "state": {
      "_dom_classes": [],
      "_model_module": "@jupyter-widgets/controls",
      "_model_module_version": "1.5.0",
      "_model_name": "FloatProgressModel",
      "_view_count": null,
      "_view_module": "@jupyter-widgets/controls",
      "_view_module_version": "1.5.0",
      "_view_name": "ProgressView",
      "bar_style": "success",
      "description": "",
      "description_tooltip": null,
      "layout": "IPY_MODEL_bf721946745f421a9f85c0c6c5ccffef",
      "max": 1,
      "min": 0,
      "orientation": "horizontal",
      "style": "IPY_MODEL_3489efddb44f40f09e12fc7530466990",
      "value": 1
     }
    },
    "99ebf7e51f4249aebf90710c25591a43": {
     "model_module": "@jupyter-widgets/base",
     "model_module_version": "1.2.0",
     "model_name": "LayoutModel",
     "state": {
      "_model_module": "@jupyter-widgets/base",
      "_model_module_version": "1.2.0",
      "_model_name": "LayoutModel",
      "_view_count": null,
      "_view_module": "@jupyter-widgets/base",
      "_view_module_version": "1.2.0",
      "_view_name": "LayoutView",
      "align_content": null,
      "align_items": null,
      "align_self": null,
      "border": null,
      "bottom": null,
      "display": null,
      "flex": null,
      "flex_flow": null,
      "grid_area": null,
      "grid_auto_columns": null,
      "grid_auto_flow": null,
      "grid_auto_rows": null,
      "grid_column": null,
      "grid_gap": null,
      "grid_row": null,
      "grid_template_areas": null,
      "grid_template_columns": null,
      "grid_template_rows": null,
      "height": null,
      "justify_content": null,
      "justify_items": null,
      "left": null,
      "margin": null,
      "max_height": null,
      "max_width": null,
      "min_height": null,
      "min_width": null,
      "object_fit": null,
      "object_position": null,
      "order": null,
      "overflow": null,
      "overflow_x": null,
      "overflow_y": null,
      "padding": null,
      "right": null,
      "top": null,
      "visibility": null,
      "width": null
     }
    },
    "9ebe6bbe889b4f9e9fd58a7553b08d45": {
     "model_module": "@jupyter-widgets/base",
     "model_module_version": "1.2.0",
     "model_name": "LayoutModel",
     "state": {
      "_model_module": "@jupyter-widgets/base",
      "_model_module_version": "1.2.0",
      "_model_name": "LayoutModel",
      "_view_count": null,
      "_view_module": "@jupyter-widgets/base",
      "_view_module_version": "1.2.0",
      "_view_name": "LayoutView",
      "align_content": null,
      "align_items": null,
      "align_self": null,
      "border": null,
      "bottom": null,
      "display": null,
      "flex": null,
      "flex_flow": null,
      "grid_area": null,
      "grid_auto_columns": null,
      "grid_auto_flow": null,
      "grid_auto_rows": null,
      "grid_column": null,
      "grid_gap": null,
      "grid_row": null,
      "grid_template_areas": null,
      "grid_template_columns": null,
      "grid_template_rows": null,
      "height": null,
      "justify_content": null,
      "justify_items": null,
      "left": null,
      "margin": null,
      "max_height": null,
      "max_width": null,
      "min_height": null,
      "min_width": null,
      "object_fit": null,
      "object_position": null,
      "order": null,
      "overflow": null,
      "overflow_x": null,
      "overflow_y": null,
      "padding": null,
      "right": null,
      "top": null,
      "visibility": null,
      "width": null
     }
    },
    "9f3cafa11cc149a6988ce74ad3bd743c": {
     "model_module": "@jupyter-widgets/controls",
     "model_module_version": "1.5.0",
     "model_name": "DescriptionStyleModel",
     "state": {
      "_model_module": "@jupyter-widgets/controls",
      "_model_module_version": "1.5.0",
      "_model_name": "DescriptionStyleModel",
      "_view_count": null,
      "_view_module": "@jupyter-widgets/base",
      "_view_module_version": "1.2.0",
      "_view_name": "StyleView",
      "description_width": ""
     }
    },
    "a0b4ce5c988041d0a035308366fc50cf": {
     "model_module": "@jupyter-widgets/controls",
     "model_module_version": "1.5.0",
     "model_name": "HTMLModel",
     "state": {
      "_dom_classes": [],
      "_model_module": "@jupyter-widgets/controls",
      "_model_module_version": "1.5.0",
      "_model_name": "HTMLModel",
      "_view_count": null,
      "_view_module": "@jupyter-widgets/controls",
      "_view_module_version": "1.5.0",
      "_view_name": "HTMLView",
      "description": "",
      "description_tooltip": null,
      "layout": "IPY_MODEL_4b81faa47eb04ccb9dbc33ec2fb98d23",
      "placeholder": "​",
      "style": "IPY_MODEL_d3585db99d234f70a70dbe2c2c596ceb",
      "value": " 1/1 [00:00&lt;00:00,  1.66it/s]"
     }
    },
    "a1373d274b7b41abbf433d78624bf7cd": {
     "model_module": "@jupyter-widgets/base",
     "model_module_version": "1.2.0",
     "model_name": "LayoutModel",
     "state": {
      "_model_module": "@jupyter-widgets/base",
      "_model_module_version": "1.2.0",
      "_model_name": "LayoutModel",
      "_view_count": null,
      "_view_module": "@jupyter-widgets/base",
      "_view_module_version": "1.2.0",
      "_view_name": "LayoutView",
      "align_content": null,
      "align_items": null,
      "align_self": null,
      "border": null,
      "bottom": null,
      "display": null,
      "flex": null,
      "flex_flow": null,
      "grid_area": null,
      "grid_auto_columns": null,
      "grid_auto_flow": null,
      "grid_auto_rows": null,
      "grid_column": null,
      "grid_gap": null,
      "grid_row": null,
      "grid_template_areas": null,
      "grid_template_columns": null,
      "grid_template_rows": null,
      "height": null,
      "justify_content": null,
      "justify_items": null,
      "left": null,
      "margin": null,
      "max_height": null,
      "max_width": null,
      "min_height": null,
      "min_width": null,
      "object_fit": null,
      "object_position": null,
      "order": null,
      "overflow": null,
      "overflow_x": null,
      "overflow_y": null,
      "padding": null,
      "right": null,
      "top": null,
      "visibility": null,
      "width": null
     }
    },
    "a1981e8c12e34151a7ae1d3f2d1ff6ee": {
     "model_module": "@jupyter-widgets/base",
     "model_module_version": "1.2.0",
     "model_name": "LayoutModel",
     "state": {
      "_model_module": "@jupyter-widgets/base",
      "_model_module_version": "1.2.0",
      "_model_name": "LayoutModel",
      "_view_count": null,
      "_view_module": "@jupyter-widgets/base",
      "_view_module_version": "1.2.0",
      "_view_name": "LayoutView",
      "align_content": null,
      "align_items": null,
      "align_self": null,
      "border": null,
      "bottom": null,
      "display": null,
      "flex": null,
      "flex_flow": null,
      "grid_area": null,
      "grid_auto_columns": null,
      "grid_auto_flow": null,
      "grid_auto_rows": null,
      "grid_column": null,
      "grid_gap": null,
      "grid_row": null,
      "grid_template_areas": null,
      "grid_template_columns": null,
      "grid_template_rows": null,
      "height": null,
      "justify_content": null,
      "justify_items": null,
      "left": null,
      "margin": null,
      "max_height": null,
      "max_width": null,
      "min_height": null,
      "min_width": null,
      "object_fit": null,
      "object_position": null,
      "order": null,
      "overflow": null,
      "overflow_x": null,
      "overflow_y": null,
      "padding": null,
      "right": null,
      "top": null,
      "visibility": null,
      "width": null
     }
    },
    "a330531b139143ca80e0e574d79667a4": {
     "model_module": "@jupyter-widgets/base",
     "model_module_version": "1.2.0",
     "model_name": "LayoutModel",
     "state": {
      "_model_module": "@jupyter-widgets/base",
      "_model_module_version": "1.2.0",
      "_model_name": "LayoutModel",
      "_view_count": null,
      "_view_module": "@jupyter-widgets/base",
      "_view_module_version": "1.2.0",
      "_view_name": "LayoutView",
      "align_content": null,
      "align_items": null,
      "align_self": null,
      "border": null,
      "bottom": null,
      "display": null,
      "flex": null,
      "flex_flow": null,
      "grid_area": null,
      "grid_auto_columns": null,
      "grid_auto_flow": null,
      "grid_auto_rows": null,
      "grid_column": null,
      "grid_gap": null,
      "grid_row": null,
      "grid_template_areas": null,
      "grid_template_columns": null,
      "grid_template_rows": null,
      "height": null,
      "justify_content": null,
      "justify_items": null,
      "left": null,
      "margin": null,
      "max_height": null,
      "max_width": null,
      "min_height": null,
      "min_width": null,
      "object_fit": null,
      "object_position": null,
      "order": null,
      "overflow": null,
      "overflow_x": null,
      "overflow_y": null,
      "padding": null,
      "right": null,
      "top": null,
      "visibility": null,
      "width": null
     }
    },
    "a6d344766e724cc2adde44ed156a99e3": {
     "model_module": "@jupyter-widgets/controls",
     "model_module_version": "1.5.0",
     "model_name": "HTMLModel",
     "state": {
      "_dom_classes": [],
      "_model_module": "@jupyter-widgets/controls",
      "_model_module_version": "1.5.0",
      "_model_name": "HTMLModel",
      "_view_count": null,
      "_view_module": "@jupyter-widgets/controls",
      "_view_module_version": "1.5.0",
      "_view_name": "HTMLView",
      "description": "",
      "description_tooltip": null,
      "layout": "IPY_MODEL_9ebe6bbe889b4f9e9fd58a7553b08d45",
      "placeholder": "​",
      "style": "IPY_MODEL_df1b5353c28f478fb7bfee20bdd2983e",
      "value": " 1/1 [00:00&lt;00:00,  2.40it/s]"
     }
    },
    "adbc32fb72524b8891a5e759f64eeffa": {
     "model_module": "@jupyter-widgets/base",
     "model_module_version": "1.2.0",
     "model_name": "LayoutModel",
     "state": {
      "_model_module": "@jupyter-widgets/base",
      "_model_module_version": "1.2.0",
      "_model_name": "LayoutModel",
      "_view_count": null,
      "_view_module": "@jupyter-widgets/base",
      "_view_module_version": "1.2.0",
      "_view_name": "LayoutView",
      "align_content": null,
      "align_items": null,
      "align_self": null,
      "border": null,
      "bottom": null,
      "display": null,
      "flex": null,
      "flex_flow": null,
      "grid_area": null,
      "grid_auto_columns": null,
      "grid_auto_flow": null,
      "grid_auto_rows": null,
      "grid_column": null,
      "grid_gap": null,
      "grid_row": null,
      "grid_template_areas": null,
      "grid_template_columns": null,
      "grid_template_rows": null,
      "height": null,
      "justify_content": null,
      "justify_items": null,
      "left": null,
      "margin": null,
      "max_height": null,
      "max_width": null,
      "min_height": null,
      "min_width": null,
      "object_fit": null,
      "object_position": null,
      "order": null,
      "overflow": null,
      "overflow_x": null,
      "overflow_y": null,
      "padding": null,
      "right": null,
      "top": null,
      "visibility": null,
      "width": null
     }
    },
    "adce4de9637948ad8710274719f35bd4": {
     "model_module": "@jupyter-widgets/controls",
     "model_module_version": "1.5.0",
     "model_name": "FloatProgressModel",
     "state": {
      "_dom_classes": [],
      "_model_module": "@jupyter-widgets/controls",
      "_model_module_version": "1.5.0",
      "_model_name": "FloatProgressModel",
      "_view_count": null,
      "_view_module": "@jupyter-widgets/controls",
      "_view_module_version": "1.5.0",
      "_view_name": "ProgressView",
      "bar_style": "success",
      "description": "",
      "description_tooltip": null,
      "layout": "IPY_MODEL_d89269d16f474717b595e3551803946b",
      "max": 1,
      "min": 0,
      "orientation": "horizontal",
      "style": "IPY_MODEL_146e118caa974a26a260e0f8baba3b6a",
      "value": 1
     }
    },
    "ade5f54fa00e400a8864ba05f4b63ce6": {
     "model_module": "@jupyter-widgets/controls",
     "model_module_version": "1.5.0",
     "model_name": "DescriptionStyleModel",
     "state": {
      "_model_module": "@jupyter-widgets/controls",
      "_model_module_version": "1.5.0",
      "_model_name": "DescriptionStyleModel",
      "_view_count": null,
      "_view_module": "@jupyter-widgets/base",
      "_view_module_version": "1.2.0",
      "_view_name": "StyleView",
      "description_width": ""
     }
    },
    "b702d0027ef74b1ab149e090e5fcb14d": {
     "model_module": "@jupyter-widgets/controls",
     "model_module_version": "1.5.0",
     "model_name": "HBoxModel",
     "state": {
      "_dom_classes": [],
      "_model_module": "@jupyter-widgets/controls",
      "_model_module_version": "1.5.0",
      "_model_name": "HBoxModel",
      "_view_count": null,
      "_view_module": "@jupyter-widgets/controls",
      "_view_module_version": "1.5.0",
      "_view_name": "HBoxView",
      "box_style": "",
      "children": [
       "IPY_MODEL_5470802862ee4b17b3a7f67171191241",
       "IPY_MODEL_815e58cbd97f4c88b41cc12521b933d1",
       "IPY_MODEL_839cfead3c694ac3877284f97e9f8f26"
      ],
      "layout": "IPY_MODEL_de786e5ca95b44ff812ac51383a87842"
     }
    },
    "b7d8843fe8c04435848f0bf958e2b411": {
     "model_module": "@jupyter-widgets/controls",
     "model_module_version": "1.5.0",
     "model_name": "HTMLModel",
     "state": {
      "_dom_classes": [],
      "_model_module": "@jupyter-widgets/controls",
      "_model_module_version": "1.5.0",
      "_model_name": "HTMLModel",
      "_view_count": null,
      "_view_module": "@jupyter-widgets/controls",
      "_view_module_version": "1.5.0",
      "_view_name": "HTMLView",
      "description": "",
      "description_tooltip": null,
      "layout": "IPY_MODEL_e18ce856d88442f8a8a1de7b34ef9ea8",
      "placeholder": "​",
      "style": "IPY_MODEL_21ab079875fd483cabbd4d2501e019ce",
      "value": "100%"
     }
    },
    "bacf2cbcc23046abbe974e0f8c5c0979": {
     "model_module": "@jupyter-widgets/base",
     "model_module_version": "1.2.0",
     "model_name": "LayoutModel",
     "state": {
      "_model_module": "@jupyter-widgets/base",
      "_model_module_version": "1.2.0",
      "_model_name": "LayoutModel",
      "_view_count": null,
      "_view_module": "@jupyter-widgets/base",
      "_view_module_version": "1.2.0",
      "_view_name": "LayoutView",
      "align_content": null,
      "align_items": null,
      "align_self": null,
      "border": null,
      "bottom": null,
      "display": null,
      "flex": null,
      "flex_flow": null,
      "grid_area": null,
      "grid_auto_columns": null,
      "grid_auto_flow": null,
      "grid_auto_rows": null,
      "grid_column": null,
      "grid_gap": null,
      "grid_row": null,
      "grid_template_areas": null,
      "grid_template_columns": null,
      "grid_template_rows": null,
      "height": null,
      "justify_content": null,
      "justify_items": null,
      "left": null,
      "margin": null,
      "max_height": null,
      "max_width": null,
      "min_height": null,
      "min_width": null,
      "object_fit": null,
      "object_position": null,
      "order": null,
      "overflow": null,
      "overflow_x": null,
      "overflow_y": null,
      "padding": null,
      "right": null,
      "top": null,
      "visibility": null,
      "width": null
     }
    },
    "bf721946745f421a9f85c0c6c5ccffef": {
     "model_module": "@jupyter-widgets/base",
     "model_module_version": "1.2.0",
     "model_name": "LayoutModel",
     "state": {
      "_model_module": "@jupyter-widgets/base",
      "_model_module_version": "1.2.0",
      "_model_name": "LayoutModel",
      "_view_count": null,
      "_view_module": "@jupyter-widgets/base",
      "_view_module_version": "1.2.0",
      "_view_name": "LayoutView",
      "align_content": null,
      "align_items": null,
      "align_self": null,
      "border": null,
      "bottom": null,
      "display": null,
      "flex": null,
      "flex_flow": null,
      "grid_area": null,
      "grid_auto_columns": null,
      "grid_auto_flow": null,
      "grid_auto_rows": null,
      "grid_column": null,
      "grid_gap": null,
      "grid_row": null,
      "grid_template_areas": null,
      "grid_template_columns": null,
      "grid_template_rows": null,
      "height": null,
      "justify_content": null,
      "justify_items": null,
      "left": null,
      "margin": null,
      "max_height": null,
      "max_width": null,
      "min_height": null,
      "min_width": null,
      "object_fit": null,
      "object_position": null,
      "order": null,
      "overflow": null,
      "overflow_x": null,
      "overflow_y": null,
      "padding": null,
      "right": null,
      "top": null,
      "visibility": null,
      "width": null
     }
    },
    "c360dcd97637430ca3c73ff95757ddf9": {
     "model_module": "@jupyter-widgets/base",
     "model_module_version": "1.2.0",
     "model_name": "LayoutModel",
     "state": {
      "_model_module": "@jupyter-widgets/base",
      "_model_module_version": "1.2.0",
      "_model_name": "LayoutModel",
      "_view_count": null,
      "_view_module": "@jupyter-widgets/base",
      "_view_module_version": "1.2.0",
      "_view_name": "LayoutView",
      "align_content": null,
      "align_items": null,
      "align_self": null,
      "border": null,
      "bottom": null,
      "display": null,
      "flex": null,
      "flex_flow": null,
      "grid_area": null,
      "grid_auto_columns": null,
      "grid_auto_flow": null,
      "grid_auto_rows": null,
      "grid_column": null,
      "grid_gap": null,
      "grid_row": null,
      "grid_template_areas": null,
      "grid_template_columns": null,
      "grid_template_rows": null,
      "height": null,
      "justify_content": null,
      "justify_items": null,
      "left": null,
      "margin": null,
      "max_height": null,
      "max_width": null,
      "min_height": null,
      "min_width": null,
      "object_fit": null,
      "object_position": null,
      "order": null,
      "overflow": null,
      "overflow_x": null,
      "overflow_y": null,
      "padding": null,
      "right": null,
      "top": null,
      "visibility": null,
      "width": null
     }
    },
    "c42095908ff341c8af69500273a3c223": {
     "model_module": "@jupyter-widgets/controls",
     "model_module_version": "1.5.0",
     "model_name": "HTMLModel",
     "state": {
      "_dom_classes": [],
      "_model_module": "@jupyter-widgets/controls",
      "_model_module_version": "1.5.0",
      "_model_name": "HTMLModel",
      "_view_count": null,
      "_view_module": "@jupyter-widgets/controls",
      "_view_module_version": "1.5.0",
      "_view_name": "HTMLView",
      "description": "",
      "description_tooltip": null,
      "layout": "IPY_MODEL_3cad34d74f2c469e8ba9ccf085bd7651",
      "placeholder": "​",
      "style": "IPY_MODEL_27bce7ed790245e194450f29a2734ce6",
      "value": "100%"
     }
    },
    "c5cc621184044acba3317a926b979502": {
     "model_module": "@jupyter-widgets/controls",
     "model_module_version": "1.5.0",
     "model_name": "HBoxModel",
     "state": {
      "_dom_classes": [],
      "_model_module": "@jupyter-widgets/controls",
      "_model_module_version": "1.5.0",
      "_model_name": "HBoxModel",
      "_view_count": null,
      "_view_module": "@jupyter-widgets/controls",
      "_view_module_version": "1.5.0",
      "_view_name": "HBoxView",
      "box_style": "",
      "children": [
       "IPY_MODEL_3759593097ff4ecdb6a86c56b8027281",
       "IPY_MODEL_38abb82854fe4748a6fb2c6fc50bd7ef",
       "IPY_MODEL_a0b4ce5c988041d0a035308366fc50cf"
      ],
      "layout": "IPY_MODEL_1d2af328d1144a889a787004571e1e63"
     }
    },
    "ce04a1959f5c4ca99ed94b2107b9eb86": {
     "model_module": "@jupyter-widgets/controls",
     "model_module_version": "1.5.0",
     "model_name": "ProgressStyleModel",
     "state": {
      "_model_module": "@jupyter-widgets/controls",
      "_model_module_version": "1.5.0",
      "_model_name": "ProgressStyleModel",
      "_view_count": null,
      "_view_module": "@jupyter-widgets/base",
      "_view_module_version": "1.2.0",
      "_view_name": "StyleView",
      "bar_color": null,
      "description_width": ""
     }
    },
    "d3585db99d234f70a70dbe2c2c596ceb": {
     "model_module": "@jupyter-widgets/controls",
     "model_module_version": "1.5.0",
     "model_name": "DescriptionStyleModel",
     "state": {
      "_model_module": "@jupyter-widgets/controls",
      "_model_module_version": "1.5.0",
      "_model_name": "DescriptionStyleModel",
      "_view_count": null,
      "_view_module": "@jupyter-widgets/base",
      "_view_module_version": "1.2.0",
      "_view_name": "StyleView",
      "description_width": ""
     }
    },
    "d448124782b54432b9b7274e3bf78c01": {
     "model_module": "@jupyter-widgets/controls",
     "model_module_version": "1.5.0",
     "model_name": "HBoxModel",
     "state": {
      "_dom_classes": [],
      "_model_module": "@jupyter-widgets/controls",
      "_model_module_version": "1.5.0",
      "_model_name": "HBoxModel",
      "_view_count": null,
      "_view_module": "@jupyter-widgets/controls",
      "_view_module_version": "1.5.0",
      "_view_name": "HBoxView",
      "box_style": "",
      "children": [
       "IPY_MODEL_b7d8843fe8c04435848f0bf958e2b411",
       "IPY_MODEL_adce4de9637948ad8710274719f35bd4",
       "IPY_MODEL_1639be6dfaff4b799594484d9f4a440a"
      ],
      "layout": "IPY_MODEL_bacf2cbcc23046abbe974e0f8c5c0979"
     }
    },
    "d89269d16f474717b595e3551803946b": {
     "model_module": "@jupyter-widgets/base",
     "model_module_version": "1.2.0",
     "model_name": "LayoutModel",
     "state": {
      "_model_module": "@jupyter-widgets/base",
      "_model_module_version": "1.2.0",
      "_model_name": "LayoutModel",
      "_view_count": null,
      "_view_module": "@jupyter-widgets/base",
      "_view_module_version": "1.2.0",
      "_view_name": "LayoutView",
      "align_content": null,
      "align_items": null,
      "align_self": null,
      "border": null,
      "bottom": null,
      "display": null,
      "flex": null,
      "flex_flow": null,
      "grid_area": null,
      "grid_auto_columns": null,
      "grid_auto_flow": null,
      "grid_auto_rows": null,
      "grid_column": null,
      "grid_gap": null,
      "grid_row": null,
      "grid_template_areas": null,
      "grid_template_columns": null,
      "grid_template_rows": null,
      "height": null,
      "justify_content": null,
      "justify_items": null,
      "left": null,
      "margin": null,
      "max_height": null,
      "max_width": null,
      "min_height": null,
      "min_width": null,
      "object_fit": null,
      "object_position": null,
      "order": null,
      "overflow": null,
      "overflow_x": null,
      "overflow_y": null,
      "padding": null,
      "right": null,
      "top": null,
      "visibility": null,
      "width": null
     }
    },
    "da2e434757e6440b8f5ac0739ea88a29": {
     "model_module": "@jupyter-widgets/base",
     "model_module_version": "1.2.0",
     "model_name": "LayoutModel",
     "state": {
      "_model_module": "@jupyter-widgets/base",
      "_model_module_version": "1.2.0",
      "_model_name": "LayoutModel",
      "_view_count": null,
      "_view_module": "@jupyter-widgets/base",
      "_view_module_version": "1.2.0",
      "_view_name": "LayoutView",
      "align_content": null,
      "align_items": null,
      "align_self": null,
      "border": null,
      "bottom": null,
      "display": null,
      "flex": null,
      "flex_flow": null,
      "grid_area": null,
      "grid_auto_columns": null,
      "grid_auto_flow": null,
      "grid_auto_rows": null,
      "grid_column": null,
      "grid_gap": null,
      "grid_row": null,
      "grid_template_areas": null,
      "grid_template_columns": null,
      "grid_template_rows": null,
      "height": null,
      "justify_content": null,
      "justify_items": null,
      "left": null,
      "margin": null,
      "max_height": null,
      "max_width": null,
      "min_height": null,
      "min_width": null,
      "object_fit": null,
      "object_position": null,
      "order": null,
      "overflow": null,
      "overflow_x": null,
      "overflow_y": null,
      "padding": null,
      "right": null,
      "top": null,
      "visibility": null,
      "width": null
     }
    },
    "de786e5ca95b44ff812ac51383a87842": {
     "model_module": "@jupyter-widgets/base",
     "model_module_version": "1.2.0",
     "model_name": "LayoutModel",
     "state": {
      "_model_module": "@jupyter-widgets/base",
      "_model_module_version": "1.2.0",
      "_model_name": "LayoutModel",
      "_view_count": null,
      "_view_module": "@jupyter-widgets/base",
      "_view_module_version": "1.2.0",
      "_view_name": "LayoutView",
      "align_content": null,
      "align_items": null,
      "align_self": null,
      "border": null,
      "bottom": null,
      "display": null,
      "flex": null,
      "flex_flow": null,
      "grid_area": null,
      "grid_auto_columns": null,
      "grid_auto_flow": null,
      "grid_auto_rows": null,
      "grid_column": null,
      "grid_gap": null,
      "grid_row": null,
      "grid_template_areas": null,
      "grid_template_columns": null,
      "grid_template_rows": null,
      "height": null,
      "justify_content": null,
      "justify_items": null,
      "left": null,
      "margin": null,
      "max_height": null,
      "max_width": null,
      "min_height": null,
      "min_width": null,
      "object_fit": null,
      "object_position": null,
      "order": null,
      "overflow": null,
      "overflow_x": null,
      "overflow_y": null,
      "padding": null,
      "right": null,
      "top": null,
      "visibility": null,
      "width": null
     }
    },
    "df1b5353c28f478fb7bfee20bdd2983e": {
     "model_module": "@jupyter-widgets/controls",
     "model_module_version": "1.5.0",
     "model_name": "DescriptionStyleModel",
     "state": {
      "_model_module": "@jupyter-widgets/controls",
      "_model_module_version": "1.5.0",
      "_model_name": "DescriptionStyleModel",
      "_view_count": null,
      "_view_module": "@jupyter-widgets/base",
      "_view_module_version": "1.2.0",
      "_view_name": "StyleView",
      "description_width": ""
     }
    },
    "e0803b66b67e477292174af01ab22398": {
     "model_module": "@jupyter-widgets/base",
     "model_module_version": "1.2.0",
     "model_name": "LayoutModel",
     "state": {
      "_model_module": "@jupyter-widgets/base",
      "_model_module_version": "1.2.0",
      "_model_name": "LayoutModel",
      "_view_count": null,
      "_view_module": "@jupyter-widgets/base",
      "_view_module_version": "1.2.0",
      "_view_name": "LayoutView",
      "align_content": null,
      "align_items": null,
      "align_self": null,
      "border": null,
      "bottom": null,
      "display": null,
      "flex": null,
      "flex_flow": null,
      "grid_area": null,
      "grid_auto_columns": null,
      "grid_auto_flow": null,
      "grid_auto_rows": null,
      "grid_column": null,
      "grid_gap": null,
      "grid_row": null,
      "grid_template_areas": null,
      "grid_template_columns": null,
      "grid_template_rows": null,
      "height": null,
      "justify_content": null,
      "justify_items": null,
      "left": null,
      "margin": null,
      "max_height": null,
      "max_width": null,
      "min_height": null,
      "min_width": null,
      "object_fit": null,
      "object_position": null,
      "order": null,
      "overflow": null,
      "overflow_x": null,
      "overflow_y": null,
      "padding": null,
      "right": null,
      "top": null,
      "visibility": null,
      "width": null
     }
    },
    "e18ce856d88442f8a8a1de7b34ef9ea8": {
     "model_module": "@jupyter-widgets/base",
     "model_module_version": "1.2.0",
     "model_name": "LayoutModel",
     "state": {
      "_model_module": "@jupyter-widgets/base",
      "_model_module_version": "1.2.0",
      "_model_name": "LayoutModel",
      "_view_count": null,
      "_view_module": "@jupyter-widgets/base",
      "_view_module_version": "1.2.0",
      "_view_name": "LayoutView",
      "align_content": null,
      "align_items": null,
      "align_self": null,
      "border": null,
      "bottom": null,
      "display": null,
      "flex": null,
      "flex_flow": null,
      "grid_area": null,
      "grid_auto_columns": null,
      "grid_auto_flow": null,
      "grid_auto_rows": null,
      "grid_column": null,
      "grid_gap": null,
      "grid_row": null,
      "grid_template_areas": null,
      "grid_template_columns": null,
      "grid_template_rows": null,
      "height": null,
      "justify_content": null,
      "justify_items": null,
      "left": null,
      "margin": null,
      "max_height": null,
      "max_width": null,
      "min_height": null,
      "min_width": null,
      "object_fit": null,
      "object_position": null,
      "order": null,
      "overflow": null,
      "overflow_x": null,
      "overflow_y": null,
      "padding": null,
      "right": null,
      "top": null,
      "visibility": null,
      "width": null
     }
    },
    "e5162a30d2d54246be838b2b73ea528d": {
     "model_module": "@jupyter-widgets/base",
     "model_module_version": "1.2.0",
     "model_name": "LayoutModel",
     "state": {
      "_model_module": "@jupyter-widgets/base",
      "_model_module_version": "1.2.0",
      "_model_name": "LayoutModel",
      "_view_count": null,
      "_view_module": "@jupyter-widgets/base",
      "_view_module_version": "1.2.0",
      "_view_name": "LayoutView",
      "align_content": null,
      "align_items": null,
      "align_self": null,
      "border": null,
      "bottom": null,
      "display": null,
      "flex": null,
      "flex_flow": null,
      "grid_area": null,
      "grid_auto_columns": null,
      "grid_auto_flow": null,
      "grid_auto_rows": null,
      "grid_column": null,
      "grid_gap": null,
      "grid_row": null,
      "grid_template_areas": null,
      "grid_template_columns": null,
      "grid_template_rows": null,
      "height": null,
      "justify_content": null,
      "justify_items": null,
      "left": null,
      "margin": null,
      "max_height": null,
      "max_width": null,
      "min_height": null,
      "min_width": null,
      "object_fit": null,
      "object_position": null,
      "order": null,
      "overflow": null,
      "overflow_x": null,
      "overflow_y": null,
      "padding": null,
      "right": null,
      "top": null,
      "visibility": null,
      "width": null
     }
    },
    "ec436c6536d94e868980223f75b55ee7": {
     "model_module": "@jupyter-widgets/base",
     "model_module_version": "1.2.0",
     "model_name": "LayoutModel",
     "state": {
      "_model_module": "@jupyter-widgets/base",
      "_model_module_version": "1.2.0",
      "_model_name": "LayoutModel",
      "_view_count": null,
      "_view_module": "@jupyter-widgets/base",
      "_view_module_version": "1.2.0",
      "_view_name": "LayoutView",
      "align_content": null,
      "align_items": null,
      "align_self": null,
      "border": null,
      "bottom": null,
      "display": null,
      "flex": null,
      "flex_flow": null,
      "grid_area": null,
      "grid_auto_columns": null,
      "grid_auto_flow": null,
      "grid_auto_rows": null,
      "grid_column": null,
      "grid_gap": null,
      "grid_row": null,
      "grid_template_areas": null,
      "grid_template_columns": null,
      "grid_template_rows": null,
      "height": null,
      "justify_content": null,
      "justify_items": null,
      "left": null,
      "margin": null,
      "max_height": null,
      "max_width": null,
      "min_height": null,
      "min_width": null,
      "object_fit": null,
      "object_position": null,
      "order": null,
      "overflow": null,
      "overflow_x": null,
      "overflow_y": null,
      "padding": null,
      "right": null,
      "top": null,
      "visibility": null,
      "width": null
     }
    },
    "f3fe42a3ee254e36aab3c502f3b72bbc": {
     "model_module": "@jupyter-widgets/controls",
     "model_module_version": "1.5.0",
     "model_name": "ProgressStyleModel",
     "state": {
      "_model_module": "@jupyter-widgets/controls",
      "_model_module_version": "1.5.0",
      "_model_name": "ProgressStyleModel",
      "_view_count": null,
      "_view_module": "@jupyter-widgets/base",
      "_view_module_version": "1.2.0",
      "_view_name": "StyleView",
      "bar_color": null,
      "description_width": ""
     }
    },
    "f6f421833284422eb341bde7a23aa084": {
     "model_module": "@jupyter-widgets/base",
     "model_module_version": "1.2.0",
     "model_name": "LayoutModel",
     "state": {
      "_model_module": "@jupyter-widgets/base",
      "_model_module_version": "1.2.0",
      "_model_name": "LayoutModel",
      "_view_count": null,
      "_view_module": "@jupyter-widgets/base",
      "_view_module_version": "1.2.0",
      "_view_name": "LayoutView",
      "align_content": null,
      "align_items": null,
      "align_self": null,
      "border": null,
      "bottom": null,
      "display": null,
      "flex": null,
      "flex_flow": null,
      "grid_area": null,
      "grid_auto_columns": null,
      "grid_auto_flow": null,
      "grid_auto_rows": null,
      "grid_column": null,
      "grid_gap": null,
      "grid_row": null,
      "grid_template_areas": null,
      "grid_template_columns": null,
      "grid_template_rows": null,
      "height": null,
      "justify_content": null,
      "justify_items": null,
      "left": null,
      "margin": null,
      "max_height": null,
      "max_width": null,
      "min_height": null,
      "min_width": null,
      "object_fit": null,
      "object_position": null,
      "order": null,
      "overflow": null,
      "overflow_x": null,
      "overflow_y": null,
      "padding": null,
      "right": null,
      "top": null,
      "visibility": null,
      "width": null
     }
    },
    "fc537438348a48ba95888953f3cbde8f": {
     "model_module": "@jupyter-widgets/controls",
     "model_module_version": "1.5.0",
     "model_name": "DescriptionStyleModel",
     "state": {
      "_model_module": "@jupyter-widgets/controls",
      "_model_module_version": "1.5.0",
      "_model_name": "DescriptionStyleModel",
      "_view_count": null,
      "_view_module": "@jupyter-widgets/base",
      "_view_module_version": "1.2.0",
      "_view_name": "StyleView",
      "description_width": ""
     }
    },
    "feb2c63c6013485fa746460b91afc9cd": {
     "model_module": "@jupyter-widgets/base",
     "model_module_version": "1.2.0",
     "model_name": "LayoutModel",
     "state": {
      "_model_module": "@jupyter-widgets/base",
      "_model_module_version": "1.2.0",
      "_model_name": "LayoutModel",
      "_view_count": null,
      "_view_module": "@jupyter-widgets/base",
      "_view_module_version": "1.2.0",
      "_view_name": "LayoutView",
      "align_content": null,
      "align_items": null,
      "align_self": null,
      "border": null,
      "bottom": null,
      "display": null,
      "flex": null,
      "flex_flow": null,
      "grid_area": null,
      "grid_auto_columns": null,
      "grid_auto_flow": null,
      "grid_auto_rows": null,
      "grid_column": null,
      "grid_gap": null,
      "grid_row": null,
      "grid_template_areas": null,
      "grid_template_columns": null,
      "grid_template_rows": null,
      "height": null,
      "justify_content": null,
      "justify_items": null,
      "left": null,
      "margin": null,
      "max_height": null,
      "max_width": null,
      "min_height": null,
      "min_width": null,
      "object_fit": null,
      "object_position": null,
      "order": null,
      "overflow": null,
      "overflow_x": null,
      "overflow_y": null,
      "padding": null,
      "right": null,
      "top": null,
      "visibility": null,
      "width": null
     }
    },
    "ffa878e59e04416395ddad842a4dff38": {
     "model_module": "@jupyter-widgets/controls",
     "model_module_version": "1.5.0",
     "model_name": "HBoxModel",
     "state": {
      "_dom_classes": [],
      "_model_module": "@jupyter-widgets/controls",
      "_model_module_version": "1.5.0",
      "_model_name": "HBoxModel",
      "_view_count": null,
      "_view_module": "@jupyter-widgets/controls",
      "_view_module_version": "1.5.0",
      "_view_name": "HBoxView",
      "box_style": "",
      "children": [
       "IPY_MODEL_210e7b43dae34838a0e449099003661e",
       "IPY_MODEL_3d9fdb43984645a5ac95acc93d2e5019",
       "IPY_MODEL_a6d344766e724cc2adde44ed156a99e3"
      ],
      "layout": "IPY_MODEL_adbc32fb72524b8891a5e759f64eeffa"
     }
    }
   }
  }
 },
 "nbformat": 4,
 "nbformat_minor": 5
}
