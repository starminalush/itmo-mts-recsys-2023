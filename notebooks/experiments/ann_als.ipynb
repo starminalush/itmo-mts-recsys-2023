{
 "cells": [
  {
   "cell_type": "code",
   "execution_count": 1,
   "id": "c3831ea5-5c8c-468c-97dd-cc0a115b9e55",
   "metadata": {},
   "outputs": [],
   "source": [
    "import os\n",
    "import pickle\n",
    "import random\n",
    "import zipfile as zf\n",
    "\n",
    "import implicit\n",
    "import numpy as np\n",
    "import pandas as pd\n",
    "import requests\n",
    "from implicit.als import AlternatingLeastSquares\n",
    "from rectools import Columns\n",
    "from rectools.dataset import Dataset, Interactions\n",
    "from rectools.models import ImplicitALSWrapperModel\n",
    "from rectools.tools import UserToItemAnnRecommender\n",
    "from tqdm import tqdm\n",
    "\n",
    "from service.utils.unpickler import load"
   ]
  },
  {
   "cell_type": "code",
   "execution_count": 2,
   "id": "487a1265-f383-4b8b-9eae-ed46a34a37b6",
   "metadata": {},
   "outputs": [],
   "source": [
    "RANDOM_STATE = 42\n",
    "random.seed(RANDOM_STATE)\n",
    "os.environ[\"PYTHONHASHSEED\"] = str(RANDOM_STATE)\n",
    "np.random.seed(RANDOM_STATE)"
   ]
  },
  {
   "cell_type": "code",
   "execution_count": 20,
   "id": "f75f1e6e-1dcb-437b-9a9b-95185da3c29f",
   "metadata": {},
   "outputs": [],
   "source": [
    "MODEL_PATH = \"ann.pkl\""
   ]
  },
  {
   "cell_type": "markdown",
   "id": "beb78b58-4810-49c6-a7fe-71af1d5cde49",
   "metadata": {},
   "source": [
    "## Инициализация датасета"
   ]
  },
  {
   "cell_type": "code",
   "execution_count": 6,
   "id": "cf0b52f2-3dc1-4a28-90ae-39e56f331801",
   "metadata": {},
   "outputs": [],
   "source": [
    "url = \"https://github.com/irsafilo/KION_DATASET/raw/f69775be31fa5779907cf0a92ddedb70037fb5ae/data_original.zip\""
   ]
  },
  {
   "cell_type": "code",
   "execution_count": 7,
   "id": "d26dedd0-8047-4c30-b5be-096d29fbf4e7",
   "metadata": {},
   "outputs": [
    {
     "name": "stderr",
     "output_type": "stream",
     "text": [
      "kion dataset download: 100%|█████████████████████████████████████████████████████████████████████████████████████████████████████████████████████████████████████████████████████████████▋| 78.6M/78.8M [00:21<00:00, 4.97MiB/s]"
     ]
    }
   ],
   "source": [
    "req = requests.get(url, stream=True)\n",
    "\n",
    "with open(\"kion.zip\", \"wb\") as fd:\n",
    "    total_size_in_bytes = int(req.headers.get(\"Content-Length\", 0))\n",
    "    progress_bar = tqdm(desc=\"kion dataset download\", total=total_size_in_bytes, unit=\"iB\", unit_scale=True)\n",
    "    for chunk in req.iter_content(chunk_size=2**20):\n",
    "        progress_bar.update(len(chunk))\n",
    "        fd.write(chunk)"
   ]
  },
  {
   "cell_type": "code",
   "execution_count": 8,
   "id": "0c6667b0-eda0-444e-9beb-a2cebf8cb653",
   "metadata": {},
   "outputs": [],
   "source": [
    "files = zf.ZipFile(\"kion.zip\", \"r\")\n",
    "files.extractall()\n",
    "files.close()"
   ]
  },
  {
   "cell_type": "code",
   "execution_count": 9,
   "id": "b35c123d-dbea-4fb1-8e71-3e84a825532b",
   "metadata": {},
   "outputs": [],
   "source": [
    "interactions_df = pd.read_csv(\"data_original/interactions.csv\", parse_dates=[\"last_watch_dt\"])\n",
    "\n",
    "interactions_df.rename(columns={\"last_watch_dt\": Columns.Datetime, \"total_dur\": Columns.Weight}, inplace=True)"
   ]
  },
  {
   "cell_type": "code",
   "execution_count": 10,
   "id": "c6958851-c5b6-439e-8674-6d9744c8210e",
   "metadata": {},
   "outputs": [],
   "source": [
    "interactions = Interactions(interactions_df)"
   ]
  },
  {
   "cell_type": "code",
   "execution_count": 11,
   "id": "86c30a0b-d8a2-42e7-93a8-e0b8b97cd31a",
   "metadata": {},
   "outputs": [
    {
     "data": {
      "text/html": [
       "<div>\n",
       "<style scoped>\n",
       "    .dataframe tbody tr th:only-of-type {\n",
       "        vertical-align: middle;\n",
       "    }\n",
       "\n",
       "    .dataframe tbody tr th {\n",
       "        vertical-align: top;\n",
       "    }\n",
       "\n",
       "    .dataframe thead th {\n",
       "        text-align: right;\n",
       "    }\n",
       "</style>\n",
       "<table border=\"1\" class=\"dataframe\">\n",
       "  <thead>\n",
       "    <tr style=\"text-align: right;\">\n",
       "      <th></th>\n",
       "      <th>user_id</th>\n",
       "      <th>item_id</th>\n",
       "      <th>datetime</th>\n",
       "      <th>weight</th>\n",
       "      <th>watched_pct</th>\n",
       "    </tr>\n",
       "  </thead>\n",
       "  <tbody>\n",
       "    <tr>\n",
       "      <th>0</th>\n",
       "      <td>176549</td>\n",
       "      <td>9506</td>\n",
       "      <td>2021-05-11</td>\n",
       "      <td>4250.0</td>\n",
       "      <td>72.0</td>\n",
       "    </tr>\n",
       "    <tr>\n",
       "      <th>1</th>\n",
       "      <td>699317</td>\n",
       "      <td>1659</td>\n",
       "      <td>2021-05-29</td>\n",
       "      <td>8317.0</td>\n",
       "      <td>100.0</td>\n",
       "    </tr>\n",
       "    <tr>\n",
       "      <th>2</th>\n",
       "      <td>656683</td>\n",
       "      <td>7107</td>\n",
       "      <td>2021-05-09</td>\n",
       "      <td>10.0</td>\n",
       "      <td>0.0</td>\n",
       "    </tr>\n",
       "    <tr>\n",
       "      <th>3</th>\n",
       "      <td>864613</td>\n",
       "      <td>7638</td>\n",
       "      <td>2021-07-05</td>\n",
       "      <td>14483.0</td>\n",
       "      <td>100.0</td>\n",
       "    </tr>\n",
       "    <tr>\n",
       "      <th>4</th>\n",
       "      <td>964868</td>\n",
       "      <td>9506</td>\n",
       "      <td>2021-04-30</td>\n",
       "      <td>6725.0</td>\n",
       "      <td>100.0</td>\n",
       "    </tr>\n",
       "  </tbody>\n",
       "</table>\n",
       "</div>"
      ],
      "text/plain": [
       "   user_id  item_id   datetime   weight  watched_pct\n",
       "0   176549     9506 2021-05-11   4250.0         72.0\n",
       "1   699317     1659 2021-05-29   8317.0        100.0\n",
       "2   656683     7107 2021-05-09     10.0          0.0\n",
       "3   864613     7638 2021-07-05  14483.0        100.0\n",
       "4   964868     9506 2021-04-30   6725.0        100.0"
      ]
     },
     "execution_count": 11,
     "metadata": {},
     "output_type": "execute_result"
    }
   ],
   "source": [
    "interactions.df.head()"
   ]
  },
  {
   "cell_type": "code",
   "execution_count": 12,
   "id": "b0f8ab6d-6591-4864-a48d-06f2c02088b5",
   "metadata": {},
   "outputs": [],
   "source": [
    "users = pd.read_csv(\"data_original/users.csv\")\n",
    "items = pd.read_csv(\"data_original/items.csv\")"
   ]
  },
  {
   "cell_type": "markdown",
   "id": "ce84c56e-deca-4ff2-813b-ec9a576d8cc5",
   "metadata": {},
   "source": [
    "## Обучение модели"
   ]
  },
  {
   "cell_type": "markdown",
   "id": "4e29fc07-05c3-4d12-a478-1d9ce48048cd",
   "metadata": {},
   "source": [
    "Учить будем модель ImplicitALS, а потом поверх нее сделаем UserToItemAnnRecommender, потому что у класса приятный интерфейс  \t(￣ ￣|||) и потому что приближенный поиск соседей работает быстро"
   ]
  },
  {
   "cell_type": "code",
   "execution_count": 13,
   "id": "f336719c-c459-45d5-ba71-7f72a6daf0ec",
   "metadata": {},
   "outputs": [
    {
     "name": "stderr",
     "output_type": "stream",
     "text": [
      "/home/starminalush/study/itmo/itmo-mts-recsys-2023/.venv/lib/python3.10/site-packages/implicit/cpu/als.py:95: RuntimeWarning: OpenBLAS is configured to use 8 threads. It is highly recommended to disable its internal threadpool by setting the environment variable 'OPENBLAS_NUM_THREADS=1' or by calling 'threadpoolctl.threadpool_limits(1, \"blas\")'. Having OpenBLAS use a threadpool can lead to severe performance issues here.\n",
      "  check_blas_config()\n",
      "kion dataset download: 100%|██████████████████████████████████████████████████████████████████████████████████████████████████████████████████████████████████████████████████████████████| 78.8M/78.8M [00:39<00:00, 4.97MiB/s]"
     ]
    }
   ],
   "source": [
    "model = ImplicitALSWrapperModel(\n",
    "    model=AlternatingLeastSquares(factors=4, random_state=RANDOM_STATE, num_threads=8, regularization=0.05, alpha=2.0)\n",
    ")"
   ]
  },
  {
   "cell_type": "code",
   "execution_count": 15,
   "id": "0a907189-8a4b-4a33-94f2-d46ed9cd98d0",
   "metadata": {},
   "outputs": [
    {
     "data": {
      "text/plain": [
       "<rectools.models.implicit_als.ImplicitALSWrapperModel at 0x7fd60b10d960>"
      ]
     },
     "execution_count": 15,
     "metadata": {},
     "output_type": "execute_result"
    }
   ],
   "source": [
    "dataset = Dataset.construct(interactions_df)\n",
    "model.fit(dataset)"
   ]
  },
  {
   "cell_type": "code",
   "execution_count": 17,
   "id": "4fba9793-ac1d-488d-b3e6-e4daa77981d0",
   "metadata": {},
   "outputs": [],
   "source": [
    "user_v, item_v = model.get_vectors()"
   ]
  },
  {
   "cell_type": "code",
   "execution_count": 19,
   "id": "60d88988-14a0-4a99-ae71-cb5d5a81cc44",
   "metadata": {},
   "outputs": [
    {
     "data": {
      "text/plain": [
       "<rectools.tools.ann.UserToItemAnnRecommender at 0x7fd6092683a0>"
      ]
     },
     "execution_count": 19,
     "metadata": {},
     "output_type": "execute_result"
    }
   ],
   "source": [
    "ann = UserToItemAnnRecommender(\n",
    "    user_vectors=user_v, item_vectors=item_v, user_id_map=dataset.user_id_map, item_id_map=dataset.item_id_map\n",
    ")\n",
    "ann.fit()"
   ]
  },
  {
   "cell_type": "code",
   "execution_count": 23,
   "id": "fbbcc44c-fd2e-4de6-87e4-20dbf5dbeaf6",
   "metadata": {},
   "outputs": [
    {
     "data": {
      "text/plain": [
       "[10811, 6948, 11936, 2303, 14053, 9122, 596, 13600, 734, 6106]"
      ]
     },
     "execution_count": 23,
     "metadata": {},
     "output_type": "execute_result"
    }
   ],
   "source": [
    "ann.get_item_list_for_user(973171, 10).tolist()"
   ]
  },
  {
   "cell_type": "code",
   "execution_count": 26,
   "id": "6f56ef37-9512-410f-8cdd-c5774cdd00b2",
   "metadata": {},
   "outputs": [
    {
     "data": {
      "text/plain": [
       "IdMap(external_ids=array([176549, 699317, 656683, ..., 805174, 648596, 697262]))"
      ]
     },
     "execution_count": 26,
     "metadata": {},
     "output_type": "execute_result"
    }
   ],
   "source": [
    "ann.user_id_map"
   ]
  },
  {
   "cell_type": "code",
   "execution_count": 27,
   "id": "df1e1100-2333-4dbc-9d17-6458ef08134d",
   "metadata": {},
   "outputs": [],
   "source": [
    "with open(MODEL_PATH, \"wb\") as f:\n",
    "    pickle.dump(ann, f)"
   ]
  },
  {
   "cell_type": "markdown",
   "id": "c50e8416-77d7-459e-b04c-d1a11a1acf44",
   "metadata": {},
   "source": [
    "## Тестирование работоспособности"
   ]
  },
  {
   "cell_type": "code",
   "execution_count": 32,
   "id": "7c844650-ec36-42cb-ae8a-99d34526b4bd",
   "metadata": {},
   "outputs": [],
   "source": [
    "test = load(\"ann.pkl\")"
   ]
  },
  {
   "cell_type": "code",
   "execution_count": 33,
   "id": "b0dafff4-2596-4cae-be54-101d2d6e0fb5",
   "metadata": {},
   "outputs": [
    {
     "data": {
      "text/plain": [
       "[10811, 6948, 11936, 2303, 14053, 9122, 596, 13600, 734, 6106]"
      ]
     },
     "execution_count": 33,
     "metadata": {},
     "output_type": "execute_result"
    }
   ],
   "source": [
    "test.get_item_list_for_user(973171, 10).tolist()"
   ]
  },
  {
   "cell_type": "code",
   "execution_count": 34,
   "id": "04d3bfd0-5239-4cd2-890d-5e4642a439c7",
   "metadata": {},
   "outputs": [
    {
     "data": {
      "text/plain": [
       "True"
      ]
     },
     "execution_count": 34,
     "metadata": {},
     "output_type": "execute_result"
    }
   ],
   "source": [
    "973171 in test.user_id_map.external_ids"
   ]
  },
  {
   "cell_type": "code",
   "execution_count": 47,
   "id": "91614d25-0a1c-4305-a758-6b691a8de683",
   "metadata": {},
   "outputs": [],
   "source": [
    "ann_cls = ANN(load(\"ann.pkl\"))"
   ]
  },
  {
   "cell_type": "code",
   "execution_count": 48,
   "id": "cbeac48a-47e5-4987-8435-6c9eb9d183b1",
   "metadata": {},
   "outputs": [
    {
     "name": "stdout",
     "output_type": "stream",
     "text": [
      "1\n"
     ]
    },
    {
     "data": {
      "text/plain": [
       "[10811, 6948, 11936, 2303, 14053, 9122, 596, 13600, 734, 6106]"
      ]
     },
     "execution_count": 48,
     "metadata": {},
     "output_type": "execute_result"
    }
   ],
   "source": [
    "ann_cls.get_reco(973171, 10)"
   ]
  }
 ],
 "metadata": {
  "kernelspec": {
   "display_name": "Python 3 (ipykernel)",
   "language": "python",
   "name": "python3"
  },
  "language_info": {
   "codemirror_mode": {
    "name": "ipython",
    "version": 3
   },
   "file_extension": ".py",
   "mimetype": "text/x-python",
   "name": "python",
   "nbconvert_exporter": "python",
   "pygments_lexer": "ipython3",
   "version": "3.10.12"
  }
 },
 "nbformat": 4,
 "nbformat_minor": 5
}
