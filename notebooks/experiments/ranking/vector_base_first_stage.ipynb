{
 "cells": [
  {
   "cell_type": "code",
   "execution_count": 1,
   "id": "LZtwx0FzCJhq",
   "metadata": {
    "id": "LZtwx0FzCJhq"
   },
   "outputs": [],
   "source": [
    "!pip install implicit optuna rectools cupy-cuda12x > None"
   ]
  },
  {
   "cell_type": "code",
   "execution_count": 2,
   "id": "f4HhgroLJPE2",
   "metadata": {
    "colab": {
     "base_uri": "https://localhost:8080/"
    },
    "id": "f4HhgroLJPE2",
    "outputId": "48d9f984-74d1-4646-da19-cddf708479db"
   },
   "outputs": [
    {
     "name": "stdout",
     "output_type": "stream",
     "text": [
      "Extracting templates from packages: 100%\n"
     ]
    }
   ],
   "source": [
    "!apt-get install nvidia-cuda-toolkit > None"
   ]
  },
  {
   "cell_type": "code",
   "execution_count": 1,
   "id": "9a404504-ae8d-480b-8216-394ddd7fe61e",
   "metadata": {
    "id": "9a404504-ae8d-480b-8216-394ddd7fe61e"
   },
   "outputs": [],
   "source": [
    "import warnings\n",
    "\n",
    "warnings.filterwarnings(\"ignore\")"
   ]
  },
  {
   "cell_type": "code",
   "execution_count": 2,
   "id": "F4vzXzzwJBqt",
   "metadata": {
    "colab": {
     "base_uri": "https://localhost:8080/"
    },
    "id": "F4vzXzzwJBqt",
    "outputId": "2edd87db-bee0-42a6-d36a-0b24788b6e9d"
   },
   "outputs": [
    {
     "data": {
      "text/plain": [
       "True"
      ]
     },
     "execution_count": 2,
     "metadata": {},
     "output_type": "execute_result"
    }
   ],
   "source": [
    "import cupy\n",
    "\n",
    "cupy.is_available()"
   ]
  },
  {
   "cell_type": "code",
   "execution_count": 3,
   "id": "cdfa1d84-b8bf-4f7c-9dd0-6fad6c626f4d",
   "metadata": {
    "id": "cdfa1d84-b8bf-4f7c-9dd0-6fad6c626f4d"
   },
   "outputs": [],
   "source": [
    "import gc\n",
    "import os\n",
    "import random\n",
    "import zipfile as zf\n",
    "from copy import deepcopy\n",
    "from functools import partial\n",
    "from typing import Any, Dict, Sequence\n",
    "\n",
    "import numpy as np\n",
    "import optuna\n",
    "import pandas as pd\n",
    "import requests\n",
    "from implicit.gpu.als import AlternatingLeastSquares\n",
    "from optuna.samplers import TPESampler\n",
    "from rectools import Columns\n",
    "from rectools.dataset import Dataset\n",
    "from rectools.metrics import Recall, calc_metrics\n",
    "from rectools.metrics.base import MetricAtK\n",
    "from rectools.models import ImplicitALSWrapperModel, PopularModel\n",
    "from tqdm import tqdm"
   ]
  },
  {
   "cell_type": "code",
   "execution_count": 4,
   "id": "ec5c6a15-d11a-429b-b123-3bd311025fca",
   "metadata": {
    "id": "ec5c6a15-d11a-429b-b123-3bd311025fca"
   },
   "outputs": [],
   "source": [
    "RANDOM_STATE = 42\n",
    "random.seed(RANDOM_STATE)\n",
    "os.environ[\"PYTHONHASHSEED\"] = str(RANDOM_STATE)\n",
    "np.random.seed(RANDOM_STATE)"
   ]
  },
  {
   "cell_type": "code",
   "execution_count": 5,
   "id": "488b0ef1-6f40-4ff4-b44b-e0791120d6aa",
   "metadata": {
    "id": "488b0ef1-6f40-4ff4-b44b-e0791120d6aa"
   },
   "outputs": [],
   "source": [
    "TOP_N_CANDIDATES=100\n",
    "RANKER_DAYS_COUNT = 30\n",
    "K_RECOS=10"
   ]
  },
  {
   "cell_type": "markdown",
   "id": "202d8a31-5bc1-41a3-a111-346bbc3e16ea",
   "metadata": {
    "id": "202d8a31-5bc1-41a3-a111-346bbc3e16ea"
   },
   "source": [
    "## Подготовка датасета"
   ]
  },
  {
   "cell_type": "markdown",
   "id": "6GeENfcQJISz",
   "metadata": {
    "id": "6GeENfcQJISz"
   },
   "source": [
    "Загрузим датасет"
   ]
  },
  {
   "cell_type": "code",
   "execution_count": 6,
   "id": "199e5bcd-1599-409d-a96c-18facb892525",
   "metadata": {
    "id": "199e5bcd-1599-409d-a96c-18facb892525"
   },
   "outputs": [],
   "source": [
    "url = \"https://github.com/irsafilo/KION_DATASET/raw/f69775be31fa5779907cf0a92ddedb70037fb5ae/data_original.zip\""
   ]
  },
  {
   "cell_type": "code",
   "execution_count": 7,
   "id": "ef057152-1201-47dc-9b9c-283358cb0a5f",
   "metadata": {
    "colab": {
     "base_uri": "https://localhost:8080/"
    },
    "id": "ef057152-1201-47dc-9b9c-283358cb0a5f",
    "outputId": "6893049e-a250-4f0b-efab-375d8a7be38c"
   },
   "outputs": [
    {
     "name": "stderr",
     "output_type": "stream",
     "text": [
      "kion dataset download:  90%|█████████ | 71.3M/78.8M [00:00<00:00, 140MiB/s] "
     ]
    }
   ],
   "source": [
    "req = requests.get(url, stream=True)\n",
    "\n",
    "with open(\"kion.zip\", \"wb\") as fd:\n",
    "    total_size_in_bytes = int(req.headers.get(\"Content-Length\", 0))\n",
    "    progress_bar = tqdm(desc=\"kion dataset download\", total=total_size_in_bytes, unit=\"iB\", unit_scale=True)\n",
    "    for chunk in req.iter_content(chunk_size=2**20):\n",
    "        progress_bar.update(len(chunk))\n",
    "        fd.write(chunk)"
   ]
  },
  {
   "cell_type": "code",
   "execution_count": 8,
   "id": "06262e5c-d88c-44cd-a9d0-f143cbf6fd4f",
   "metadata": {
    "id": "06262e5c-d88c-44cd-a9d0-f143cbf6fd4f"
   },
   "outputs": [],
   "source": [
    "files = zf.ZipFile(\"kion.zip\", \"r\")\n",
    "files.extractall()\n",
    "files.close()"
   ]
  },
  {
   "cell_type": "code",
   "execution_count": 9,
   "id": "7484caba-1739-467a-9c06-1401a72f0cde",
   "metadata": {
    "id": "7484caba-1739-467a-9c06-1401a72f0cde"
   },
   "outputs": [],
   "source": [
    "interactions_df = pd.read_csv(\"data_original/interactions.csv\")"
   ]
  },
  {
   "cell_type": "code",
   "execution_count": 10,
   "id": "d9ce4a3d-8fe8-4f3c-8299-f4769a1647be",
   "metadata": {
    "id": "d9ce4a3d-8fe8-4f3c-8299-f4769a1647be"
   },
   "outputs": [],
   "source": [
    "users = pd.read_csv(\"data_original/users.csv\")\n",
    "items = pd.read_csv(\"data_original/items.csv\")"
   ]
  },
  {
   "cell_type": "code",
   "execution_count": 11,
   "id": "f4296630-7baa-4da6-91d7-85dd029f143c",
   "metadata": {
    "colab": {
     "base_uri": "https://localhost:8080/"
    },
    "id": "f4296630-7baa-4da6-91d7-85dd029f143c",
    "outputId": "949924c4-e1f8-4a33-94f6-51502b2dd53b"
   },
   "outputs": [
    {
     "name": "stderr",
     "output_type": "stream",
     "text": [
      "\r",
      "kion dataset download: 100%|██████████| 78.8M/78.8M [00:11<00:00, 140MiB/s]"
     ]
    }
   ],
   "source": [
    "Columns.Datetime = \"last_watch_dt\"\n",
    "interactions_df.drop(interactions_df[interactions_df[Columns.Datetime].str.len() != 10].index, inplace=True)\n",
    "interactions_df[Columns.Datetime] = pd.to_datetime(interactions_df[Columns.Datetime], format=\"%Y-%m-%d\")\n",
    "interactions_df[Columns.Weight] = np.where(interactions_df[\"watched_pct\"] > 10, 3, 1)"
   ]
  },
  {
   "cell_type": "markdown",
   "id": "b3028b7d-191a-434b-9bc8-0a79fe694312",
   "metadata": {
    "id": "b3028b7d-191a-434b-9bc8-0a79fe694312"
   },
   "source": [
    "В семинаре была схема валидации. В соответствии с ней, давайте сразу разобьем данные на train моделей первого уровня и все остальное"
   ]
  },
  {
   "cell_type": "markdown",
   "id": "641004e9-09eb-4f1c-8cb3-deb10348b1d9",
   "metadata": {
    "id": "641004e9-09eb-4f1c-8cb3-deb10348b1d9"
   },
   "source": [
    "![image.png](data:image/png;base64,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)"
   ]
  },
  {
   "cell_type": "markdown",
   "id": "WWHQalc6JhqX",
   "metadata": {
    "id": "WWHQalc6JhqX"
   },
   "source": [
    "Все, что находится дальше предыдущих 30 дней, отбираем для моделей первого уровня"
   ]
  },
  {
   "cell_type": "code",
   "execution_count": 12,
   "id": "23113206-310e-4411-93ea-82f5f3868617",
   "metadata": {
    "id": "23113206-310e-4411-93ea-82f5f3868617"
   },
   "outputs": [],
   "source": [
    "max_date = interactions_df[Columns.Datetime].max()\n",
    "base_models_data = interactions_df[\n",
    "    (interactions_df[Columns.Datetime] < max_date - pd.Timedelta(days=RANKER_DAYS_COUNT))\n",
    "]"
   ]
  },
  {
   "cell_type": "code",
   "execution_count": 13,
   "id": "clPgmmb1Ct52",
   "metadata": {
    "colab": {
     "base_uri": "https://localhost:8080/",
     "height": 206
    },
    "id": "clPgmmb1Ct52",
    "outputId": "d5a09d3d-87d5-4f93-81d6-f39341f82354"
   },
   "outputs": [
    {
     "data": {
      "text/html": [
       "\n",
       "  <div id=\"df-d0d8e943-c11b-45c5-9aff-ac163c79a18f\" class=\"colab-df-container\">\n",
       "    <div>\n",
       "<style scoped>\n",
       "    .dataframe tbody tr th:only-of-type {\n",
       "        vertical-align: middle;\n",
       "    }\n",
       "\n",
       "    .dataframe tbody tr th {\n",
       "        vertical-align: top;\n",
       "    }\n",
       "\n",
       "    .dataframe thead th {\n",
       "        text-align: right;\n",
       "    }\n",
       "</style>\n",
       "<table border=\"1\" class=\"dataframe\">\n",
       "  <thead>\n",
       "    <tr style=\"text-align: right;\">\n",
       "      <th></th>\n",
       "      <th>user_id</th>\n",
       "      <th>item_id</th>\n",
       "      <th>last_watch_dt</th>\n",
       "      <th>total_dur</th>\n",
       "      <th>watched_pct</th>\n",
       "      <th>weight</th>\n",
       "    </tr>\n",
       "  </thead>\n",
       "  <tbody>\n",
       "    <tr>\n",
       "      <th>0</th>\n",
       "      <td>176549</td>\n",
       "      <td>9506</td>\n",
       "      <td>2021-05-11</td>\n",
       "      <td>4250</td>\n",
       "      <td>72.0</td>\n",
       "      <td>3</td>\n",
       "    </tr>\n",
       "    <tr>\n",
       "      <th>1</th>\n",
       "      <td>699317</td>\n",
       "      <td>1659</td>\n",
       "      <td>2021-05-29</td>\n",
       "      <td>8317</td>\n",
       "      <td>100.0</td>\n",
       "      <td>3</td>\n",
       "    </tr>\n",
       "    <tr>\n",
       "      <th>2</th>\n",
       "      <td>656683</td>\n",
       "      <td>7107</td>\n",
       "      <td>2021-05-09</td>\n",
       "      <td>10</td>\n",
       "      <td>0.0</td>\n",
       "      <td>1</td>\n",
       "    </tr>\n",
       "    <tr>\n",
       "      <th>3</th>\n",
       "      <td>864613</td>\n",
       "      <td>7638</td>\n",
       "      <td>2021-07-05</td>\n",
       "      <td>14483</td>\n",
       "      <td>100.0</td>\n",
       "      <td>3</td>\n",
       "    </tr>\n",
       "    <tr>\n",
       "      <th>4</th>\n",
       "      <td>964868</td>\n",
       "      <td>9506</td>\n",
       "      <td>2021-04-30</td>\n",
       "      <td>6725</td>\n",
       "      <td>100.0</td>\n",
       "      <td>3</td>\n",
       "    </tr>\n",
       "  </tbody>\n",
       "</table>\n",
       "</div>\n",
       "    <div class=\"colab-df-buttons\">\n",
       "\n",
       "  <div class=\"colab-df-container\">\n",
       "    <button class=\"colab-df-convert\" onclick=\"convertToInteractive('df-d0d8e943-c11b-45c5-9aff-ac163c79a18f')\"\n",
       "            title=\"Convert this dataframe to an interactive table.\"\n",
       "            style=\"display:none;\">\n",
       "\n",
       "  <svg xmlns=\"http://www.w3.org/2000/svg\" height=\"24px\" viewBox=\"0 -960 960 960\">\n",
       "    <path d=\"M120-120v-720h720v720H120Zm60-500h600v-160H180v160Zm220 220h160v-160H400v160Zm0 220h160v-160H400v160ZM180-400h160v-160H180v160Zm440 0h160v-160H620v160ZM180-180h160v-160H180v160Zm440 0h160v-160H620v160Z\"/>\n",
       "  </svg>\n",
       "    </button>\n",
       "\n",
       "  <style>\n",
       "    .colab-df-container {\n",
       "      display:flex;\n",
       "      gap: 12px;\n",
       "    }\n",
       "\n",
       "    .colab-df-convert {\n",
       "      background-color: #E8F0FE;\n",
       "      border: none;\n",
       "      border-radius: 50%;\n",
       "      cursor: pointer;\n",
       "      display: none;\n",
       "      fill: #1967D2;\n",
       "      height: 32px;\n",
       "      padding: 0 0 0 0;\n",
       "      width: 32px;\n",
       "    }\n",
       "\n",
       "    .colab-df-convert:hover {\n",
       "      background-color: #E2EBFA;\n",
       "      box-shadow: 0px 1px 2px rgba(60, 64, 67, 0.3), 0px 1px 3px 1px rgba(60, 64, 67, 0.15);\n",
       "      fill: #174EA6;\n",
       "    }\n",
       "\n",
       "    .colab-df-buttons div {\n",
       "      margin-bottom: 4px;\n",
       "    }\n",
       "\n",
       "    [theme=dark] .colab-df-convert {\n",
       "      background-color: #3B4455;\n",
       "      fill: #D2E3FC;\n",
       "    }\n",
       "\n",
       "    [theme=dark] .colab-df-convert:hover {\n",
       "      background-color: #434B5C;\n",
       "      box-shadow: 0px 1px 3px 1px rgba(0, 0, 0, 0.15);\n",
       "      filter: drop-shadow(0px 1px 2px rgba(0, 0, 0, 0.3));\n",
       "      fill: #FFFFFF;\n",
       "    }\n",
       "  </style>\n",
       "\n",
       "    <script>\n",
       "      const buttonEl =\n",
       "        document.querySelector('#df-d0d8e943-c11b-45c5-9aff-ac163c79a18f button.colab-df-convert');\n",
       "      buttonEl.style.display =\n",
       "        google.colab.kernel.accessAllowed ? 'block' : 'none';\n",
       "\n",
       "      async function convertToInteractive(key) {\n",
       "        const element = document.querySelector('#df-d0d8e943-c11b-45c5-9aff-ac163c79a18f');\n",
       "        const dataTable =\n",
       "          await google.colab.kernel.invokeFunction('convertToInteractive',\n",
       "                                                    [key], {});\n",
       "        if (!dataTable) return;\n",
       "\n",
       "        const docLinkHtml = 'Like what you see? Visit the ' +\n",
       "          '<a target=\"_blank\" href=https://colab.research.google.com/notebooks/data_table.ipynb>data table notebook</a>'\n",
       "          + ' to learn more about interactive tables.';\n",
       "        element.innerHTML = '';\n",
       "        dataTable['output_type'] = 'display_data';\n",
       "        await google.colab.output.renderOutput(dataTable, element);\n",
       "        const docLink = document.createElement('div');\n",
       "        docLink.innerHTML = docLinkHtml;\n",
       "        element.appendChild(docLink);\n",
       "      }\n",
       "    </script>\n",
       "  </div>\n",
       "\n",
       "\n",
       "<div id=\"df-0cf84a2d-b969-42a3-95fd-e130efa832b3\">\n",
       "  <button class=\"colab-df-quickchart\" onclick=\"quickchart('df-0cf84a2d-b969-42a3-95fd-e130efa832b3')\"\n",
       "            title=\"Suggest charts\"\n",
       "            style=\"display:none;\">\n",
       "\n",
       "<svg xmlns=\"http://www.w3.org/2000/svg\" height=\"24px\"viewBox=\"0 0 24 24\"\n",
       "     width=\"24px\">\n",
       "    <g>\n",
       "        <path d=\"M19 3H5c-1.1 0-2 .9-2 2v14c0 1.1.9 2 2 2h14c1.1 0 2-.9 2-2V5c0-1.1-.9-2-2-2zM9 17H7v-7h2v7zm4 0h-2V7h2v10zm4 0h-2v-4h2v4z\"/>\n",
       "    </g>\n",
       "</svg>\n",
       "  </button>\n",
       "\n",
       "<style>\n",
       "  .colab-df-quickchart {\n",
       "      --bg-color: #E8F0FE;\n",
       "      --fill-color: #1967D2;\n",
       "      --hover-bg-color: #E2EBFA;\n",
       "      --hover-fill-color: #174EA6;\n",
       "      --disabled-fill-color: #AAA;\n",
       "      --disabled-bg-color: #DDD;\n",
       "  }\n",
       "\n",
       "  [theme=dark] .colab-df-quickchart {\n",
       "      --bg-color: #3B4455;\n",
       "      --fill-color: #D2E3FC;\n",
       "      --hover-bg-color: #434B5C;\n",
       "      --hover-fill-color: #FFFFFF;\n",
       "      --disabled-bg-color: #3B4455;\n",
       "      --disabled-fill-color: #666;\n",
       "  }\n",
       "\n",
       "  .colab-df-quickchart {\n",
       "    background-color: var(--bg-color);\n",
       "    border: none;\n",
       "    border-radius: 50%;\n",
       "    cursor: pointer;\n",
       "    display: none;\n",
       "    fill: var(--fill-color);\n",
       "    height: 32px;\n",
       "    padding: 0;\n",
       "    width: 32px;\n",
       "  }\n",
       "\n",
       "  .colab-df-quickchart:hover {\n",
       "    background-color: var(--hover-bg-color);\n",
       "    box-shadow: 0 1px 2px rgba(60, 64, 67, 0.3), 0 1px 3px 1px rgba(60, 64, 67, 0.15);\n",
       "    fill: var(--button-hover-fill-color);\n",
       "  }\n",
       "\n",
       "  .colab-df-quickchart-complete:disabled,\n",
       "  .colab-df-quickchart-complete:disabled:hover {\n",
       "    background-color: var(--disabled-bg-color);\n",
       "    fill: var(--disabled-fill-color);\n",
       "    box-shadow: none;\n",
       "  }\n",
       "\n",
       "  .colab-df-spinner {\n",
       "    border: 2px solid var(--fill-color);\n",
       "    border-color: transparent;\n",
       "    border-bottom-color: var(--fill-color);\n",
       "    animation:\n",
       "      spin 1s steps(1) infinite;\n",
       "  }\n",
       "\n",
       "  @keyframes spin {\n",
       "    0% {\n",
       "      border-color: transparent;\n",
       "      border-bottom-color: var(--fill-color);\n",
       "      border-left-color: var(--fill-color);\n",
       "    }\n",
       "    20% {\n",
       "      border-color: transparent;\n",
       "      border-left-color: var(--fill-color);\n",
       "      border-top-color: var(--fill-color);\n",
       "    }\n",
       "    30% {\n",
       "      border-color: transparent;\n",
       "      border-left-color: var(--fill-color);\n",
       "      border-top-color: var(--fill-color);\n",
       "      border-right-color: var(--fill-color);\n",
       "    }\n",
       "    40% {\n",
       "      border-color: transparent;\n",
       "      border-right-color: var(--fill-color);\n",
       "      border-top-color: var(--fill-color);\n",
       "    }\n",
       "    60% {\n",
       "      border-color: transparent;\n",
       "      border-right-color: var(--fill-color);\n",
       "    }\n",
       "    80% {\n",
       "      border-color: transparent;\n",
       "      border-right-color: var(--fill-color);\n",
       "      border-bottom-color: var(--fill-color);\n",
       "    }\n",
       "    90% {\n",
       "      border-color: transparent;\n",
       "      border-bottom-color: var(--fill-color);\n",
       "    }\n",
       "  }\n",
       "</style>\n",
       "\n",
       "  <script>\n",
       "    async function quickchart(key) {\n",
       "      const quickchartButtonEl =\n",
       "        document.querySelector('#' + key + ' button');\n",
       "      quickchartButtonEl.disabled = true;  // To prevent multiple clicks.\n",
       "      quickchartButtonEl.classList.add('colab-df-spinner');\n",
       "      try {\n",
       "        const charts = await google.colab.kernel.invokeFunction(\n",
       "            'suggestCharts', [key], {});\n",
       "      } catch (error) {\n",
       "        console.error('Error during call to suggestCharts:', error);\n",
       "      }\n",
       "      quickchartButtonEl.classList.remove('colab-df-spinner');\n",
       "      quickchartButtonEl.classList.add('colab-df-quickchart-complete');\n",
       "    }\n",
       "    (() => {\n",
       "      let quickchartButtonEl =\n",
       "        document.querySelector('#df-0cf84a2d-b969-42a3-95fd-e130efa832b3 button');\n",
       "      quickchartButtonEl.style.display =\n",
       "        google.colab.kernel.accessAllowed ? 'block' : 'none';\n",
       "    })();\n",
       "  </script>\n",
       "</div>\n",
       "    </div>\n",
       "  </div>\n"
      ],
      "text/plain": [
       "   user_id  item_id last_watch_dt  total_dur  watched_pct  weight\n",
       "0   176549     9506    2021-05-11       4250         72.0       3\n",
       "1   699317     1659    2021-05-29       8317        100.0       3\n",
       "2   656683     7107    2021-05-09         10          0.0       1\n",
       "3   864613     7638    2021-07-05      14483        100.0       3\n",
       "4   964868     9506    2021-04-30       6725        100.0       3"
      ]
     },
     "execution_count": 13,
     "metadata": {},
     "output_type": "execute_result"
    }
   ],
   "source": [
    "base_models_data.head()"
   ]
  },
  {
   "cell_type": "markdown",
   "id": "0377d79e-7a8b-4e0c-9b14-64ffeb84abc9",
   "metadata": {
    "id": "0377d79e-7a8b-4e0c-9b14-64ffeb84abc9"
   },
   "source": [
    "Для моделей первого уровня важно, чтобы она максимизировала recall. Давайте подберем такие параметры модели, чтобы она это собственно делала. Но сначала надо датасет на train и test разделить"
   ]
  },
  {
   "cell_type": "code",
   "execution_count": 61,
   "id": "c1251ee2-af59-48a0-8136-d34670e66d5d",
   "metadata": {
    "id": "c1251ee2-af59-48a0-8136-d34670e66d5d"
   },
   "outputs": [],
   "source": [
    "max_date_base_model = base_models_data[Columns.Datetime].max()\n",
    "train = base_models_data[base_models_data[Columns.Datetime] < max_date_base_model - pd.Timedelta(days=7)].copy()\n",
    "test = base_models_data[base_models_data[Columns.Datetime] >= max_date_base_model - pd.Timedelta(days=7)].copy()"
   ]
  },
  {
   "cell_type": "code",
   "execution_count": 62,
   "id": "78c6f087-15bf-4b4f-b920-ed6e5db5702a",
   "metadata": {
    "id": "78c6f087-15bf-4b4f-b920-ed6e5db5702a"
   },
   "outputs": [],
   "source": [
    "train.drop(train.query(\"total_dur < 300\").index, inplace=True)\n",
    "cold_users = set(test[Columns.User]) - set(train[Columns.User])\n",
    "test.drop(test[test[Columns.User].isin(cold_users)].index, inplace=True)"
   ]
  },
  {
   "cell_type": "markdown",
   "id": "sEOZrGsGJtO1",
   "metadata": {
    "id": "sEOZrGsGJtO1"
   },
   "source": [
    "Отбираем фичи в датасете"
   ]
  },
  {
   "cell_type": "code",
   "execution_count": 14,
   "id": "5e46fbe0-4d5c-49be-8337-0d8d9763243f",
   "metadata": {
    "id": "5e46fbe0-4d5c-49be-8337-0d8d9763243f"
   },
   "outputs": [],
   "source": [
    "def get_users_features(users: pd.DataFrame, interactions: pd.DataFrame, features: Sequence[str]) -> pd.DataFrame:\n",
    "    users.fillna(\"Unknown\", inplace=True)\n",
    "    users = users.loc[users[Columns.User].isin(interactions[Columns.User])].copy()\n",
    "    user_features_frames = []\n",
    "    for feature in features:\n",
    "        feature_frame = users.reindex(columns=[Columns.User, feature])\n",
    "        feature_frame.columns = [\"id\", \"value\"]\n",
    "        feature_frame[\"feature\"] = feature\n",
    "        user_features_frames.append(feature_frame)\n",
    "    user_features = pd.concat(user_features_frames)\n",
    "    return user_features"
   ]
  },
  {
   "cell_type": "code",
   "execution_count": 64,
   "id": "2d15d666-49ec-4dc8-a478-a53e6627baf5",
   "metadata": {
    "id": "2d15d666-49ec-4dc8-a478-a53e6627baf5"
   },
   "outputs": [],
   "source": [
    "features = [\"sex\", \"age\", \"income\"]\n",
    "user_features = get_users_features(users=users, interactions=train, features=features)"
   ]
  },
  {
   "cell_type": "code",
   "execution_count": 15,
   "id": "fa2b6689-9c42-40b3-9b27-223d9e5f5bb6",
   "metadata": {
    "id": "fa2b6689-9c42-40b3-9b27-223d9e5f5bb6"
   },
   "outputs": [],
   "source": [
    "def get_items_features(items: pd.DataFrame, interactions: pd.DataFrame, features: Sequence[str]) -> pd.DataFrame:\n",
    "    items = items.loc[items[Columns.Item].isin(interactions[Columns.Item])].copy()\n",
    "    items[\"genre\"] = items[\"genres\"].str.lower().str.replace(\", \", \",\", regex=False).str.split(\",\")\n",
    "    item_features_frames = []\n",
    "    for feature in features:\n",
    "        feature_frame = items[[\"item_id\", feature]].explode(feature)\n",
    "        feature_frame.columns = [\"id\", \"value\"]\n",
    "        feature_frame[\"feature\"] = feature\n",
    "        content_feature = items.reindex(columns=[Columns.Item, \"content_type\"])\n",
    "        content_feature.columns = [\"id\", \"value\"]\n",
    "        content_feature[\"feature\"] = \"content_type\"\n",
    "        item_features_frames.append(pd.concat((feature_frame, content_feature)))\n",
    "    item_features = pd.concat(item_features_frames)\n",
    "    return item_features"
   ]
  },
  {
   "cell_type": "code",
   "execution_count": 66,
   "id": "b719a28b-85f3-460b-a244-006c2c34c56c",
   "metadata": {
    "id": "b719a28b-85f3-460b-a244-006c2c34c56c"
   },
   "outputs": [],
   "source": [
    "features = [\"genre\"]\n",
    "item_features = get_items_features(items=items, interactions=train, features=features)"
   ]
  },
  {
   "cell_type": "code",
   "execution_count": 67,
   "id": "b21ac3e8-b072-444a-a0e0-424d270fcee4",
   "metadata": {
    "id": "b21ac3e8-b072-444a-a0e0-424d270fcee4"
   },
   "outputs": [],
   "source": [
    "dataset = Dataset.construct(\n",
    "    interactions_df=train,\n",
    "    user_features_df=user_features,\n",
    "    cat_user_features=[\"sex\", \"age\", \"income\"],\n",
    "    item_features_df=item_features,\n",
    "    cat_item_features=[\"genre\", \"content_type\"],\n",
    ")"
   ]
  },
  {
   "cell_type": "markdown",
   "id": "oxRV5bR7K_Vy",
   "metadata": {
    "id": "oxRV5bR7K_Vy"
   },
   "source": [
    "## Подбор гиперпараметров моделей"
   ]
  },
  {
   "cell_type": "code",
   "execution_count": 68,
   "id": "1cc1a24c-ed41-41f4-bfb5-7fd634c940dd",
   "metadata": {
    "id": "1cc1a24c-ed41-41f4-bfb5-7fd634c940dd"
   },
   "outputs": [],
   "source": [
    "TEST_USERS = test[Columns.User].unique()"
   ]
  },
  {
   "cell_type": "code",
   "execution_count": 69,
   "id": "a3fe0102-697e-4aaf-aeb4-c4da6a8b5eef",
   "metadata": {
    "id": "a3fe0102-697e-4aaf-aeb4-c4da6a8b5eef"
   },
   "outputs": [],
   "source": [
    "metrics: Dict[str, MetricAtK] = {\"top@10_recall\": Recall(k=10)}"
   ]
  },
  {
   "cell_type": "markdown",
   "id": "A7TXDL_pKC4t",
   "metadata": {
    "id": "A7TXDL_pKC4t"
   },
   "source": [
    "Проводим настройку параметров модели ALS таким образом, чтобы максимизировался recall"
   ]
  },
  {
   "cell_type": "code",
   "execution_count": 70,
   "id": "8819dc1c-b525-4e1b-8fc2-05fca23250da",
   "metadata": {
    "id": "8819dc1c-b525-4e1b-8fc2-05fca23250da"
   },
   "outputs": [],
   "source": [
    "def train_model(\n",
    "    metrics: Dict[str, MetricAtK], model: Any, dataset: Dataset, train: pd.DataFrame, test: pd.DataFrame\n",
    ") -> float:\n",
    "    model.fit(dataset)\n",
    "    recos = model.recommend(users=TEST_USERS, dataset=dataset, k=K_RECOS, filter_viewed=True)\n",
    "    metrics_result = calc_metrics(metrics, recos, test, train)\n",
    "    return metrics_result[\"top@10_recall\"]"
   ]
  },
  {
   "cell_type": "code",
   "execution_count": 27,
   "id": "c5151797-0907-410c-8265-de48bd0b5919",
   "metadata": {
    "id": "c5151797-0907-410c-8265-de48bd0b5919"
   },
   "outputs": [],
   "source": [
    "def objective_als(trial, dataset: Dataset, train: pd.DataFrame, test: pd.DataFrame, metrics: dict[str, MetricAtK]):\n",
    "    n_factors = trial.suggest_categorical(\"n_factors\", [8, 16, 24])\n",
    "    is_fit_features_together = trial.suggest_categorical(\"is_fit_features_together\", [True, False])\n",
    "    regularization = trial.suggest_float(\"regularization\", 0.01, 0.05)\n",
    "    iterations = trial.suggest_int(\"iterations\", 10, 20)\n",
    "\n",
    "    model = ImplicitALSWrapperModel(\n",
    "        AlternatingLeastSquares(\n",
    "            factors=n_factors, regularization=regularization, iterations=iterations, random_state=RANDOM_STATE\n",
    "        ),\n",
    "        fit_features_together=is_fit_features_together,\n",
    "    )\n",
    "\n",
    "    metric = train_model(metrics=deepcopy(metrics), model=deepcopy(model), dataset=dataset, train=train, test=test)\n",
    "    return metric"
   ]
  },
  {
   "cell_type": "code",
   "execution_count": 28,
   "id": "78b4a0fa-6643-4142-a352-a8fd87b39713",
   "metadata": {
    "colab": {
     "base_uri": "https://localhost:8080/",
     "height": 605,
     "referenced_widgets": [
      "a904fe71a28a4d76aa79f3685bc8cc6a",
      "b0dbd40b81254ecdb3080c0713779735",
      "b31fe707a3fb4dc69e6f88405e50f7fe",
      "c68fa081d0074ef49aee21e60e74e579",
      "91cb105ae3ee462a970b6a6e97a6869d",
      "216c0b498c5a4fa78b996841d4110464",
      "6990d916d4e7428bb33540a87ac7ec94",
      "6897224a75ee495d8273a6154e7fa7e1",
      "0bd81dbe3fab4b1095eff1e1dc853cc7",
      "11553f5444a0474b982b1e7a39e470f0",
      "b4e87add29244bfb810ec687ba30624c",
      "1116f383925740108cbc778b511439da",
      "f4bdf2b95916461588ee291999e986a2",
      "b4a6f372b43149ffaa0dc0c615c173ce",
      "27cbc6775c47496798f99089bc50ad96",
      "41e77e0c2b0349b1b6709c9c3806dc82",
      "89cb5b333788454594c211c9a60c34a1",
      "39f2ae018ed54d5594309890512560f4",
      "c93d89c8da264557a6949e18b47e5f8b",
      "a453ad457bca4712980a64c17f9ea309",
      "881a489264164bc4813cd43973e8b409",
      "16e85659e20b49c8ad0d869c87f3e2d3",
      "5cfa5abe1f0949e19cbaa020c6bf062a",
      "3f7f044d20f749228d091aa2eeeb609b",
      "f4b48a483e704a8b8fb35562047b38d3",
      "abaaad0d267f44e390bcbe5d1c958456",
      "b8f925c4529249d9b9020e4aafe4bda7",
      "d9e963d2e03a411198d95f7e1039465a",
      "a68618635b02424c8a74cbe68477edcc",
      "04e18505275a40609304c936b05d541b",
      "5a8de5afff3e4f4594c84e2a65310ab3",
      "671b019139924f0abe4761f29302ea2c",
      "ffcd11aaee3e4d17b3eea549313d94fe",
      "8ac4fb9e051548d7866cd51365d99cd2",
      "b385108ee09b42fbb3b689408762c569",
      "5be9e021d76c4cc985373102eac174e6",
      "6d127a2a8d284bffb35939f609af3f33",
      "ae04f6b343fd421482ed62f16e46a0c6",
      "bcc5ec8425014a84a34cd21a46cd3796",
      "e5856d6bc8714cb2ab34bcb174a03614",
      "40ce21e4fdf44bea9fe79fec7ddc4688",
      "5b3a2bb1ada4471399889b0cb4c62b1d",
      "b601d71a2f56434d9f8fbec35f649562",
      "9c3c9afba27a4a9b9a56ba134b9192fc",
      "9abe3dddf4794828b93863f097c6a075",
      "cafaccc2b7dc4807bc0ca7aaec83bf8f",
      "df762b08880c48a5869ab77655e53e48",
      "6cf8d297ea16461296ce83e6b9f7fa54",
      "00187c8452f3422da03218dadc73f49c",
      "33c4f811121e4bd59c0a1a437d7b28df",
      "28575246e1a84e4394b43c75ac8a4638",
      "034a5611d48849378ab01d7f562e54cf",
      "57b388f0dc914deb81919c2c4ff585e5",
      "87bd833386774b3fb936a200e773b894",
      "901680a1f65049eaadc06008b52ed820",
      "f7bd35a76eed4fb59b19d8bad96f6e25",
      "abfefe28d95540a9a1fa7648bf45cd34",
      "22a6c92188cc4066ae56c0f3e425f4ef",
      "3b803cdb24aa4d62b071420231024d99",
      "c68b81b373dd40dca4a80a6c00761b0e",
      "78b563daa3f34c8fba662bb91bdb9a92",
      "aec1a07eb066434e8575cef2e28b87fd",
      "b217055ebf49411796cbf9e15abfcb7f",
      "296fb9f893aa4c4ca7ae6619fcb804de",
      "8d3399759f5e4cb39f41f59eae666e99",
      "07acbd0e93994f5aa135fddac1f10b07",
      "5643971f87444602bfb609a33df83d8e",
      "1b38ec79a286416db06cc4ae7f7e130f",
      "3a08a60d6f8b404e9897b4bab82ad6ed",
      "0b834a60fad04ad8bd50e20f92506f03",
      "cbd12993b8d54b17ba15dec4ccfb4faf",
      "551f921b0fb74fc780603b773b7c2905",
      "3531301aa9084069b36af1489a28963b",
      "1e99b026f79c4296b82ccc768bc76e63",
      "93c3c02459124e0586718263c32bc0ee",
      "d2d924b9fd0a4987be2aaff83f3968cb",
      "637b62745dca44c280f4d2242d572b60",
      "c10c946ffc3141e185ab9d4eb5a5c9a1",
      "729799e6b4bf4b67b68e6348cfa8f911",
      "ad7a8b7b0ec746e8b1755cbaa1c86f38",
      "2f653d61cf1d4599be28ba7c9ec5c1eb",
      "1648b7d6053d4d35b97dd189521e5ad3",
      "f11a717d43b741c6bb023c49dad1ddbb",
      "bb6cc4089fb14131b5c0c0f72eb92c91",
      "221d817349284a949ae383dffdede07c",
      "e19f0e3c64524ecd88679e1e152939b7",
      "7385c02b2b53406a815ce70ac9659170",
      "be40159cdb064992b56f1b2385f6adeb"
     ]
    },
    "id": "78b4a0fa-6643-4142-a352-a8fd87b39713",
    "outputId": "9096bbfd-ad8c-4044-c306-82325c334073"
   },
   "outputs": [
    {
     "name": "stderr",
     "output_type": "stream",
     "text": [
      "[I 2023-12-19 17:38:56,217] A new study created in memory with name: als\n",
      "[I 2023-12-19 17:39:37,781] Trial 0 finished with value: 0.18408078503425176 and parameters: {'n_factors': 16, 'is_fit_features_together': True, 'regularization': 0.016239780813448106, 'iterations': 10}. Best is trial 0 with value: 0.18408078503425176.\n"
     ]
    },
    {
     "data": {
      "application/vnd.jupyter.widget-view+json": {
       "model_id": "a904fe71a28a4d76aa79f3685bc8cc6a",
       "version_major": 2,
       "version_minor": 0
      },
      "text/plain": [
       "  0%|          | 0/1 [00:00<?, ?it/s]"
      ]
     },
     "metadata": {},
     "output_type": "display_data"
    },
    {
     "data": {
      "application/vnd.jupyter.widget-view+json": {
       "model_id": "1116f383925740108cbc778b511439da",
       "version_major": 2,
       "version_minor": 0
      },
      "text/plain": [
       "  0%|          | 0/1 [00:00<?, ?it/s]"
      ]
     },
     "metadata": {},
     "output_type": "display_data"
    },
    {
     "name": "stderr",
     "output_type": "stream",
     "text": [
      "[I 2023-12-19 17:40:05,526] Trial 1 finished with value: 0.18980613205281777 and parameters: {'n_factors': 8, 'is_fit_features_together': False, 'regularization': 0.043297705632016875, 'iterations': 12}. Best is trial 1 with value: 0.18980613205281777.\n",
      "[I 2023-12-19 17:40:44,316] Trial 2 finished with value: 0.2056785586044271 and parameters: {'n_factors': 24, 'is_fit_features_together': True, 'regularization': 0.021649165607921676, 'iterations': 16}. Best is trial 2 with value: 0.2056785586044271.\n"
     ]
    },
    {
     "data": {
      "application/vnd.jupyter.widget-view+json": {
       "model_id": "5cfa5abe1f0949e19cbaa020c6bf062a",
       "version_major": 2,
       "version_minor": 0
      },
      "text/plain": [
       "  0%|          | 0/1 [00:00<?, ?it/s]"
      ]
     },
     "metadata": {},
     "output_type": "display_data"
    },
    {
     "data": {
      "application/vnd.jupyter.widget-view+json": {
       "model_id": "8ac4fb9e051548d7866cd51365d99cd2",
       "version_major": 2,
       "version_minor": 0
      },
      "text/plain": [
       "  0%|          | 0/1 [00:00<?, ?it/s]"
      ]
     },
     "metadata": {},
     "output_type": "display_data"
    },
    {
     "name": "stderr",
     "output_type": "stream",
     "text": [
      "[I 2023-12-19 17:41:13,354] Trial 3 finished with value: 0.16873587774442314 and parameters: {'n_factors': 24, 'is_fit_features_together': False, 'regularization': 0.017986951286334388, 'iterations': 15}. Best is trial 2 with value: 0.2056785586044271.\n",
      "[I 2023-12-19 17:41:59,124] Trial 4 finished with value: 0.1933141010175237 and parameters: {'n_factors': 24, 'is_fit_features_together': True, 'regularization': 0.047955421490133335, 'iterations': 20}. Best is trial 2 with value: 0.2056785586044271.\n",
      "[I 2023-12-19 17:42:41,226] Trial 5 finished with value: 0.2014613347169602 and parameters: {'n_factors': 8, 'is_fit_features_together': True, 'regularization': 0.014881529393791153, 'iterations': 15}. Best is trial 2 with value: 0.2056785586044271.\n",
      "[I 2023-12-19 17:43:23,428] Trial 6 finished with value: 0.20937846526716072 and parameters: {'n_factors': 16, 'is_fit_features_together': True, 'regularization': 0.030802720847112434, 'iterations': 16}. Best is trial 6 with value: 0.20937846526716072.\n",
      "[I 2023-12-19 17:44:04,746] Trial 7 finished with value: 0.19467608504731498 and parameters: {'n_factors': 16, 'is_fit_features_together': True, 'regularization': 0.03391599915244341, 'iterations': 20}. Best is trial 6 with value: 0.20937846526716072.\n"
     ]
    },
    {
     "data": {
      "application/vnd.jupyter.widget-view+json": {
       "model_id": "9abe3dddf4794828b93863f097c6a075",
       "version_major": 2,
       "version_minor": 0
      },
      "text/plain": [
       "  0%|          | 0/1 [00:00<?, ?it/s]"
      ]
     },
     "metadata": {},
     "output_type": "display_data"
    },
    {
     "data": {
      "application/vnd.jupyter.widget-view+json": {
       "model_id": "f7bd35a76eed4fb59b19d8bad96f6e25",
       "version_major": 2,
       "version_minor": 0
      },
      "text/plain": [
       "  0%|          | 0/1 [00:00<?, ?it/s]"
      ]
     },
     "metadata": {},
     "output_type": "display_data"
    },
    {
     "name": "stderr",
     "output_type": "stream",
     "text": [
      "[I 2023-12-19 17:44:35,759] Trial 8 finished with value: 0.17388780606337528 and parameters: {'n_factors': 16, 'is_fit_features_together': False, 'regularization': 0.02085396127095584, 'iterations': 19}. Best is trial 6 with value: 0.20937846526716072.\n"
     ]
    },
    {
     "data": {
      "application/vnd.jupyter.widget-view+json": {
       "model_id": "5643971f87444602bfb609a33df83d8e",
       "version_major": 2,
       "version_minor": 0
      },
      "text/plain": [
       "  0%|          | 0/1 [00:00<?, ?it/s]"
      ]
     },
     "metadata": {},
     "output_type": "display_data"
    },
    {
     "data": {
      "application/vnd.jupyter.widget-view+json": {
       "model_id": "c10c946ffc3141e185ab9d4eb5a5c9a1",
       "version_major": 2,
       "version_minor": 0
      },
      "text/plain": [
       "  0%|          | 0/1 [00:00<?, ?it/s]"
      ]
     },
     "metadata": {},
     "output_type": "display_data"
    },
    {
     "name": "stderr",
     "output_type": "stream",
     "text": [
      "[I 2023-12-19 17:45:04,779] Trial 9 finished with value: 0.16852151719048916 and parameters: {'n_factors': 24, 'is_fit_features_together': False, 'regularization': 0.012982025747190833, 'iterations': 20}. Best is trial 6 with value: 0.20937846526716072.\n",
      "[I 2023-12-19 17:45:42,640] Trial 10 finished with value: 0.2062933205206182 and parameters: {'n_factors': 16, 'is_fit_features_together': True, 'regularization': 0.03085286600295183, 'iterations': 17}. Best is trial 6 with value: 0.20937846526716072.\n",
      "[I 2023-12-19 17:46:21,139] Trial 11 finished with value: 0.20425187850260068 and parameters: {'n_factors': 16, 'is_fit_features_together': True, 'regularization': 0.031890713244797954, 'iterations': 17}. Best is trial 6 with value: 0.20937846526716072.\n",
      "[I 2023-12-19 17:46:59,371] Trial 12 finished with value: 0.20160614149473152 and parameters: {'n_factors': 16, 'is_fit_features_together': True, 'regularization': 0.03873521528567009, 'iterations': 17}. Best is trial 6 with value: 0.20937846526716072.\n",
      "[I 2023-12-19 17:47:35,531] Trial 13 finished with value: 0.20442423818128397 and parameters: {'n_factors': 16, 'is_fit_features_together': True, 'regularization': 0.026298762946492447, 'iterations': 13}. Best is trial 6 with value: 0.20937846526716072.\n",
      "[I 2023-12-19 17:48:15,128] Trial 14 finished with value: 0.2019295162539106 and parameters: {'n_factors': 16, 'is_fit_features_together': True, 'regularization': 0.026808114235778686, 'iterations': 18}. Best is trial 6 with value: 0.20937846526716072.\n"
     ]
    },
    {
     "name": "stdout",
     "output_type": "stream",
     "text": [
      "CPU times: user 9min 36s, sys: 2min 38s, total: 12min 15s\n",
      "Wall time: 9min 18s\n"
     ]
    }
   ],
   "source": [
    "%%time\n",
    "sampler = TPESampler(seed=RANDOM_STATE)\n",
    "study = optuna.create_study(study_name=\"als\", direction=\"maximize\", sampler=sampler)\n",
    "study.optimize(\n",
    "    partial(objective_als, dataset=dataset, train=train, test=test, metrics=deepcopy(metrics)),\n",
    "    n_trials=15,\n",
    ")\n",
    "\n",
    "best_trial_als = study.best_trial\n",
    "best_params_als = study.best_params"
   ]
  },
  {
   "cell_type": "markdown",
   "id": "eb3d6ef8-82fb-41b6-a8d0-e60f520b8736",
   "metadata": {
    "id": "eb3d6ef8-82fb-41b6-a8d0-e60f520b8736"
   },
   "source": [
    "## Обучение моделей первого уровня"
   ]
  },
  {
   "cell_type": "code",
   "execution_count": 16,
   "id": "301a09e9-9927-4814-aa8b-d13ab05bb80d",
   "metadata": {
    "id": "301a09e9-9927-4814-aa8b-d13ab05bb80d"
   },
   "outputs": [],
   "source": [
    "features = [\"sex\", \"age\", \"income\"]\n",
    "user_features = get_users_features(users=users, interactions=base_models_data, features=features)\n",
    "features = [\"genre\"]\n",
    "item_features = get_items_features(items=items, interactions=base_models_data, features=features)"
   ]
  },
  {
   "cell_type": "code",
   "execution_count": 17,
   "id": "5aa8862f-235e-42a5-ae49-436c80e374ec",
   "metadata": {
    "id": "5aa8862f-235e-42a5-ae49-436c80e374ec"
   },
   "outputs": [],
   "source": [
    "dataset = Dataset.construct(\n",
    "    interactions_df=base_models_data,\n",
    "    user_features_df=user_features,\n",
    "    cat_user_features=[\"sex\", \"age\", \"income\"],\n",
    "    item_features_df=item_features,\n",
    "    cat_item_features=[\"genre\", \"content_type\"],\n",
    ")"
   ]
  },
  {
   "cell_type": "code",
   "execution_count": 24,
   "id": "0f399ccb-2b0e-4c7c-aba9-cd304cfe4c45",
   "metadata": {
    "colab": {
     "base_uri": "https://localhost:8080/"
    },
    "id": "0f399ccb-2b0e-4c7c-aba9-cd304cfe4c45",
    "outputId": "39d843ba-f25c-497b-e7e8-853678350f46"
   },
   "outputs": [
    {
     "data": {
      "text/plain": [
       "<rectools.models.implicit_als.ImplicitALSWrapperModel at 0x7c96b4f18e80>"
      ]
     },
     "execution_count": 24,
     "metadata": {},
     "output_type": "execute_result"
    }
   ],
   "source": [
    "model_als = ImplicitALSWrapperModel(\n",
    "    AlternatingLeastSquares(\n",
    "        factors=best_params_als[\"n_factors\"],\n",
    "        regularization=best_params_als[\"regularization\"],\n",
    "        iterations=best_params_als[\"iterations\"],\n",
    "        random_state=RANDOM_STATE,\n",
    "    ),\n",
    "    fit_features_together=best_params_als[\"is_fit_features_together\"],\n",
    ")\n",
    "model_als.fit(dataset)"
   ]
  },
  {
   "cell_type": "markdown",
   "id": "3bd1dba9-59c1-42c4-a539-17b2d8f1d4bf",
   "metadata": {
    "id": "3bd1dba9-59c1-42c4-a539-17b2d8f1d4bf"
   },
   "source": [
    "## Генерация кандидатов"
   ]
  },
  {
   "cell_type": "markdown",
   "id": "cwLwvsJ6PURX",
   "metadata": {
    "id": "cwLwvsJ6PURX"
   },
   "source": [
    "Сгенерируем кандидатов для ALS"
   ]
  },
  {
   "cell_type": "code",
   "execution_count": 34,
   "id": "137ijqNzPdff",
   "metadata": {
    "id": "137ijqNzPdff"
   },
   "outputs": [],
   "source": [
    "candidates_als = model_als.recommend(dataset.user_id_map.external_ids, dataset, TOP_N_CANDIDATES, True)"
   ]
  },
  {
   "cell_type": "code",
   "execution_count": null,
   "id": "7xe4APk6Pj2h",
   "metadata": {
    "id": "7xe4APk6Pj2h"
   },
   "outputs": [],
   "source": [
    "candidates_als.rename({\"rank\": \"als_rank\", \"score\": \"als_score\"}, axis=1, inplace=True)"
   ]
  },
  {
   "cell_type": "code",
   "execution_count": null,
   "id": "SYocqAy7P0W5",
   "metadata": {
    "id": "SYocqAy7P0W5"
   },
   "outputs": [],
   "source": [
    "candidates_als.to_csv(\"als_candidates.csv\", index=False)"
   ]
  },
  {
   "cell_type": "code",
   "execution_count": null,
   "id": "fuJ0W7uYevUK",
   "metadata": {
    "id": "fuJ0W7uYevUK"
   },
   "outputs": [],
   "source": [
    "del candidates_als\n",
    "gc.collect()"
   ]
  },
  {
   "cell_type": "markdown",
   "id": "977fbc1c-6972-4758-87d4-804c9f522644",
   "metadata": {
    "id": "977fbc1c-6972-4758-87d4-804c9f522644"
   },
   "source": [
    "Получим рекомендации на основе популярного для холодных пользователей, чтобы ranker тоже умел с ними работать\n"
   ]
  },
  {
   "cell_type": "code",
   "execution_count": 35,
   "id": "08578589-e3f1-4be7-a503-a00464e3d1be",
   "metadata": {
    "id": "08578589-e3f1-4be7-a503-a00464e3d1be"
   },
   "outputs": [],
   "source": [
    "dataset = Dataset.construct(base_models_data)"
   ]
  },
  {
   "cell_type": "code",
   "execution_count": 36,
   "id": "8fb73a54-10ff-4a21-b9cf-931f65c85070",
   "metadata": {
    "colab": {
     "base_uri": "https://localhost:8080/"
    },
    "id": "8fb73a54-10ff-4a21-b9cf-931f65c85070",
    "outputId": "ad3fd6ec-60bd-46e7-a771-8c9f77171ac6"
   },
   "outputs": [
    {
     "data": {
      "text/plain": [
       "<rectools.models.popular.PopularModel at 0x7c96b4f19090>"
      ]
     },
     "execution_count": 36,
     "metadata": {},
     "output_type": "execute_result"
    }
   ],
   "source": [
    "model = PopularModel()\n",
    "model.fit(dataset)"
   ]
  },
  {
   "cell_type": "markdown",
   "id": "avzSEkcgP_pR",
   "metadata": {
    "id": "avzSEkcgP_pR"
   },
   "source": [
    "Тут вообще все равно, для каких пользователей получать популярное, все равно все одинаковые будут"
   ]
  },
  {
   "cell_type": "code",
   "execution_count": 37,
   "id": "a3a16b3b-5c8e-4d69-9fcc-de3843ae65ae",
   "metadata": {
    "id": "a3a16b3b-5c8e-4d69-9fcc-de3843ae65ae"
   },
   "outputs": [],
   "source": [
    "candidates = model.recommend([193171], dataset, TOP_N_CANDIDATES, True)"
   ]
  },
  {
   "cell_type": "code",
   "execution_count": 39,
   "id": "4761a97a-d9de-4af3-b97b-9bd4ae4ae611",
   "metadata": {
    "id": "4761a97a-d9de-4af3-b97b-9bd4ae4ae611"
   },
   "outputs": [],
   "source": [
    "candidates.rename({\"rank\": \"pop_rank\", \"score\": \"pop_score\"}, axis=1, inplace=True)"
   ]
  },
  {
   "cell_type": "code",
   "execution_count": null,
   "id": "19ef5e63-88c9-4c6c-8ea2-cf187e296b6b",
   "metadata": {
    "id": "19ef5e63-88c9-4c6c-8ea2-cf187e296b6b"
   },
   "outputs": [],
   "source": [
    "candidates.to_csv(\"pop_candidates.csv\", index=False)"
   ]
  }
 ],
 "metadata": {
  "accelerator": "GPU",
  "colab": {
   "gpuType": "T4",
   "provenance": []
  },
  "kernelspec": {
   "display_name": "Python 3 (ipykernel)",
   "language": "python",
   "name": "python3"
  },
  "language_info": {
   "codemirror_mode": {
    "name": "ipython",
    "version": 3
   },
   "file_extension": ".py",
   "mimetype": "text/x-python",
   "name": "python",
   "nbconvert_exporter": "python",
   "pygments_lexer": "ipython3",
   "version": "3.10.12"
  },
  "widgets": {
   "application/vnd.jupyter.widget-state+json": {
    "00187c8452f3422da03218dadc73f49c": {
     "model_module": "@jupyter-widgets/base",
     "model_module_version": "1.2.0",
     "model_name": "LayoutModel",
     "state": {
      "_model_module": "@jupyter-widgets/base",
      "_model_module_version": "1.2.0",
      "_model_name": "LayoutModel",
      "_view_count": null,
      "_view_module": "@jupyter-widgets/base",
      "_view_module_version": "1.2.0",
      "_view_name": "LayoutView",
      "align_content": null,
      "align_items": null,
      "align_self": null,
      "border": null,
      "bottom": null,
      "display": null,
      "flex": null,
      "flex_flow": null,
      "grid_area": null,
      "grid_auto_columns": null,
      "grid_auto_flow": null,
      "grid_auto_rows": null,
      "grid_column": null,
      "grid_gap": null,
      "grid_row": null,
      "grid_template_areas": null,
      "grid_template_columns": null,
      "grid_template_rows": null,
      "height": null,
      "justify_content": null,
      "justify_items": null,
      "left": null,
      "margin": null,
      "max_height": null,
      "max_width": null,
      "min_height": null,
      "min_width": null,
      "object_fit": null,
      "object_position": null,
      "order": null,
      "overflow": null,
      "overflow_x": null,
      "overflow_y": null,
      "padding": null,
      "right": null,
      "top": null,
      "visibility": null,
      "width": null
     }
    },
    "034a5611d48849378ab01d7f562e54cf": {
     "model_module": "@jupyter-widgets/base",
     "model_module_version": "1.2.0",
     "model_name": "LayoutModel",
     "state": {
      "_model_module": "@jupyter-widgets/base",
      "_model_module_version": "1.2.0",
      "_model_name": "LayoutModel",
      "_view_count": null,
      "_view_module": "@jupyter-widgets/base",
      "_view_module_version": "1.2.0",
      "_view_name": "LayoutView",
      "align_content": null,
      "align_items": null,
      "align_self": null,
      "border": null,
      "bottom": null,
      "display": null,
      "flex": null,
      "flex_flow": null,
      "grid_area": null,
      "grid_auto_columns": null,
      "grid_auto_flow": null,
      "grid_auto_rows": null,
      "grid_column": null,
      "grid_gap": null,
      "grid_row": null,
      "grid_template_areas": null,
      "grid_template_columns": null,
      "grid_template_rows": null,
      "height": null,
      "justify_content": null,
      "justify_items": null,
      "left": null,
      "margin": null,
      "max_height": null,
      "max_width": null,
      "min_height": null,
      "min_width": null,
      "object_fit": null,
      "object_position": null,
      "order": null,
      "overflow": null,
      "overflow_x": null,
      "overflow_y": null,
      "padding": null,
      "right": null,
      "top": null,
      "visibility": null,
      "width": null
     }
    },
    "04e18505275a40609304c936b05d541b": {
     "model_module": "@jupyter-widgets/base",
     "model_module_version": "1.2.0",
     "model_name": "LayoutModel",
     "state": {
      "_model_module": "@jupyter-widgets/base",
      "_model_module_version": "1.2.0",
      "_model_name": "LayoutModel",
      "_view_count": null,
      "_view_module": "@jupyter-widgets/base",
      "_view_module_version": "1.2.0",
      "_view_name": "LayoutView",
      "align_content": null,
      "align_items": null,
      "align_self": null,
      "border": null,
      "bottom": null,
      "display": null,
      "flex": null,
      "flex_flow": null,
      "grid_area": null,
      "grid_auto_columns": null,
      "grid_auto_flow": null,
      "grid_auto_rows": null,
      "grid_column": null,
      "grid_gap": null,
      "grid_row": null,
      "grid_template_areas": null,
      "grid_template_columns": null,
      "grid_template_rows": null,
      "height": null,
      "justify_content": null,
      "justify_items": null,
      "left": null,
      "margin": null,
      "max_height": null,
      "max_width": null,
      "min_height": null,
      "min_width": null,
      "object_fit": null,
      "object_position": null,
      "order": null,
      "overflow": null,
      "overflow_x": null,
      "overflow_y": null,
      "padding": null,
      "right": null,
      "top": null,
      "visibility": null,
      "width": null
     }
    },
    "07acbd0e93994f5aa135fddac1f10b07": {
     "model_module": "@jupyter-widgets/controls",
     "model_module_version": "1.5.0",
     "model_name": "DescriptionStyleModel",
     "state": {
      "_model_module": "@jupyter-widgets/controls",
      "_model_module_version": "1.5.0",
      "_model_name": "DescriptionStyleModel",
      "_view_count": null,
      "_view_module": "@jupyter-widgets/base",
      "_view_module_version": "1.2.0",
      "_view_name": "StyleView",
      "description_width": ""
     }
    },
    "0b834a60fad04ad8bd50e20f92506f03": {
     "model_module": "@jupyter-widgets/controls",
     "model_module_version": "1.5.0",
     "model_name": "HTMLModel",
     "state": {
      "_dom_classes": [],
      "_model_module": "@jupyter-widgets/controls",
      "_model_module_version": "1.5.0",
      "_model_name": "HTMLModel",
      "_view_count": null,
      "_view_module": "@jupyter-widgets/controls",
      "_view_module_version": "1.5.0",
      "_view_name": "HTMLView",
      "description": "",
      "description_tooltip": null,
      "layout": "IPY_MODEL_d2d924b9fd0a4987be2aaff83f3968cb",
      "placeholder": "​",
      "style": "IPY_MODEL_637b62745dca44c280f4d2242d572b60",
      "value": " 1/1 [00:00&lt;00:00,  3.81it/s]"
     }
    },
    "0bd81dbe3fab4b1095eff1e1dc853cc7": {
     "model_module": "@jupyter-widgets/controls",
     "model_module_version": "1.5.0",
     "model_name": "ProgressStyleModel",
     "state": {
      "_model_module": "@jupyter-widgets/controls",
      "_model_module_version": "1.5.0",
      "_model_name": "ProgressStyleModel",
      "_view_count": null,
      "_view_module": "@jupyter-widgets/base",
      "_view_module_version": "1.2.0",
      "_view_name": "StyleView",
      "bar_color": null,
      "description_width": ""
     }
    },
    "1116f383925740108cbc778b511439da": {
     "model_module": "@jupyter-widgets/controls",
     "model_module_version": "1.5.0",
     "model_name": "HBoxModel",
     "state": {
      "_dom_classes": [],
      "_model_module": "@jupyter-widgets/controls",
      "_model_module_version": "1.5.0",
      "_model_name": "HBoxModel",
      "_view_count": null,
      "_view_module": "@jupyter-widgets/controls",
      "_view_module_version": "1.5.0",
      "_view_name": "HBoxView",
      "box_style": "",
      "children": [
       "IPY_MODEL_f4bdf2b95916461588ee291999e986a2",
       "IPY_MODEL_b4a6f372b43149ffaa0dc0c615c173ce",
       "IPY_MODEL_27cbc6775c47496798f99089bc50ad96"
      ],
      "layout": "IPY_MODEL_41e77e0c2b0349b1b6709c9c3806dc82"
     }
    },
    "11553f5444a0474b982b1e7a39e470f0": {
     "model_module": "@jupyter-widgets/base",
     "model_module_version": "1.2.0",
     "model_name": "LayoutModel",
     "state": {
      "_model_module": "@jupyter-widgets/base",
      "_model_module_version": "1.2.0",
      "_model_name": "LayoutModel",
      "_view_count": null,
      "_view_module": "@jupyter-widgets/base",
      "_view_module_version": "1.2.0",
      "_view_name": "LayoutView",
      "align_content": null,
      "align_items": null,
      "align_self": null,
      "border": null,
      "bottom": null,
      "display": null,
      "flex": null,
      "flex_flow": null,
      "grid_area": null,
      "grid_auto_columns": null,
      "grid_auto_flow": null,
      "grid_auto_rows": null,
      "grid_column": null,
      "grid_gap": null,
      "grid_row": null,
      "grid_template_areas": null,
      "grid_template_columns": null,
      "grid_template_rows": null,
      "height": null,
      "justify_content": null,
      "justify_items": null,
      "left": null,
      "margin": null,
      "max_height": null,
      "max_width": null,
      "min_height": null,
      "min_width": null,
      "object_fit": null,
      "object_position": null,
      "order": null,
      "overflow": null,
      "overflow_x": null,
      "overflow_y": null,
      "padding": null,
      "right": null,
      "top": null,
      "visibility": null,
      "width": null
     }
    },
    "1648b7d6053d4d35b97dd189521e5ad3": {
     "model_module": "@jupyter-widgets/base",
     "model_module_version": "1.2.0",
     "model_name": "LayoutModel",
     "state": {
      "_model_module": "@jupyter-widgets/base",
      "_model_module_version": "1.2.0",
      "_model_name": "LayoutModel",
      "_view_count": null,
      "_view_module": "@jupyter-widgets/base",
      "_view_module_version": "1.2.0",
      "_view_name": "LayoutView",
      "align_content": null,
      "align_items": null,
      "align_self": null,
      "border": null,
      "bottom": null,
      "display": null,
      "flex": null,
      "flex_flow": null,
      "grid_area": null,
      "grid_auto_columns": null,
      "grid_auto_flow": null,
      "grid_auto_rows": null,
      "grid_column": null,
      "grid_gap": null,
      "grid_row": null,
      "grid_template_areas": null,
      "grid_template_columns": null,
      "grid_template_rows": null,
      "height": null,
      "justify_content": null,
      "justify_items": null,
      "left": null,
      "margin": null,
      "max_height": null,
      "max_width": null,
      "min_height": null,
      "min_width": null,
      "object_fit": null,
      "object_position": null,
      "order": null,
      "overflow": null,
      "overflow_x": null,
      "overflow_y": null,
      "padding": null,
      "right": null,
      "top": null,
      "visibility": null,
      "width": null
     }
    },
    "16e85659e20b49c8ad0d869c87f3e2d3": {
     "model_module": "@jupyter-widgets/controls",
     "model_module_version": "1.5.0",
     "model_name": "DescriptionStyleModel",
     "state": {
      "_model_module": "@jupyter-widgets/controls",
      "_model_module_version": "1.5.0",
      "_model_name": "DescriptionStyleModel",
      "_view_count": null,
      "_view_module": "@jupyter-widgets/base",
      "_view_module_version": "1.2.0",
      "_view_name": "StyleView",
      "description_width": ""
     }
    },
    "1b38ec79a286416db06cc4ae7f7e130f": {
     "model_module": "@jupyter-widgets/controls",
     "model_module_version": "1.5.0",
     "model_name": "HTMLModel",
     "state": {
      "_dom_classes": [],
      "_model_module": "@jupyter-widgets/controls",
      "_model_module_version": "1.5.0",
      "_model_name": "HTMLModel",
      "_view_count": null,
      "_view_module": "@jupyter-widgets/controls",
      "_view_module_version": "1.5.0",
      "_view_name": "HTMLView",
      "description": "",
      "description_tooltip": null,
      "layout": "IPY_MODEL_551f921b0fb74fc780603b773b7c2905",
      "placeholder": "​",
      "style": "IPY_MODEL_3531301aa9084069b36af1489a28963b",
      "value": "100%"
     }
    },
    "1e99b026f79c4296b82ccc768bc76e63": {
     "model_module": "@jupyter-widgets/base",
     "model_module_version": "1.2.0",
     "model_name": "LayoutModel",
     "state": {
      "_model_module": "@jupyter-widgets/base",
      "_model_module_version": "1.2.0",
      "_model_name": "LayoutModel",
      "_view_count": null,
      "_view_module": "@jupyter-widgets/base",
      "_view_module_version": "1.2.0",
      "_view_name": "LayoutView",
      "align_content": null,
      "align_items": null,
      "align_self": null,
      "border": null,
      "bottom": null,
      "display": null,
      "flex": null,
      "flex_flow": null,
      "grid_area": null,
      "grid_auto_columns": null,
      "grid_auto_flow": null,
      "grid_auto_rows": null,
      "grid_column": null,
      "grid_gap": null,
      "grid_row": null,
      "grid_template_areas": null,
      "grid_template_columns": null,
      "grid_template_rows": null,
      "height": null,
      "justify_content": null,
      "justify_items": null,
      "left": null,
      "margin": null,
      "max_height": null,
      "max_width": null,
      "min_height": null,
      "min_width": null,
      "object_fit": null,
      "object_position": null,
      "order": null,
      "overflow": null,
      "overflow_x": null,
      "overflow_y": null,
      "padding": null,
      "right": null,
      "top": null,
      "visibility": null,
      "width": null
     }
    },
    "216c0b498c5a4fa78b996841d4110464": {
     "model_module": "@jupyter-widgets/base",
     "model_module_version": "1.2.0",
     "model_name": "LayoutModel",
     "state": {
      "_model_module": "@jupyter-widgets/base",
      "_model_module_version": "1.2.0",
      "_model_name": "LayoutModel",
      "_view_count": null,
      "_view_module": "@jupyter-widgets/base",
      "_view_module_version": "1.2.0",
      "_view_name": "LayoutView",
      "align_content": null,
      "align_items": null,
      "align_self": null,
      "border": null,
      "bottom": null,
      "display": null,
      "flex": null,
      "flex_flow": null,
      "grid_area": null,
      "grid_auto_columns": null,
      "grid_auto_flow": null,
      "grid_auto_rows": null,
      "grid_column": null,
      "grid_gap": null,
      "grid_row": null,
      "grid_template_areas": null,
      "grid_template_columns": null,
      "grid_template_rows": null,
      "height": null,
      "justify_content": null,
      "justify_items": null,
      "left": null,
      "margin": null,
      "max_height": null,
      "max_width": null,
      "min_height": null,
      "min_width": null,
      "object_fit": null,
      "object_position": null,
      "order": null,
      "overflow": null,
      "overflow_x": null,
      "overflow_y": null,
      "padding": null,
      "right": null,
      "top": null,
      "visibility": null,
      "width": null
     }
    },
    "221d817349284a949ae383dffdede07c": {
     "model_module": "@jupyter-widgets/base",
     "model_module_version": "1.2.0",
     "model_name": "LayoutModel",
     "state": {
      "_model_module": "@jupyter-widgets/base",
      "_model_module_version": "1.2.0",
      "_model_name": "LayoutModel",
      "_view_count": null,
      "_view_module": "@jupyter-widgets/base",
      "_view_module_version": "1.2.0",
      "_view_name": "LayoutView",
      "align_content": null,
      "align_items": null,
      "align_self": null,
      "border": null,
      "bottom": null,
      "display": null,
      "flex": null,
      "flex_flow": null,
      "grid_area": null,
      "grid_auto_columns": null,
      "grid_auto_flow": null,
      "grid_auto_rows": null,
      "grid_column": null,
      "grid_gap": null,
      "grid_row": null,
      "grid_template_areas": null,
      "grid_template_columns": null,
      "grid_template_rows": null,
      "height": null,
      "justify_content": null,
      "justify_items": null,
      "left": null,
      "margin": null,
      "max_height": null,
      "max_width": null,
      "min_height": null,
      "min_width": null,
      "object_fit": null,
      "object_position": null,
      "order": null,
      "overflow": null,
      "overflow_x": null,
      "overflow_y": null,
      "padding": null,
      "right": null,
      "top": null,
      "visibility": null,
      "width": null
     }
    },
    "22a6c92188cc4066ae56c0f3e425f4ef": {
     "model_module": "@jupyter-widgets/controls",
     "model_module_version": "1.5.0",
     "model_name": "FloatProgressModel",
     "state": {
      "_dom_classes": [],
      "_model_module": "@jupyter-widgets/controls",
      "_model_module_version": "1.5.0",
      "_model_name": "FloatProgressModel",
      "_view_count": null,
      "_view_module": "@jupyter-widgets/controls",
      "_view_module_version": "1.5.0",
      "_view_name": "ProgressView",
      "bar_style": "success",
      "description": "",
      "description_tooltip": null,
      "layout": "IPY_MODEL_b217055ebf49411796cbf9e15abfcb7f",
      "max": 1,
      "min": 0,
      "orientation": "horizontal",
      "style": "IPY_MODEL_296fb9f893aa4c4ca7ae6619fcb804de",
      "value": 1
     }
    },
    "27cbc6775c47496798f99089bc50ad96": {
     "model_module": "@jupyter-widgets/controls",
     "model_module_version": "1.5.0",
     "model_name": "HTMLModel",
     "state": {
      "_dom_classes": [],
      "_model_module": "@jupyter-widgets/controls",
      "_model_module_version": "1.5.0",
      "_model_name": "HTMLModel",
      "_view_count": null,
      "_view_module": "@jupyter-widgets/controls",
      "_view_module_version": "1.5.0",
      "_view_name": "HTMLView",
      "description": "",
      "description_tooltip": null,
      "layout": "IPY_MODEL_881a489264164bc4813cd43973e8b409",
      "placeholder": "​",
      "style": "IPY_MODEL_16e85659e20b49c8ad0d869c87f3e2d3",
      "value": " 1/1 [00:00&lt;00:00,  2.34it/s]"
     }
    },
    "28575246e1a84e4394b43c75ac8a4638": {
     "model_module": "@jupyter-widgets/controls",
     "model_module_version": "1.5.0",
     "model_name": "DescriptionStyleModel",
     "state": {
      "_model_module": "@jupyter-widgets/controls",
      "_model_module_version": "1.5.0",
      "_model_name": "DescriptionStyleModel",
      "_view_count": null,
      "_view_module": "@jupyter-widgets/base",
      "_view_module_version": "1.2.0",
      "_view_name": "StyleView",
      "description_width": ""
     }
    },
    "296fb9f893aa4c4ca7ae6619fcb804de": {
     "model_module": "@jupyter-widgets/controls",
     "model_module_version": "1.5.0",
     "model_name": "ProgressStyleModel",
     "state": {
      "_model_module": "@jupyter-widgets/controls",
      "_model_module_version": "1.5.0",
      "_model_name": "ProgressStyleModel",
      "_view_count": null,
      "_view_module": "@jupyter-widgets/base",
      "_view_module_version": "1.2.0",
      "_view_name": "StyleView",
      "bar_color": null,
      "description_width": ""
     }
    },
    "2f653d61cf1d4599be28ba7c9ec5c1eb": {
     "model_module": "@jupyter-widgets/controls",
     "model_module_version": "1.5.0",
     "model_name": "HTMLModel",
     "state": {
      "_dom_classes": [],
      "_model_module": "@jupyter-widgets/controls",
      "_model_module_version": "1.5.0",
      "_model_name": "HTMLModel",
      "_view_count": null,
      "_view_module": "@jupyter-widgets/controls",
      "_view_module_version": "1.5.0",
      "_view_name": "HTMLView",
      "description": "",
      "description_tooltip": null,
      "layout": "IPY_MODEL_7385c02b2b53406a815ce70ac9659170",
      "placeholder": "​",
      "style": "IPY_MODEL_be40159cdb064992b56f1b2385f6adeb",
      "value": " 1/1 [00:00&lt;00:00,  2.37it/s]"
     }
    },
    "33c4f811121e4bd59c0a1a437d7b28df": {
     "model_module": "@jupyter-widgets/base",
     "model_module_version": "1.2.0",
     "model_name": "LayoutModel",
     "state": {
      "_model_module": "@jupyter-widgets/base",
      "_model_module_version": "1.2.0",
      "_model_name": "LayoutModel",
      "_view_count": null,
      "_view_module": "@jupyter-widgets/base",
      "_view_module_version": "1.2.0",
      "_view_name": "LayoutView",
      "align_content": null,
      "align_items": null,
      "align_self": null,
      "border": null,
      "bottom": null,
      "display": null,
      "flex": null,
      "flex_flow": null,
      "grid_area": null,
      "grid_auto_columns": null,
      "grid_auto_flow": null,
      "grid_auto_rows": null,
      "grid_column": null,
      "grid_gap": null,
      "grid_row": null,
      "grid_template_areas": null,
      "grid_template_columns": null,
      "grid_template_rows": null,
      "height": null,
      "justify_content": null,
      "justify_items": null,
      "left": null,
      "margin": null,
      "max_height": null,
      "max_width": null,
      "min_height": null,
      "min_width": null,
      "object_fit": null,
      "object_position": null,
      "order": null,
      "overflow": null,
      "overflow_x": null,
      "overflow_y": null,
      "padding": null,
      "right": null,
      "top": null,
      "visibility": null,
      "width": null
     }
    },
    "3531301aa9084069b36af1489a28963b": {
     "model_module": "@jupyter-widgets/controls",
     "model_module_version": "1.5.0",
     "model_name": "DescriptionStyleModel",
     "state": {
      "_model_module": "@jupyter-widgets/controls",
      "_model_module_version": "1.5.0",
      "_model_name": "DescriptionStyleModel",
      "_view_count": null,
      "_view_module": "@jupyter-widgets/base",
      "_view_module_version": "1.2.0",
      "_view_name": "StyleView",
      "description_width": ""
     }
    },
    "39f2ae018ed54d5594309890512560f4": {
     "model_module": "@jupyter-widgets/controls",
     "model_module_version": "1.5.0",
     "model_name": "DescriptionStyleModel",
     "state": {
      "_model_module": "@jupyter-widgets/controls",
      "_model_module_version": "1.5.0",
      "_model_name": "DescriptionStyleModel",
      "_view_count": null,
      "_view_module": "@jupyter-widgets/base",
      "_view_module_version": "1.2.0",
      "_view_name": "StyleView",
      "description_width": ""
     }
    },
    "3a08a60d6f8b404e9897b4bab82ad6ed": {
     "model_module": "@jupyter-widgets/controls",
     "model_module_version": "1.5.0",
     "model_name": "FloatProgressModel",
     "state": {
      "_dom_classes": [],
      "_model_module": "@jupyter-widgets/controls",
      "_model_module_version": "1.5.0",
      "_model_name": "FloatProgressModel",
      "_view_count": null,
      "_view_module": "@jupyter-widgets/controls",
      "_view_module_version": "1.5.0",
      "_view_name": "ProgressView",
      "bar_style": "success",
      "description": "",
      "description_tooltip": null,
      "layout": "IPY_MODEL_1e99b026f79c4296b82ccc768bc76e63",
      "max": 1,
      "min": 0,
      "orientation": "horizontal",
      "style": "IPY_MODEL_93c3c02459124e0586718263c32bc0ee",
      "value": 1
     }
    },
    "3b803cdb24aa4d62b071420231024d99": {
     "model_module": "@jupyter-widgets/controls",
     "model_module_version": "1.5.0",
     "model_name": "HTMLModel",
     "state": {
      "_dom_classes": [],
      "_model_module": "@jupyter-widgets/controls",
      "_model_module_version": "1.5.0",
      "_model_name": "HTMLModel",
      "_view_count": null,
      "_view_module": "@jupyter-widgets/controls",
      "_view_module_version": "1.5.0",
      "_view_name": "HTMLView",
      "description": "",
      "description_tooltip": null,
      "layout": "IPY_MODEL_8d3399759f5e4cb39f41f59eae666e99",
      "placeholder": "​",
      "style": "IPY_MODEL_07acbd0e93994f5aa135fddac1f10b07",
      "value": " 1/1 [00:00&lt;00:00,  2.36it/s]"
     }
    },
    "3f7f044d20f749228d091aa2eeeb609b": {
     "model_module": "@jupyter-widgets/controls",
     "model_module_version": "1.5.0",
     "model_name": "HTMLModel",
     "state": {
      "_dom_classes": [],
      "_model_module": "@jupyter-widgets/controls",
      "_model_module_version": "1.5.0",
      "_model_name": "HTMLModel",
      "_view_count": null,
      "_view_module": "@jupyter-widgets/controls",
      "_view_module_version": "1.5.0",
      "_view_name": "HTMLView",
      "description": "",
      "description_tooltip": null,
      "layout": "IPY_MODEL_d9e963d2e03a411198d95f7e1039465a",
      "placeholder": "​",
      "style": "IPY_MODEL_a68618635b02424c8a74cbe68477edcc",
      "value": "100%"
     }
    },
    "40ce21e4fdf44bea9fe79fec7ddc4688": {
     "model_module": "@jupyter-widgets/base",
     "model_module_version": "1.2.0",
     "model_name": "LayoutModel",
     "state": {
      "_model_module": "@jupyter-widgets/base",
      "_model_module_version": "1.2.0",
      "_model_name": "LayoutModel",
      "_view_count": null,
      "_view_module": "@jupyter-widgets/base",
      "_view_module_version": "1.2.0",
      "_view_name": "LayoutView",
      "align_content": null,
      "align_items": null,
      "align_self": null,
      "border": null,
      "bottom": null,
      "display": null,
      "flex": null,
      "flex_flow": null,
      "grid_area": null,
      "grid_auto_columns": null,
      "grid_auto_flow": null,
      "grid_auto_rows": null,
      "grid_column": null,
      "grid_gap": null,
      "grid_row": null,
      "grid_template_areas": null,
      "grid_template_columns": null,
      "grid_template_rows": null,
      "height": null,
      "justify_content": null,
      "justify_items": null,
      "left": null,
      "margin": null,
      "max_height": null,
      "max_width": null,
      "min_height": null,
      "min_width": null,
      "object_fit": null,
      "object_position": null,
      "order": null,
      "overflow": null,
      "overflow_x": null,
      "overflow_y": null,
      "padding": null,
      "right": null,
      "top": null,
      "visibility": null,
      "width": null
     }
    },
    "41e77e0c2b0349b1b6709c9c3806dc82": {
     "model_module": "@jupyter-widgets/base",
     "model_module_version": "1.2.0",
     "model_name": "LayoutModel",
     "state": {
      "_model_module": "@jupyter-widgets/base",
      "_model_module_version": "1.2.0",
      "_model_name": "LayoutModel",
      "_view_count": null,
      "_view_module": "@jupyter-widgets/base",
      "_view_module_version": "1.2.0",
      "_view_name": "LayoutView",
      "align_content": null,
      "align_items": null,
      "align_self": null,
      "border": null,
      "bottom": null,
      "display": null,
      "flex": null,
      "flex_flow": null,
      "grid_area": null,
      "grid_auto_columns": null,
      "grid_auto_flow": null,
      "grid_auto_rows": null,
      "grid_column": null,
      "grid_gap": null,
      "grid_row": null,
      "grid_template_areas": null,
      "grid_template_columns": null,
      "grid_template_rows": null,
      "height": null,
      "justify_content": null,
      "justify_items": null,
      "left": null,
      "margin": null,
      "max_height": null,
      "max_width": null,
      "min_height": null,
      "min_width": null,
      "object_fit": null,
      "object_position": null,
      "order": null,
      "overflow": null,
      "overflow_x": null,
      "overflow_y": null,
      "padding": null,
      "right": null,
      "top": null,
      "visibility": null,
      "width": null
     }
    },
    "551f921b0fb74fc780603b773b7c2905": {
     "model_module": "@jupyter-widgets/base",
     "model_module_version": "1.2.0",
     "model_name": "LayoutModel",
     "state": {
      "_model_module": "@jupyter-widgets/base",
      "_model_module_version": "1.2.0",
      "_model_name": "LayoutModel",
      "_view_count": null,
      "_view_module": "@jupyter-widgets/base",
      "_view_module_version": "1.2.0",
      "_view_name": "LayoutView",
      "align_content": null,
      "align_items": null,
      "align_self": null,
      "border": null,
      "bottom": null,
      "display": null,
      "flex": null,
      "flex_flow": null,
      "grid_area": null,
      "grid_auto_columns": null,
      "grid_auto_flow": null,
      "grid_auto_rows": null,
      "grid_column": null,
      "grid_gap": null,
      "grid_row": null,
      "grid_template_areas": null,
      "grid_template_columns": null,
      "grid_template_rows": null,
      "height": null,
      "justify_content": null,
      "justify_items": null,
      "left": null,
      "margin": null,
      "max_height": null,
      "max_width": null,
      "min_height": null,
      "min_width": null,
      "object_fit": null,
      "object_position": null,
      "order": null,
      "overflow": null,
      "overflow_x": null,
      "overflow_y": null,
      "padding": null,
      "right": null,
      "top": null,
      "visibility": null,
      "width": null
     }
    },
    "5643971f87444602bfb609a33df83d8e": {
     "model_module": "@jupyter-widgets/controls",
     "model_module_version": "1.5.0",
     "model_name": "HBoxModel",
     "state": {
      "_dom_classes": [],
      "_model_module": "@jupyter-widgets/controls",
      "_model_module_version": "1.5.0",
      "_model_name": "HBoxModel",
      "_view_count": null,
      "_view_module": "@jupyter-widgets/controls",
      "_view_module_version": "1.5.0",
      "_view_name": "HBoxView",
      "box_style": "",
      "children": [
       "IPY_MODEL_1b38ec79a286416db06cc4ae7f7e130f",
       "IPY_MODEL_3a08a60d6f8b404e9897b4bab82ad6ed",
       "IPY_MODEL_0b834a60fad04ad8bd50e20f92506f03"
      ],
      "layout": "IPY_MODEL_cbd12993b8d54b17ba15dec4ccfb4faf"
     }
    },
    "57b388f0dc914deb81919c2c4ff585e5": {
     "model_module": "@jupyter-widgets/controls",
     "model_module_version": "1.5.0",
     "model_name": "ProgressStyleModel",
     "state": {
      "_model_module": "@jupyter-widgets/controls",
      "_model_module_version": "1.5.0",
      "_model_name": "ProgressStyleModel",
      "_view_count": null,
      "_view_module": "@jupyter-widgets/base",
      "_view_module_version": "1.2.0",
      "_view_name": "StyleView",
      "bar_color": null,
      "description_width": ""
     }
    },
    "5a8de5afff3e4f4594c84e2a65310ab3": {
     "model_module": "@jupyter-widgets/controls",
     "model_module_version": "1.5.0",
     "model_name": "ProgressStyleModel",
     "state": {
      "_model_module": "@jupyter-widgets/controls",
      "_model_module_version": "1.5.0",
      "_model_name": "ProgressStyleModel",
      "_view_count": null,
      "_view_module": "@jupyter-widgets/base",
      "_view_module_version": "1.2.0",
      "_view_name": "StyleView",
      "bar_color": null,
      "description_width": ""
     }
    },
    "5b3a2bb1ada4471399889b0cb4c62b1d": {
     "model_module": "@jupyter-widgets/controls",
     "model_module_version": "1.5.0",
     "model_name": "ProgressStyleModel",
     "state": {
      "_model_module": "@jupyter-widgets/controls",
      "_model_module_version": "1.5.0",
      "_model_name": "ProgressStyleModel",
      "_view_count": null,
      "_view_module": "@jupyter-widgets/base",
      "_view_module_version": "1.2.0",
      "_view_name": "StyleView",
      "bar_color": null,
      "description_width": ""
     }
    },
    "5be9e021d76c4cc985373102eac174e6": {
     "model_module": "@jupyter-widgets/controls",
     "model_module_version": "1.5.0",
     "model_name": "FloatProgressModel",
     "state": {
      "_dom_classes": [],
      "_model_module": "@jupyter-widgets/controls",
      "_model_module_version": "1.5.0",
      "_model_name": "FloatProgressModel",
      "_view_count": null,
      "_view_module": "@jupyter-widgets/controls",
      "_view_module_version": "1.5.0",
      "_view_name": "ProgressView",
      "bar_style": "success",
      "description": "",
      "description_tooltip": null,
      "layout": "IPY_MODEL_40ce21e4fdf44bea9fe79fec7ddc4688",
      "max": 1,
      "min": 0,
      "orientation": "horizontal",
      "style": "IPY_MODEL_5b3a2bb1ada4471399889b0cb4c62b1d",
      "value": 1
     }
    },
    "5cfa5abe1f0949e19cbaa020c6bf062a": {
     "model_module": "@jupyter-widgets/controls",
     "model_module_version": "1.5.0",
     "model_name": "HBoxModel",
     "state": {
      "_dom_classes": [],
      "_model_module": "@jupyter-widgets/controls",
      "_model_module_version": "1.5.0",
      "_model_name": "HBoxModel",
      "_view_count": null,
      "_view_module": "@jupyter-widgets/controls",
      "_view_module_version": "1.5.0",
      "_view_name": "HBoxView",
      "box_style": "",
      "children": [
       "IPY_MODEL_3f7f044d20f749228d091aa2eeeb609b",
       "IPY_MODEL_f4b48a483e704a8b8fb35562047b38d3",
       "IPY_MODEL_abaaad0d267f44e390bcbe5d1c958456"
      ],
      "layout": "IPY_MODEL_b8f925c4529249d9b9020e4aafe4bda7"
     }
    },
    "637b62745dca44c280f4d2242d572b60": {
     "model_module": "@jupyter-widgets/controls",
     "model_module_version": "1.5.0",
     "model_name": "DescriptionStyleModel",
     "state": {
      "_model_module": "@jupyter-widgets/controls",
      "_model_module_version": "1.5.0",
      "_model_name": "DescriptionStyleModel",
      "_view_count": null,
      "_view_module": "@jupyter-widgets/base",
      "_view_module_version": "1.2.0",
      "_view_name": "StyleView",
      "description_width": ""
     }
    },
    "671b019139924f0abe4761f29302ea2c": {
     "model_module": "@jupyter-widgets/base",
     "model_module_version": "1.2.0",
     "model_name": "LayoutModel",
     "state": {
      "_model_module": "@jupyter-widgets/base",
      "_model_module_version": "1.2.0",
      "_model_name": "LayoutModel",
      "_view_count": null,
      "_view_module": "@jupyter-widgets/base",
      "_view_module_version": "1.2.0",
      "_view_name": "LayoutView",
      "align_content": null,
      "align_items": null,
      "align_self": null,
      "border": null,
      "bottom": null,
      "display": null,
      "flex": null,
      "flex_flow": null,
      "grid_area": null,
      "grid_auto_columns": null,
      "grid_auto_flow": null,
      "grid_auto_rows": null,
      "grid_column": null,
      "grid_gap": null,
      "grid_row": null,
      "grid_template_areas": null,
      "grid_template_columns": null,
      "grid_template_rows": null,
      "height": null,
      "justify_content": null,
      "justify_items": null,
      "left": null,
      "margin": null,
      "max_height": null,
      "max_width": null,
      "min_height": null,
      "min_width": null,
      "object_fit": null,
      "object_position": null,
      "order": null,
      "overflow": null,
      "overflow_x": null,
      "overflow_y": null,
      "padding": null,
      "right": null,
      "top": null,
      "visibility": null,
      "width": null
     }
    },
    "6897224a75ee495d8273a6154e7fa7e1": {
     "model_module": "@jupyter-widgets/base",
     "model_module_version": "1.2.0",
     "model_name": "LayoutModel",
     "state": {
      "_model_module": "@jupyter-widgets/base",
      "_model_module_version": "1.2.0",
      "_model_name": "LayoutModel",
      "_view_count": null,
      "_view_module": "@jupyter-widgets/base",
      "_view_module_version": "1.2.0",
      "_view_name": "LayoutView",
      "align_content": null,
      "align_items": null,
      "align_self": null,
      "border": null,
      "bottom": null,
      "display": null,
      "flex": null,
      "flex_flow": null,
      "grid_area": null,
      "grid_auto_columns": null,
      "grid_auto_flow": null,
      "grid_auto_rows": null,
      "grid_column": null,
      "grid_gap": null,
      "grid_row": null,
      "grid_template_areas": null,
      "grid_template_columns": null,
      "grid_template_rows": null,
      "height": null,
      "justify_content": null,
      "justify_items": null,
      "left": null,
      "margin": null,
      "max_height": null,
      "max_width": null,
      "min_height": null,
      "min_width": null,
      "object_fit": null,
      "object_position": null,
      "order": null,
      "overflow": null,
      "overflow_x": null,
      "overflow_y": null,
      "padding": null,
      "right": null,
      "top": null,
      "visibility": null,
      "width": null
     }
    },
    "6990d916d4e7428bb33540a87ac7ec94": {
     "model_module": "@jupyter-widgets/controls",
     "model_module_version": "1.5.0",
     "model_name": "DescriptionStyleModel",
     "state": {
      "_model_module": "@jupyter-widgets/controls",
      "_model_module_version": "1.5.0",
      "_model_name": "DescriptionStyleModel",
      "_view_count": null,
      "_view_module": "@jupyter-widgets/base",
      "_view_module_version": "1.2.0",
      "_view_name": "StyleView",
      "description_width": ""
     }
    },
    "6cf8d297ea16461296ce83e6b9f7fa54": {
     "model_module": "@jupyter-widgets/controls",
     "model_module_version": "1.5.0",
     "model_name": "HTMLModel",
     "state": {
      "_dom_classes": [],
      "_model_module": "@jupyter-widgets/controls",
      "_model_module_version": "1.5.0",
      "_model_name": "HTMLModel",
      "_view_count": null,
      "_view_module": "@jupyter-widgets/controls",
      "_view_module_version": "1.5.0",
      "_view_name": "HTMLView",
      "description": "",
      "description_tooltip": null,
      "layout": "IPY_MODEL_87bd833386774b3fb936a200e773b894",
      "placeholder": "​",
      "style": "IPY_MODEL_901680a1f65049eaadc06008b52ed820",
      "value": " 1/1 [00:00&lt;00:00,  3.97it/s]"
     }
    },
    "6d127a2a8d284bffb35939f609af3f33": {
     "model_module": "@jupyter-widgets/controls",
     "model_module_version": "1.5.0",
     "model_name": "HTMLModel",
     "state": {
      "_dom_classes": [],
      "_model_module": "@jupyter-widgets/controls",
      "_model_module_version": "1.5.0",
      "_model_name": "HTMLModel",
      "_view_count": null,
      "_view_module": "@jupyter-widgets/controls",
      "_view_module_version": "1.5.0",
      "_view_name": "HTMLView",
      "description": "",
      "description_tooltip": null,
      "layout": "IPY_MODEL_b601d71a2f56434d9f8fbec35f649562",
      "placeholder": "​",
      "style": "IPY_MODEL_9c3c9afba27a4a9b9a56ba134b9192fc",
      "value": " 1/1 [00:00&lt;00:00,  2.42it/s]"
     }
    },
    "729799e6b4bf4b67b68e6348cfa8f911": {
     "model_module": "@jupyter-widgets/controls",
     "model_module_version": "1.5.0",
     "model_name": "HTMLModel",
     "state": {
      "_dom_classes": [],
      "_model_module": "@jupyter-widgets/controls",
      "_model_module_version": "1.5.0",
      "_model_name": "HTMLModel",
      "_view_count": null,
      "_view_module": "@jupyter-widgets/controls",
      "_view_module_version": "1.5.0",
      "_view_name": "HTMLView",
      "description": "",
      "description_tooltip": null,
      "layout": "IPY_MODEL_f11a717d43b741c6bb023c49dad1ddbb",
      "placeholder": "​",
      "style": "IPY_MODEL_bb6cc4089fb14131b5c0c0f72eb92c91",
      "value": "100%"
     }
    },
    "7385c02b2b53406a815ce70ac9659170": {
     "model_module": "@jupyter-widgets/base",
     "model_module_version": "1.2.0",
     "model_name": "LayoutModel",
     "state": {
      "_model_module": "@jupyter-widgets/base",
      "_model_module_version": "1.2.0",
      "_model_name": "LayoutModel",
      "_view_count": null,
      "_view_module": "@jupyter-widgets/base",
      "_view_module_version": "1.2.0",
      "_view_name": "LayoutView",
      "align_content": null,
      "align_items": null,
      "align_self": null,
      "border": null,
      "bottom": null,
      "display": null,
      "flex": null,
      "flex_flow": null,
      "grid_area": null,
      "grid_auto_columns": null,
      "grid_auto_flow": null,
      "grid_auto_rows": null,
      "grid_column": null,
      "grid_gap": null,
      "grid_row": null,
      "grid_template_areas": null,
      "grid_template_columns": null,
      "grid_template_rows": null,
      "height": null,
      "justify_content": null,
      "justify_items": null,
      "left": null,
      "margin": null,
      "max_height": null,
      "max_width": null,
      "min_height": null,
      "min_width": null,
      "object_fit": null,
      "object_position": null,
      "order": null,
      "overflow": null,
      "overflow_x": null,
      "overflow_y": null,
      "padding": null,
      "right": null,
      "top": null,
      "visibility": null,
      "width": null
     }
    },
    "78b563daa3f34c8fba662bb91bdb9a92": {
     "model_module": "@jupyter-widgets/base",
     "model_module_version": "1.2.0",
     "model_name": "LayoutModel",
     "state": {
      "_model_module": "@jupyter-widgets/base",
      "_model_module_version": "1.2.0",
      "_model_name": "LayoutModel",
      "_view_count": null,
      "_view_module": "@jupyter-widgets/base",
      "_view_module_version": "1.2.0",
      "_view_name": "LayoutView",
      "align_content": null,
      "align_items": null,
      "align_self": null,
      "border": null,
      "bottom": null,
      "display": null,
      "flex": null,
      "flex_flow": null,
      "grid_area": null,
      "grid_auto_columns": null,
      "grid_auto_flow": null,
      "grid_auto_rows": null,
      "grid_column": null,
      "grid_gap": null,
      "grid_row": null,
      "grid_template_areas": null,
      "grid_template_columns": null,
      "grid_template_rows": null,
      "height": null,
      "justify_content": null,
      "justify_items": null,
      "left": null,
      "margin": null,
      "max_height": null,
      "max_width": null,
      "min_height": null,
      "min_width": null,
      "object_fit": null,
      "object_position": null,
      "order": null,
      "overflow": null,
      "overflow_x": null,
      "overflow_y": null,
      "padding": null,
      "right": null,
      "top": null,
      "visibility": null,
      "width": null
     }
    },
    "87bd833386774b3fb936a200e773b894": {
     "model_module": "@jupyter-widgets/base",
     "model_module_version": "1.2.0",
     "model_name": "LayoutModel",
     "state": {
      "_model_module": "@jupyter-widgets/base",
      "_model_module_version": "1.2.0",
      "_model_name": "LayoutModel",
      "_view_count": null,
      "_view_module": "@jupyter-widgets/base",
      "_view_module_version": "1.2.0",
      "_view_name": "LayoutView",
      "align_content": null,
      "align_items": null,
      "align_self": null,
      "border": null,
      "bottom": null,
      "display": null,
      "flex": null,
      "flex_flow": null,
      "grid_area": null,
      "grid_auto_columns": null,
      "grid_auto_flow": null,
      "grid_auto_rows": null,
      "grid_column": null,
      "grid_gap": null,
      "grid_row": null,
      "grid_template_areas": null,
      "grid_template_columns": null,
      "grid_template_rows": null,
      "height": null,
      "justify_content": null,
      "justify_items": null,
      "left": null,
      "margin": null,
      "max_height": null,
      "max_width": null,
      "min_height": null,
      "min_width": null,
      "object_fit": null,
      "object_position": null,
      "order": null,
      "overflow": null,
      "overflow_x": null,
      "overflow_y": null,
      "padding": null,
      "right": null,
      "top": null,
      "visibility": null,
      "width": null
     }
    },
    "881a489264164bc4813cd43973e8b409": {
     "model_module": "@jupyter-widgets/base",
     "model_module_version": "1.2.0",
     "model_name": "LayoutModel",
     "state": {
      "_model_module": "@jupyter-widgets/base",
      "_model_module_version": "1.2.0",
      "_model_name": "LayoutModel",
      "_view_count": null,
      "_view_module": "@jupyter-widgets/base",
      "_view_module_version": "1.2.0",
      "_view_name": "LayoutView",
      "align_content": null,
      "align_items": null,
      "align_self": null,
      "border": null,
      "bottom": null,
      "display": null,
      "flex": null,
      "flex_flow": null,
      "grid_area": null,
      "grid_auto_columns": null,
      "grid_auto_flow": null,
      "grid_auto_rows": null,
      "grid_column": null,
      "grid_gap": null,
      "grid_row": null,
      "grid_template_areas": null,
      "grid_template_columns": null,
      "grid_template_rows": null,
      "height": null,
      "justify_content": null,
      "justify_items": null,
      "left": null,
      "margin": null,
      "max_height": null,
      "max_width": null,
      "min_height": null,
      "min_width": null,
      "object_fit": null,
      "object_position": null,
      "order": null,
      "overflow": null,
      "overflow_x": null,
      "overflow_y": null,
      "padding": null,
      "right": null,
      "top": null,
      "visibility": null,
      "width": null
     }
    },
    "89cb5b333788454594c211c9a60c34a1": {
     "model_module": "@jupyter-widgets/base",
     "model_module_version": "1.2.0",
     "model_name": "LayoutModel",
     "state": {
      "_model_module": "@jupyter-widgets/base",
      "_model_module_version": "1.2.0",
      "_model_name": "LayoutModel",
      "_view_count": null,
      "_view_module": "@jupyter-widgets/base",
      "_view_module_version": "1.2.0",
      "_view_name": "LayoutView",
      "align_content": null,
      "align_items": null,
      "align_self": null,
      "border": null,
      "bottom": null,
      "display": null,
      "flex": null,
      "flex_flow": null,
      "grid_area": null,
      "grid_auto_columns": null,
      "grid_auto_flow": null,
      "grid_auto_rows": null,
      "grid_column": null,
      "grid_gap": null,
      "grid_row": null,
      "grid_template_areas": null,
      "grid_template_columns": null,
      "grid_template_rows": null,
      "height": null,
      "justify_content": null,
      "justify_items": null,
      "left": null,
      "margin": null,
      "max_height": null,
      "max_width": null,
      "min_height": null,
      "min_width": null,
      "object_fit": null,
      "object_position": null,
      "order": null,
      "overflow": null,
      "overflow_x": null,
      "overflow_y": null,
      "padding": null,
      "right": null,
      "top": null,
      "visibility": null,
      "width": null
     }
    },
    "8ac4fb9e051548d7866cd51365d99cd2": {
     "model_module": "@jupyter-widgets/controls",
     "model_module_version": "1.5.0",
     "model_name": "HBoxModel",
     "state": {
      "_dom_classes": [],
      "_model_module": "@jupyter-widgets/controls",
      "_model_module_version": "1.5.0",
      "_model_name": "HBoxModel",
      "_view_count": null,
      "_view_module": "@jupyter-widgets/controls",
      "_view_module_version": "1.5.0",
      "_view_name": "HBoxView",
      "box_style": "",
      "children": [
       "IPY_MODEL_b385108ee09b42fbb3b689408762c569",
       "IPY_MODEL_5be9e021d76c4cc985373102eac174e6",
       "IPY_MODEL_6d127a2a8d284bffb35939f609af3f33"
      ],
      "layout": "IPY_MODEL_ae04f6b343fd421482ed62f16e46a0c6"
     }
    },
    "8d3399759f5e4cb39f41f59eae666e99": {
     "model_module": "@jupyter-widgets/base",
     "model_module_version": "1.2.0",
     "model_name": "LayoutModel",
     "state": {
      "_model_module": "@jupyter-widgets/base",
      "_model_module_version": "1.2.0",
      "_model_name": "LayoutModel",
      "_view_count": null,
      "_view_module": "@jupyter-widgets/base",
      "_view_module_version": "1.2.0",
      "_view_name": "LayoutView",
      "align_content": null,
      "align_items": null,
      "align_self": null,
      "border": null,
      "bottom": null,
      "display": null,
      "flex": null,
      "flex_flow": null,
      "grid_area": null,
      "grid_auto_columns": null,
      "grid_auto_flow": null,
      "grid_auto_rows": null,
      "grid_column": null,
      "grid_gap": null,
      "grid_row": null,
      "grid_template_areas": null,
      "grid_template_columns": null,
      "grid_template_rows": null,
      "height": null,
      "justify_content": null,
      "justify_items": null,
      "left": null,
      "margin": null,
      "max_height": null,
      "max_width": null,
      "min_height": null,
      "min_width": null,
      "object_fit": null,
      "object_position": null,
      "order": null,
      "overflow": null,
      "overflow_x": null,
      "overflow_y": null,
      "padding": null,
      "right": null,
      "top": null,
      "visibility": null,
      "width": null
     }
    },
    "901680a1f65049eaadc06008b52ed820": {
     "model_module": "@jupyter-widgets/controls",
     "model_module_version": "1.5.0",
     "model_name": "DescriptionStyleModel",
     "state": {
      "_model_module": "@jupyter-widgets/controls",
      "_model_module_version": "1.5.0",
      "_model_name": "DescriptionStyleModel",
      "_view_count": null,
      "_view_module": "@jupyter-widgets/base",
      "_view_module_version": "1.2.0",
      "_view_name": "StyleView",
      "description_width": ""
     }
    },
    "91cb105ae3ee462a970b6a6e97a6869d": {
     "model_module": "@jupyter-widgets/base",
     "model_module_version": "1.2.0",
     "model_name": "LayoutModel",
     "state": {
      "_model_module": "@jupyter-widgets/base",
      "_model_module_version": "1.2.0",
      "_model_name": "LayoutModel",
      "_view_count": null,
      "_view_module": "@jupyter-widgets/base",
      "_view_module_version": "1.2.0",
      "_view_name": "LayoutView",
      "align_content": null,
      "align_items": null,
      "align_self": null,
      "border": null,
      "bottom": null,
      "display": null,
      "flex": null,
      "flex_flow": null,
      "grid_area": null,
      "grid_auto_columns": null,
      "grid_auto_flow": null,
      "grid_auto_rows": null,
      "grid_column": null,
      "grid_gap": null,
      "grid_row": null,
      "grid_template_areas": null,
      "grid_template_columns": null,
      "grid_template_rows": null,
      "height": null,
      "justify_content": null,
      "justify_items": null,
      "left": null,
      "margin": null,
      "max_height": null,
      "max_width": null,
      "min_height": null,
      "min_width": null,
      "object_fit": null,
      "object_position": null,
      "order": null,
      "overflow": null,
      "overflow_x": null,
      "overflow_y": null,
      "padding": null,
      "right": null,
      "top": null,
      "visibility": null,
      "width": null
     }
    },
    "93c3c02459124e0586718263c32bc0ee": {
     "model_module": "@jupyter-widgets/controls",
     "model_module_version": "1.5.0",
     "model_name": "ProgressStyleModel",
     "state": {
      "_model_module": "@jupyter-widgets/controls",
      "_model_module_version": "1.5.0",
      "_model_name": "ProgressStyleModel",
      "_view_count": null,
      "_view_module": "@jupyter-widgets/base",
      "_view_module_version": "1.2.0",
      "_view_name": "StyleView",
      "bar_color": null,
      "description_width": ""
     }
    },
    "9abe3dddf4794828b93863f097c6a075": {
     "model_module": "@jupyter-widgets/controls",
     "model_module_version": "1.5.0",
     "model_name": "HBoxModel",
     "state": {
      "_dom_classes": [],
      "_model_module": "@jupyter-widgets/controls",
      "_model_module_version": "1.5.0",
      "_model_name": "HBoxModel",
      "_view_count": null,
      "_view_module": "@jupyter-widgets/controls",
      "_view_module_version": "1.5.0",
      "_view_name": "HBoxView",
      "box_style": "",
      "children": [
       "IPY_MODEL_cafaccc2b7dc4807bc0ca7aaec83bf8f",
       "IPY_MODEL_df762b08880c48a5869ab77655e53e48",
       "IPY_MODEL_6cf8d297ea16461296ce83e6b9f7fa54"
      ],
      "layout": "IPY_MODEL_00187c8452f3422da03218dadc73f49c"
     }
    },
    "9c3c9afba27a4a9b9a56ba134b9192fc": {
     "model_module": "@jupyter-widgets/controls",
     "model_module_version": "1.5.0",
     "model_name": "DescriptionStyleModel",
     "state": {
      "_model_module": "@jupyter-widgets/controls",
      "_model_module_version": "1.5.0",
      "_model_name": "DescriptionStyleModel",
      "_view_count": null,
      "_view_module": "@jupyter-widgets/base",
      "_view_module_version": "1.2.0",
      "_view_name": "StyleView",
      "description_width": ""
     }
    },
    "a453ad457bca4712980a64c17f9ea309": {
     "model_module": "@jupyter-widgets/controls",
     "model_module_version": "1.5.0",
     "model_name": "ProgressStyleModel",
     "state": {
      "_model_module": "@jupyter-widgets/controls",
      "_model_module_version": "1.5.0",
      "_model_name": "ProgressStyleModel",
      "_view_count": null,
      "_view_module": "@jupyter-widgets/base",
      "_view_module_version": "1.2.0",
      "_view_name": "StyleView",
      "bar_color": null,
      "description_width": ""
     }
    },
    "a68618635b02424c8a74cbe68477edcc": {
     "model_module": "@jupyter-widgets/controls",
     "model_module_version": "1.5.0",
     "model_name": "DescriptionStyleModel",
     "state": {
      "_model_module": "@jupyter-widgets/controls",
      "_model_module_version": "1.5.0",
      "_model_name": "DescriptionStyleModel",
      "_view_count": null,
      "_view_module": "@jupyter-widgets/base",
      "_view_module_version": "1.2.0",
      "_view_name": "StyleView",
      "description_width": ""
     }
    },
    "a904fe71a28a4d76aa79f3685bc8cc6a": {
     "model_module": "@jupyter-widgets/controls",
     "model_module_version": "1.5.0",
     "model_name": "HBoxModel",
     "state": {
      "_dom_classes": [],
      "_model_module": "@jupyter-widgets/controls",
      "_model_module_version": "1.5.0",
      "_model_name": "HBoxModel",
      "_view_count": null,
      "_view_module": "@jupyter-widgets/controls",
      "_view_module_version": "1.5.0",
      "_view_name": "HBoxView",
      "box_style": "",
      "children": [
       "IPY_MODEL_b0dbd40b81254ecdb3080c0713779735",
       "IPY_MODEL_b31fe707a3fb4dc69e6f88405e50f7fe",
       "IPY_MODEL_c68fa081d0074ef49aee21e60e74e579"
      ],
      "layout": "IPY_MODEL_91cb105ae3ee462a970b6a6e97a6869d"
     }
    },
    "abaaad0d267f44e390bcbe5d1c958456": {
     "model_module": "@jupyter-widgets/controls",
     "model_module_version": "1.5.0",
     "model_name": "HTMLModel",
     "state": {
      "_dom_classes": [],
      "_model_module": "@jupyter-widgets/controls",
      "_model_module_version": "1.5.0",
      "_model_name": "HTMLModel",
      "_view_count": null,
      "_view_module": "@jupyter-widgets/controls",
      "_view_module_version": "1.5.0",
      "_view_name": "HTMLView",
      "description": "",
      "description_tooltip": null,
      "layout": "IPY_MODEL_671b019139924f0abe4761f29302ea2c",
      "placeholder": "​",
      "style": "IPY_MODEL_ffcd11aaee3e4d17b3eea549313d94fe",
      "value": " 1/1 [00:00&lt;00:00,  3.95it/s]"
     }
    },
    "abfefe28d95540a9a1fa7648bf45cd34": {
     "model_module": "@jupyter-widgets/controls",
     "model_module_version": "1.5.0",
     "model_name": "HTMLModel",
     "state": {
      "_dom_classes": [],
      "_model_module": "@jupyter-widgets/controls",
      "_model_module_version": "1.5.0",
      "_model_name": "HTMLModel",
      "_view_count": null,
      "_view_module": "@jupyter-widgets/controls",
      "_view_module_version": "1.5.0",
      "_view_name": "HTMLView",
      "description": "",
      "description_tooltip": null,
      "layout": "IPY_MODEL_78b563daa3f34c8fba662bb91bdb9a92",
      "placeholder": "​",
      "style": "IPY_MODEL_aec1a07eb066434e8575cef2e28b87fd",
      "value": "100%"
     }
    },
    "ad7a8b7b0ec746e8b1755cbaa1c86f38": {
     "model_module": "@jupyter-widgets/controls",
     "model_module_version": "1.5.0",
     "model_name": "FloatProgressModel",
     "state": {
      "_dom_classes": [],
      "_model_module": "@jupyter-widgets/controls",
      "_model_module_version": "1.5.0",
      "_model_name": "FloatProgressModel",
      "_view_count": null,
      "_view_module": "@jupyter-widgets/controls",
      "_view_module_version": "1.5.0",
      "_view_name": "ProgressView",
      "bar_style": "success",
      "description": "",
      "description_tooltip": null,
      "layout": "IPY_MODEL_221d817349284a949ae383dffdede07c",
      "max": 1,
      "min": 0,
      "orientation": "horizontal",
      "style": "IPY_MODEL_e19f0e3c64524ecd88679e1e152939b7",
      "value": 1
     }
    },
    "ae04f6b343fd421482ed62f16e46a0c6": {
     "model_module": "@jupyter-widgets/base",
     "model_module_version": "1.2.0",
     "model_name": "LayoutModel",
     "state": {
      "_model_module": "@jupyter-widgets/base",
      "_model_module_version": "1.2.0",
      "_model_name": "LayoutModel",
      "_view_count": null,
      "_view_module": "@jupyter-widgets/base",
      "_view_module_version": "1.2.0",
      "_view_name": "LayoutView",
      "align_content": null,
      "align_items": null,
      "align_self": null,
      "border": null,
      "bottom": null,
      "display": null,
      "flex": null,
      "flex_flow": null,
      "grid_area": null,
      "grid_auto_columns": null,
      "grid_auto_flow": null,
      "grid_auto_rows": null,
      "grid_column": null,
      "grid_gap": null,
      "grid_row": null,
      "grid_template_areas": null,
      "grid_template_columns": null,
      "grid_template_rows": null,
      "height": null,
      "justify_content": null,
      "justify_items": null,
      "left": null,
      "margin": null,
      "max_height": null,
      "max_width": null,
      "min_height": null,
      "min_width": null,
      "object_fit": null,
      "object_position": null,
      "order": null,
      "overflow": null,
      "overflow_x": null,
      "overflow_y": null,
      "padding": null,
      "right": null,
      "top": null,
      "visibility": null,
      "width": null
     }
    },
    "aec1a07eb066434e8575cef2e28b87fd": {
     "model_module": "@jupyter-widgets/controls",
     "model_module_version": "1.5.0",
     "model_name": "DescriptionStyleModel",
     "state": {
      "_model_module": "@jupyter-widgets/controls",
      "_model_module_version": "1.5.0",
      "_model_name": "DescriptionStyleModel",
      "_view_count": null,
      "_view_module": "@jupyter-widgets/base",
      "_view_module_version": "1.2.0",
      "_view_name": "StyleView",
      "description_width": ""
     }
    },
    "b0dbd40b81254ecdb3080c0713779735": {
     "model_module": "@jupyter-widgets/controls",
     "model_module_version": "1.5.0",
     "model_name": "HTMLModel",
     "state": {
      "_dom_classes": [],
      "_model_module": "@jupyter-widgets/controls",
      "_model_module_version": "1.5.0",
      "_model_name": "HTMLModel",
      "_view_count": null,
      "_view_module": "@jupyter-widgets/controls",
      "_view_module_version": "1.5.0",
      "_view_name": "HTMLView",
      "description": "",
      "description_tooltip": null,
      "layout": "IPY_MODEL_216c0b498c5a4fa78b996841d4110464",
      "placeholder": "​",
      "style": "IPY_MODEL_6990d916d4e7428bb33540a87ac7ec94",
      "value": "100%"
     }
    },
    "b217055ebf49411796cbf9e15abfcb7f": {
     "model_module": "@jupyter-widgets/base",
     "model_module_version": "1.2.0",
     "model_name": "LayoutModel",
     "state": {
      "_model_module": "@jupyter-widgets/base",
      "_model_module_version": "1.2.0",
      "_model_name": "LayoutModel",
      "_view_count": null,
      "_view_module": "@jupyter-widgets/base",
      "_view_module_version": "1.2.0",
      "_view_name": "LayoutView",
      "align_content": null,
      "align_items": null,
      "align_self": null,
      "border": null,
      "bottom": null,
      "display": null,
      "flex": null,
      "flex_flow": null,
      "grid_area": null,
      "grid_auto_columns": null,
      "grid_auto_flow": null,
      "grid_auto_rows": null,
      "grid_column": null,
      "grid_gap": null,
      "grid_row": null,
      "grid_template_areas": null,
      "grid_template_columns": null,
      "grid_template_rows": null,
      "height": null,
      "justify_content": null,
      "justify_items": null,
      "left": null,
      "margin": null,
      "max_height": null,
      "max_width": null,
      "min_height": null,
      "min_width": null,
      "object_fit": null,
      "object_position": null,
      "order": null,
      "overflow": null,
      "overflow_x": null,
      "overflow_y": null,
      "padding": null,
      "right": null,
      "top": null,
      "visibility": null,
      "width": null
     }
    },
    "b31fe707a3fb4dc69e6f88405e50f7fe": {
     "model_module": "@jupyter-widgets/controls",
     "model_module_version": "1.5.0",
     "model_name": "FloatProgressModel",
     "state": {
      "_dom_classes": [],
      "_model_module": "@jupyter-widgets/controls",
      "_model_module_version": "1.5.0",
      "_model_name": "FloatProgressModel",
      "_view_count": null,
      "_view_module": "@jupyter-widgets/controls",
      "_view_module_version": "1.5.0",
      "_view_name": "ProgressView",
      "bar_style": "success",
      "description": "",
      "description_tooltip": null,
      "layout": "IPY_MODEL_6897224a75ee495d8273a6154e7fa7e1",
      "max": 1,
      "min": 0,
      "orientation": "horizontal",
      "style": "IPY_MODEL_0bd81dbe3fab4b1095eff1e1dc853cc7",
      "value": 1
     }
    },
    "b385108ee09b42fbb3b689408762c569": {
     "model_module": "@jupyter-widgets/controls",
     "model_module_version": "1.5.0",
     "model_name": "HTMLModel",
     "state": {
      "_dom_classes": [],
      "_model_module": "@jupyter-widgets/controls",
      "_model_module_version": "1.5.0",
      "_model_name": "HTMLModel",
      "_view_count": null,
      "_view_module": "@jupyter-widgets/controls",
      "_view_module_version": "1.5.0",
      "_view_name": "HTMLView",
      "description": "",
      "description_tooltip": null,
      "layout": "IPY_MODEL_bcc5ec8425014a84a34cd21a46cd3796",
      "placeholder": "​",
      "style": "IPY_MODEL_e5856d6bc8714cb2ab34bcb174a03614",
      "value": "100%"
     }
    },
    "b4a6f372b43149ffaa0dc0c615c173ce": {
     "model_module": "@jupyter-widgets/controls",
     "model_module_version": "1.5.0",
     "model_name": "FloatProgressModel",
     "state": {
      "_dom_classes": [],
      "_model_module": "@jupyter-widgets/controls",
      "_model_module_version": "1.5.0",
      "_model_name": "FloatProgressModel",
      "_view_count": null,
      "_view_module": "@jupyter-widgets/controls",
      "_view_module_version": "1.5.0",
      "_view_name": "ProgressView",
      "bar_style": "success",
      "description": "",
      "description_tooltip": null,
      "layout": "IPY_MODEL_c93d89c8da264557a6949e18b47e5f8b",
      "max": 1,
      "min": 0,
      "orientation": "horizontal",
      "style": "IPY_MODEL_a453ad457bca4712980a64c17f9ea309",
      "value": 1
     }
    },
    "b4e87add29244bfb810ec687ba30624c": {
     "model_module": "@jupyter-widgets/controls",
     "model_module_version": "1.5.0",
     "model_name": "DescriptionStyleModel",
     "state": {
      "_model_module": "@jupyter-widgets/controls",
      "_model_module_version": "1.5.0",
      "_model_name": "DescriptionStyleModel",
      "_view_count": null,
      "_view_module": "@jupyter-widgets/base",
      "_view_module_version": "1.2.0",
      "_view_name": "StyleView",
      "description_width": ""
     }
    },
    "b601d71a2f56434d9f8fbec35f649562": {
     "model_module": "@jupyter-widgets/base",
     "model_module_version": "1.2.0",
     "model_name": "LayoutModel",
     "state": {
      "_model_module": "@jupyter-widgets/base",
      "_model_module_version": "1.2.0",
      "_model_name": "LayoutModel",
      "_view_count": null,
      "_view_module": "@jupyter-widgets/base",
      "_view_module_version": "1.2.0",
      "_view_name": "LayoutView",
      "align_content": null,
      "align_items": null,
      "align_self": null,
      "border": null,
      "bottom": null,
      "display": null,
      "flex": null,
      "flex_flow": null,
      "grid_area": null,
      "grid_auto_columns": null,
      "grid_auto_flow": null,
      "grid_auto_rows": null,
      "grid_column": null,
      "grid_gap": null,
      "grid_row": null,
      "grid_template_areas": null,
      "grid_template_columns": null,
      "grid_template_rows": null,
      "height": null,
      "justify_content": null,
      "justify_items": null,
      "left": null,
      "margin": null,
      "max_height": null,
      "max_width": null,
      "min_height": null,
      "min_width": null,
      "object_fit": null,
      "object_position": null,
      "order": null,
      "overflow": null,
      "overflow_x": null,
      "overflow_y": null,
      "padding": null,
      "right": null,
      "top": null,
      "visibility": null,
      "width": null
     }
    },
    "b8f925c4529249d9b9020e4aafe4bda7": {
     "model_module": "@jupyter-widgets/base",
     "model_module_version": "1.2.0",
     "model_name": "LayoutModel",
     "state": {
      "_model_module": "@jupyter-widgets/base",
      "_model_module_version": "1.2.0",
      "_model_name": "LayoutModel",
      "_view_count": null,
      "_view_module": "@jupyter-widgets/base",
      "_view_module_version": "1.2.0",
      "_view_name": "LayoutView",
      "align_content": null,
      "align_items": null,
      "align_self": null,
      "border": null,
      "bottom": null,
      "display": null,
      "flex": null,
      "flex_flow": null,
      "grid_area": null,
      "grid_auto_columns": null,
      "grid_auto_flow": null,
      "grid_auto_rows": null,
      "grid_column": null,
      "grid_gap": null,
      "grid_row": null,
      "grid_template_areas": null,
      "grid_template_columns": null,
      "grid_template_rows": null,
      "height": null,
      "justify_content": null,
      "justify_items": null,
      "left": null,
      "margin": null,
      "max_height": null,
      "max_width": null,
      "min_height": null,
      "min_width": null,
      "object_fit": null,
      "object_position": null,
      "order": null,
      "overflow": null,
      "overflow_x": null,
      "overflow_y": null,
      "padding": null,
      "right": null,
      "top": null,
      "visibility": null,
      "width": null
     }
    },
    "bb6cc4089fb14131b5c0c0f72eb92c91": {
     "model_module": "@jupyter-widgets/controls",
     "model_module_version": "1.5.0",
     "model_name": "DescriptionStyleModel",
     "state": {
      "_model_module": "@jupyter-widgets/controls",
      "_model_module_version": "1.5.0",
      "_model_name": "DescriptionStyleModel",
      "_view_count": null,
      "_view_module": "@jupyter-widgets/base",
      "_view_module_version": "1.2.0",
      "_view_name": "StyleView",
      "description_width": ""
     }
    },
    "bcc5ec8425014a84a34cd21a46cd3796": {
     "model_module": "@jupyter-widgets/base",
     "model_module_version": "1.2.0",
     "model_name": "LayoutModel",
     "state": {
      "_model_module": "@jupyter-widgets/base",
      "_model_module_version": "1.2.0",
      "_model_name": "LayoutModel",
      "_view_count": null,
      "_view_module": "@jupyter-widgets/base",
      "_view_module_version": "1.2.0",
      "_view_name": "LayoutView",
      "align_content": null,
      "align_items": null,
      "align_self": null,
      "border": null,
      "bottom": null,
      "display": null,
      "flex": null,
      "flex_flow": null,
      "grid_area": null,
      "grid_auto_columns": null,
      "grid_auto_flow": null,
      "grid_auto_rows": null,
      "grid_column": null,
      "grid_gap": null,
      "grid_row": null,
      "grid_template_areas": null,
      "grid_template_columns": null,
      "grid_template_rows": null,
      "height": null,
      "justify_content": null,
      "justify_items": null,
      "left": null,
      "margin": null,
      "max_height": null,
      "max_width": null,
      "min_height": null,
      "min_width": null,
      "object_fit": null,
      "object_position": null,
      "order": null,
      "overflow": null,
      "overflow_x": null,
      "overflow_y": null,
      "padding": null,
      "right": null,
      "top": null,
      "visibility": null,
      "width": null
     }
    },
    "be40159cdb064992b56f1b2385f6adeb": {
     "model_module": "@jupyter-widgets/controls",
     "model_module_version": "1.5.0",
     "model_name": "DescriptionStyleModel",
     "state": {
      "_model_module": "@jupyter-widgets/controls",
      "_model_module_version": "1.5.0",
      "_model_name": "DescriptionStyleModel",
      "_view_count": null,
      "_view_module": "@jupyter-widgets/base",
      "_view_module_version": "1.2.0",
      "_view_name": "StyleView",
      "description_width": ""
     }
    },
    "c10c946ffc3141e185ab9d4eb5a5c9a1": {
     "model_module": "@jupyter-widgets/controls",
     "model_module_version": "1.5.0",
     "model_name": "HBoxModel",
     "state": {
      "_dom_classes": [],
      "_model_module": "@jupyter-widgets/controls",
      "_model_module_version": "1.5.0",
      "_model_name": "HBoxModel",
      "_view_count": null,
      "_view_module": "@jupyter-widgets/controls",
      "_view_module_version": "1.5.0",
      "_view_name": "HBoxView",
      "box_style": "",
      "children": [
       "IPY_MODEL_729799e6b4bf4b67b68e6348cfa8f911",
       "IPY_MODEL_ad7a8b7b0ec746e8b1755cbaa1c86f38",
       "IPY_MODEL_2f653d61cf1d4599be28ba7c9ec5c1eb"
      ],
      "layout": "IPY_MODEL_1648b7d6053d4d35b97dd189521e5ad3"
     }
    },
    "c68b81b373dd40dca4a80a6c00761b0e": {
     "model_module": "@jupyter-widgets/base",
     "model_module_version": "1.2.0",
     "model_name": "LayoutModel",
     "state": {
      "_model_module": "@jupyter-widgets/base",
      "_model_module_version": "1.2.0",
      "_model_name": "LayoutModel",
      "_view_count": null,
      "_view_module": "@jupyter-widgets/base",
      "_view_module_version": "1.2.0",
      "_view_name": "LayoutView",
      "align_content": null,
      "align_items": null,
      "align_self": null,
      "border": null,
      "bottom": null,
      "display": null,
      "flex": null,
      "flex_flow": null,
      "grid_area": null,
      "grid_auto_columns": null,
      "grid_auto_flow": null,
      "grid_auto_rows": null,
      "grid_column": null,
      "grid_gap": null,
      "grid_row": null,
      "grid_template_areas": null,
      "grid_template_columns": null,
      "grid_template_rows": null,
      "height": null,
      "justify_content": null,
      "justify_items": null,
      "left": null,
      "margin": null,
      "max_height": null,
      "max_width": null,
      "min_height": null,
      "min_width": null,
      "object_fit": null,
      "object_position": null,
      "order": null,
      "overflow": null,
      "overflow_x": null,
      "overflow_y": null,
      "padding": null,
      "right": null,
      "top": null,
      "visibility": null,
      "width": null
     }
    },
    "c68fa081d0074ef49aee21e60e74e579": {
     "model_module": "@jupyter-widgets/controls",
     "model_module_version": "1.5.0",
     "model_name": "HTMLModel",
     "state": {
      "_dom_classes": [],
      "_model_module": "@jupyter-widgets/controls",
      "_model_module_version": "1.5.0",
      "_model_name": "HTMLModel",
      "_view_count": null,
      "_view_module": "@jupyter-widgets/controls",
      "_view_module_version": "1.5.0",
      "_view_name": "HTMLView",
      "description": "",
      "description_tooltip": null,
      "layout": "IPY_MODEL_11553f5444a0474b982b1e7a39e470f0",
      "placeholder": "​",
      "style": "IPY_MODEL_b4e87add29244bfb810ec687ba30624c",
      "value": " 1/1 [00:00&lt;00:00,  3.87it/s]"
     }
    },
    "c93d89c8da264557a6949e18b47e5f8b": {
     "model_module": "@jupyter-widgets/base",
     "model_module_version": "1.2.0",
     "model_name": "LayoutModel",
     "state": {
      "_model_module": "@jupyter-widgets/base",
      "_model_module_version": "1.2.0",
      "_model_name": "LayoutModel",
      "_view_count": null,
      "_view_module": "@jupyter-widgets/base",
      "_view_module_version": "1.2.0",
      "_view_name": "LayoutView",
      "align_content": null,
      "align_items": null,
      "align_self": null,
      "border": null,
      "bottom": null,
      "display": null,
      "flex": null,
      "flex_flow": null,
      "grid_area": null,
      "grid_auto_columns": null,
      "grid_auto_flow": null,
      "grid_auto_rows": null,
      "grid_column": null,
      "grid_gap": null,
      "grid_row": null,
      "grid_template_areas": null,
      "grid_template_columns": null,
      "grid_template_rows": null,
      "height": null,
      "justify_content": null,
      "justify_items": null,
      "left": null,
      "margin": null,
      "max_height": null,
      "max_width": null,
      "min_height": null,
      "min_width": null,
      "object_fit": null,
      "object_position": null,
      "order": null,
      "overflow": null,
      "overflow_x": null,
      "overflow_y": null,
      "padding": null,
      "right": null,
      "top": null,
      "visibility": null,
      "width": null
     }
    },
    "cafaccc2b7dc4807bc0ca7aaec83bf8f": {
     "model_module": "@jupyter-widgets/controls",
     "model_module_version": "1.5.0",
     "model_name": "HTMLModel",
     "state": {
      "_dom_classes": [],
      "_model_module": "@jupyter-widgets/controls",
      "_model_module_version": "1.5.0",
      "_model_name": "HTMLModel",
      "_view_count": null,
      "_view_module": "@jupyter-widgets/controls",
      "_view_module_version": "1.5.0",
      "_view_name": "HTMLView",
      "description": "",
      "description_tooltip": null,
      "layout": "IPY_MODEL_33c4f811121e4bd59c0a1a437d7b28df",
      "placeholder": "​",
      "style": "IPY_MODEL_28575246e1a84e4394b43c75ac8a4638",
      "value": "100%"
     }
    },
    "cbd12993b8d54b17ba15dec4ccfb4faf": {
     "model_module": "@jupyter-widgets/base",
     "model_module_version": "1.2.0",
     "model_name": "LayoutModel",
     "state": {
      "_model_module": "@jupyter-widgets/base",
      "_model_module_version": "1.2.0",
      "_model_name": "LayoutModel",
      "_view_count": null,
      "_view_module": "@jupyter-widgets/base",
      "_view_module_version": "1.2.0",
      "_view_name": "LayoutView",
      "align_content": null,
      "align_items": null,
      "align_self": null,
      "border": null,
      "bottom": null,
      "display": null,
      "flex": null,
      "flex_flow": null,
      "grid_area": null,
      "grid_auto_columns": null,
      "grid_auto_flow": null,
      "grid_auto_rows": null,
      "grid_column": null,
      "grid_gap": null,
      "grid_row": null,
      "grid_template_areas": null,
      "grid_template_columns": null,
      "grid_template_rows": null,
      "height": null,
      "justify_content": null,
      "justify_items": null,
      "left": null,
      "margin": null,
      "max_height": null,
      "max_width": null,
      "min_height": null,
      "min_width": null,
      "object_fit": null,
      "object_position": null,
      "order": null,
      "overflow": null,
      "overflow_x": null,
      "overflow_y": null,
      "padding": null,
      "right": null,
      "top": null,
      "visibility": null,
      "width": null
     }
    },
    "d2d924b9fd0a4987be2aaff83f3968cb": {
     "model_module": "@jupyter-widgets/base",
     "model_module_version": "1.2.0",
     "model_name": "LayoutModel",
     "state": {
      "_model_module": "@jupyter-widgets/base",
      "_model_module_version": "1.2.0",
      "_model_name": "LayoutModel",
      "_view_count": null,
      "_view_module": "@jupyter-widgets/base",
      "_view_module_version": "1.2.0",
      "_view_name": "LayoutView",
      "align_content": null,
      "align_items": null,
      "align_self": null,
      "border": null,
      "bottom": null,
      "display": null,
      "flex": null,
      "flex_flow": null,
      "grid_area": null,
      "grid_auto_columns": null,
      "grid_auto_flow": null,
      "grid_auto_rows": null,
      "grid_column": null,
      "grid_gap": null,
      "grid_row": null,
      "grid_template_areas": null,
      "grid_template_columns": null,
      "grid_template_rows": null,
      "height": null,
      "justify_content": null,
      "justify_items": null,
      "left": null,
      "margin": null,
      "max_height": null,
      "max_width": null,
      "min_height": null,
      "min_width": null,
      "object_fit": null,
      "object_position": null,
      "order": null,
      "overflow": null,
      "overflow_x": null,
      "overflow_y": null,
      "padding": null,
      "right": null,
      "top": null,
      "visibility": null,
      "width": null
     }
    },
    "d9e963d2e03a411198d95f7e1039465a": {
     "model_module": "@jupyter-widgets/base",
     "model_module_version": "1.2.0",
     "model_name": "LayoutModel",
     "state": {
      "_model_module": "@jupyter-widgets/base",
      "_model_module_version": "1.2.0",
      "_model_name": "LayoutModel",
      "_view_count": null,
      "_view_module": "@jupyter-widgets/base",
      "_view_module_version": "1.2.0",
      "_view_name": "LayoutView",
      "align_content": null,
      "align_items": null,
      "align_self": null,
      "border": null,
      "bottom": null,
      "display": null,
      "flex": null,
      "flex_flow": null,
      "grid_area": null,
      "grid_auto_columns": null,
      "grid_auto_flow": null,
      "grid_auto_rows": null,
      "grid_column": null,
      "grid_gap": null,
      "grid_row": null,
      "grid_template_areas": null,
      "grid_template_columns": null,
      "grid_template_rows": null,
      "height": null,
      "justify_content": null,
      "justify_items": null,
      "left": null,
      "margin": null,
      "max_height": null,
      "max_width": null,
      "min_height": null,
      "min_width": null,
      "object_fit": null,
      "object_position": null,
      "order": null,
      "overflow": null,
      "overflow_x": null,
      "overflow_y": null,
      "padding": null,
      "right": null,
      "top": null,
      "visibility": null,
      "width": null
     }
    },
    "df762b08880c48a5869ab77655e53e48": {
     "model_module": "@jupyter-widgets/controls",
     "model_module_version": "1.5.0",
     "model_name": "FloatProgressModel",
     "state": {
      "_dom_classes": [],
      "_model_module": "@jupyter-widgets/controls",
      "_model_module_version": "1.5.0",
      "_model_name": "FloatProgressModel",
      "_view_count": null,
      "_view_module": "@jupyter-widgets/controls",
      "_view_module_version": "1.5.0",
      "_view_name": "ProgressView",
      "bar_style": "success",
      "description": "",
      "description_tooltip": null,
      "layout": "IPY_MODEL_034a5611d48849378ab01d7f562e54cf",
      "max": 1,
      "min": 0,
      "orientation": "horizontal",
      "style": "IPY_MODEL_57b388f0dc914deb81919c2c4ff585e5",
      "value": 1
     }
    },
    "e19f0e3c64524ecd88679e1e152939b7": {
     "model_module": "@jupyter-widgets/controls",
     "model_module_version": "1.5.0",
     "model_name": "ProgressStyleModel",
     "state": {
      "_model_module": "@jupyter-widgets/controls",
      "_model_module_version": "1.5.0",
      "_model_name": "ProgressStyleModel",
      "_view_count": null,
      "_view_module": "@jupyter-widgets/base",
      "_view_module_version": "1.2.0",
      "_view_name": "StyleView",
      "bar_color": null,
      "description_width": ""
     }
    },
    "e5856d6bc8714cb2ab34bcb174a03614": {
     "model_module": "@jupyter-widgets/controls",
     "model_module_version": "1.5.0",
     "model_name": "DescriptionStyleModel",
     "state": {
      "_model_module": "@jupyter-widgets/controls",
      "_model_module_version": "1.5.0",
      "_model_name": "DescriptionStyleModel",
      "_view_count": null,
      "_view_module": "@jupyter-widgets/base",
      "_view_module_version": "1.2.0",
      "_view_name": "StyleView",
      "description_width": ""
     }
    },
    "f11a717d43b741c6bb023c49dad1ddbb": {
     "model_module": "@jupyter-widgets/base",
     "model_module_version": "1.2.0",
     "model_name": "LayoutModel",
     "state": {
      "_model_module": "@jupyter-widgets/base",
      "_model_module_version": "1.2.0",
      "_model_name": "LayoutModel",
      "_view_count": null,
      "_view_module": "@jupyter-widgets/base",
      "_view_module_version": "1.2.0",
      "_view_name": "LayoutView",
      "align_content": null,
      "align_items": null,
      "align_self": null,
      "border": null,
      "bottom": null,
      "display": null,
      "flex": null,
      "flex_flow": null,
      "grid_area": null,
      "grid_auto_columns": null,
      "grid_auto_flow": null,
      "grid_auto_rows": null,
      "grid_column": null,
      "grid_gap": null,
      "grid_row": null,
      "grid_template_areas": null,
      "grid_template_columns": null,
      "grid_template_rows": null,
      "height": null,
      "justify_content": null,
      "justify_items": null,
      "left": null,
      "margin": null,
      "max_height": null,
      "max_width": null,
      "min_height": null,
      "min_width": null,
      "object_fit": null,
      "object_position": null,
      "order": null,
      "overflow": null,
      "overflow_x": null,
      "overflow_y": null,
      "padding": null,
      "right": null,
      "top": null,
      "visibility": null,
      "width": null
     }
    },
    "f4b48a483e704a8b8fb35562047b38d3": {
     "model_module": "@jupyter-widgets/controls",
     "model_module_version": "1.5.0",
     "model_name": "FloatProgressModel",
     "state": {
      "_dom_classes": [],
      "_model_module": "@jupyter-widgets/controls",
      "_model_module_version": "1.5.0",
      "_model_name": "FloatProgressModel",
      "_view_count": null,
      "_view_module": "@jupyter-widgets/controls",
      "_view_module_version": "1.5.0",
      "_view_name": "ProgressView",
      "bar_style": "success",
      "description": "",
      "description_tooltip": null,
      "layout": "IPY_MODEL_04e18505275a40609304c936b05d541b",
      "max": 1,
      "min": 0,
      "orientation": "horizontal",
      "style": "IPY_MODEL_5a8de5afff3e4f4594c84e2a65310ab3",
      "value": 1
     }
    },
    "f4bdf2b95916461588ee291999e986a2": {
     "model_module": "@jupyter-widgets/controls",
     "model_module_version": "1.5.0",
     "model_name": "HTMLModel",
     "state": {
      "_dom_classes": [],
      "_model_module": "@jupyter-widgets/controls",
      "_model_module_version": "1.5.0",
      "_model_name": "HTMLModel",
      "_view_count": null,
      "_view_module": "@jupyter-widgets/controls",
      "_view_module_version": "1.5.0",
      "_view_name": "HTMLView",
      "description": "",
      "description_tooltip": null,
      "layout": "IPY_MODEL_89cb5b333788454594c211c9a60c34a1",
      "placeholder": "​",
      "style": "IPY_MODEL_39f2ae018ed54d5594309890512560f4",
      "value": "100%"
     }
    },
    "f7bd35a76eed4fb59b19d8bad96f6e25": {
     "model_module": "@jupyter-widgets/controls",
     "model_module_version": "1.5.0",
     "model_name": "HBoxModel",
     "state": {
      "_dom_classes": [],
      "_model_module": "@jupyter-widgets/controls",
      "_model_module_version": "1.5.0",
      "_model_name": "HBoxModel",
      "_view_count": null,
      "_view_module": "@jupyter-widgets/controls",
      "_view_module_version": "1.5.0",
      "_view_name": "HBoxView",
      "box_style": "",
      "children": [
       "IPY_MODEL_abfefe28d95540a9a1fa7648bf45cd34",
       "IPY_MODEL_22a6c92188cc4066ae56c0f3e425f4ef",
       "IPY_MODEL_3b803cdb24aa4d62b071420231024d99"
      ],
      "layout": "IPY_MODEL_c68b81b373dd40dca4a80a6c00761b0e"
     }
    },
    "ffcd11aaee3e4d17b3eea549313d94fe": {
     "model_module": "@jupyter-widgets/controls",
     "model_module_version": "1.5.0",
     "model_name": "DescriptionStyleModel",
     "state": {
      "_model_module": "@jupyter-widgets/controls",
      "_model_module_version": "1.5.0",
      "_model_name": "DescriptionStyleModel",
      "_view_count": null,
      "_view_module": "@jupyter-widgets/base",
      "_view_module_version": "1.2.0",
      "_view_name": "StyleView",
      "description_width": ""
     }
    }
   }
  }
 },
 "nbformat": 4,
 "nbformat_minor": 5
}
