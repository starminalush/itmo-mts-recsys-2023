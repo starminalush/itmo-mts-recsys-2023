{
 "cells": [
  {
   "cell_type": "code",
   "execution_count": 1,
   "id": "f1f9df38-4886-4f69-a4fb-1ebbcde3e6a3",
   "metadata": {},
   "outputs": [],
   "source": [
    "import warnings\n",
    "\n",
    "warnings.filterwarnings(\"ignore\")"
   ]
  },
  {
   "cell_type": "code",
   "execution_count": 2,
   "id": "13ddfcfc-b641-4d38-ac79-e6e68d82f290",
   "metadata": {},
   "outputs": [],
   "source": [
    "import sys\n",
    "sys.path.append('../../evaluation/')\n",
    "sys.path.append('../../models')      "
   ]
  },
  {
   "cell_type": "code",
   "execution_count": 22,
   "id": "ad9a4ee8-79c1-4357-b447-be949bbbb70b",
   "metadata": {},
   "outputs": [],
   "source": [
    "import os\n",
    "import random\n",
    "import warnings\n",
    "import zipfile as zf\n",
    "from copy import deepcopy\n",
    "from pprint import pprint\n",
    "\n",
    "from itertools import product\n",
    "import numpy as np\n",
    "import pandas as pd\n",
    "import requests\n",
    "from IPython.display import display\n",
    "from rectools import Columns\n",
    "from rectools.dataset import Dataset, Interactions\n",
    "from rectools.metrics import MAP, NDCG, MeanInvUserFreq, Precision, Recall, Serendipity\n",
    "from rectools.metrics.base import MetricAtK\n",
    "from rectools.model_selection import Splitter, TimeRangeSplitter\n",
    "from rectools.models import PopularModel, RandomModel\n",
    "from rectools.models.base import ModelBase\n",
    "from implicit.nearest_neighbours import CosineRecommender, TFIDFRecommender, BM25Recommender\n",
    "from tqdm import tqdm\n",
    "\n",
    "from metrics import calculate_metrics\n",
    "from user_knn import UserKnn\n",
    "from visualization import visualize_metrics, visualize_training_result"
   ]
  },
  {
   "cell_type": "code",
   "execution_count": 4,
   "id": "2de47996-244c-4287-8b3b-862d85477730",
   "metadata": {},
   "outputs": [],
   "source": [
    "RANDOM_STATE = 42\n",
    "random.seed(RANDOM_STATE)\n",
    "os.environ[\"PYTHONHASHSEED\"] = str(RANDOM_STATE)\n",
    "np.random.seed(RANDOM_STATE)"
   ]
  },
  {
   "cell_type": "code",
   "execution_count": 5,
   "id": "108539c2-3f84-461e-9e9f-50b1ab906da2",
   "metadata": {},
   "outputs": [],
   "source": [
    "K_RECOS = 10\n",
    "N_SPLITS = 3"
   ]
  },
  {
   "cell_type": "markdown",
   "id": "5d18201b-3d1d-41eb-8305-cb1033ac66bb",
   "metadata": {},
   "source": [
    "## Инициализация датасета"
   ]
  },
  {
   "cell_type": "code",
   "execution_count": 6,
   "id": "85f0a2f8-1bf7-4336-ac42-5b2bc68c7ed6",
   "metadata": {},
   "outputs": [],
   "source": [
    "url = \"https://github.com/irsafilo/KION_DATASET/raw/f69775be31fa5779907cf0a92ddedb70037fb5ae/data_original.zip\""
   ]
  },
  {
   "cell_type": "code",
   "execution_count": 7,
   "id": "765b3b11-27c1-4dea-ade3-412bb8c498c1",
   "metadata": {},
   "outputs": [
    {
     "name": "stderr",
     "output_type": "stream",
     "text": [
      "kion dataset download: 100%|█████████████████████████████████████████████████████████████████████████████████████████████████████████████████████████████████████████████████████████████▋| 78.6M/78.8M [00:12<00:00, 4.01MiB/s]"
     ]
    }
   ],
   "source": [
    "req = requests.get(url, stream=True)\n",
    "\n",
    "with open(\"kion.zip\", \"wb\") as fd:\n",
    "    total_size_in_bytes = int(req.headers.get(\"Content-Length\", 0))\n",
    "    progress_bar = tqdm(desc=\"kion dataset download\", total=total_size_in_bytes, unit=\"iB\", unit_scale=True)\n",
    "    for chunk in req.iter_content(chunk_size=2**20):\n",
    "        progress_bar.update(len(chunk))\n",
    "        fd.write(chunk)"
   ]
  },
  {
   "cell_type": "code",
   "execution_count": 8,
   "id": "13f1d577-de03-4ec1-8ea1-c4dca88564f7",
   "metadata": {},
   "outputs": [],
   "source": [
    "files = zf.ZipFile(\"kion.zip\", \"r\")\n",
    "files.extractall()\n",
    "files.close()"
   ]
  },
  {
   "cell_type": "code",
   "execution_count": 9,
   "id": "44d51827-4251-474b-b934-34d42ab2a3ea",
   "metadata": {},
   "outputs": [],
   "source": [
    "interactions = pd.read_csv(\"data_original/interactions.csv\", parse_dates=[\"last_watch_dt\"])\n",
    "\n",
    "interactions.rename(columns={\"last_watch_dt\": Columns.Datetime, \"total_dur\": Columns.Weight}, inplace=True)"
   ]
  },
  {
   "cell_type": "code",
   "execution_count": 10,
   "id": "326ff57b-bdd6-4bd7-9b83-ce4901544bd7",
   "metadata": {},
   "outputs": [],
   "source": [
    "interactions = Interactions(interactions)"
   ]
  },
  {
   "cell_type": "code",
   "execution_count": 11,
   "id": "5d707679-78ab-438c-a2f8-acef19b389a9",
   "metadata": {},
   "outputs": [
    {
     "data": {
      "text/html": [
       "<div>\n",
       "<style scoped>\n",
       "    .dataframe tbody tr th:only-of-type {\n",
       "        vertical-align: middle;\n",
       "    }\n",
       "\n",
       "    .dataframe tbody tr th {\n",
       "        vertical-align: top;\n",
       "    }\n",
       "\n",
       "    .dataframe thead th {\n",
       "        text-align: right;\n",
       "    }\n",
       "</style>\n",
       "<table border=\"1\" class=\"dataframe\">\n",
       "  <thead>\n",
       "    <tr style=\"text-align: right;\">\n",
       "      <th></th>\n",
       "      <th>user_id</th>\n",
       "      <th>item_id</th>\n",
       "      <th>datetime</th>\n",
       "      <th>weight</th>\n",
       "      <th>watched_pct</th>\n",
       "    </tr>\n",
       "  </thead>\n",
       "  <tbody>\n",
       "    <tr>\n",
       "      <th>0</th>\n",
       "      <td>176549</td>\n",
       "      <td>9506</td>\n",
       "      <td>2021-05-11</td>\n",
       "      <td>4250.0</td>\n",
       "      <td>72.0</td>\n",
       "    </tr>\n",
       "    <tr>\n",
       "      <th>1</th>\n",
       "      <td>699317</td>\n",
       "      <td>1659</td>\n",
       "      <td>2021-05-29</td>\n",
       "      <td>8317.0</td>\n",
       "      <td>100.0</td>\n",
       "    </tr>\n",
       "    <tr>\n",
       "      <th>2</th>\n",
       "      <td>656683</td>\n",
       "      <td>7107</td>\n",
       "      <td>2021-05-09</td>\n",
       "      <td>10.0</td>\n",
       "      <td>0.0</td>\n",
       "    </tr>\n",
       "    <tr>\n",
       "      <th>3</th>\n",
       "      <td>864613</td>\n",
       "      <td>7638</td>\n",
       "      <td>2021-07-05</td>\n",
       "      <td>14483.0</td>\n",
       "      <td>100.0</td>\n",
       "    </tr>\n",
       "    <tr>\n",
       "      <th>4</th>\n",
       "      <td>964868</td>\n",
       "      <td>9506</td>\n",
       "      <td>2021-04-30</td>\n",
       "      <td>6725.0</td>\n",
       "      <td>100.0</td>\n",
       "    </tr>\n",
       "  </tbody>\n",
       "</table>\n",
       "</div>"
      ],
      "text/plain": [
       "   user_id  item_id   datetime   weight  watched_pct\n",
       "0   176549     9506 2021-05-11   4250.0         72.0\n",
       "1   699317     1659 2021-05-29   8317.0        100.0\n",
       "2   656683     7107 2021-05-09     10.0          0.0\n",
       "3   864613     7638 2021-07-05  14483.0        100.0\n",
       "4   964868     9506 2021-04-30   6725.0        100.0"
      ]
     },
     "execution_count": 11,
     "metadata": {},
     "output_type": "execute_result"
    }
   ],
   "source": [
    "interactions.df.head()"
   ]
  },
  {
   "cell_type": "code",
   "execution_count": 12,
   "id": "e4db36ff-7fb1-4460-a39a-c7e48f94cb8d",
   "metadata": {},
   "outputs": [],
   "source": [
    "users = pd.read_csv(\"data_original/users.csv\")\n",
    "items = pd.read_csv(\"data_original/items.csv\")"
   ]
  },
  {
   "cell_type": "markdown",
   "id": "242a0a7b-3aef-42d6-9258-4c2d65b3ec91",
   "metadata": {},
   "source": [
    "## Эксперименты"
   ]
  },
  {
   "cell_type": "markdown",
   "id": "f7ad4456-4160-421b-8640-ab15557ef932",
   "metadata": {},
   "source": [
    "1. Реализация тюнинга гиперпараметров"
   ]
  },
  {
   "cell_type": "markdown",
   "id": "897ff722-556b-4c7c-a485-5d09a3cf94d8",
   "metadata": {},
   "source": [
    "Какие параметры будем тюнить:\n",
    " - k соседей для knn backbone класса UserKnn\n",
    " - типы knn backbone\n"
   ]
  },
  {
   "cell_type": "code",
   "execution_count": 13,
   "id": "2485a893-b9ce-469e-a915-a1f6ba9f3041",
   "metadata": {},
   "outputs": [],
   "source": [
    "metrics: dict[str, MetricAtK] = {}\n",
    "for k in [1, 5, 10]:\n",
    "    metrics.update(\n",
    "        {\n",
    "            f\"top@{k}_precision\": Precision(k=k),\n",
    "            f\"top@{k}_recall\": Recall(k=k),\n",
    "            f\"top@{k}_ndcg\": NDCG(k=k),\n",
    "            f\"top@{k}_map\": MAP(k=k),\n",
    "            f\"top@{k}_serendipity\": Serendipity(k=k),\n",
    "            f\"top@{k}_mean_inv_user_freq\": MeanInvUserFreq(k=k),\n",
    "        }\n",
    "    )"
   ]
  },
  {
   "cell_type": "markdown",
   "id": "5a23b143-1579-41ce-a3af-03746061ee8e",
   "metadata": {},
   "source": [
    "Инициализируем сплиттер"
   ]
  },
  {
   "cell_type": "code",
   "execution_count": 14,
   "id": "3c2115b5-6a2e-421a-8bf6-c294a91944e0",
   "metadata": {},
   "outputs": [],
   "source": [
    "splitter = TimeRangeSplitter(\n",
    "test_size=\"7D\",\n",
    "n_splits=N_SPLITS,\n",
    "filter_already_seen=True,\n",
    "filter_cold_items=True,\n",
    "filter_cold_users=True)"
   ]
  },
  {
   "cell_type": "markdown",
   "id": "1e42bf59-9a02-4fdf-94ab-a4b04f12b942",
   "metadata": {},
   "source": [
    "Инициализируем набор моделей c разным K"
   ]
  },
  {
   "cell_type": "code",
   "execution_count": 20,
   "id": "eed7fa40-f0b9-4b52-b608-c7848274e48e",
   "metadata": {},
   "outputs": [],
   "source": [
    "models = []\n",
    "for backbone in [CosineRecommender, BM25Recommender, TFIDFRecommender]:\n",
    "    models.append(UserKnn(model=backbone()))"
   ]
  },
  {
   "cell_type": "markdown",
   "id": "82ca5bb4-5667-4fe0-9586-c642497ee74c",
   "metadata": {},
   "source": [
    "Запускаем перебор гиперпараметров"
   ]
  },
  {
   "cell_type": "code",
   "execution_count": 23,
   "id": "a1efe797-c8bb-4d46-b8c7-e446c8208998",
   "metadata": {},
   "outputs": [
    {
     "name": "stderr",
     "output_type": "stream",
     "text": [
      "\n",
      "  0%|                                                                                                                                                                                                     | 0/3 [00:00<?, ?it/s]\u001b[A"
     ]
    },
    {
     "data": {
      "application/vnd.jupyter.widget-view+json": {
       "model_id": "7ed52ab52b6b4452b4947b1f771d1002",
       "version_major": 2,
       "version_minor": 0
      },
      "text/plain": [
       "  0%|          | 0/797423 [00:00<?, ?it/s]"
      ]
     },
     "metadata": {},
     "output_type": "display_data"
    },
    {
     "name": "stderr",
     "output_type": "stream",
     "text": [
      "  0%|                                                                                                                                                                                                     | 0/3 [08:18<?, ?it/s]\n"
     ]
    },
    {
     "ename": "KeyboardInterrupt",
     "evalue": "",
     "output_type": "error",
     "traceback": [
      "\u001b[0;31m---------------------------------------------------------------------------\u001b[0m",
      "\u001b[0;31mKeyboardInterrupt\u001b[0m                         Traceback (most recent call last)",
      "Cell \u001b[0;32mIn[23], line 3\u001b[0m\n\u001b[1;32m      1\u001b[0m model_metrics \u001b[38;5;241m=\u001b[39m []\n\u001b[1;32m      2\u001b[0m \u001b[38;5;28;01mfor\u001b[39;00m model \u001b[38;5;129;01min\u001b[39;00m tqdm(models, total\u001b[38;5;241m=\u001b[39m\u001b[38;5;28mlen\u001b[39m(models)):\n\u001b[0;32m----> 3\u001b[0m     result \u001b[38;5;241m=\u001b[39m \u001b[43mcalculate_metrics\u001b[49m\u001b[43m(\u001b[49m\u001b[43minteractions\u001b[49m\u001b[38;5;241;43m=\u001b[39;49m\u001b[43minteractions\u001b[49m\u001b[43m,\u001b[49m\u001b[43m \u001b[49m\u001b[43mmetrics\u001b[49m\u001b[38;5;241;43m=\u001b[39;49m\u001b[43mmetrics\u001b[49m\u001b[43m,\u001b[49m\u001b[43m \u001b[49m\u001b[43mmodel\u001b[49m\u001b[38;5;241;43m=\u001b[39;49m\u001b[43mmodel\u001b[49m\u001b[43m,\u001b[49m\u001b[43m \u001b[49m\u001b[43msplitter\u001b[49m\u001b[38;5;241;43m=\u001b[39;49m\u001b[43msplitter\u001b[49m\u001b[43m,\u001b[49m\u001b[43m \u001b[49m\u001b[43mk_recos\u001b[49m\u001b[38;5;241;43m=\u001b[39;49m\u001b[43mK_RECOS\u001b[49m\u001b[43m)\u001b[49m\n\u001b[1;32m      4\u001b[0m     \u001b[38;5;28mprint\u001b[39m(result)\n\u001b[1;32m      5\u001b[0m     model_metrics\u001b[38;5;241m.\u001b[39mextend()\n",
      "File \u001b[0;32m~/study/itmo/itmo-mts-recsys-2023/notebooks/experiments/../../evaluation/metrics.py:81\u001b[0m, in \u001b[0;36mcalculate_metrics\u001b[0;34m(interactions, metrics, model, splitter, k_recos)\u001b[0m\n\u001b[1;32m     79\u001b[0m df_train \u001b[38;5;241m=\u001b[39m interactions\u001b[38;5;241m.\u001b[39mdf\u001b[38;5;241m.\u001b[39miloc[train_ids]\n\u001b[1;32m     80\u001b[0m df_test \u001b[38;5;241m=\u001b[39m interactions\u001b[38;5;241m.\u001b[39mdf\u001b[38;5;241m.\u001b[39miloc[test_ids][Columns\u001b[38;5;241m.\u001b[39mUserItem]\n\u001b[0;32m---> 81\u001b[0m metric_values, train_time \u001b[38;5;241m=\u001b[39m \u001b[43m_calculate_model_metrics\u001b[49m\u001b[43m(\u001b[49m\n\u001b[1;32m     82\u001b[0m \u001b[43m    \u001b[49m\u001b[43mmodel\u001b[49m\u001b[38;5;241;43m=\u001b[39;49m\u001b[43mdeepcopy\u001b[49m\u001b[43m(\u001b[49m\u001b[43mmodel\u001b[49m\u001b[43m)\u001b[49m\u001b[43m,\u001b[49m\u001b[43m \u001b[49m\u001b[43mmetrics\u001b[49m\u001b[38;5;241;43m=\u001b[39;49m\u001b[43mmetrics\u001b[49m\u001b[43m,\u001b[49m\u001b[43m \u001b[49m\u001b[43mdf_train\u001b[49m\u001b[38;5;241;43m=\u001b[39;49m\u001b[43mdf_train\u001b[49m\u001b[43m,\u001b[49m\u001b[43m \u001b[49m\u001b[43mdf_test\u001b[49m\u001b[38;5;241;43m=\u001b[39;49m\u001b[43mdf_test\u001b[49m\u001b[43m,\u001b[49m\u001b[43m \u001b[49m\u001b[43mk_recos\u001b[49m\u001b[38;5;241;43m=\u001b[39;49m\u001b[43mk_recos\u001b[49m\n\u001b[1;32m     83\u001b[0m \u001b[43m\u001b[49m\u001b[43m)\u001b[49m\n\u001b[1;32m     84\u001b[0m fold_result \u001b[38;5;241m=\u001b[39m {\u001b[38;5;124m\"\u001b[39m\u001b[38;5;124mfold\u001b[39m\u001b[38;5;124m\"\u001b[39m: fold_info[\u001b[38;5;124m\"\u001b[39m\u001b[38;5;124mi_split\u001b[39m\u001b[38;5;124m\"\u001b[39m], \u001b[38;5;124m\"\u001b[39m\u001b[38;5;124mmodel\u001b[39m\u001b[38;5;124m\"\u001b[39m: \u001b[38;5;28mstr\u001b[39m(model), \u001b[38;5;124m\"\u001b[39m\u001b[38;5;124mtrain time (sec)\u001b[39m\u001b[38;5;124m\"\u001b[39m: train_time}\n\u001b[1;32m     85\u001b[0m fold_result\u001b[38;5;241m.\u001b[39mupdate(metric_values)\n",
      "File \u001b[0;32m~/study/itmo/itmo-mts-recsys-2023/notebooks/experiments/../../evaluation/metrics.py:48\u001b[0m, in \u001b[0;36m_calculate_model_metrics\u001b[0;34m(model, metrics, df_train, df_test, k_recos)\u001b[0m\n\u001b[1;32m     44\u001b[0m \u001b[38;5;28;01mdef\u001b[39;00m \u001b[38;5;21m_calculate_model_metrics\u001b[39m(\n\u001b[1;32m     45\u001b[0m     model, metrics: \u001b[38;5;28mdict\u001b[39m[\u001b[38;5;28mstr\u001b[39m, MetricAtK], df_train: pd\u001b[38;5;241m.\u001b[39mDataFrame, df_test: pd\u001b[38;5;241m.\u001b[39mDataFrame, k_recos: \u001b[38;5;28mint\u001b[39m\n\u001b[1;32m     46\u001b[0m ) \u001b[38;5;241m-\u001b[39m\u001b[38;5;241m>\u001b[39m Tuple[\u001b[38;5;28mdict\u001b[39m[\u001b[38;5;28mstr\u001b[39m, \u001b[38;5;28mfloat\u001b[39m], \u001b[38;5;28mfloat\u001b[39m]:\n\u001b[1;32m     47\u001b[0m     start_train_time \u001b[38;5;241m=\u001b[39m time()\n\u001b[0;32m---> 48\u001b[0m     \u001b[43mmodel\u001b[49m\u001b[38;5;241;43m.\u001b[39;49m\u001b[43mfit\u001b[49m\u001b[43m(\u001b[49m\u001b[43mdf_train\u001b[49m\u001b[43m)\u001b[49m\n\u001b[1;32m     49\u001b[0m     train_time \u001b[38;5;241m=\u001b[39m time() \u001b[38;5;241m-\u001b[39m start_train_time\n\u001b[1;32m     50\u001b[0m     recos \u001b[38;5;241m=\u001b[39m model\u001b[38;5;241m.\u001b[39mpredict(df_test)\n",
      "File \u001b[0;32m~/study/itmo/itmo-mts-recsys-2023/notebooks/experiments/../../models/user_knn.py:80\u001b[0m, in \u001b[0;36mUserKnn.fit\u001b[0;34m(self, train)\u001b[0m\n\u001b[1;32m     77\u001b[0m \u001b[38;5;28mself\u001b[39m\u001b[38;5;241m.\u001b[39mn \u001b[38;5;241m=\u001b[39m train\u001b[38;5;241m.\u001b[39mshape[\u001b[38;5;241m0\u001b[39m]\n\u001b[1;32m     78\u001b[0m \u001b[38;5;28mself\u001b[39m\u001b[38;5;241m.\u001b[39m_count_item_idf(train)\n\u001b[0;32m---> 80\u001b[0m \u001b[38;5;28;43mself\u001b[39;49m\u001b[38;5;241;43m.\u001b[39;49m\u001b[43muser_knn\u001b[49m\u001b[38;5;241;43m.\u001b[39;49m\u001b[43mfit\u001b[49m\u001b[43m(\u001b[49m\u001b[38;5;28;43mself\u001b[39;49m\u001b[38;5;241;43m.\u001b[39;49m\u001b[43mweights_matrix\u001b[49m\u001b[43m)\u001b[49m\n\u001b[1;32m     81\u001b[0m \u001b[38;5;28mself\u001b[39m\u001b[38;5;241m.\u001b[39mis_fitted \u001b[38;5;241m=\u001b[39m \u001b[38;5;28;01mTrue\u001b[39;00m\n",
      "File \u001b[0;32m~/study/itmo/itmo-mts-recsys-2023/.venv/lib/python3.10/site-packages/implicit/nearest_neighbours.py:192\u001b[0m, in \u001b[0;36mCosineRecommender.fit\u001b[0;34m(self, counts, show_progress, callback)\u001b[0m\n\u001b[1;32m    190\u001b[0m \u001b[38;5;28;01mdef\u001b[39;00m \u001b[38;5;21mfit\u001b[39m(\u001b[38;5;28mself\u001b[39m, counts, show_progress\u001b[38;5;241m=\u001b[39m\u001b[38;5;28;01mTrue\u001b[39;00m, callback\u001b[38;5;241m=\u001b[39m\u001b[38;5;28;01mNone\u001b[39;00m):\n\u001b[1;32m    191\u001b[0m     \u001b[38;5;66;03m# cosine distance is just the dot-product of a normalized matrix\u001b[39;00m\n\u001b[0;32m--> 192\u001b[0m     \u001b[43mItemItemRecommender\u001b[49m\u001b[38;5;241;43m.\u001b[39;49m\u001b[43mfit\u001b[49m\u001b[43m(\u001b[49m\u001b[38;5;28;43mself\u001b[39;49m\u001b[43m,\u001b[49m\u001b[43m \u001b[49m\u001b[43mnormalize\u001b[49m\u001b[43m(\u001b[49m\u001b[43mcounts\u001b[49m\u001b[38;5;241;43m.\u001b[39;49m\u001b[43mT\u001b[49m\u001b[43m)\u001b[49m\u001b[38;5;241;43m.\u001b[39;49m\u001b[43mT\u001b[49m\u001b[43m,\u001b[49m\u001b[43m \u001b[49m\u001b[43mshow_progress\u001b[49m\u001b[43m,\u001b[49m\u001b[43m \u001b[49m\u001b[43mcallback\u001b[49m\u001b[43m)\u001b[49m\n",
      "File \u001b[0;32m~/study/itmo/itmo-mts-recsys-2023/.venv/lib/python3.10/site-packages/implicit/nearest_neighbours.py:35\u001b[0m, in \u001b[0;36mItemItemRecommender.fit\u001b[0;34m(self, weighted, show_progress, callback)\u001b[0m\n\u001b[1;32m     32\u001b[0m \u001b[38;5;28;01mif\u001b[39;00m callback:\n\u001b[1;32m     33\u001b[0m     \u001b[38;5;28;01mraise\u001b[39;00m \u001b[38;5;167;01mNotImplementedError\u001b[39;00m(\u001b[38;5;124m\"\u001b[39m\u001b[38;5;124mcallback isn\u001b[39m\u001b[38;5;124m'\u001b[39m\u001b[38;5;124mt support on ItemItemRecommender.fit\u001b[39m\u001b[38;5;124m\"\u001b[39m)\n\u001b[0;32m---> 35\u001b[0m \u001b[38;5;28mself\u001b[39m\u001b[38;5;241m.\u001b[39msimilarity \u001b[38;5;241m=\u001b[39m \u001b[43mall_pairs_knn\u001b[49m\u001b[43m(\u001b[49m\n\u001b[1;32m     36\u001b[0m \u001b[43m    \u001b[49m\u001b[43mweighted\u001b[49m\u001b[43m,\u001b[49m\n\u001b[1;32m     37\u001b[0m \u001b[43m    \u001b[49m\u001b[38;5;28;43mself\u001b[39;49m\u001b[38;5;241;43m.\u001b[39;49m\u001b[43mK\u001b[49m\u001b[43m,\u001b[49m\n\u001b[1;32m     38\u001b[0m \u001b[43m    \u001b[49m\u001b[43mshow_progress\u001b[49m\u001b[38;5;241;43m=\u001b[39;49m\u001b[43mshow_progress\u001b[49m\u001b[43m,\u001b[49m\n\u001b[1;32m     39\u001b[0m \u001b[43m    \u001b[49m\u001b[43mnum_threads\u001b[49m\u001b[38;5;241;43m=\u001b[39;49m\u001b[38;5;28;43mself\u001b[39;49m\u001b[38;5;241;43m.\u001b[39;49m\u001b[43mnum_threads\u001b[49m\u001b[43m,\u001b[49m\n\u001b[1;32m     40\u001b[0m \u001b[43m\u001b[49m\u001b[43m)\u001b[49m\u001b[38;5;241m.\u001b[39mtocsr()\n\u001b[1;32m     41\u001b[0m \u001b[38;5;28mself\u001b[39m\u001b[38;5;241m.\u001b[39mscorer \u001b[38;5;241m=\u001b[39m NearestNeighboursScorer(\u001b[38;5;28mself\u001b[39m\u001b[38;5;241m.\u001b[39msimilarity)\n",
      "File \u001b[0;32m_nearest_neighbours.pyx:163\u001b[0m, in \u001b[0;36mimplicit._nearest_neighbours.all_pairs_knn\u001b[0;34m()\u001b[0m\n",
      "File \u001b[0;32m~/study/itmo/itmo-mts-recsys-2023/.venv/lib/python3.10/site-packages/tqdm/notebook.py:261\u001b[0m, in \u001b[0;36mtqdm_notebook.update\u001b[0;34m(self, n)\u001b[0m\n\u001b[1;32m    259\u001b[0m \u001b[38;5;28;01mdef\u001b[39;00m \u001b[38;5;21mupdate\u001b[39m(\u001b[38;5;28mself\u001b[39m, n\u001b[38;5;241m=\u001b[39m\u001b[38;5;241m1\u001b[39m):\n\u001b[1;32m    260\u001b[0m     \u001b[38;5;28;01mtry\u001b[39;00m:\n\u001b[0;32m--> 261\u001b[0m         \u001b[38;5;28;01mreturn\u001b[39;00m \u001b[38;5;28;43msuper\u001b[39;49m\u001b[43m(\u001b[49m\u001b[43mtqdm_notebook\u001b[49m\u001b[43m,\u001b[49m\u001b[43m \u001b[49m\u001b[38;5;28;43mself\u001b[39;49m\u001b[43m)\u001b[49m\u001b[38;5;241m.\u001b[39mupdate(n\u001b[38;5;241m=\u001b[39mn)\n\u001b[1;32m    262\u001b[0m     \u001b[38;5;66;03m# NB: except ... [ as ...] breaks IPython async KeyboardInterrupt\u001b[39;00m\n\u001b[1;32m    263\u001b[0m     \u001b[38;5;28;01mexcept\u001b[39;00m:  \u001b[38;5;66;03m# NOQA\u001b[39;00m\n\u001b[1;32m    264\u001b[0m         \u001b[38;5;66;03m# cannot catch KeyboardInterrupt when using manual tqdm\u001b[39;00m\n\u001b[1;32m    265\u001b[0m         \u001b[38;5;66;03m# as the interrupt will most likely happen on another statement\u001b[39;00m\n",
      "\u001b[0;31mKeyboardInterrupt\u001b[0m: "
     ]
    }
   ],
   "source": [
    "model_metrics = []\n",
    "for model in tqdm(models, total=len(models)):\n",
    "    result = calculate_metrics(interactions=interactions, metrics=metrics, model=model, splitter=splitter, k_recos=K_RECOS)\n",
    "    print(result)\n",
    "    model_metrics.extend()"
   ]
  },
  {
   "cell_type": "code",
   "execution_count": null,
   "id": "9615fe88-c302-4f62-b22b-9bc359bdedc6",
   "metadata": {},
   "outputs": [],
   "source": [
    "visualize_metrics(model_metrics)"
   ]
  },
  {
   "cell_type": "code",
   "execution_count": null,
   "id": "5029d3e1-1f4d-4d2f-8ce4-74a4a0352c9f",
   "metadata": {},
   "outputs": [],
   "source": []
  }
 ],
 "metadata": {
  "kernelspec": {
   "display_name": "Python 3 (ipykernel)",
   "language": "python",
   "name": "python3"
  },
  "language_info": {
   "codemirror_mode": {
    "name": "ipython",
    "version": 3
   },
   "file_extension": ".py",
   "mimetype": "text/x-python",
   "name": "python",
   "nbconvert_exporter": "python",
   "pygments_lexer": "ipython3",
   "version": "3.10.12"
  }
 },
 "nbformat": 4,
 "nbformat_minor": 5
}
