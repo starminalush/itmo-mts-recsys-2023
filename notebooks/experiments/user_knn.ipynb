{
 "cells": [
  {
   "cell_type": "code",
   "execution_count": 1,
   "id": "f1f9df38-4886-4f69-a4fb-1ebbcde3e6a3",
   "metadata": {},
   "outputs": [],
   "source": [
    "import warnings\n",
    "\n",
    "warnings.filterwarnings(\"ignore\")"
   ]
  },
  {
   "cell_type": "code",
   "execution_count": 2,
   "id": "13ddfcfc-b641-4d38-ac79-e6e68d82f290",
   "metadata": {},
   "outputs": [],
   "source": [
    "import sys\n",
    "sys.path.append('../../evaluation/')\n",
    "sys.path.append('../../models')      "
   ]
  },
  {
   "cell_type": "code",
   "execution_count": 3,
   "id": "ad9a4ee8-79c1-4357-b447-be949bbbb70b",
   "metadata": {},
   "outputs": [],
   "source": [
    "import os\n",
    "import random\n",
    "import warnings\n",
    "import zipfile as zf\n",
    "from copy import deepcopy\n",
    "from pprint import pprint\n",
    "\n",
    "from itertools import product\n",
    "import numpy as np\n",
    "import pandas as pd\n",
    "import requests\n",
    "from IPython.display import display\n",
    "from rectools import Columns\n",
    "from rectools.dataset import Dataset, Interactions\n",
    "from rectools.metrics import MAP, NDCG, MeanInvUserFreq, Precision, Recall, Serendipity\n",
    "from rectools.metrics.base import MetricAtK\n",
    "from rectools.model_selection import Splitter, TimeRangeSplitter\n",
    "from rectools.models import PopularModel, RandomModel\n",
    "from rectools.models.base import ModelBase\n",
    "from implicit.nearest_neighbours import CosineRecommender, TFIDFRecommender, BM25Recommender\n",
    "from tqdm import tqdm\n",
    "\n",
    "from metrics import calculate_metrics\n",
    "from user_knn import UserKnn\n",
    "from visualization import visualize_metrics, visualize_training_result"
   ]
  },
  {
   "cell_type": "code",
   "execution_count": 4,
   "id": "2de47996-244c-4287-8b3b-862d85477730",
   "metadata": {},
   "outputs": [],
   "source": [
    "RANDOM_STATE = 42\n",
    "random.seed(RANDOM_STATE)\n",
    "os.environ[\"PYTHONHASHSEED\"] = str(RANDOM_STATE)\n",
    "np.random.seed(RANDOM_STATE)"
   ]
  },
  {
   "cell_type": "code",
   "execution_count": 5,
   "id": "108539c2-3f84-461e-9e9f-50b1ab906da2",
   "metadata": {},
   "outputs": [],
   "source": [
    "K_RECOS = 10\n",
    "N_SPLITS = 3"
   ]
  },
  {
   "cell_type": "markdown",
   "id": "5d18201b-3d1d-41eb-8305-cb1033ac66bb",
   "metadata": {},
   "source": [
    "## Инициализация датасета"
   ]
  },
  {
   "cell_type": "code",
   "execution_count": 6,
   "id": "85f0a2f8-1bf7-4336-ac42-5b2bc68c7ed6",
   "metadata": {},
   "outputs": [],
   "source": [
    "url = \"https://github.com/irsafilo/KION_DATASET/raw/f69775be31fa5779907cf0a92ddedb70037fb5ae/data_original.zip\""
   ]
  },
  {
   "cell_type": "code",
   "execution_count": 7,
   "id": "765b3b11-27c1-4dea-ade3-412bb8c498c1",
   "metadata": {},
   "outputs": [],
   "source": [
    "# req = requests.get(url, stream=True)\n",
    "\n",
    "# with open(\"kion.zip\", \"wb\") as fd:\n",
    "#     total_size_in_bytes = int(req.headers.get(\"Content-Length\", 0))\n",
    "#     progress_bar = tqdm(desc=\"kion dataset download\", total=total_size_in_bytes, unit=\"iB\", unit_scale=True)\n",
    "#     for chunk in req.iter_content(chunk_size=2**20):\n",
    "#         progress_bar.update(len(chunk))\n",
    "#         fd.write(chunk)"
   ]
  },
  {
   "cell_type": "code",
   "execution_count": 8,
   "id": "13f1d577-de03-4ec1-8ea1-c4dca88564f7",
   "metadata": {},
   "outputs": [],
   "source": [
    "# files = zf.ZipFile(\"kion.zip\", \"r\")\n",
    "# files.extractall()\n",
    "# files.close()"
   ]
  },
  {
   "cell_type": "code",
   "execution_count": 9,
   "id": "44d51827-4251-474b-b934-34d42ab2a3ea",
   "metadata": {},
   "outputs": [],
   "source": [
    "interactions = pd.read_csv(\"data_original/interactions.csv\", parse_dates=[\"last_watch_dt\"])\n",
    "\n",
    "interactions.rename(columns={\"last_watch_dt\": Columns.Datetime, \"total_dur\": Columns.Weight}, inplace=True)"
   ]
  },
  {
   "cell_type": "code",
   "execution_count": 10,
   "id": "326ff57b-bdd6-4bd7-9b83-ce4901544bd7",
   "metadata": {},
   "outputs": [],
   "source": [
    "interactions = Interactions(interactions)"
   ]
  },
  {
   "cell_type": "code",
   "execution_count": 11,
   "id": "5d707679-78ab-438c-a2f8-acef19b389a9",
   "metadata": {},
   "outputs": [
    {
     "data": {
      "text/html": [
       "<div>\n",
       "<style scoped>\n",
       "    .dataframe tbody tr th:only-of-type {\n",
       "        vertical-align: middle;\n",
       "    }\n",
       "\n",
       "    .dataframe tbody tr th {\n",
       "        vertical-align: top;\n",
       "    }\n",
       "\n",
       "    .dataframe thead th {\n",
       "        text-align: right;\n",
       "    }\n",
       "</style>\n",
       "<table border=\"1\" class=\"dataframe\">\n",
       "  <thead>\n",
       "    <tr style=\"text-align: right;\">\n",
       "      <th></th>\n",
       "      <th>user_id</th>\n",
       "      <th>item_id</th>\n",
       "      <th>datetime</th>\n",
       "      <th>weight</th>\n",
       "      <th>watched_pct</th>\n",
       "    </tr>\n",
       "  </thead>\n",
       "  <tbody>\n",
       "    <tr>\n",
       "      <th>0</th>\n",
       "      <td>176549</td>\n",
       "      <td>9506</td>\n",
       "      <td>2021-05-11</td>\n",
       "      <td>4250.0</td>\n",
       "      <td>72.0</td>\n",
       "    </tr>\n",
       "    <tr>\n",
       "      <th>1</th>\n",
       "      <td>699317</td>\n",
       "      <td>1659</td>\n",
       "      <td>2021-05-29</td>\n",
       "      <td>8317.0</td>\n",
       "      <td>100.0</td>\n",
       "    </tr>\n",
       "    <tr>\n",
       "      <th>2</th>\n",
       "      <td>656683</td>\n",
       "      <td>7107</td>\n",
       "      <td>2021-05-09</td>\n",
       "      <td>10.0</td>\n",
       "      <td>0.0</td>\n",
       "    </tr>\n",
       "    <tr>\n",
       "      <th>3</th>\n",
       "      <td>864613</td>\n",
       "      <td>7638</td>\n",
       "      <td>2021-07-05</td>\n",
       "      <td>14483.0</td>\n",
       "      <td>100.0</td>\n",
       "    </tr>\n",
       "    <tr>\n",
       "      <th>4</th>\n",
       "      <td>964868</td>\n",
       "      <td>9506</td>\n",
       "      <td>2021-04-30</td>\n",
       "      <td>6725.0</td>\n",
       "      <td>100.0</td>\n",
       "    </tr>\n",
       "  </tbody>\n",
       "</table>\n",
       "</div>"
      ],
      "text/plain": [
       "   user_id  item_id   datetime   weight  watched_pct\n",
       "0   176549     9506 2021-05-11   4250.0         72.0\n",
       "1   699317     1659 2021-05-29   8317.0        100.0\n",
       "2   656683     7107 2021-05-09     10.0          0.0\n",
       "3   864613     7638 2021-07-05  14483.0        100.0\n",
       "4   964868     9506 2021-04-30   6725.0        100.0"
      ]
     },
     "execution_count": 11,
     "metadata": {},
     "output_type": "execute_result"
    }
   ],
   "source": [
    "interactions.df.head()"
   ]
  },
  {
   "cell_type": "code",
   "execution_count": 12,
   "id": "e4db36ff-7fb1-4460-a39a-c7e48f94cb8d",
   "metadata": {},
   "outputs": [],
   "source": [
    "users = pd.read_csv(\"data_original/users.csv\")\n",
    "items = pd.read_csv(\"data_original/items.csv\")"
   ]
  },
  {
   "cell_type": "markdown",
   "id": "242a0a7b-3aef-42d6-9258-4c2d65b3ec91",
   "metadata": {},
   "source": [
    "## Эксперименты"
   ]
  },
  {
   "cell_type": "markdown",
   "id": "f7ad4456-4160-421b-8640-ab15557ef932",
   "metadata": {},
   "source": [
    "1. Реализация тюнинга гиперпараметров"
   ]
  },
  {
   "cell_type": "markdown",
   "id": "897ff722-556b-4c7c-a485-5d09a3cf94d8",
   "metadata": {},
   "source": [
    "Какие параметры будем тюнить:\n",
    " - k соседей для knn backbone класса UserKnn\n",
    " - типы knn backbone\n"
   ]
  },
  {
   "cell_type": "code",
   "execution_count": 13,
   "id": "2485a893-b9ce-469e-a915-a1f6ba9f3041",
   "metadata": {},
   "outputs": [],
   "source": [
    "metrics: dict[str, MetricAtK] = {}\n",
    "for k in [1, 5, 10]:\n",
    "    metrics.update(\n",
    "        {\n",
    "            f\"top@{k}_precision\": Precision(k=k),\n",
    "            f\"top@{k}_recall\": Recall(k=k),\n",
    "            f\"top@{k}_ndcg\": NDCG(k=k),\n",
    "            f\"top@{k}_map\": MAP(k=k),\n",
    "            f\"top@{k}_serendipity\": Serendipity(k=k),\n",
    "            f\"top@{k}_mean_inv_user_freq\": MeanInvUserFreq(k=k),\n",
    "        }\n",
    "    )"
   ]
  },
  {
   "cell_type": "markdown",
   "id": "5a23b143-1579-41ce-a3af-03746061ee8e",
   "metadata": {},
   "source": [
    "Инициализируем сплиттер"
   ]
  },
  {
   "cell_type": "code",
   "execution_count": 14,
   "id": "3c2115b5-6a2e-421a-8bf6-c294a91944e0",
   "metadata": {},
   "outputs": [],
   "source": [
    "splitter = TimeRangeSplitter(\n",
    "test_size=\"7D\",\n",
    "n_splits=N_SPLITS,\n",
    "filter_already_seen=True,\n",
    "filter_cold_items=True,\n",
    "filter_cold_users=True)"
   ]
  },
  {
   "cell_type": "markdown",
   "id": "1e42bf59-9a02-4fdf-94ab-a4b04f12b942",
   "metadata": {},
   "source": [
    "Инициализируем набор моделей c разным K"
   ]
  },
  {
   "cell_type": "code",
   "execution_count": 21,
   "id": "eed7fa40-f0b9-4b52-b608-c7848274e48e",
   "metadata": {},
   "outputs": [],
   "source": [
    "models = [UserKnn(CosineRecommender(), 50), UserKnn(BM25Recommender(), 50), UserKnn(TFIDFRecommender(), 50)]"
   ]
  },
  {
   "cell_type": "markdown",
   "id": "82ca5bb4-5667-4fe0-9586-c642497ee74c",
   "metadata": {},
   "source": [
    "Запускаем перебор гиперпараметров"
   ]
  },
  {
   "cell_type": "code",
   "execution_count": null,
   "id": "a1efe797-c8bb-4d46-b8c7-e446c8208998",
   "metadata": {},
   "outputs": [
    {
     "name": "stderr",
     "output_type": "stream",
     "text": [
      "  0%|                                                                                                                                                                                                    | 0/3 [00:00<?, ?it/s]"
     ]
    },
    {
     "data": {
      "application/vnd.jupyter.widget-view+json": {
       "model_id": "adf1f8359cb44e6e95021c323dc61072",
       "version_major": 2,
       "version_minor": 0
      },
      "text/plain": [
       "  0%|          | 0/797423 [00:00<?, ?it/s]"
      ]
     },
     "metadata": {},
     "output_type": "display_data"
    },
    {
     "data": {
      "application/vnd.jupyter.widget-view+json": {
       "model_id": "e859e3bbe3e14294a781bd8ea5a47c8f",
       "version_major": 2,
       "version_minor": 0
      },
      "text/plain": [
       "  0%|          | 0/850489 [00:00<?, ?it/s]"
      ]
     },
     "metadata": {},
     "output_type": "display_data"
    }
   ],
   "source": [
    "model_metrics = []\n",
    "for model in tqdm(models, total=len(models)):\n",
    "    result = calculate_metrics(interactions=interactions, metrics=metrics, model=model, splitter=splitter, k_recos=K_RECOS)\n",
    "    model_metrics.extend(result)"
   ]
  },
  {
   "cell_type": "code",
   "execution_count": null,
   "id": "9615fe88-c302-4f62-b22b-9bc359bdedc6",
   "metadata": {},
   "outputs": [],
   "source": [
    "visualize_metrics(model_metrics)"
   ]
  }
 ],
 "metadata": {
  "kernelspec": {
   "display_name": "Python 3 (ipykernel)",
   "language": "python",
   "name": "python3"
  },
  "language_info": {
   "codemirror_mode": {
    "name": "ipython",
    "version": 3
   },
   "file_extension": ".py",
   "mimetype": "text/x-python",
   "name": "python",
   "nbconvert_exporter": "python",
   "pygments_lexer": "ipython3",
   "version": "3.10.13"
  }
 },
 "nbformat": 4,
 "nbformat_minor": 5
}
