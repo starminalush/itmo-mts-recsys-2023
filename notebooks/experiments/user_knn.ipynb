{
 "cells": [
  {
   "cell_type": "code",
   "execution_count": 2,
   "id": "f1f9df38-4886-4f69-a4fb-1ebbcde3e6a3",
   "metadata": {},
   "outputs": [],
   "source": [
    "import warnings\n",
    "\n",
    "warnings.filterwarnings(\"ignore\")"
   ]
  },
  {
   "cell_type": "code",
   "execution_count": 3,
   "id": "13ddfcfc-b641-4d38-ac79-e6e68d82f290",
   "metadata": {},
   "outputs": [],
   "source": [
    "import sys\n",
    "\n",
    "sys.path.append(\"../../evaluation/\")\n",
    "sys.path.append(\"../../service/models/\")"
   ]
  },
  {
   "cell_type": "code",
   "execution_count": 5,
   "id": "ad9a4ee8-79c1-4357-b447-be949bbbb70b",
   "metadata": {},
   "outputs": [
    {
     "ename": "ImportError",
     "evalue": "cannot import name 'cross' from 'rectools.metrics' (/home/starminalush/study/itmo/itmo-mts-recsys-2023/.venv/lib/python3.10/site-packages/rectools/metrics/__init__.py)",
     "output_type": "error",
     "traceback": [
      "\u001b[0;31m---------------------------------------------------------------------------\u001b[0m",
      "\u001b[0;31mImportError\u001b[0m                               Traceback (most recent call last)",
      "Cell \u001b[0;32mIn[5], line 15\u001b[0m\n\u001b[1;32m     13\u001b[0m \u001b[38;5;28;01mfrom\u001b[39;00m \u001b[38;5;21;01mIPython\u001b[39;00m\u001b[38;5;21;01m.\u001b[39;00m\u001b[38;5;21;01mdisplay\u001b[39;00m \u001b[38;5;28;01mimport\u001b[39;00m display\n\u001b[1;32m     14\u001b[0m \u001b[38;5;28;01mfrom\u001b[39;00m \u001b[38;5;21;01mimplicit\u001b[39;00m\u001b[38;5;21;01m.\u001b[39;00m\u001b[38;5;21;01mnearest_neighbours\u001b[39;00m \u001b[38;5;28;01mimport\u001b[39;00m BM25Recommender, CosineRecommender, TFIDFRecommender\n\u001b[0;32m---> 15\u001b[0m \u001b[38;5;28;01mfrom\u001b[39;00m \u001b[38;5;21;01mmetrics\u001b[39;00m \u001b[38;5;28;01mimport\u001b[39;00m calculate_metrics\n\u001b[1;32m     16\u001b[0m \u001b[38;5;28;01mfrom\u001b[39;00m \u001b[38;5;21;01mrectools\u001b[39;00m \u001b[38;5;28;01mimport\u001b[39;00m Columns\n\u001b[1;32m     17\u001b[0m \u001b[38;5;28;01mfrom\u001b[39;00m \u001b[38;5;21;01mrectools\u001b[39;00m\u001b[38;5;21;01m.\u001b[39;00m\u001b[38;5;21;01mdataset\u001b[39;00m \u001b[38;5;28;01mimport\u001b[39;00m Dataset, Interactions\n",
      "File \u001b[0;32m~/study/itmo/itmo-mts-recsys-2023/notebooks/experiments/../../evaluation/metrics.py:9\u001b[0m\n\u001b[1;32m      7\u001b[0m \u001b[38;5;28;01mfrom\u001b[39;00m \u001b[38;5;21;01mrectools\u001b[39;00m \u001b[38;5;28;01mimport\u001b[39;00m Columns\n\u001b[1;32m      8\u001b[0m \u001b[38;5;28;01mfrom\u001b[39;00m \u001b[38;5;21;01mrectools\u001b[39;00m\u001b[38;5;21;01m.\u001b[39;00m\u001b[38;5;21;01mdataset\u001b[39;00m \u001b[38;5;28;01mimport\u001b[39;00m Interactions\n\u001b[0;32m----> 9\u001b[0m \u001b[38;5;28;01mfrom\u001b[39;00m \u001b[38;5;21;01mrectools\u001b[39;00m\u001b[38;5;21;01m.\u001b[39;00m\u001b[38;5;21;01mmetrics\u001b[39;00m \u001b[38;5;28;01mimport\u001b[39;00m MAP, NDCG, MeanInvUserFreq, Precision, Recall, Serendipity, cross\n\u001b[1;32m     10\u001b[0m \u001b[38;5;28;01mfrom\u001b[39;00m \u001b[38;5;21;01mrectools\u001b[39;00m\u001b[38;5;21;01m.\u001b[39;00m\u001b[38;5;21;01mmetrics\u001b[39;00m\u001b[38;5;21;01m.\u001b[39;00m\u001b[38;5;21;01mbase\u001b[39;00m \u001b[38;5;28;01mimport\u001b[39;00m MetricAtK\n\u001b[1;32m     11\u001b[0m \u001b[38;5;28;01mfrom\u001b[39;00m \u001b[38;5;21;01mrectools\u001b[39;00m\u001b[38;5;21;01m.\u001b[39;00m\u001b[38;5;21;01mmodel_selection\u001b[39;00m \u001b[38;5;28;01mimport\u001b[39;00m Splitter, TimeRangeSplitter\n",
      "\u001b[0;31mImportError\u001b[0m: cannot import name 'cross' from 'rectools.metrics' (/home/starminalush/study/itmo/itmo-mts-recsys-2023/.venv/lib/python3.10/site-packages/rectools/metrics/__init__.py)"
     ]
    }
   ],
   "source": [
    "import os\n",
    "import pickle\n",
    "import random\n",
    "import warnings\n",
    "import zipfile as zf\n",
    "from copy import deepcopy\n",
    "from itertools import product\n",
    "from pprint import pprint\n",
    "\n",
    "import numpy as np\n",
    "import pandas as pd\n",
    "import requests\n",
    "from IPython.display import display\n",
    "from implicit.nearest_neighbours import BM25Recommender, CosineRecommender, TFIDFRecommender\n",
    "from metrics import calculate_metrics\n",
    "from rectools import Columns\n",
    "from rectools.dataset import Dataset, Interactions\n",
    "from rectools.metrics import MAP, NDCG, MeanInvUserFreq, Precision, Recall, Serendipity\n",
    "from rectools.metrics.base import MetricAtK\n",
    "from rectools.model_selection import Splitter, TimeRangeSplitter, cross_validate\n",
    "from rectools.models import PopularModel, RandomModel\n",
    "from rectools.models.base import ModelBase\n",
    "from tqdm import tqdm\n",
    "from user_knn import UserKnn\n",
    "from visualization import visualize_metrics, visualize_training_result"
   ]
  },
  {
   "cell_type": "code",
   "execution_count": 4,
   "id": "2de47996-244c-4287-8b3b-862d85477730",
   "metadata": {},
   "outputs": [],
   "source": [
    "RANDOM_STATE = 42\n",
    "random.seed(RANDOM_STATE)\n",
    "os.environ[\"PYTHONHASHSEED\"] = str(RANDOM_STATE)\n",
    "np.random.seed(RANDOM_STATE)"
   ]
  },
  {
   "cell_type": "code",
   "execution_count": 5,
   "id": "108539c2-3f84-461e-9e9f-50b1ab906da2",
   "metadata": {},
   "outputs": [],
   "source": [
    "K_RECOS = 10\n",
    "N_SPLITS = 3\n",
    "MODEL_PATH = \"userknn.pkl\""
   ]
  },
  {
   "cell_type": "markdown",
   "id": "5d18201b-3d1d-41eb-8305-cb1033ac66bb",
   "metadata": {},
   "source": [
    "## Инициализация датасета"
   ]
  },
  {
   "cell_type": "code",
   "execution_count": 6,
   "id": "85f0a2f8-1bf7-4336-ac42-5b2bc68c7ed6",
   "metadata": {},
   "outputs": [],
   "source": [
    "url = \"https://github.com/irsafilo/KION_DATASET/raw/f69775be31fa5779907cf0a92ddedb70037fb5ae/data_original.zip\""
   ]
  },
  {
   "cell_type": "code",
   "execution_count": 7,
   "id": "765b3b11-27c1-4dea-ade3-412bb8c498c1",
   "metadata": {},
   "outputs": [
    {
     "name": "stderr",
     "output_type": "stream",
     "text": [
      "kion dataset download:  98%|█████████████▊| 77.6M/78.8M [00:01<00:00, 51.3MiB/s]"
     ]
    }
   ],
   "source": [
    "req = requests.get(url, stream=True)\n",
    "\n",
    "with open(\"kion.zip\", \"wb\") as fd:\n",
    "    total_size_in_bytes = int(req.headers.get(\"Content-Length\", 0))\n",
    "    progress_bar = tqdm(desc=\"kion dataset download\", total=total_size_in_bytes, unit=\"iB\", unit_scale=True)\n",
    "    for chunk in req.iter_content(chunk_size=2**20):\n",
    "        progress_bar.update(len(chunk))\n",
    "        fd.write(chunk)"
   ]
  },
  {
   "cell_type": "code",
   "execution_count": 8,
   "id": "13f1d577-de03-4ec1-8ea1-c4dca88564f7",
   "metadata": {},
   "outputs": [],
   "source": [
    "files = zf.ZipFile(\"kion.zip\", \"r\")\n",
    "files.extractall()\n",
    "files.close()"
   ]
  },
  {
   "cell_type": "code",
   "execution_count": null,
   "id": "44d51827-4251-474b-b934-34d42ab2a3ea",
   "metadata": {},
   "outputs": [],
   "source": [
    "interactions_df = pd.read_csv(\"data_original/interactions.csv\", parse_dates=[\"last_watch_dt\"])\n",
    "\n",
    "interactions_df.rename(columns={\"last_watch_dt\": Columns.Datetime, \"total_dur\": Columns.Weight}, inplace=True)"
   ]
  },
  {
   "cell_type": "code",
   "execution_count": null,
   "id": "326ff57b-bdd6-4bd7-9b83-ce4901544bd7",
   "metadata": {},
   "outputs": [],
   "source": [
    "interactions = Interactions(interactions_df)"
   ]
  },
  {
   "cell_type": "code",
   "execution_count": null,
   "id": "5d707679-78ab-438c-a2f8-acef19b389a9",
   "metadata": {},
   "outputs": [],
   "source": [
    "interactions.df.head()"
   ]
  },
  {
   "cell_type": "code",
   "execution_count": null,
   "id": "e4db36ff-7fb1-4460-a39a-c7e48f94cb8d",
   "metadata": {},
   "outputs": [],
   "source": [
    "users = pd.read_csv(\"data_original/users.csv\")\n",
    "items = pd.read_csv(\"data_original/items.csv\")"
   ]
  },
  {
   "cell_type": "markdown",
   "id": "242a0a7b-3aef-42d6-9258-4c2d65b3ec91",
   "metadata": {},
   "source": [
    "## Эксперименты"
   ]
  },
  {
   "cell_type": "markdown",
   "id": "f7ad4456-4160-421b-8640-ab15557ef932",
   "metadata": {},
   "source": [
    "1. Реализация тюнинга гиперпараметров"
   ]
  },
  {
   "cell_type": "markdown",
   "id": "897ff722-556b-4c7c-a485-5d09a3cf94d8",
   "metadata": {},
   "source": [
    "Какие параметры будем тюнить:\n",
    " - типы knn backbone\n"
   ]
  },
  {
   "cell_type": "code",
   "execution_count": null,
   "id": "2485a893-b9ce-469e-a915-a1f6ba9f3041",
   "metadata": {},
   "outputs": [],
   "source": [
    "metrics: dict[str, MetricAtK] = {}\n",
    "for k in [1, 5, 10]:\n",
    "    metrics.update(\n",
    "        {\n",
    "            f\"top@{k}_precision\": Precision(k=k),\n",
    "            f\"top@{k}_recall\": Recall(k=k),\n",
    "            f\"top@{k}_ndcg\": NDCG(k=k),\n",
    "            f\"top@{k}_map\": MAP(k=k),\n",
    "            f\"top@{k}_serendipity\": Serendipity(k=k),\n",
    "            f\"top@{k}_mean_inv_user_freq\": MeanInvUserFreq(k=k),\n",
    "        }\n",
    "    )"
   ]
  },
  {
   "cell_type": "markdown",
   "id": "5a23b143-1579-41ce-a3af-03746061ee8e",
   "metadata": {},
   "source": [
    "Инициализируем сплиттер"
   ]
  },
  {
   "cell_type": "code",
   "execution_count": 14,
   "id": "3c2115b5-6a2e-421a-8bf6-c294a91944e0",
   "metadata": {},
   "outputs": [],
   "source": [
    "splitter = TimeRangeSplitter(\n",
    "    test_size=\"7D\", n_splits=N_SPLITS, filter_already_seen=True, filter_cold_items=True, filter_cold_users=True\n",
    ")"
   ]
  },
  {
   "cell_type": "markdown",
   "id": "1e42bf59-9a02-4fdf-94ab-a4b04f12b942",
   "metadata": {},
   "source": [
    "Инициализируем набор моделей с дефолтным k=20 в backbone модели UserKnn"
   ]
  },
  {
   "cell_type": "code",
   "execution_count": 15,
   "id": "eed7fa40-f0b9-4b52-b608-c7848274e48e",
   "metadata": {},
   "outputs": [],
   "source": [
    "models = [UserKnn(CosineRecommender(), 50), UserKnn(BM25Recommender(), 50), UserKnn(TFIDFRecommender(), 50)]"
   ]
  },
  {
   "cell_type": "markdown",
   "id": "82ca5bb4-5667-4fe0-9586-c642497ee74c",
   "metadata": {},
   "source": [
    "Запускаем перебор гиперпараметров"
   ]
  },
  {
   "cell_type": "code",
   "execution_count": null,
   "id": "a1efe797-c8bb-4d46-b8c7-e446c8208998",
   "metadata": {},
   "outputs": [
    {
     "name": "stderr",
     "output_type": "stream",
     "text": [
      "\n",
      "kion dataset download: 100%|██████████████| 78.8M/78.8M [00:20<00:00, 51.3MiB/s]\u001b[A"
     ]
    },
    {
     "data": {
      "application/vnd.jupyter.widget-view+json": {
       "model_id": "d695a912d6c445ccab4e63c879d6df0f",
       "version_major": 2,
       "version_minor": 0
      },
      "text/plain": [
       "  0%|          | 0/797423 [00:00<?, ?it/s]"
      ]
     },
     "metadata": {},
     "output_type": "display_data"
    },
    {
     "data": {
      "application/vnd.jupyter.widget-view+json": {
       "model_id": "9810b5cafdfe4283b9ac48247db6cc35",
       "version_major": 2,
       "version_minor": 0
      },
      "text/plain": [
       "  0%|          | 0/850489 [00:00<?, ?it/s]"
      ]
     },
     "metadata": {},
     "output_type": "display_data"
    },
    {
     "data": {
      "application/vnd.jupyter.widget-view+json": {
       "model_id": "be5d50a146e140d5826b5bebb4bcaa26",
       "version_major": 2,
       "version_minor": 0
      },
      "text/plain": [
       "  0%|          | 0/906071 [00:00<?, ?it/s]"
      ]
     },
     "metadata": {},
     "output_type": "display_data"
    },
    {
     "name": "stderr",
     "output_type": "stream",
     "text": [
      "\n",
      " 33%|█████████████                          | 1/3 [1:01:08<2:02:17, 3668.73s/it]\u001b[A"
     ]
    },
    {
     "data": {
      "application/vnd.jupyter.widget-view+json": {
       "model_id": "087a32b7ecae43fcad6642e9bacdf29e",
       "version_major": 2,
       "version_minor": 0
      },
      "text/plain": [
       "  0%|          | 0/797423 [00:00<?, ?it/s]"
      ]
     },
     "metadata": {},
     "output_type": "display_data"
    },
    {
     "data": {
      "application/vnd.jupyter.widget-view+json": {
       "model_id": "c9a013dc25d14ab8975419fb1deccb0f",
       "version_major": 2,
       "version_minor": 0
      },
      "text/plain": [
       "  0%|          | 0/850489 [00:00<?, ?it/s]"
      ]
     },
     "metadata": {},
     "output_type": "display_data"
    },
    {
     "data": {
      "application/vnd.jupyter.widget-view+json": {
       "model_id": "7ad412b3530d45308156999b33fcf376",
       "version_major": 2,
       "version_minor": 0
      },
      "text/plain": [
       "  0%|          | 0/906071 [00:00<?, ?it/s]"
      ]
     },
     "metadata": {},
     "output_type": "display_data"
    }
   ],
   "source": [
    "model_metrics = []\n",
    "for model in tqdm(models, total=len(models)):\n",
    "    result = calculate_metrics(\n",
    "        interactions=interactions, metrics=metrics, model=model, splitter=splitter, k_recos=K_RECOS\n",
    "    )\n",
    "    model_metrics.extend(result)"
   ]
  },
  {
   "cell_type": "code",
   "execution_count": 23,
   "id": "fa9ac30e-ffac-4682-b1f3-95e0982d1ec6",
   "metadata": {},
   "outputs": [
    {
     "data": {
      "text/html": [
       "<style type=\"text/css\">\n",
       "#T_b6217 thead th {\n",
       "  text-align: center;\n",
       "}\n",
       "#T_b6217_row0_col0, #T_b6217_row0_col1, #T_b6217_row0_col6, #T_b6217_row0_col9, #T_b6217_row0_col15, #T_b6217_row1_col12, #T_b6217_row1_col13, #T_b6217_row1_col14, #T_b6217_row1_col16, #T_b6217_row1_col17, #T_b6217_row2_col2, #T_b6217_row2_col3, #T_b6217_row2_col4, #T_b6217_row2_col5, #T_b6217_row2_col7, #T_b6217_row2_col8, #T_b6217_row2_col10, #T_b6217_row2_col11, #T_b6217_row2_col18 {\n",
       "  background-color: lightgreen;\n",
       "}\n",
       "#T_b6217_row0_col12, #T_b6217_row0_col13, #T_b6217_row0_col14, #T_b6217_row0_col17, #T_b6217_row0_col18, #T_b6217_row1_col2, #T_b6217_row1_col3, #T_b6217_row1_col4, #T_b6217_row1_col5, #T_b6217_row1_col7, #T_b6217_row1_col8, #T_b6217_row1_col10, #T_b6217_row1_col11, #T_b6217_row2_col0, #T_b6217_row2_col1, #T_b6217_row2_col6, #T_b6217_row2_col9, #T_b6217_row2_col15, #T_b6217_row2_col16 {\n",
       "  background-color: lightcoral;\n",
       "}\n",
       "</style>\n",
       "<table id=\"T_b6217\">\n",
       "  <thead>\n",
       "    <tr>\n",
       "      <th class=\"blank level0\" >&nbsp;</th>\n",
       "      <th id=\"T_b6217_level0_col0\" class=\"col_heading level0 col0\" colspan=\"6\">top@1</th>\n",
       "      <th id=\"T_b6217_level0_col6\" class=\"col_heading level0 col6\" colspan=\"6\">top@10</th>\n",
       "      <th id=\"T_b6217_level0_col12\" class=\"col_heading level0 col12\" colspan=\"6\">top@5</th>\n",
       "      <th id=\"T_b6217_level0_col18\" class=\"col_heading level0 col18\" >train time (sec)</th>\n",
       "    </tr>\n",
       "    <tr>\n",
       "      <th class=\"blank level1\" >&nbsp;</th>\n",
       "      <th id=\"T_b6217_level1_col0\" class=\"col_heading level1 col0\" >map</th>\n",
       "      <th id=\"T_b6217_level1_col1\" class=\"col_heading level1 col1\" >mean_inv_user_freq</th>\n",
       "      <th id=\"T_b6217_level1_col2\" class=\"col_heading level1 col2\" >ndcg</th>\n",
       "      <th id=\"T_b6217_level1_col3\" class=\"col_heading level1 col3\" >precision</th>\n",
       "      <th id=\"T_b6217_level1_col4\" class=\"col_heading level1 col4\" >recall</th>\n",
       "      <th id=\"T_b6217_level1_col5\" class=\"col_heading level1 col5\" >serendipity</th>\n",
       "      <th id=\"T_b6217_level1_col6\" class=\"col_heading level1 col6\" >map</th>\n",
       "      <th id=\"T_b6217_level1_col7\" class=\"col_heading level1 col7\" >mean_inv_user_freq</th>\n",
       "      <th id=\"T_b6217_level1_col8\" class=\"col_heading level1 col8\" >ndcg</th>\n",
       "      <th id=\"T_b6217_level1_col9\" class=\"col_heading level1 col9\" >precision</th>\n",
       "      <th id=\"T_b6217_level1_col10\" class=\"col_heading level1 col10\" >recall</th>\n",
       "      <th id=\"T_b6217_level1_col11\" class=\"col_heading level1 col11\" >serendipity</th>\n",
       "      <th id=\"T_b6217_level1_col12\" class=\"col_heading level1 col12\" >map</th>\n",
       "      <th id=\"T_b6217_level1_col13\" class=\"col_heading level1 col13\" >mean_inv_user_freq</th>\n",
       "      <th id=\"T_b6217_level1_col14\" class=\"col_heading level1 col14\" >ndcg</th>\n",
       "      <th id=\"T_b6217_level1_col15\" class=\"col_heading level1 col15\" >precision</th>\n",
       "      <th id=\"T_b6217_level1_col16\" class=\"col_heading level1 col16\" >recall</th>\n",
       "      <th id=\"T_b6217_level1_col17\" class=\"col_heading level1 col17\" >serendipity</th>\n",
       "      <th id=\"T_b6217_level1_col18\" class=\"col_heading level1 col18\" ></th>\n",
       "    </tr>\n",
       "    <tr>\n",
       "      <th class=\"index_name level0\" >model</th>\n",
       "      <th class=\"blank col0\" >&nbsp;</th>\n",
       "      <th class=\"blank col1\" >&nbsp;</th>\n",
       "      <th class=\"blank col2\" >&nbsp;</th>\n",
       "      <th class=\"blank col3\" >&nbsp;</th>\n",
       "      <th class=\"blank col4\" >&nbsp;</th>\n",
       "      <th class=\"blank col5\" >&nbsp;</th>\n",
       "      <th class=\"blank col6\" >&nbsp;</th>\n",
       "      <th class=\"blank col7\" >&nbsp;</th>\n",
       "      <th class=\"blank col8\" >&nbsp;</th>\n",
       "      <th class=\"blank col9\" >&nbsp;</th>\n",
       "      <th class=\"blank col10\" >&nbsp;</th>\n",
       "      <th class=\"blank col11\" >&nbsp;</th>\n",
       "      <th class=\"blank col12\" >&nbsp;</th>\n",
       "      <th class=\"blank col13\" >&nbsp;</th>\n",
       "      <th class=\"blank col14\" >&nbsp;</th>\n",
       "      <th class=\"blank col15\" >&nbsp;</th>\n",
       "      <th class=\"blank col16\" >&nbsp;</th>\n",
       "      <th class=\"blank col17\" >&nbsp;</th>\n",
       "      <th class=\"blank col18\" >&nbsp;</th>\n",
       "    </tr>\n",
       "  </thead>\n",
       "  <tbody>\n",
       "    <tr>\n",
       "      <th id=\"T_b6217_level0_row0\" class=\"row_heading level0 row0\" >User KNN with CosineRecommender</th>\n",
       "      <td id=\"T_b6217_row0_col0\" class=\"data row0 col0\" >0.000760</td>\n",
       "      <td id=\"T_b6217_row0_col1\" class=\"data row0 col1\" >0.000291</td>\n",
       "      <td id=\"T_b6217_row0_col2\" class=\"data row0 col2\" >0.002603</td>\n",
       "      <td id=\"T_b6217_row0_col3\" class=\"data row0 col3\" >0.006465</td>\n",
       "      <td id=\"T_b6217_row0_col4\" class=\"data row0 col4\" >0.004279</td>\n",
       "      <td id=\"T_b6217_row0_col5\" class=\"data row0 col5\" >0.020965</td>\n",
       "      <td id=\"T_b6217_row0_col6\" class=\"data row0 col6\" >0.000760</td>\n",
       "      <td id=\"T_b6217_row0_col7\" class=\"data row0 col7\" >0.002137</td>\n",
       "      <td id=\"T_b6217_row0_col8\" class=\"data row0 col8\" >0.003467</td>\n",
       "      <td id=\"T_b6217_row0_col9\" class=\"data row0 col9\" >0.000291</td>\n",
       "      <td id=\"T_b6217_row0_col10\" class=\"data row0 col10\" >0.001994</td>\n",
       "      <td id=\"T_b6217_row0_col11\" class=\"data row0 col11\" >0.003905</td>\n",
       "      <td id=\"T_b6217_row0_col12\" class=\"data row0 col12\" >9.655836</td>\n",
       "      <td id=\"T_b6217_row0_col13\" class=\"data row0 col13\" >8.247415</td>\n",
       "      <td id=\"T_b6217_row0_col14\" class=\"data row0 col14\" >7.540823</td>\n",
       "      <td id=\"T_b6217_row0_col15\" class=\"data row0 col15\" >0.000047</td>\n",
       "      <td id=\"T_b6217_row0_col16\" class=\"data row0 col16\" >0.000059</td>\n",
       "      <td id=\"T_b6217_row0_col17\" class=\"data row0 col17\" >0.000060</td>\n",
       "      <td id=\"T_b6217_row0_col18\" class=\"data row0 col18\" >1191.553616</td>\n",
       "    </tr>\n",
       "    <tr>\n",
       "      <th id=\"T_b6217_level0_row1\" class=\"row_heading level0 row1\" >User KNN with BM25Recommender</th>\n",
       "      <td id=\"T_b6217_row1_col0\" class=\"data row1 col0\" >0.000577</td>\n",
       "      <td id=\"T_b6217_row1_col1\" class=\"data row1 col1\" >0.000234</td>\n",
       "      <td id=\"T_b6217_row1_col2\" class=\"data row1 col2\" >0.001951</td>\n",
       "      <td id=\"T_b6217_row1_col3\" class=\"data row1 col3\" >0.004460</td>\n",
       "      <td id=\"T_b6217_row1_col4\" class=\"data row1 col4\" >0.003050</td>\n",
       "      <td id=\"T_b6217_row1_col5\" class=\"data row1 col5\" >0.013828</td>\n",
       "      <td id=\"T_b6217_row1_col6\" class=\"data row1 col6\" >0.000577</td>\n",
       "      <td id=\"T_b6217_row1_col7\" class=\"data row1 col7\" >0.001626</td>\n",
       "      <td id=\"T_b6217_row1_col8\" class=\"data row1 col8\" >0.002502</td>\n",
       "      <td id=\"T_b6217_row1_col9\" class=\"data row1 col9\" >0.000234</td>\n",
       "      <td id=\"T_b6217_row1_col10\" class=\"data row1 col10\" >0.001460</td>\n",
       "      <td id=\"T_b6217_row1_col11\" class=\"data row1 col11\" >0.002699</td>\n",
       "      <td id=\"T_b6217_row1_col12\" class=\"data row1 col12\" >11.016226</td>\n",
       "      <td id=\"T_b6217_row1_col13\" class=\"data row1 col13\" >9.899981</td>\n",
       "      <td id=\"T_b6217_row1_col14\" class=\"data row1 col14\" >9.283169</td>\n",
       "      <td id=\"T_b6217_row1_col15\" class=\"data row1 col15\" >0.000043</td>\n",
       "      <td id=\"T_b6217_row1_col16\" class=\"data row1 col16\" >0.000088</td>\n",
       "      <td id=\"T_b6217_row1_col17\" class=\"data row1 col17\" >0.000099</td>\n",
       "      <td id=\"T_b6217_row1_col18\" class=\"data row1 col18\" >1192.426256</td>\n",
       "    </tr>\n",
       "    <tr>\n",
       "      <th id=\"T_b6217_level0_row2\" class=\"row_heading level0 row2\" >User KNN with TFIDFRecommender</th>\n",
       "      <td id=\"T_b6217_row2_col0\" class=\"data row2 col0\" >0.000281</td>\n",
       "      <td id=\"T_b6217_row2_col1\" class=\"data row2 col1\" >0.000087</td>\n",
       "      <td id=\"T_b6217_row2_col2\" class=\"data row2 col2\" >0.004770</td>\n",
       "      <td id=\"T_b6217_row2_col3\" class=\"data row2 col3\" >0.012715</td>\n",
       "      <td id=\"T_b6217_row2_col4\" class=\"data row2 col4\" >0.006529</td>\n",
       "      <td id=\"T_b6217_row2_col5\" class=\"data row2 col5\" >0.033253</td>\n",
       "      <td id=\"T_b6217_row2_col6\" class=\"data row2 col6\" >0.000281</td>\n",
       "      <td id=\"T_b6217_row2_col7\" class=\"data row2 col7\" >0.003668</td>\n",
       "      <td id=\"T_b6217_row2_col8\" class=\"data row2 col8\" >0.005292</td>\n",
       "      <td id=\"T_b6217_row2_col9\" class=\"data row2 col9\" >0.000087</td>\n",
       "      <td id=\"T_b6217_row2_col10\" class=\"data row2 col10\" >0.003548</td>\n",
       "      <td id=\"T_b6217_row2_col11\" class=\"data row2 col11\" >0.006334</td>\n",
       "      <td id=\"T_b6217_row2_col12\" class=\"data row2 col12\" >10.007046</td>\n",
       "      <td id=\"T_b6217_row2_col13\" class=\"data row2 col13\" >8.415495</td>\n",
       "      <td id=\"T_b6217_row2_col14\" class=\"data row2 col14\" >7.638598</td>\n",
       "      <td id=\"T_b6217_row2_col15\" class=\"data row2 col15\" >0.000020</td>\n",
       "      <td id=\"T_b6217_row2_col16\" class=\"data row2 col16\" >0.000059</td>\n",
       "      <td id=\"T_b6217_row2_col17\" class=\"data row2 col17\" >0.000065</td>\n",
       "      <td id=\"T_b6217_row2_col18\" class=\"data row2 col18\" >1193.784267</td>\n",
       "    </tr>\n",
       "  </tbody>\n",
       "</table>\n"
      ],
      "text/plain": [
       "<pandas.io.formats.style.Styler at 0x7f95e4778b20>"
      ]
     },
     "execution_count": 23,
     "metadata": {},
     "output_type": "execute_result"
    }
   ],
   "source": [
    "visualize_metrics(model_metrics)"
   ]
  },
  {
   "cell_type": "markdown",
   "id": "f8f92f9b-de31-4f7b-be41-c43e754e376e",
   "metadata": {},
   "source": [
    "Вывод: судя по экспериментам, все получается как-то не очень по  Map@10, и ошибку я найти не смогла. Поэтому все равно, какую модель обучать для прода, возьмем TFIDFRecommender как backbone, просто потому что нравится TFIDF."
   ]
  },
  {
   "cell_type": "code",
   "execution_count": null,
   "id": "a7cba9aa-fbfb-4bbe-9008-e9c221acbf3b",
   "metadata": {},
   "outputs": [
    {
     "data": {
      "application/vnd.jupyter.widget-view+json": {
       "model_id": "673b4dc75d4a45bdbd5522a3201dfb25",
       "version_major": 2,
       "version_minor": 0
      },
      "text/plain": [
       "  0%|          | 0/962179 [00:00<?, ?it/s]"
      ]
     },
     "metadata": {},
     "output_type": "display_data"
    }
   ],
   "source": [
    "model = UserKnn(TFIDFRecommender(), 50)\n",
    "result = model.fit(interactions_df)"
   ]
  },
  {
   "cell_type": "markdown",
   "id": "38ba996c-e2d4-4671-ac7b-496099d41f5e",
   "metadata": {},
   "source": [
    "Сохраним модель в файл для дальнейшего использования"
   ]
  },
  {
   "cell_type": "code",
   "execution_count": null,
   "id": "e2f722e9-d922-429b-8b75-83937bcaeaa2",
   "metadata": {},
   "outputs": [],
   "source": [
    "pickle.dump(model, open(MODEL_PATH, \"wb\"))"
   ]
  }
 ],
 "metadata": {
  "kernelspec": {
   "display_name": "Python 3 (ipykernel)",
   "language": "python",
   "name": "python3"
  },
  "language_info": {
   "codemirror_mode": {
    "name": "ipython",
    "version": 3
   },
   "file_extension": ".py",
   "mimetype": "text/x-python",
   "name": "python",
   "nbconvert_exporter": "python",
   "pygments_lexer": "ipython3",
   "version": "3.10.12"
  }
 },
 "nbformat": 4,
 "nbformat_minor": 5
}
